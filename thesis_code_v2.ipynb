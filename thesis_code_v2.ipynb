{
 "cells": [
  {
   "cell_type": "code",
   "execution_count": 1,
   "id": "753e6e90",
   "metadata": {},
   "outputs": [],
   "source": [
    "# Import functions needed for this notebook\n",
    "import pandas as pd\n",
    "import statsmodels.api as sm\n",
    "from statsmodels.genmod.families import NegativeBinomial\n",
    "from statsmodels.discrete.discrete_model import NegativeBinomial as CountNB\n",
    "import matplotlib.pyplot as plt\n",
    "from statsmodels.stats.outliers_influence import variance_inflation_factor"
   ]
  },
  {
   "cell_type": "code",
   "execution_count": 2,
   "id": "833eac8a",
   "metadata": {},
   "outputs": [
    {
     "data": {
      "application/vnd.microsoft.datawrangler.viewer.v0+json": {
       "columns": [
        {
         "name": "index",
         "rawType": "int64",
         "type": "integer"
        },
        {
         "name": "player_name",
         "rawType": "object",
         "type": "string"
        },
        {
         "name": "highest_ranking",
         "rawType": "int64",
         "type": "integer"
        },
        {
         "name": "country",
         "rawType": "object",
         "type": "string"
        },
        {
         "name": "mother_occupation",
         "rawType": "object",
         "type": "string"
        },
        {
         "name": "father_occupation",
         "rawType": "object",
         "type": "string"
        },
        {
         "name": "sibling_info",
         "rawType": "bool",
         "type": "boolean"
        },
        {
         "name": "sibling_player",
         "rawType": "bool",
         "type": "boolean"
        },
        {
         "name": "titles_won",
         "rawType": "int64",
         "type": "integer"
        },
        {
         "name": "association",
         "rawType": "object",
         "type": "string"
        },
        {
         "name": "year_turned_pro",
         "rawType": "int64",
         "type": "integer"
        },
        {
         "name": "father_occupation_std",
         "rawType": "object",
         "type": "string"
        },
        {
         "name": "mother_occupation_std",
         "rawType": "object",
         "type": "string"
        },
        {
         "name": "father_ISEI",
         "rawType": "int64",
         "type": "integer"
        },
        {
         "name": "mother_ISEI",
         "rawType": "int64",
         "type": "integer"
        },
        {
         "name": "family_ISEI",
         "rawType": "int64",
         "type": "integer"
        }
       ],
       "ref": "6180e6eb-ec46-4170-8c41-18cdb3a4c52c",
       "rows": [
        [
         "0",
         "Roger Federer",
         "1",
         "Switzerland",
         "employee at pharmaceutical firm",
         "executive at pharmaceutical firm",
         "True",
         "False",
         "103",
         "ATP",
         "1998",
         "Managing directors and chief executives",
         "Pharmaceutical technicians and assistants",
         "70",
         "40",
         "55"
        ],
        [
         "1",
         "Taylor Fritz",
         "4",
         "USA",
         "professional tennis player",
         "professional tennis player",
         "True",
         "False",
         "8",
         "ATP",
         "2015",
         "Athletes and sports players",
         "Athletes and sports players",
         "46",
         "46",
         "46"
        ],
        [
         "2",
         "Novak Djokovic",
         "1",
         "Serbia",
         "entrepreneur",
         "professional skier",
         "True",
         "True",
         "99",
         "ATP",
         "2003",
         "Athletes and sports players",
         "Managing directors and chief executives",
         "46",
         "70",
         "58"
        ],
        [
         "3",
         "Jessica Pegula",
         "3",
         "USA",
         "CEO",
         "business owner",
         "True",
         "False",
         "8",
         "WTA",
         "2009",
         "Managing directors and chief executives",
         "Managing directors and chief executives",
         "70",
         "70",
         "70"
        ],
        [
         "4",
         "Grigor Dimitrov",
         "3",
         "Bulgaria",
         "volleyball player",
         "tennis coach",
         "False",
         "False",
         "9",
         "ATP",
         "2008",
         "Athletes and sports players",
         "Athletes and sports players",
         "46",
         "46",
         "46"
        ]
       ],
       "shape": {
        "columns": 15,
        "rows": 5
       }
      },
      "text/html": [
       "<div>\n",
       "<style scoped>\n",
       "    .dataframe tbody tr th:only-of-type {\n",
       "        vertical-align: middle;\n",
       "    }\n",
       "\n",
       "    .dataframe tbody tr th {\n",
       "        vertical-align: top;\n",
       "    }\n",
       "\n",
       "    .dataframe thead th {\n",
       "        text-align: right;\n",
       "    }\n",
       "</style>\n",
       "<table border=\"1\" class=\"dataframe\">\n",
       "  <thead>\n",
       "    <tr style=\"text-align: right;\">\n",
       "      <th></th>\n",
       "      <th>player_name</th>\n",
       "      <th>highest_ranking</th>\n",
       "      <th>country</th>\n",
       "      <th>mother_occupation</th>\n",
       "      <th>father_occupation</th>\n",
       "      <th>sibling_info</th>\n",
       "      <th>sibling_player</th>\n",
       "      <th>titles_won</th>\n",
       "      <th>association</th>\n",
       "      <th>year_turned_pro</th>\n",
       "      <th>father_occupation_std</th>\n",
       "      <th>mother_occupation_std</th>\n",
       "      <th>father_ISEI</th>\n",
       "      <th>mother_ISEI</th>\n",
       "      <th>family_ISEI</th>\n",
       "    </tr>\n",
       "  </thead>\n",
       "  <tbody>\n",
       "    <tr>\n",
       "      <th>0</th>\n",
       "      <td>Roger Federer</td>\n",
       "      <td>1</td>\n",
       "      <td>Switzerland</td>\n",
       "      <td>employee at pharmaceutical firm</td>\n",
       "      <td>executive at pharmaceutical firm</td>\n",
       "      <td>True</td>\n",
       "      <td>False</td>\n",
       "      <td>103</td>\n",
       "      <td>ATP</td>\n",
       "      <td>1998</td>\n",
       "      <td>Managing directors and chief executives</td>\n",
       "      <td>Pharmaceutical technicians and assistants</td>\n",
       "      <td>70</td>\n",
       "      <td>40</td>\n",
       "      <td>55</td>\n",
       "    </tr>\n",
       "    <tr>\n",
       "      <th>1</th>\n",
       "      <td>Taylor Fritz</td>\n",
       "      <td>4</td>\n",
       "      <td>USA</td>\n",
       "      <td>professional tennis player</td>\n",
       "      <td>professional tennis player</td>\n",
       "      <td>True</td>\n",
       "      <td>False</td>\n",
       "      <td>8</td>\n",
       "      <td>ATP</td>\n",
       "      <td>2015</td>\n",
       "      <td>Athletes and sports players</td>\n",
       "      <td>Athletes and sports players</td>\n",
       "      <td>46</td>\n",
       "      <td>46</td>\n",
       "      <td>46</td>\n",
       "    </tr>\n",
       "    <tr>\n",
       "      <th>2</th>\n",
       "      <td>Novak Djokovic</td>\n",
       "      <td>1</td>\n",
       "      <td>Serbia</td>\n",
       "      <td>entrepreneur</td>\n",
       "      <td>professional skier</td>\n",
       "      <td>True</td>\n",
       "      <td>True</td>\n",
       "      <td>99</td>\n",
       "      <td>ATP</td>\n",
       "      <td>2003</td>\n",
       "      <td>Athletes and sports players</td>\n",
       "      <td>Managing directors and chief executives</td>\n",
       "      <td>46</td>\n",
       "      <td>70</td>\n",
       "      <td>58</td>\n",
       "    </tr>\n",
       "    <tr>\n",
       "      <th>3</th>\n",
       "      <td>Jessica Pegula</td>\n",
       "      <td>3</td>\n",
       "      <td>USA</td>\n",
       "      <td>CEO</td>\n",
       "      <td>business owner</td>\n",
       "      <td>True</td>\n",
       "      <td>False</td>\n",
       "      <td>8</td>\n",
       "      <td>WTA</td>\n",
       "      <td>2009</td>\n",
       "      <td>Managing directors and chief executives</td>\n",
       "      <td>Managing directors and chief executives</td>\n",
       "      <td>70</td>\n",
       "      <td>70</td>\n",
       "      <td>70</td>\n",
       "    </tr>\n",
       "    <tr>\n",
       "      <th>4</th>\n",
       "      <td>Grigor Dimitrov</td>\n",
       "      <td>3</td>\n",
       "      <td>Bulgaria</td>\n",
       "      <td>volleyball player</td>\n",
       "      <td>tennis coach</td>\n",
       "      <td>False</td>\n",
       "      <td>False</td>\n",
       "      <td>9</td>\n",
       "      <td>ATP</td>\n",
       "      <td>2008</td>\n",
       "      <td>Athletes and sports players</td>\n",
       "      <td>Athletes and sports players</td>\n",
       "      <td>46</td>\n",
       "      <td>46</td>\n",
       "      <td>46</td>\n",
       "    </tr>\n",
       "  </tbody>\n",
       "</table>\n",
       "</div>"
      ],
      "text/plain": [
       "       player_name  highest_ranking      country  \\\n",
       "0    Roger Federer                1  Switzerland   \n",
       "1     Taylor Fritz                4          USA   \n",
       "2   Novak Djokovic                1       Serbia   \n",
       "3   Jessica Pegula                3          USA   \n",
       "4  Grigor Dimitrov                3     Bulgaria   \n",
       "\n",
       "                 mother_occupation                 father_occupation  \\\n",
       "0  employee at pharmaceutical firm  executive at pharmaceutical firm   \n",
       "1       professional tennis player        professional tennis player   \n",
       "2                     entrepreneur                professional skier   \n",
       "3                              CEO                    business owner   \n",
       "4                volleyball player                      tennis coach   \n",
       "\n",
       "   sibling_info  sibling_player  titles_won association  year_turned_pro  \\\n",
       "0          True           False         103         ATP             1998   \n",
       "1          True           False           8         ATP             2015   \n",
       "2          True            True          99         ATP             2003   \n",
       "3          True           False           8         WTA             2009   \n",
       "4         False           False           9         ATP             2008   \n",
       "\n",
       "                     father_occupation_std  \\\n",
       "0  Managing directors and chief executives   \n",
       "1              Athletes and sports players   \n",
       "2              Athletes and sports players   \n",
       "3  Managing directors and chief executives   \n",
       "4              Athletes and sports players   \n",
       "\n",
       "                       mother_occupation_std  father_ISEI  mother_ISEI  \\\n",
       "0  Pharmaceutical technicians and assistants           70           40   \n",
       "1                Athletes and sports players           46           46   \n",
       "2    Managing directors and chief executives           46           70   \n",
       "3    Managing directors and chief executives           70           70   \n",
       "4                Athletes and sports players           46           46   \n",
       "\n",
       "   family_ISEI  \n",
       "0           55  \n",
       "1           46  \n",
       "2           58  \n",
       "3           70  \n",
       "4           46  "
      ]
     },
     "execution_count": 2,
     "metadata": {},
     "output_type": "execute_result"
    }
   ],
   "source": [
    "# Load the dataset\n",
    "df = pd.read_excel(\"thesis_dataset.xlsx\")\n",
    "df.head()"
   ]
  },
  {
   "cell_type": "code",
   "execution_count": 3,
   "id": "a67567d8",
   "metadata": {},
   "outputs": [
    {
     "data": {
      "application/vnd.microsoft.datawrangler.viewer.v0+json": {
       "columns": [
        {
         "name": "index",
         "rawType": "int64",
         "type": "integer"
        },
        {
         "name": "player_name",
         "rawType": "object",
         "type": "string"
        },
        {
         "name": "highest_ranking",
         "rawType": "int64",
         "type": "integer"
        },
        {
         "name": "country",
         "rawType": "object",
         "type": "string"
        },
        {
         "name": "mother_occupation",
         "rawType": "object",
         "type": "string"
        },
        {
         "name": "father_occupation",
         "rawType": "object",
         "type": "string"
        },
        {
         "name": "sibling_info",
         "rawType": "int32",
         "type": "integer"
        },
        {
         "name": "sibling_player",
         "rawType": "int32",
         "type": "integer"
        },
        {
         "name": "titles_won",
         "rawType": "int64",
         "type": "integer"
        },
        {
         "name": "association",
         "rawType": "object",
         "type": "string"
        },
        {
         "name": "year_turned_pro",
         "rawType": "int64",
         "type": "integer"
        },
        {
         "name": "father_occupation_std",
         "rawType": "object",
         "type": "string"
        },
        {
         "name": "mother_occupation_std",
         "rawType": "object",
         "type": "string"
        },
        {
         "name": "father_ISEI",
         "rawType": "int64",
         "type": "integer"
        },
        {
         "name": "mother_ISEI",
         "rawType": "int64",
         "type": "integer"
        },
        {
         "name": "family_ISEI",
         "rawType": "int64",
         "type": "integer"
        }
       ],
       "ref": "e097136d-62b0-4af1-be64-153040eb25f9",
       "rows": [
        [
         "0",
         "Roger Federer",
         "1",
         "Switzerland",
         "employee at pharmaceutical firm",
         "executive at pharmaceutical firm",
         "1",
         "0",
         "103",
         "ATP",
         "1998",
         "Managing directors and chief executives",
         "Pharmaceutical technicians and assistants",
         "70",
         "40",
         "55"
        ],
        [
         "1",
         "Taylor Fritz",
         "4",
         "USA",
         "professional tennis player",
         "professional tennis player",
         "1",
         "0",
         "8",
         "ATP",
         "2015",
         "Athletes and sports players",
         "Athletes and sports players",
         "46",
         "46",
         "46"
        ],
        [
         "2",
         "Novak Djokovic",
         "1",
         "Serbia",
         "entrepreneur",
         "professional skier",
         "1",
         "1",
         "99",
         "ATP",
         "2003",
         "Athletes and sports players",
         "Managing directors and chief executives",
         "46",
         "70",
         "58"
        ],
        [
         "3",
         "Jessica Pegula",
         "3",
         "USA",
         "CEO",
         "business owner",
         "1",
         "0",
         "8",
         "WTA",
         "2009",
         "Managing directors and chief executives",
         "Managing directors and chief executives",
         "70",
         "70",
         "70"
        ],
        [
         "4",
         "Grigor Dimitrov",
         "3",
         "Bulgaria",
         "volleyball player",
         "tennis coach",
         "0",
         "0",
         "9",
         "ATP",
         "2008",
         "Athletes and sports players",
         "Athletes and sports players",
         "46",
         "46",
         "46"
        ]
       ],
       "shape": {
        "columns": 15,
        "rows": 5
       }
      },
      "text/html": [
       "<div>\n",
       "<style scoped>\n",
       "    .dataframe tbody tr th:only-of-type {\n",
       "        vertical-align: middle;\n",
       "    }\n",
       "\n",
       "    .dataframe tbody tr th {\n",
       "        vertical-align: top;\n",
       "    }\n",
       "\n",
       "    .dataframe thead th {\n",
       "        text-align: right;\n",
       "    }\n",
       "</style>\n",
       "<table border=\"1\" class=\"dataframe\">\n",
       "  <thead>\n",
       "    <tr style=\"text-align: right;\">\n",
       "      <th></th>\n",
       "      <th>player_name</th>\n",
       "      <th>highest_ranking</th>\n",
       "      <th>country</th>\n",
       "      <th>mother_occupation</th>\n",
       "      <th>father_occupation</th>\n",
       "      <th>sibling_info</th>\n",
       "      <th>sibling_player</th>\n",
       "      <th>titles_won</th>\n",
       "      <th>association</th>\n",
       "      <th>year_turned_pro</th>\n",
       "      <th>father_occupation_std</th>\n",
       "      <th>mother_occupation_std</th>\n",
       "      <th>father_ISEI</th>\n",
       "      <th>mother_ISEI</th>\n",
       "      <th>family_ISEI</th>\n",
       "    </tr>\n",
       "  </thead>\n",
       "  <tbody>\n",
       "    <tr>\n",
       "      <th>0</th>\n",
       "      <td>Roger Federer</td>\n",
       "      <td>1</td>\n",
       "      <td>Switzerland</td>\n",
       "      <td>employee at pharmaceutical firm</td>\n",
       "      <td>executive at pharmaceutical firm</td>\n",
       "      <td>1</td>\n",
       "      <td>0</td>\n",
       "      <td>103</td>\n",
       "      <td>ATP</td>\n",
       "      <td>1998</td>\n",
       "      <td>Managing directors and chief executives</td>\n",
       "      <td>Pharmaceutical technicians and assistants</td>\n",
       "      <td>70</td>\n",
       "      <td>40</td>\n",
       "      <td>55</td>\n",
       "    </tr>\n",
       "    <tr>\n",
       "      <th>1</th>\n",
       "      <td>Taylor Fritz</td>\n",
       "      <td>4</td>\n",
       "      <td>USA</td>\n",
       "      <td>professional tennis player</td>\n",
       "      <td>professional tennis player</td>\n",
       "      <td>1</td>\n",
       "      <td>0</td>\n",
       "      <td>8</td>\n",
       "      <td>ATP</td>\n",
       "      <td>2015</td>\n",
       "      <td>Athletes and sports players</td>\n",
       "      <td>Athletes and sports players</td>\n",
       "      <td>46</td>\n",
       "      <td>46</td>\n",
       "      <td>46</td>\n",
       "    </tr>\n",
       "    <tr>\n",
       "      <th>2</th>\n",
       "      <td>Novak Djokovic</td>\n",
       "      <td>1</td>\n",
       "      <td>Serbia</td>\n",
       "      <td>entrepreneur</td>\n",
       "      <td>professional skier</td>\n",
       "      <td>1</td>\n",
       "      <td>1</td>\n",
       "      <td>99</td>\n",
       "      <td>ATP</td>\n",
       "      <td>2003</td>\n",
       "      <td>Athletes and sports players</td>\n",
       "      <td>Managing directors and chief executives</td>\n",
       "      <td>46</td>\n",
       "      <td>70</td>\n",
       "      <td>58</td>\n",
       "    </tr>\n",
       "    <tr>\n",
       "      <th>3</th>\n",
       "      <td>Jessica Pegula</td>\n",
       "      <td>3</td>\n",
       "      <td>USA</td>\n",
       "      <td>CEO</td>\n",
       "      <td>business owner</td>\n",
       "      <td>1</td>\n",
       "      <td>0</td>\n",
       "      <td>8</td>\n",
       "      <td>WTA</td>\n",
       "      <td>2009</td>\n",
       "      <td>Managing directors and chief executives</td>\n",
       "      <td>Managing directors and chief executives</td>\n",
       "      <td>70</td>\n",
       "      <td>70</td>\n",
       "      <td>70</td>\n",
       "    </tr>\n",
       "    <tr>\n",
       "      <th>4</th>\n",
       "      <td>Grigor Dimitrov</td>\n",
       "      <td>3</td>\n",
       "      <td>Bulgaria</td>\n",
       "      <td>volleyball player</td>\n",
       "      <td>tennis coach</td>\n",
       "      <td>0</td>\n",
       "      <td>0</td>\n",
       "      <td>9</td>\n",
       "      <td>ATP</td>\n",
       "      <td>2008</td>\n",
       "      <td>Athletes and sports players</td>\n",
       "      <td>Athletes and sports players</td>\n",
       "      <td>46</td>\n",
       "      <td>46</td>\n",
       "      <td>46</td>\n",
       "    </tr>\n",
       "  </tbody>\n",
       "</table>\n",
       "</div>"
      ],
      "text/plain": [
       "       player_name  highest_ranking      country  \\\n",
       "0    Roger Federer                1  Switzerland   \n",
       "1     Taylor Fritz                4          USA   \n",
       "2   Novak Djokovic                1       Serbia   \n",
       "3   Jessica Pegula                3          USA   \n",
       "4  Grigor Dimitrov                3     Bulgaria   \n",
       "\n",
       "                 mother_occupation                 father_occupation  \\\n",
       "0  employee at pharmaceutical firm  executive at pharmaceutical firm   \n",
       "1       professional tennis player        professional tennis player   \n",
       "2                     entrepreneur                professional skier   \n",
       "3                              CEO                    business owner   \n",
       "4                volleyball player                      tennis coach   \n",
       "\n",
       "   sibling_info  sibling_player  titles_won association  year_turned_pro  \\\n",
       "0             1               0         103         ATP             1998   \n",
       "1             1               0           8         ATP             2015   \n",
       "2             1               1          99         ATP             2003   \n",
       "3             1               0           8         WTA             2009   \n",
       "4             0               0           9         ATP             2008   \n",
       "\n",
       "                     father_occupation_std  \\\n",
       "0  Managing directors and chief executives   \n",
       "1              Athletes and sports players   \n",
       "2              Athletes and sports players   \n",
       "3  Managing directors and chief executives   \n",
       "4              Athletes and sports players   \n",
       "\n",
       "                       mother_occupation_std  father_ISEI  mother_ISEI  \\\n",
       "0  Pharmaceutical technicians and assistants           70           40   \n",
       "1                Athletes and sports players           46           46   \n",
       "2    Managing directors and chief executives           46           70   \n",
       "3    Managing directors and chief executives           70           70   \n",
       "4                Athletes and sports players           46           46   \n",
       "\n",
       "   family_ISEI  \n",
       "0           55  \n",
       "1           46  \n",
       "2           58  \n",
       "3           70  \n",
       "4           46  "
      ]
     },
     "execution_count": 3,
     "metadata": {},
     "output_type": "execute_result"
    }
   ],
   "source": [
    "# Convert boolean columns to integers\n",
    "df['sibling_info'] = df['sibling_info'].astype(int)\n",
    "df['sibling_player'] = df['sibling_player'].astype(int)\n",
    "\n",
    "df.head()"
   ]
  },
  {
   "cell_type": "code",
   "execution_count": 4,
   "id": "32dc403d",
   "metadata": {},
   "outputs": [],
   "source": [
    "# Create the association dummy (ATP baseline, keep WTA)\n",
    "df['association_WTA'] = (df['association'] == 'WTA').astype(int)"
   ]
  },
  {
   "cell_type": "code",
   "execution_count": 5,
   "id": "f8f31433",
   "metadata": {},
   "outputs": [
    {
     "name": "stdout",
     "output_type": "stream",
     "text": [
      "Total distinct countries: 29\n"
     ]
    }
   ],
   "source": [
    "# Get the total number of distinct countries from the `country` column\n",
    "distinct_countries = df['country'].nunique()\n",
    "print(f\"Total distinct countries: {distinct_countries}\")"
   ]
  },
  {
   "cell_type": "code",
   "execution_count": 6,
   "id": "d3538135",
   "metadata": {},
   "outputs": [
    {
     "name": "stdout",
     "output_type": "stream",
     "text": [
      "Top 5 countries by number of players:  ['USA', 'Russia', 'Australia', 'France', 'Spain']\n"
     ]
    }
   ],
   "source": [
    "# Get the top 5 countries by the number of players\n",
    "top_countries = df['country'].value_counts().head(5).index.tolist()\n",
    "print(\"Top 5 countries by number of players: \", top_countries)"
   ]
  },
  {
   "cell_type": "code",
   "execution_count": 7,
   "id": "f51ab3a0",
   "metadata": {},
   "outputs": [],
   "source": [
    "# Dynamically create top-5 country dummies\n",
    "for c in top_countries:\n",
    "    df[f'country_{c.replace(\" \",\"_\")}'] = (df['country']==c).astype(int)"
   ]
  },
  {
   "cell_type": "code",
   "execution_count": 8,
   "id": "24556403",
   "metadata": {},
   "outputs": [
    {
     "name": "stdout",
     "output_type": "stream",
     "text": [
      "Mean of highest_ranking: 5.43\n",
      "Variance of highest_ranking: 89.1970707070707\n"
     ]
    }
   ],
   "source": [
    "# Examine mean and variance of the `highest_ranking` column\n",
    "mean_highest_rank = df['highest_ranking'].mean()\n",
    "var_highest_rank = df['highest_ranking'].var()\n",
    "\n",
    "print(f\"Mean of highest_ranking: {mean_highest_rank}\")\n",
    "print(f\"Variance of highest_ranking: {var_highest_rank}\")"
   ]
  },
  {
   "cell_type": "markdown",
   "id": "ebdbc718",
   "metadata": {},
   "source": [
    "### Model 1: Ranking ~ Family ISEI, Sibling Info, Association Dummies, Country Dummies"
   ]
  },
  {
   "cell_type": "code",
   "execution_count": 9,
   "id": "2f047b3c",
   "metadata": {},
   "outputs": [],
   "source": [
    "# Prepare predictors for regression\n",
    "predictors = ['family_ISEI','sibling_info', 'association_WTA'] + [f'country_{c.replace(\" \",\"_\")}' for c in top_countries]"
   ]
  },
  {
   "cell_type": "code",
   "execution_count": null,
   "id": "6d788229",
   "metadata": {},
   "outputs": [],
   "source": [
    "# Prepare regression matrices\n",
    "Y = df['highest_ranking']\n",
    "X = sm.add_constant(df[predictors])"
   ]
  },
  {
   "cell_type": "code",
   "execution_count": 11,
   "id": "254ee7bf",
   "metadata": {},
   "outputs": [
    {
     "name": "stdout",
     "output_type": "stream",
     "text": [
      "                 Generalized Linear Model Regression Results                  \n",
      "==============================================================================\n",
      "Dep. Variable:        highest_ranking   No. Observations:                  100\n",
      "Model:                            GLM   Df Residuals:                       91\n",
      "Model Family:                 Poisson   Df Model:                            8\n",
      "Link Function:                    Log   Scale:                          1.0000\n",
      "Method:                          IRLS   Log-Likelihood:                -470.81\n",
      "Date:                Sat, 07 Jun 2025   Deviance:                       648.49\n",
      "Time:                        16:06:16   Pearson chi2:                 1.06e+03\n",
      "No. Iterations:                     5   Pseudo R-squ. (CS):             0.7984\n",
      "Covariance Type:            nonrobust                                         \n",
      "=====================================================================================\n",
      "                        coef    std err          z      P>|z|      [0.025      0.975]\n",
      "-------------------------------------------------------------------------------------\n",
      "const                 0.7780      0.291      2.673      0.008       0.207       1.349\n",
      "family_ISEI           0.0085      0.004      2.079      0.038       0.000       0.016\n",
      "sibling_info          0.9196      0.221      4.167      0.000       0.487       1.352\n",
      "association_WTA      -0.8499      0.100     -8.505      0.000      -1.046      -0.654\n",
      "country_USA          -0.1771      0.104     -1.699      0.089      -0.381       0.027\n",
      "country_Russia       -0.8187      0.244     -3.351      0.001      -1.298      -0.340\n",
      "country_Australia     0.1696      0.158      1.076      0.282      -0.139       0.478\n",
      "country_France        0.2046      0.163      1.256      0.209      -0.115       0.524\n",
      "country_Spain        -1.5167      0.413     -3.672      0.000      -2.326      -0.707\n",
      "=====================================================================================\n"
     ]
    }
   ],
   "source": [
    "# Poisson regression model\n",
    "model_Poisson = sm.GLM(Y, X, family=sm.families.Poisson()).fit()\n",
    "\n",
    "# Print the summary of the Poisson model\n",
    "print(model_Poisson.summary())"
   ]
  },
  {
   "cell_type": "code",
   "execution_count": 12,
   "id": "17e7c75b",
   "metadata": {},
   "outputs": [
    {
     "name": "stdout",
     "output_type": "stream",
     "text": [
      "                 Generalized Linear Model Regression Results                  \n",
      "==============================================================================\n",
      "Dep. Variable:        highest_ranking   No. Observations:                  100\n",
      "Model:                            GLM   Df Residuals:                       91\n",
      "Model Family:        NegativeBinomial   Df Model:                            8\n",
      "Link Function:                    Log   Scale:                          1.0000\n",
      "Method:                          IRLS   Log-Likelihood:                -265.17\n",
      "Date:                Sat, 07 Jun 2025   Deviance:                       84.943\n",
      "Time:                        16:06:16   Pearson chi2:                     147.\n",
      "No. Iterations:                     9   Pseudo R-squ. (CS):             0.2245\n",
      "Covariance Type:            nonrobust                                         \n",
      "=====================================================================================\n",
      "                        coef    std err          z      P>|z|      [0.025      0.975]\n",
      "-------------------------------------------------------------------------------------\n",
      "const                 0.7469      0.640      1.167      0.243      -0.508       2.002\n",
      "family_ISEI           0.0117      0.010      1.119      0.263      -0.009       0.032\n",
      "sibling_info          0.7033      0.408      1.725      0.084      -0.096       1.502\n",
      "association_WTA      -0.7621      0.229     -3.321      0.001      -1.212      -0.312\n",
      "country_USA          -0.0887      0.269     -0.330      0.742      -0.616       0.439\n",
      "country_Russia       -0.7296      0.511     -1.428      0.153      -1.731       0.272\n",
      "country_Australia     0.0895      0.472      0.190      0.850      -0.835       1.014\n",
      "country_France        0.3079      0.503      0.612      0.541      -0.679       1.295\n",
      "country_Spain        -1.3659      0.622     -2.197      0.028      -2.584      -0.148\n",
      "=====================================================================================\n"
     ]
    },
    {
     "name": "stderr",
     "output_type": "stream",
     "text": [
      "c:\\Users\\peta_\\anaconda3\\Lib\\site-packages\\statsmodels\\genmod\\families\\family.py:1367: ValueWarning: Negative binomial dispersion parameter alpha not set. Using default value alpha=1.0.\n",
      "  warnings.warn(\"Negative binomial dispersion parameter alpha not \"\n"
     ]
    }
   ],
   "source": [
    "# Fit Negative Binomial regression model\n",
    "model_NegBin = sm.GLM(Y, X, family=NegativeBinomial()).fit()\n",
    "\n",
    "# Print the summary of the Negative Binomial model\n",
    "print(model_NegBin.summary())"
   ]
  },
  {
   "cell_type": "code",
   "execution_count": 13,
   "id": "8a3e4cb4",
   "metadata": {},
   "outputs": [
    {
     "name": "stdout",
     "output_type": "stream",
     "text": [
      "AIC for Poisson model: 959.611230069731\n",
      "BIC for Poisson model: 229.41946581641076\n",
      "AIC for Negative Binomial model: 548.3488624535688\n",
      "BIC for Negative Binomial model: -334.1276369768379\n"
     ]
    },
    {
     "name": "stderr",
     "output_type": "stream",
     "text": [
      "c:\\Users\\peta_\\anaconda3\\Lib\\site-packages\\statsmodels\\genmod\\generalized_linear_model.py:1838: FutureWarning: The bic value is computed using the deviance formula. After 0.13 this will change to the log-likelihood based formula. This change has no impact on the relative rank of models compared using BIC. You can directly access the log-likelihood version using the `bic_llf` attribute. You can suppress this message by calling statsmodels.genmod.generalized_linear_model.SET_USE_BIC_LLF with True to get the LLF-based version now or False to retainthe deviance version.\n",
      "  warnings.warn(\n"
     ]
    }
   ],
   "source": [
    "# Print the AIC and BIC for both models\n",
    "print(f\"AIC for Poisson model: {model_Poisson.aic}\")\n",
    "print(f\"BIC for Poisson model: {model_Poisson.bic}\")\n",
    "print(f\"AIC for Negative Binomial model: {model_NegBin.aic}\")\n",
    "print(f\"BIC for Negative Binomial model: {model_NegBin.bic}\")"
   ]
  },
  {
   "cell_type": "code",
   "execution_count": 14,
   "id": "f64860af",
   "metadata": {},
   "outputs": [
    {
     "name": "stdout",
     "output_type": "stream",
     "text": [
      "Empirical Dispersion: 0.93\n"
     ]
    }
   ],
   "source": [
    "# Check empirical dispersion from Negative Binomial model\n",
    "dispersion = model_NegBin.deviance / model_NegBin.df_resid\n",
    "print(f\"Empirical Dispersion: {dispersion:.2f}\")"
   ]
  },
  {
   "cell_type": "code",
   "execution_count": 15,
   "id": "2928f45b",
   "metadata": {},
   "outputs": [
    {
     "name": "stdout",
     "output_type": "stream",
     "text": [
      "Converged: True\n",
      "Alpha estimate: nan\n"
     ]
    },
    {
     "name": "stderr",
     "output_type": "stream",
     "text": [
      "c:\\Users\\peta_\\anaconda3\\Lib\\site-packages\\statsmodels\\discrete\\discrete_model.py:3612: RuntimeWarning: invalid value encountered in log\n",
      "  np.log(prob) - (y - mu)/(a1+mu))\n",
      "c:\\Users\\peta_\\anaconda3\\Lib\\site-packages\\statsmodels\\discrete\\discrete_model.py:3470: RuntimeWarning: invalid value encountered in log\n",
      "  dalpha = (dgpart + np.log(a1)\n"
     ]
    }
   ],
   "source": [
    "# Calculate the \"true\" dispersion parameter\n",
    "nb2 = CountNB(Y, X).fit(disp=False, maxiter=100, method='newton')\n",
    "\n",
    "print(\"Converged:\", nb2.mle_retvals['converged'])\n",
    "print(\"Alpha estimate:\", nb2.params['alpha'])"
   ]
  },
  {
   "cell_type": "code",
   "execution_count": 16,
   "id": "05d76e3e",
   "metadata": {},
   "outputs": [
    {
     "data": {
      "image/png": "[encoded data removed]",
      "text/plain": [
       "<Figure size 1000x600 with 1 Axes>"
      ]
     },
     "metadata": {},
     "output_type": "display_data"
    }
   ],
   "source": [
    "# Extract deviance residuals and fitted values\n",
    "deviance_residuals = model_NegBin.resid_deviance\n",
    "fitted_values = model_NegBin.fittedvalues\n",
    "\n",
    "# Plot residuals vs fitted values\n",
    "plt.figure(figsize=(10, 6))\n",
    "plt.scatter(fitted_values, deviance_residuals, alpha=0.5)\n",
    "plt.axhline(0, color='red', linestyle='--')\n",
    "plt.title('Deviance Residuals vs Fitted Values (Negative Binomial)')\n",
    "plt.xlabel('Fitted Values')\n",
    "plt.ylabel('Deviance Residuals')\n",
    "plt.show()"
   ]
  },
  {
   "cell_type": "code",
   "execution_count": 17,
   "id": "e180f12a",
   "metadata": {},
   "outputs": [
    {
     "data": {
      "image/png": "[encoded data removed]",
      "text/plain": [
       "<Figure size 640x480 with 1 Axes>"
      ]
     },
     "metadata": {},
     "output_type": "display_data"
    }
   ],
   "source": [
    "# QQ plot for deviance residuals\n",
    "sm.qqplot(deviance_residuals, line='s')\n",
    "plt.title('QQ Plot of Deviance Residuals (Negative Binomial)')\n",
    "plt.show()"
   ]
  },
  {
   "cell_type": "code",
   "execution_count": 18,
   "id": "13df58e8",
   "metadata": {},
   "outputs": [
    {
     "name": "stdout",
     "output_type": "stream",
     "text": [
      "            Variable       VIF\n",
      "0        family_ISEI  9.019623\n",
      "1       sibling_info  8.710310\n",
      "2    association_WTA  1.797047\n",
      "3        country_USA  1.563024\n",
      "4     country_Russia  1.130389\n",
      "5  country_Australia  1.135650\n",
      "6     country_France  1.125239\n",
      "7      country_Spain  1.112190\n"
     ]
    }
   ],
   "source": [
    "# Build the matrix for VIF (no constant needed):\n",
    "X_vif = df[predictors]\n",
    "\n",
    "# Compute VIFs:\n",
    "vif_data = pd.DataFrame({\n",
    "    'Variable': X_vif.columns,\n",
    "    'VIF': [variance_inflation_factor(X_vif.values, i)\n",
    "            for i in range(X_vif.shape[1])]\n",
    "})\n",
    "\n",
    "print(vif_data)"
   ]
  },
  {
   "cell_type": "markdown",
   "id": "513da8d1",
   "metadata": {},
   "source": [
    "### Model 2: Ranking: Family ISEI, Sibling Info, ISEIxSibling interaction, Association Dummies, Country Dummies"
   ]
  },
  {
   "cell_type": "code",
   "execution_count": 19,
   "id": "044df22f",
   "metadata": {},
   "outputs": [],
   "source": [
    "# Mean center the family ISEI variable\n",
    "df['family_ISEI_c'] = df['family_ISEI'] - df['family_ISEI'].mean()\n",
    "\n",
    "# Create interaction term between family ISEI and sibling info\n",
    "df['family_ISEI_x_sibling_info'] = df['family_ISEI_c'] * df['sibling_info']\n",
    "\n",
    "# Define predictors for Model 2\n",
    "predictors2 = ['family_ISEI_c', 'sibling_info', 'family_ISEI_x_sibling_info', 'association_WTA'] + [f'country_{c.replace(\" \", \"_\")}' for c in top_countries]"
   ]
  },
  {
   "cell_type": "code",
   "execution_count": 20,
   "id": "e2bacb78",
   "metadata": {},
   "outputs": [
    {
     "name": "stdout",
     "output_type": "stream",
     "text": [
      "VIF with interaction term:\n",
      "                      Variable        VIF\n",
      "0               family_ISEI_c  16.011079\n",
      "1                sibling_info   2.728196\n",
      "2  family_ISEI_x_sibling_info  15.930191\n",
      "3             association_WTA   1.703264\n",
      "4                 country_USA   1.553587\n",
      "5              country_Russia   1.097616\n",
      "6           country_Australia   1.140505\n",
      "7              country_France   1.124511\n",
      "8               country_Spain   1.112906\n"
     ]
    }
   ],
   "source": [
    "# Check multicollinearity using Variance Inflation Factor (VIF)\n",
    "X2_vif = df[predictors2]\n",
    "vif_data2 = pd.DataFrame({\n",
    "    'Variable': X2_vif.columns,\n",
    "    'VIF': [variance_inflation_factor(X2_vif.values, i)\n",
    "            for i in range(X2_vif.shape[1])]\n",
    "})\n",
    "print(\"VIF with interaction term:\\n\", vif_data2)"
   ]
  },
  {
   "cell_type": "code",
   "execution_count": 21,
   "id": "b0b33627",
   "metadata": {},
   "outputs": [
    {
     "name": "stdout",
     "output_type": "stream",
     "text": [
      "                 Generalized Linear Model Regression Results                  \n",
      "==============================================================================\n",
      "Dep. Variable:        highest_ranking   No. Observations:                  100\n",
      "Model:                            GLM   Df Residuals:                       90\n",
      "Model Family:        NegativeBinomial   Df Model:                            9\n",
      "Link Function:                    Log   Scale:                          1.0000\n",
      "Method:                          IRLS   Log-Likelihood:                -263.89\n",
      "Date:                Sat, 07 Jun 2025   Deviance:                       82.379\n",
      "Time:                        16:06:17   Pearson chi2:                     137.\n",
      "No. Iterations:                    12   Pseudo R-squ. (CS):             0.2441\n",
      "Covariance Type:            nonrobust                                         \n",
      "==============================================================================================\n",
      "                                 coef    std err          z      P>|z|      [0.025      0.975]\n",
      "----------------------------------------------------------------------------------------------\n",
      "const                          1.5423      0.432      3.574      0.000       0.696       2.388\n",
      "family_ISEI_c                  0.0956      0.047      2.052      0.040       0.004       0.187\n",
      "sibling_info                   0.5498      0.430      1.279      0.201      -0.293       1.393\n",
      "family_ISEI_x_sibling_info    -0.0884      0.048     -1.854      0.064      -0.182       0.005\n",
      "association_WTA               -0.8145      0.231     -3.531      0.000      -1.267      -0.362\n",
      "country_USA                   -0.1090      0.273     -0.399      0.690      -0.644       0.426\n",
      "country_Russia                -0.7411      0.511     -1.449      0.147      -1.743       0.261\n",
      "country_Australia              0.0652      0.472      0.138      0.890      -0.861       0.991\n",
      "country_France                 0.2817      0.504      0.559      0.576      -0.707       1.270\n",
      "country_Spain                 -1.3704      0.622     -2.202      0.028      -2.590      -0.150\n",
      "==============================================================================================\n"
     ]
    },
    {
     "name": "stderr",
     "output_type": "stream",
     "text": [
      "c:\\Users\\peta_\\anaconda3\\Lib\\site-packages\\statsmodels\\genmod\\families\\family.py:1367: ValueWarning: Negative binomial dispersion parameter alpha not set. Using default value alpha=1.0.\n",
      "  warnings.warn(\"Negative binomial dispersion parameter alpha not \"\n"
     ]
    }
   ],
   "source": [
    "# Prepare regression matrices for Model 2\n",
    "Y2 = df['highest_ranking']\n",
    "X2 = sm.add_constant(df[predictors2])\n",
    "\n",
    "# Fit the Negative Binomial regression model with interaction term\n",
    "model_NegBin2 = sm.GLM(Y2, X2, family=NegativeBinomial()).fit()\n",
    "\n",
    "# Print the summary of the Negative Binomial model with interaction term\n",
    "print(model_NegBin2.summary())"
   ]
  },
  {
   "cell_type": "markdown",
   "id": "05cf2843",
   "metadata": {},
   "source": [
    "### Model 3: Ranking ~ Family ISEI, Sibling Player, Association Dummies, Country Dummies"
   ]
  },
  {
   "cell_type": "code",
   "execution_count": 22,
   "id": "37e12c9f",
   "metadata": {},
   "outputs": [
    {
     "name": "stdout",
     "output_type": "stream",
     "text": [
      "VIF after dropping sibling_info:\n",
      "             Variable       VIF\n",
      "0        family_ISEI  3.725080\n",
      "1     sibling_player  2.069165\n",
      "2    association_WTA  1.789530\n",
      "3        country_USA  1.564573\n",
      "4     country_Russia  1.135001\n",
      "5  country_Australia  1.104019\n",
      "6     country_France  1.112581\n",
      "7      country_Spain  1.122396\n"
     ]
    }
   ],
   "source": [
    "# Define predictors for Model 3\n",
    "predictors3 = ['family_ISEI', 'sibling_player', 'association_WTA'] + [f'country_{c.replace(\" \", \"_\")}' for c in top_countries]\n",
    "\n",
    "# Check multicollinearity using Variance Inflation Factor (VIF)\n",
    "X3_vif = df[predictors3]\n",
    "vif_data3 = pd.DataFrame({\n",
    "    'Variable': X3_vif.columns,\n",
    "    'VIF': [variance_inflation_factor(X3_vif.values, i)\n",
    "            for i in range(X3_vif.shape[1])]\n",
    "})\n",
    "print(\"VIF after dropping sibling_info:\\n\", vif_data3)"
   ]
  },
  {
   "cell_type": "code",
   "execution_count": 23,
   "id": "97cfc87a",
   "metadata": {},
   "outputs": [
    {
     "name": "stdout",
     "output_type": "stream",
     "text": [
      "                 Generalized Linear Model Regression Results                  \n",
      "==============================================================================\n",
      "Dep. Variable:        highest_ranking   No. Observations:                  100\n",
      "Model:                            GLM   Df Residuals:                       91\n",
      "Model Family:        NegativeBinomial   Df Model:                            8\n",
      "Link Function:                    Log   Scale:                          1.0000\n",
      "Method:                          IRLS   Log-Likelihood:                -266.20\n",
      "Date:                Sat, 07 Jun 2025   Deviance:                       86.991\n",
      "Time:                        16:15:38   Pearson chi2:                     148.\n",
      "No. Iterations:                     8   Pseudo R-squ. (CS):             0.2084\n",
      "Covariance Type:            nonrobust                                         \n",
      "=====================================================================================\n",
      "                        coef    std err          z      P>|z|      [0.025      0.975]\n",
      "-------------------------------------------------------------------------------------\n",
      "const                 1.2431      0.592      2.100      0.036       0.083       2.403\n",
      "family_ISEI           0.0123      0.010      1.182      0.237      -0.008       0.033\n",
      "sibling_player        0.1790      0.232      0.771      0.441      -0.276       0.634\n",
      "association_WTA      -0.7811      0.231     -3.388      0.001      -1.233      -0.329\n",
      "country_USA          -0.0358      0.270     -0.133      0.894      -0.564       0.493\n",
      "country_Russia       -0.6857      0.507     -1.352      0.176      -1.680       0.308\n",
      "country_Australia     0.2382      0.469      0.507      0.612      -0.682       1.158\n",
      "country_France        0.4676      0.505      0.925      0.355      -0.523       1.458\n",
      "country_Spain        -1.3266      0.623     -2.129      0.033      -2.548      -0.105\n",
      "=====================================================================================\n"
     ]
    },
    {
     "name": "stderr",
     "output_type": "stream",
     "text": [
      "c:\\Users\\peta_\\anaconda3\\Lib\\site-packages\\statsmodels\\genmod\\families\\family.py:1367: ValueWarning: Negative binomial dispersion parameter alpha not set. Using default value alpha=1.0.\n",
      "  warnings.warn(\"Negative binomial dispersion parameter alpha not \"\n"
     ]
    }
   ],
   "source": [
    "# Prepare regression matrices for Model 3\n",
    "Y3 = df['highest_ranking']\n",
    "X3 = sm.add_constant(df[predictors3])\n",
    "\n",
    "# Fit the Negative Binomial regression model for Model 3\n",
    "model_NegBin3 = sm.GLM(Y3, X3, family=NegativeBinomial()).fit()\n",
    "\n",
    "# Print the summary of the Negative Binomial model for Model 3\n",
    "print(model_NegBin3.summary())"
   ]
  },
  {
   "cell_type": "code",
   "execution_count": 24,
   "id": "460c4d33",
   "metadata": {},
   "outputs": [
    {
     "name": "stdout",
     "output_type": "stream",
     "text": [
      "Empirical Dispersion: 0.96\n"
     ]
    }
   ],
   "source": [
    "# Check empirical dispersion from Negative Binomial model 3\n",
    "dispersion3 = model_NegBin3.deviance / model_NegBin3.df_resid\n",
    "print(f\"Empirical Dispersion: {dispersion3:.2f}\")"
   ]
  },
  {
   "cell_type": "code",
   "execution_count": 26,
   "id": "aff9cb29",
   "metadata": {},
   "outputs": [
    {
     "name": "stdout",
     "output_type": "stream",
     "text": [
      "Converged: True\n",
      "Alpha estimate: nan\n"
     ]
    },
    {
     "name": "stderr",
     "output_type": "stream",
     "text": [
      "c:\\Users\\peta_\\anaconda3\\Lib\\site-packages\\statsmodels\\discrete\\discrete_model.py:3612: RuntimeWarning: invalid value encountered in log\n",
      "  np.log(prob) - (y - mu)/(a1+mu))\n",
      "c:\\Users\\peta_\\anaconda3\\Lib\\site-packages\\statsmodels\\discrete\\discrete_model.py:3470: RuntimeWarning: invalid value encountered in log\n",
      "  dalpha = (dgpart + np.log(a1)\n"
     ]
    }
   ],
   "source": [
    "# Calculate the \"true\" dispersion parameter for Model 3\n",
    "nb2 = CountNB(Y3, X3).fit(disp=False, maxiter=100, method='newton')\n",
    "\n",
    "print(\"Converged:\", nb2.mle_retvals['converged'])\n",
    "print(\"Alpha estimate:\", nb2.params['alpha'])"
   ]
  },
  {
   "cell_type": "code",
   "execution_count": 27,
   "id": "f2f7ea69",
   "metadata": {},
   "outputs": [
    {
     "data": {
      "image/png": "[encoded data removed]",
      "text/plain": [
       "<Figure size 1000x600 with 1 Axes>"
      ]
     },
     "metadata": {},
     "output_type": "display_data"
    }
   ],
   "source": [
    "# Extract deviance residuals and fitted values\n",
    "deviance_residuals3 = model_NegBin3.resid_deviance\n",
    "fitted_values3 = model_NegBin3.fittedvalues\n",
    "\n",
    "# Plot residuals vs fitted values\n",
    "plt.figure(figsize=(10, 6))\n",
    "plt.scatter(fitted_values3, deviance_residuals3, alpha=0.5)\n",
    "plt.axhline(0, color='red', linestyle='--')\n",
    "plt.title('Deviance Residuals vs Fitted Values (Negative Binomial)')\n",
    "plt.xlabel('Fitted Values')\n",
    "plt.ylabel('Deviance Residuals')\n",
    "plt.show()"
   ]
  },
  {
   "cell_type": "code",
   "execution_count": 28,
   "id": "87aad3a7",
   "metadata": {},
   "outputs": [
    {
     "data": {
      "image/png": "[encoded data removed]",
      "text/plain": [
       "<Figure size 640x480 with 1 Axes>"
      ]
     },
     "metadata": {},
     "output_type": "display_data"
    }
   ],
   "source": [
    "# QQ plot for deviance residuals\n",
    "sm.qqplot(deviance_residuals3, line='s')\n",
    "plt.title('QQ Plot of Deviance Residuals (Negative Binomial)')\n",
    "plt.show()"
   ]
  },
  {
   "cell_type": "code",
   "execution_count": 29,
   "id": "b52006bc",
   "metadata": {},
   "outputs": [
    {
     "name": "stdout",
     "output_type": "stream",
     "text": [
      "                 Generalized Linear Model Regression Results                  \n",
      "==============================================================================\n",
      "Dep. Variable:        highest_ranking   No. Observations:                  100\n",
      "Model:                            GLM   Df Residuals:                       91\n",
      "Model Family:                 Poisson   Df Model:                            8\n",
      "Link Function:                    Log   Scale:                          1.0000\n",
      "Method:                          IRLS   Log-Likelihood:                -479.29\n",
      "Date:                Sat, 07 Jun 2025   Deviance:                       665.47\n",
      "Time:                        16:19:55   Pearson chi2:                 1.06e+03\n",
      "No. Iterations:                     5   Pseudo R-squ. (CS):             0.7611\n",
      "Covariance Type:            nonrobust                                         \n",
      "=====================================================================================\n",
      "                        coef    std err          z      P>|z|      [0.025      0.975]\n",
      "-------------------------------------------------------------------------------------\n",
      "const                 1.3273      0.233      5.699      0.000       0.871       1.784\n",
      "family_ISEI           0.0114      0.004      2.806      0.005       0.003       0.019\n",
      "sibling_player        0.2159      0.090      2.407      0.016       0.040       0.392\n",
      "association_WTA      -0.8180      0.101     -8.112      0.000      -1.016      -0.620\n",
      "country_USA          -0.1615      0.105     -1.532      0.126      -0.368       0.045\n",
      "country_Russia       -0.7669      0.244     -3.139      0.002      -1.246      -0.288\n",
      "country_Australia     0.2937      0.157      1.867      0.062      -0.015       0.602\n",
      "country_France        0.3675      0.164      2.241      0.025       0.046       0.689\n",
      "country_Spain        -1.4652      0.413     -3.545      0.000      -2.275      -0.655\n",
      "=====================================================================================\n"
     ]
    }
   ],
   "source": [
    "# Poisson regression model 3\n",
    "model_Poisson3 = sm.GLM(Y3, X3, family=sm.families.Poisson()).fit()\n",
    "\n",
    "# Print the summary of the Poisson model\n",
    "print(model_Poisson3.summary())"
   ]
  },
  {
   "cell_type": "code",
   "execution_count": 30,
   "id": "5c2425d6",
   "metadata": {},
   "outputs": [
    {
     "name": "stdout",
     "output_type": "stream",
     "text": [
      "Poisson Model AIC: 976.5871257138992, BIC: 246.39536146057884\n",
      "Negative Binomial Model AIC: 550.397219463346, BIC: -332.07927996706053\n"
     ]
    },
    {
     "name": "stderr",
     "output_type": "stream",
     "text": [
      "c:\\Users\\peta_\\anaconda3\\Lib\\site-packages\\statsmodels\\genmod\\generalized_linear_model.py:1838: FutureWarning: The bic value is computed using the deviance formula. After 0.13 this will change to the log-likelihood based formula. This change has no impact on the relative rank of models compared using BIC. You can directly access the log-likelihood version using the `bic_llf` attribute. You can suppress this message by calling statsmodels.genmod.generalized_linear_model.SET_USE_BIC_LLF with True to get the LLF-based version now or False to retainthe deviance version.\n",
      "  warnings.warn(\n"
     ]
    }
   ],
   "source": [
    "# Print out the AIC and BIC for the Poisson and NB models\n",
    "print(f\"Poisson Model AIC: {model_Poisson3.aic}, BIC: {model_Poisson3.bic}\")\n",
    "print(f\"Negative Binomial Model AIC: {model_NegBin3.aic}, BIC: {model_NegBin3.bic}\")"
   ]
  },
  {
   "cell_type": "markdown",
   "id": "80047b61",
   "metadata": {},
   "source": [
    "### Model 4: Ranking ~ Mother ISEI, Father ISEI, Sibling Info, Association Dummies, Country Dummies "
   ]
  },
  {
   "cell_type": "code",
   "execution_count": 34,
   "id": "0248eddb",
   "metadata": {},
   "outputs": [
    {
     "name": "stdout",
     "output_type": "stream",
     "text": [
      "VIF with both ISEI scores:\n",
      "             Variable       VIF\n",
      "0        mother_ISEI  9.844285\n",
      "1        father_ISEI  9.769509\n",
      "2       sibling_info  8.490527\n",
      "3    association_WTA  1.796871\n",
      "4        country_USA  1.560187\n",
      "5     country_Russia  1.164586\n",
      "6  country_Australia  1.136073\n",
      "7     country_France  1.141784\n",
      "8      country_Spain  1.128897\n"
     ]
    }
   ],
   "source": [
    "# Define predictors for Model 4\n",
    "predictors4 = ['mother_ISEI', 'father_ISEI', 'sibling_info', 'association_WTA'] + [f'country_{c.replace(\" \", \"_\")}' for c in top_countries]\n",
    "\n",
    "# Check multicollinearity using Variance Inflation Factor (VIF)\n",
    "X4_vif = df[predictors4]\n",
    "vif_data4 = pd.DataFrame({\n",
    "    'Variable': X4_vif.columns,\n",
    "    'VIF': [variance_inflation_factor(X4_vif.values, i)\n",
    "            for i in range(X4_vif.shape[1])]\n",
    "})\n",
    "print(\"VIF with both ISEI scores:\\n\", vif_data4)"
   ]
  },
  {
   "cell_type": "code",
   "execution_count": 35,
   "id": "d5caac29",
   "metadata": {},
   "outputs": [
    {
     "name": "stdout",
     "output_type": "stream",
     "text": [
      "Correlation between mother ISEI and father ISEI: 0.17\n"
     ]
    }
   ],
   "source": [
    "# Compute correlation between mother and father ISEI\n",
    "correlation_mother_father = df['mother_ISEI'].corr(df['father_ISEI'])\n",
    "print(f\"Correlation between mother ISEI and father ISEI: {correlation_mother_father:.2f}\")"
   ]
  },
  {
   "cell_type": "code",
   "execution_count": 36,
   "id": "e493617f",
   "metadata": {},
   "outputs": [
    {
     "name": "stdout",
     "output_type": "stream",
     "text": [
      "                 Generalized Linear Model Regression Results                  \n",
      "==============================================================================\n",
      "Dep. Variable:        highest_ranking   No. Observations:                  100\n",
      "Model:                            GLM   Df Residuals:                       90\n",
      "Model Family:        NegativeBinomial   Df Model:                            9\n",
      "Link Function:                    Log   Scale:                          1.0000\n",
      "Method:                          IRLS   Log-Likelihood:                -260.68\n",
      "Date:                Sat, 07 Jun 2025   Deviance:                       75.958\n",
      "Time:                        16:29:16   Pearson chi2:                     110.\n",
      "No. Iterations:                    13   Pseudo R-squ. (CS):             0.2911\n",
      "Covariance Type:            nonrobust                                         \n",
      "=====================================================================================\n",
      "                        coef    std err          z      P>|z|      [0.025      0.975]\n",
      "-------------------------------------------------------------------------------------\n",
      "const                 1.2550      0.611      2.053      0.040       0.057       2.453\n",
      "mother_ISEI           0.0200      0.008      2.646      0.008       0.005       0.035\n",
      "father_ISEI          -0.0160      0.008     -2.004      0.045      -0.032      -0.000\n",
      "sibling_info          0.4913      0.419      1.173      0.241      -0.329       1.312\n",
      "association_WTA      -0.6280      0.231     -2.721      0.007      -1.080      -0.176\n",
      "country_USA          -0.0550      0.271     -0.203      0.839      -0.585       0.475\n",
      "country_Russia       -0.4434      0.527     -0.842      0.400      -1.476       0.589\n",
      "country_Australia     0.0395      0.477      0.083      0.934      -0.896       0.975\n",
      "country_France        0.7927      0.507      1.565      0.118      -0.200       1.786\n",
      "country_Spain        -1.1620      0.631     -1.841      0.066      -2.399       0.075\n",
      "=====================================================================================\n"
     ]
    },
    {
     "name": "stderr",
     "output_type": "stream",
     "text": [
      "c:\\Users\\peta_\\anaconda3\\Lib\\site-packages\\statsmodels\\genmod\\families\\family.py:1367: ValueWarning: Negative binomial dispersion parameter alpha not set. Using default value alpha=1.0.\n",
      "  warnings.warn(\"Negative binomial dispersion parameter alpha not \"\n"
     ]
    }
   ],
   "source": [
    "# Prepare regression matrices for Model 4\n",
    "Y4 = df['highest_ranking']\n",
    "X4 = sm.add_constant(df[predictors4])\n",
    "\n",
    "# Fit Negative Binomial regression model for Model 4\n",
    "model_NegBin4 = sm.GLM(Y4, X4, family=NegativeBinomial()).fit()\n",
    "\n",
    "# Print the summary of the Negative Binomial model for Model 4\n",
    "print(model_NegBin4.summary())"
   ]
  },
  {
   "cell_type": "code",
   "execution_count": 37,
   "id": "1424a3f4",
   "metadata": {},
   "outputs": [
    {
     "name": "stdout",
     "output_type": "stream",
     "text": [
      "Empirical Dispersion: 0.84\n"
     ]
    }
   ],
   "source": [
    "# Check empirical dispersion from Negative Binomial model 4\n",
    "dispersion4 = model_NegBin4.deviance / model_NegBin4.df_resid\n",
    "print(f\"Empirical Dispersion: {dispersion4:.2f}\")"
   ]
  },
  {
   "cell_type": "code",
   "execution_count": 39,
   "id": "b70db1b6",
   "metadata": {},
   "outputs": [
    {
     "name": "stdout",
     "output_type": "stream",
     "text": [
      "Converged: False\n",
      "Alpha estimate: 0.740615400631128\n"
     ]
    },
    {
     "name": "stderr",
     "output_type": "stream",
     "text": [
      "c:\\Users\\peta_\\anaconda3\\Lib\\site-packages\\statsmodels\\base\\model.py:607: ConvergenceWarning: Maximum Likelihood optimization failed to converge. Check mle_retvals\n",
      "  warnings.warn(\"Maximum Likelihood optimization failed to \"\n"
     ]
    }
   ],
   "source": [
    "# Calculate the \"true\" dispersion parameter for Model 4\n",
    "nb2 = CountNB(Y4, X4).fit(disp=False, maxiter=100, method='LBFGS')\n",
    "\n",
    "print(\"Converged:\", nb2.mle_retvals['converged'])\n",
    "print(\"Alpha estimate:\", nb2.params['alpha'])"
   ]
  },
  {
   "cell_type": "code",
   "execution_count": 40,
   "id": "21f4b51e",
   "metadata": {},
   "outputs": [
    {
     "data": {
      "image/png": "[encoded data removed]",
      "text/plain": [
       "<Figure size 1000x600 with 1 Axes>"
      ]
     },
     "metadata": {},
     "output_type": "display_data"
    }
   ],
   "source": [
    "# Extract deviance residuals and fitted values\n",
    "deviance_residuals4 = model_NegBin4.resid_deviance\n",
    "fitted_values4 = model_NegBin4.fittedvalues\n",
    "\n",
    "# Plot residuals vs fitted values\n",
    "plt.figure(figsize=(10, 6))\n",
    "plt.scatter(fitted_values4, deviance_residuals4, alpha=0.5)\n",
    "plt.axhline(0, color='red', linestyle='--')\n",
    "plt.title('Deviance Residuals vs Fitted Values (Negative Binomial)')\n",
    "plt.xlabel('Fitted Values')\n",
    "plt.ylabel('Deviance Residuals')\n",
    "plt.show()"
   ]
  },
  {
   "cell_type": "code",
   "execution_count": 41,
   "id": "e0ac22e9",
   "metadata": {},
   "outputs": [
    {
     "data": {
      "image/png": "[encoded data removed]",
      "text/plain": [
       "<Figure size 640x480 with 1 Axes>"
      ]
     },
     "metadata": {},
     "output_type": "display_data"
    }
   ],
   "source": [
    "# QQ plot for deviance residuals\n",
    "sm.qqplot(deviance_residuals4, line='s')\n",
    "plt.title('QQ Plot of Deviance Residuals (Negative Binomial)')\n",
    "plt.show()"
   ]
  },
  {
   "cell_type": "code",
   "execution_count": 42,
   "id": "f9152c66",
   "metadata": {},
   "outputs": [
    {
     "name": "stdout",
     "output_type": "stream",
     "text": [
      "                 Generalized Linear Model Regression Results                  \n",
      "==============================================================================\n",
      "Dep. Variable:        highest_ranking   No. Observations:                  100\n",
      "Model:                            GLM   Df Residuals:                       90\n",
      "Model Family:                 Poisson   Df Model:                            9\n",
      "Link Function:                    Log   Scale:                          1.0000\n",
      "Method:                          IRLS   Log-Likelihood:                -434.28\n",
      "Date:                Sat, 07 Jun 2025   Deviance:                       575.44\n",
      "Time:                        16:33:43   Pearson chi2:                     805.\n",
      "No. Iterations:                     5   Pseudo R-squ. (CS):             0.9029\n",
      "Covariance Type:            nonrobust                                         \n",
      "=====================================================================================\n",
      "                        coef    std err          z      P>|z|      [0.025      0.975]\n",
      "-------------------------------------------------------------------------------------\n",
      "const                 0.9987      0.276      3.617      0.000       0.457       1.540\n",
      "mother_ISEI           0.0231      0.003      7.520      0.000       0.017       0.029\n",
      "father_ISEI          -0.0148      0.003     -5.355      0.000      -0.020      -0.009\n",
      "sibling_info          0.6628      0.224      2.956      0.003       0.223       1.102\n",
      "association_WTA      -0.7758      0.101     -7.673      0.000      -0.974      -0.578\n",
      "country_USA          -0.1894      0.105     -1.810      0.070      -0.395       0.016\n",
      "country_Russia       -0.5268      0.244     -2.155      0.031      -1.006      -0.048\n",
      "country_Australia     0.0565      0.159      0.356      0.722      -0.255       0.368\n",
      "country_France        0.3881      0.163      2.381      0.017       0.069       0.708\n",
      "country_Spain        -1.2185      0.415     -2.935      0.003      -2.032      -0.405\n",
      "=====================================================================================\n"
     ]
    }
   ],
   "source": [
    "# Poisson regression model 4\n",
    "model_Poisson4 = sm.GLM(Y4, X4, family=sm.families.Poisson()).fit()\n",
    "\n",
    "# Print the summary of the Poisson model\n",
    "print(model_Poisson4.summary())"
   ]
  },
  {
   "cell_type": "code",
   "execution_count": 43,
   "id": "206a8bbc",
   "metadata": {},
   "outputs": [
    {
     "name": "stdout",
     "output_type": "stream",
     "text": [
      "Poisson Model AIC: 888.5630471584917, BIC: 160.97645309115939\n",
      "Negative Binomial Model AIC: 541.3640979545947, BIC: -338.50723128982384\n"
     ]
    },
    {
     "name": "stderr",
     "output_type": "stream",
     "text": [
      "c:\\Users\\peta_\\anaconda3\\Lib\\site-packages\\statsmodels\\genmod\\generalized_linear_model.py:1838: FutureWarning: The bic value is computed using the deviance formula. After 0.13 this will change to the log-likelihood based formula. This change has no impact on the relative rank of models compared using BIC. You can directly access the log-likelihood version using the `bic_llf` attribute. You can suppress this message by calling statsmodels.genmod.generalized_linear_model.SET_USE_BIC_LLF with True to get the LLF-based version now or False to retainthe deviance version.\n",
      "  warnings.warn(\n"
     ]
    }
   ],
   "source": [
    "# Print out the AIC and BIC for the Poisson and NB models\n",
    "print(f\"Poisson Model AIC: {model_Poisson4.aic}, BIC: {model_Poisson4.bic}\")\n",
    "print(f\"Negative Binomial Model AIC: {model_NegBin4.aic}, BIC: {model_NegBin4.bic}\")"
   ]
  },
  {
   "cell_type": "markdown",
   "id": "eb9bd0c4",
   "metadata": {
    "vscode": {
     "languageId": "bat"
    }
   },
   "source": [
    "### Model 5: Ranking ~ Mother ISEI, Father ISEI, Sibling Player, Association Dummies, Country Dummies"
   ]
  },
  {
   "cell_type": "code",
   "execution_count": 44,
   "id": "a4a4d783",
   "metadata": {},
   "outputs": [
    {
     "name": "stdout",
     "output_type": "stream",
     "text": [
      "VIF with both ISEI scores:\n",
      "             Variable       VIF\n",
      "0        mother_ISEI  8.001378\n",
      "1        father_ISEI  9.044876\n",
      "2     sibling_player  2.088483\n",
      "3    association_WTA  1.782228\n",
      "4        country_USA  1.555802\n",
      "5     country_Russia  1.162107\n",
      "6  country_Australia  1.107363\n",
      "7     country_France  1.106788\n",
      "8      country_Spain  1.136090\n"
     ]
    }
   ],
   "source": [
    "# Define predictors for Model 5\n",
    "predictors5 = ['mother_ISEI', 'father_ISEI', 'sibling_player', 'association_WTA'] + [f'country_{c.replace(\" \", \"_\")}' for c in top_countries]\n",
    "\n",
    "# Check multicollinearity using Variance Inflation Factor (VIF)\n",
    "X5_vif = df[predictors5]\n",
    "vif_data5 = pd.DataFrame({\n",
    "    'Variable': X5_vif.columns,\n",
    "    'VIF': [variance_inflation_factor(X5_vif.values, i)\n",
    "            for i in range(X5_vif.shape[1])]\n",
    "})\n",
    "print(\"VIF with both ISEI scores:\\n\", vif_data5)"
   ]
  },
  {
   "cell_type": "code",
   "execution_count": 45,
   "id": "e66c5185",
   "metadata": {},
   "outputs": [
    {
     "name": "stdout",
     "output_type": "stream",
     "text": [
      "                 Generalized Linear Model Regression Results                  \n",
      "==============================================================================\n",
      "Dep. Variable:        highest_ranking   No. Observations:                  100\n",
      "Model:                            GLM   Df Residuals:                       90\n",
      "Model Family:        NegativeBinomial   Df Model:                            9\n",
      "Link Function:                    Log   Scale:                          1.0000\n",
      "Method:                          IRLS   Log-Likelihood:                -261.12\n",
      "Date:                Sat, 07 Jun 2025   Deviance:                       76.829\n",
      "Time:                        16:37:43   Pearson chi2:                     109.\n",
      "No. Iterations:                    14   Pseudo R-squ. (CS):             0.2849\n",
      "Covariance Type:            nonrobust                                         \n",
      "=====================================================================================\n",
      "                        coef    std err          z      P>|z|      [0.025      0.975]\n",
      "-------------------------------------------------------------------------------------\n",
      "const                 1.5890      0.543      2.925      0.003       0.524       2.654\n",
      "mother_ISEI           0.0212      0.007      2.857      0.004       0.007       0.036\n",
      "father_ISEI          -0.0167      0.008     -2.097      0.036      -0.032      -0.001\n",
      "sibling_player        0.1491      0.234      0.636      0.525      -0.310       0.608\n",
      "association_WTA      -0.6319      0.233     -2.718      0.007      -1.088      -0.176\n",
      "country_USA          -0.0289      0.270     -0.107      0.915      -0.559       0.501\n",
      "country_Russia       -0.4044      0.525     -0.770      0.441      -1.433       0.624\n",
      "country_Australia     0.1318      0.476      0.277      0.782      -0.801       1.065\n",
      "country_France        0.9490      0.506      1.874      0.061      -0.044       1.942\n",
      "country_Spain        -1.1349      0.633     -1.792      0.073      -2.376       0.106\n",
      "=====================================================================================\n"
     ]
    },
    {
     "name": "stderr",
     "output_type": "stream",
     "text": [
      "c:\\Users\\peta_\\anaconda3\\Lib\\site-packages\\statsmodels\\genmod\\families\\family.py:1367: ValueWarning: Negative binomial dispersion parameter alpha not set. Using default value alpha=1.0.\n",
      "  warnings.warn(\"Negative binomial dispersion parameter alpha not \"\n"
     ]
    }
   ],
   "source": [
    "# Prepare regression matrices for Model 5\n",
    "Y5 = df['highest_ranking']\n",
    "X5 = sm.add_constant(df[predictors5])\n",
    "\n",
    "# Fit Negative Binomial regression model for Model 5\n",
    "model_NegBin5 = sm.GLM(Y5, X5, family=NegativeBinomial()).fit()\n",
    "\n",
    "# Print the summary of the Negative Binomial model for Model 5\n",
    "print(model_NegBin5.summary())"
   ]
  },
  {
   "cell_type": "code",
   "execution_count": 46,
   "id": "6a24a78b",
   "metadata": {},
   "outputs": [],
   "source": [
    "# Mean center the mother and father ISEI variables\n",
    "df['mother_ISEI_c'] = df['mother_ISEI'] - df['mother_ISEI'].mean()\n",
    "df['father_ISEI_c'] = df['father_ISEI'] - df['father_ISEI'].mean()"
   ]
  },
  {
   "cell_type": "code",
   "execution_count": 47,
   "id": "d93cc359",
   "metadata": {},
   "outputs": [],
   "source": [
    "# Create interaction term between mother ISEI and sibling info\n",
    "df['mother_ISEI_x_sibling_info'] = df['mother_ISEI_c'] * df['sibling_info']"
   ]
  },
  {
   "cell_type": "markdown",
   "id": "427fe612",
   "metadata": {},
   "source": [
    "### Model 6: Ranking ~ Mother ISEI, Father ISEI, Sibling Info, Mother ISEIxSibling Info interaction, Association Dummies, Country Dummies"
   ]
  },
  {
   "cell_type": "code",
   "execution_count": 50,
   "id": "29afdee6",
   "metadata": {},
   "outputs": [
    {
     "name": "stdout",
     "output_type": "stream",
     "text": [
      "VIF with both ISEI scores and interaction between mother ISEI and sibling info:\n",
      "                      Variable       VIF\n",
      "0               mother_ISEI_c  8.785631\n",
      "1               father_ISEI_c  1.072106\n",
      "2  mother_ISEI_x_sibling_info  8.659004\n",
      "3                sibling_info  2.821499\n",
      "4             association_WTA  1.759568\n",
      "5                 country_USA  1.541589\n",
      "6              country_Russia  1.155217\n",
      "7           country_Australia  1.137258\n",
      "8              country_France  1.147338\n",
      "9               country_Spain  1.130541\n"
     ]
    }
   ],
   "source": [
    "# Define predictors for Model 6\n",
    "predictors6 = ['mother_ISEI_c', 'father_ISEI_c', 'mother_ISEI_x_sibling_info', 'sibling_info', 'association_WTA'] + [f'country_{c.replace(\" \", \"_\")}' for c in top_countries]\n",
    "\n",
    "# Check multicollinearity using Variance Inflation Factor (VIF)\n",
    "X6_vif = df[predictors6]\n",
    "vif_data6 = pd.DataFrame({\n",
    "    'Variable': X6_vif.columns,\n",
    "    'VIF': [variance_inflation_factor(X6_vif.values, i)\n",
    "            for i in range(X6_vif.shape[1])]\n",
    "})\n",
    "print(\"VIF with both ISEI scores and interaction between mother ISEI and sibling info:\\n\", vif_data6)"
   ]
  },
  {
   "cell_type": "code",
   "execution_count": 51,
   "id": "04d22c53",
   "metadata": {},
   "outputs": [
    {
     "name": "stdout",
     "output_type": "stream",
     "text": [
      "                 Generalized Linear Model Regression Results                  \n",
      "==============================================================================\n",
      "Dep. Variable:        highest_ranking   No. Observations:                  100\n",
      "Model:                            GLM   Df Residuals:                       89\n",
      "Model Family:        NegativeBinomial   Df Model:                           10\n",
      "Link Function:                    Log   Scale:                          1.0000\n",
      "Method:                          IRLS   Log-Likelihood:                -260.61\n",
      "Date:                Sat, 07 Jun 2025   Deviance:                       75.805\n",
      "Time:                        16:41:02   Pearson chi2:                     110.\n",
      "No. Iterations:                    81   Pseudo R-squ. (CS):             0.2922\n",
      "Covariance Type:            nonrobust                                         \n",
      "==============================================================================================\n",
      "                                 coef    std err          z      P>|z|      [0.025      0.975]\n",
      "----------------------------------------------------------------------------------------------\n",
      "const                          1.4260      0.469      3.040      0.002       0.507       2.345\n",
      "mother_ISEI_c                  0.0282      0.031      0.925      0.355      -0.032       0.088\n",
      "father_ISEI_c                 -0.0161      0.008     -2.021      0.043      -0.032      -0.000\n",
      "mother_ISEI_x_sibling_info    -0.0091      0.031     -0.290      0.772      -0.071       0.052\n",
      "sibling_info                   0.4450      0.477      0.933      0.351      -0.490       1.380\n",
      "association_WTA               -0.6325      0.231     -2.738      0.006      -1.085      -0.180\n",
      "country_USA                   -0.0547      0.271     -0.202      0.840      -0.585       0.476\n",
      "country_Russia                -0.4390      0.527     -0.833      0.405      -1.472       0.594\n",
      "country_Australia              0.0396      0.477      0.083      0.934      -0.895       0.974\n",
      "country_France                 0.7691      0.507      1.516      0.129      -0.225       1.763\n",
      "country_Spain                 -1.1668      0.631     -1.848      0.065      -2.404       0.071\n",
      "==============================================================================================\n"
     ]
    },
    {
     "name": "stderr",
     "output_type": "stream",
     "text": [
      "c:\\Users\\peta_\\anaconda3\\Lib\\site-packages\\statsmodels\\genmod\\families\\family.py:1367: ValueWarning: Negative binomial dispersion parameter alpha not set. Using default value alpha=1.0.\n",
      "  warnings.warn(\"Negative binomial dispersion parameter alpha not \"\n"
     ]
    }
   ],
   "source": [
    "# Prepare regression matrices for Model 6\n",
    "Y6 = df['highest_ranking']\n",
    "X6 = sm.add_constant(df[predictors6])\n",
    "\n",
    "# Fit Negative Binomial regression model for Model 6\n",
    "model_NegBin6 = sm.GLM(Y6, X6, family=NegativeBinomial()).fit()\n",
    "# Print the summary of the Negative Binomial model for Model 6\n",
    "print(model_NegBin6.summary())"
   ]
  },
  {
   "cell_type": "code",
   "execution_count": 52,
   "id": "af4cfbb8",
   "metadata": {},
   "outputs": [
    {
     "name": "stdout",
     "output_type": "stream",
     "text": [
      "Negative Binomial Model 5 AIC: 542.2346445036185, BIC: -337.6366847408001\n",
      "Negative Binomial Model 7 AIC: 543.2114202609392, BIC: -334.0547387974914\n"
     ]
    },
    {
     "name": "stderr",
     "output_type": "stream",
     "text": [
      "c:\\Users\\peta_\\anaconda3\\Lib\\site-packages\\statsmodels\\genmod\\generalized_linear_model.py:1838: FutureWarning: The bic value is computed using the deviance formula. After 0.13 this will change to the log-likelihood based formula. This change has no impact on the relative rank of models compared using BIC. You can directly access the log-likelihood version using the `bic_llf` attribute. You can suppress this message by calling statsmodels.genmod.generalized_linear_model.SET_USE_BIC_LLF with True to get the LLF-based version now or False to retainthe deviance version.\n",
      "  warnings.warn(\n"
     ]
    }
   ],
   "source": [
    "# Print out the AIC and BIC for Model 5 and Model 7\n",
    "print(f\"Negative Binomial Model 5 AIC: {model_NegBin5.aic}, BIC: {model_NegBin5.bic}\")\n",
    "print(f\"Negative Binomial Model 7 AIC: {model_NegBin6.aic}, BIC: {model_NegBin6.bic}\")"
   ]
  },
  {
   "cell_type": "code",
   "execution_count": 54,
   "id": "bda73ec8",
   "metadata": {},
   "outputs": [],
   "source": [
    "df['father_ISEI_x_association_WTA'] = df['father_ISEI_c'] * df['association_WTA']"
   ]
  },
  {
   "cell_type": "markdown",
   "id": "c971f653",
   "metadata": {},
   "source": [
    "### Model 7: Ranking ~ Mother ISEI, Father ISEI, Sibling Info, Father ISEIxAssociation intercation, Association Dummies, Country Dummies"
   ]
  },
  {
   "cell_type": "code",
   "execution_count": 58,
   "id": "059307c1",
   "metadata": {},
   "outputs": [
    {
     "name": "stdout",
     "output_type": "stream",
     "text": [
      "VIF with both ISEI scores and interaction between father ISEI and association:\n",
      "                         Variable       VIF\n",
      "0                  mother_ISEI_c  1.212018\n",
      "1                  father_ISEI_c  1.415657\n",
      "2  father_ISEI_x_association_WTA  1.564524\n",
      "3                   sibling_info  2.841161\n",
      "4                association_WTA  1.702612\n",
      "5                    country_USA  1.555749\n",
      "6                 country_Russia  1.155615\n",
      "7              country_Australia  1.141382\n",
      "8                 country_France  1.183025\n",
      "9                  country_Spain  1.147011\n"
     ]
    }
   ],
   "source": [
    "# Define predictors for Model 7\n",
    "predictors7 = ['mother_ISEI_c', 'father_ISEI_c', 'father_ISEI_x_association_WTA', 'sibling_info', 'association_WTA'] + [f'country_{c.replace(\" \", \"_\")}' for c in top_countries]\n",
    "\n",
    "# Check multicollinearity using Variance Inflation Factor (VIF)\n",
    "X7_vif = df[predictors7]\n",
    "vif_data7 = pd.DataFrame({\n",
    "    'Variable': X7_vif.columns,\n",
    "    'VIF': [variance_inflation_factor(X7_vif.values, i)\n",
    "            for i in range(X7_vif.shape[1])]\n",
    "})\n",
    "print(\"VIF with both ISEI scores and interaction between father ISEI and association:\\n\", vif_data7)"
   ]
  },
  {
   "cell_type": "code",
   "execution_count": 59,
   "id": "1c6e81d4",
   "metadata": {},
   "outputs": [
    {
     "name": "stdout",
     "output_type": "stream",
     "text": [
      "                 Generalized Linear Model Regression Results                  \n",
      "==============================================================================\n",
      "Dep. Variable:        highest_ranking   No. Observations:                  100\n",
      "Model:                            GLM   Df Residuals:                       89\n",
      "Model Family:        NegativeBinomial   Df Model:                           10\n",
      "Link Function:                    Log   Scale:                          1.0000\n",
      "Method:                          IRLS   Log-Likelihood:                -260.09\n",
      "Date:                Sat, 07 Jun 2025   Deviance:                       74.781\n",
      "Time:                        17:21:44   Pearson chi2:                     110.\n",
      "No. Iterations:                    13   Pseudo R-squ. (CS):             0.2994\n",
      "Covariance Type:            nonrobust                                         \n",
      "=================================================================================================\n",
      "                                    coef    std err          z      P>|z|      [0.025      0.975]\n",
      "-------------------------------------------------------------------------------------------------\n",
      "const                             1.3546      0.407      3.329      0.001       0.557       2.152\n",
      "mother_ISEI_c                     0.0178      0.008      2.259      0.024       0.002       0.033\n",
      "father_ISEI_c                    -0.0224      0.009     -2.486      0.013      -0.040      -0.005\n",
      "father_ISEI_x_association_WTA     0.0221      0.019      1.157      0.247      -0.015       0.059\n",
      "sibling_info                      0.5405      0.421      1.283      0.200      -0.285       1.366\n",
      "association_WTA                  -0.6378      0.231     -2.759      0.006      -1.091      -0.185\n",
      "country_USA                      -0.1117      0.274     -0.407      0.684      -0.649       0.426\n",
      "country_Russia                   -0.4562      0.526     -0.868      0.385      -1.486       0.574\n",
      "country_Australia                 0.0104      0.478      0.022      0.983      -0.927       0.948\n",
      "country_France                    0.6658      0.515      1.292      0.196      -0.344       1.676\n",
      "country_Spain                    -1.2049      0.633     -1.902      0.057      -2.446       0.036\n",
      "=================================================================================================\n"
     ]
    },
    {
     "name": "stderr",
     "output_type": "stream",
     "text": [
      "c:\\Users\\peta_\\anaconda3\\Lib\\site-packages\\statsmodels\\genmod\\families\\family.py:1367: ValueWarning: Negative binomial dispersion parameter alpha not set. Using default value alpha=1.0.\n",
      "  warnings.warn(\"Negative binomial dispersion parameter alpha not \"\n"
     ]
    }
   ],
   "source": [
    "# Prepare regression matrices for Model 7\n",
    "Y7 = df['highest_ranking']\n",
    "X7 = sm.add_constant(df[predictors7])\n",
    "\n",
    "# Fit Negative Binomial regression model for Model 7\n",
    "model_NegBin7 = sm.GLM(Y7, X7, family=NegativeBinomial()).fit()\n",
    "\n",
    "# Print the summary of the Negative Binomial model for Model 7\n",
    "print(model_NegBin7.summary())"
   ]
  },
  {
   "cell_type": "code",
   "execution_count": 57,
   "id": "975e498c",
   "metadata": {},
   "outputs": [
    {
     "name": "stdout",
     "output_type": "stream",
     "text": [
      "Negative Binomial Model 5 AIC: 542.2346445036185, BIC: -337.6366847408001\n",
      "Negative Binomial Model 7 AIC: 874.3272431996381, BIC: -302.27033965151054\n"
     ]
    },
    {
     "name": "stderr",
     "output_type": "stream",
     "text": [
      "c:\\Users\\peta_\\anaconda3\\Lib\\site-packages\\statsmodels\\genmod\\generalized_linear_model.py:1838: FutureWarning: The bic value is computed using the deviance formula. After 0.13 this will change to the log-likelihood based formula. This change has no impact on the relative rank of models compared using BIC. You can directly access the log-likelihood version using the `bic_llf` attribute. You can suppress this message by calling statsmodels.genmod.generalized_linear_model.SET_USE_BIC_LLF with True to get the LLF-based version now or False to retainthe deviance version.\n",
      "  warnings.warn(\n"
     ]
    }
   ],
   "source": [
    "# Print out the AIC and BIC for Model 5 and Model 7\n",
    "print(f\"Negative Binomial Model 5 AIC: {model_NegBin5.aic}, BIC: {model_NegBin5.bic}\")\n",
    "print(f\"Negative Binomial Model 7 AIC: {model_NegBin7.aic}, BIC: {model_NegBin7.bic}\")"
   ]
  },
  {
   "cell_type": "code",
   "execution_count": 60,
   "id": "98227077",
   "metadata": {},
   "outputs": [],
   "source": [
    "df['mother_ISEI_x_father_ISEI'] = df['mother_ISEI_c'] * df['father_ISEI_c']"
   ]
  },
  {
   "cell_type": "markdown",
   "id": "507b2f61",
   "metadata": {},
   "source": [
    "### Model 8: Ranking ~ Mother ISEI, Father ISEI, Sibling Info, Mother ISEIxFather ISEI interaction, Association Dummies, Country Dummies"
   ]
  },
  {
   "cell_type": "code",
   "execution_count": 61,
   "id": "abf29525",
   "metadata": {},
   "outputs": [
    {
     "name": "stdout",
     "output_type": "stream",
     "text": [
      "VIF with both ISEI scores and interaction between mother ISEI and father ISEI:\n",
      "                     Variable       VIF\n",
      "0              mother_ISEI_c  1.230526\n",
      "1              father_ISEI_c  1.160891\n",
      "2  mother_ISEI_x_father_ISEI  1.487720\n",
      "3               sibling_info  2.793415\n",
      "4            association_WTA  1.782659\n",
      "5                country_USA  1.573861\n",
      "6             country_Russia  1.208312\n",
      "7          country_Australia  1.163367\n",
      "8             country_France  1.164210\n",
      "9              country_Spain  1.134411\n"
     ]
    }
   ],
   "source": [
    "# Define predictors for Model 8\n",
    "predictors8 = ['mother_ISEI_c', 'father_ISEI_c', 'mother_ISEI_x_father_ISEI', 'sibling_info', 'association_WTA'] + [f'country_{c.replace(\" \", \"_\")}' for c in top_countries]\n",
    "\n",
    "# Check multicollinearity using Variance Inflation Factor (VIF)\n",
    "X8_vif = df[predictors8]\n",
    "vif_data8 = pd.DataFrame({\n",
    "    'Variable': X8_vif.columns,\n",
    "    'VIF': [variance_inflation_factor(X8_vif.values, i)\n",
    "            for i in range(X8_vif.shape[1])]\n",
    "})\n",
    "print(\"VIF with both ISEI scores and interaction between mother ISEI and father ISEI:\\n\", vif_data8)"
   ]
  },
  {
   "cell_type": "code",
   "execution_count": 62,
   "id": "9c0b1d36",
   "metadata": {},
   "outputs": [
    {
     "name": "stdout",
     "output_type": "stream",
     "text": [
      "                 Generalized Linear Model Regression Results                  \n",
      "==============================================================================\n",
      "Dep. Variable:        highest_ranking   No. Observations:                  100\n",
      "Model:                            GLM   Df Residuals:                       89\n",
      "Model Family:        NegativeBinomial   Df Model:                           10\n",
      "Link Function:                    Log   Scale:                          1.0000\n",
      "Method:                          IRLS   Log-Likelihood:                -259.92\n",
      "Date:                Sat, 07 Jun 2025   Deviance:                       74.427\n",
      "Time:                        17:23:59   Pearson chi2:                     103.\n",
      "No. Iterations:                    17   Pseudo R-squ. (CS):             0.3019\n",
      "Covariance Type:            nonrobust                                         \n",
      "=============================================================================================\n",
      "                                coef    std err          z      P>|z|      [0.025      0.975]\n",
      "---------------------------------------------------------------------------------------------\n",
      "const                         1.3849      0.406      3.415      0.001       0.590       2.180\n",
      "mother_ISEI_c                 0.0223      0.008      2.850      0.004       0.007       0.038\n",
      "father_ISEI_c                -0.0126      0.008     -1.488      0.137      -0.029       0.004\n",
      "mother_ISEI_x_father_ISEI    -0.0007      0.001     -1.196      0.232      -0.002       0.000\n",
      "sibling_info                  0.4621      0.418      1.105      0.269      -0.357       1.281\n",
      "association_WTA              -0.5790      0.235     -2.464      0.014      -1.040      -0.119\n",
      "country_USA                   0.0049      0.274      0.018      0.986      -0.531       0.541\n",
      "country_Russia               -0.5576      0.537     -1.039      0.299      -1.609       0.494\n",
      "country_Australia            -0.0775      0.486     -0.159      0.873      -1.031       0.876\n",
      "country_France                0.9745      0.508      1.917      0.055      -0.022       1.971\n",
      "country_Spain                -1.0979      0.630     -1.741      0.082      -2.334       0.138\n",
      "=============================================================================================\n"
     ]
    },
    {
     "name": "stderr",
     "output_type": "stream",
     "text": [
      "c:\\Users\\peta_\\anaconda3\\Lib\\site-packages\\statsmodels\\genmod\\families\\family.py:1367: ValueWarning: Negative binomial dispersion parameter alpha not set. Using default value alpha=1.0.\n",
      "  warnings.warn(\"Negative binomial dispersion parameter alpha not \"\n"
     ]
    }
   ],
   "source": [
    "# Prepare regression matrices for Model 8\n",
    "Y8 = df['highest_ranking']\n",
    "X8 = sm.add_constant(df[predictors8])\n",
    "\n",
    "# Fit Negative Binomial regression model for Model 8\n",
    "model_NegBin8 = sm.GLM(Y8, X8, family=NegativeBinomial()).fit()\n",
    "\n",
    "# Print the summary of the Negative Binomial model for Model 8\n",
    "print(model_NegBin8.summary())"
   ]
  },
  {
   "cell_type": "code",
   "execution_count": 63,
   "id": "be6a54e6",
   "metadata": {},
   "outputs": [
    {
     "name": "stdout",
     "output_type": "stream",
     "text": [
      "Negative Binomial Model 5 AIC: 542.2346445036185, BIC: -337.6366847408001\n",
      "Negative Binomial Model 8 AIC: 541.8325328295044, BIC: -335.433626228926\n"
     ]
    },
    {
     "name": "stderr",
     "output_type": "stream",
     "text": [
      "c:\\Users\\peta_\\anaconda3\\Lib\\site-packages\\statsmodels\\genmod\\generalized_linear_model.py:1838: FutureWarning: The bic value is computed using the deviance formula. After 0.13 this will change to the log-likelihood based formula. This change has no impact on the relative rank of models compared using BIC. You can directly access the log-likelihood version using the `bic_llf` attribute. You can suppress this message by calling statsmodels.genmod.generalized_linear_model.SET_USE_BIC_LLF with True to get the LLF-based version now or False to retainthe deviance version.\n",
      "  warnings.warn(\n"
     ]
    }
   ],
   "source": [
    "# Print out the AIC and BIC for Model 5 and Model 8\n",
    "print(f\"Negative Binomial Model 5 AIC: {model_NegBin5.aic}, BIC: {model_NegBin5.bic}\")\n",
    "print(f\"Negative Binomial Model 8 AIC: {model_NegBin8.aic}, BIC: {model_NegBin8.bic}\")"
   ]
  },
  {
   "cell_type": "code",
   "execution_count": 64,
   "id": "db9d8638",
   "metadata": {},
   "outputs": [],
   "source": [
    "df['mother_ISEI_x_country_Spain'] = df['mother_ISEI_c'] * df['country_Spain']\n",
    "df['father_ISEI_x_country_Spain'] = df['father_ISEI_c'] * df['country_Spain']"
   ]
  },
  {
   "cell_type": "markdown",
   "id": "8f16fdb7",
   "metadata": {},
   "source": [
    "### Model 9: Ranking ~ Mother ISEI, Father ISEI, Sibling Info, Mother ISEIxCountry Spain intercation, Association Dummies, Country Dummies"
   ]
  },
  {
   "cell_type": "code",
   "execution_count": 67,
   "id": "399b039e",
   "metadata": {},
   "outputs": [
    {
     "name": "stdout",
     "output_type": "stream",
     "text": [
      "VIF with both ISEI scores and interaction between mother ISEI and father ISEI:\n",
      "                       Variable       VIF\n",
      "0                mother_ISEI_c  1.153920\n",
      "1                father_ISEI_c  1.081610\n",
      "2  mother_ISEI_x_country_Spain  1.134067\n",
      "3                 sibling_info  2.821190\n",
      "4              association_WTA  1.757356\n",
      "5                  country_USA  1.537413\n",
      "6               country_Russia  1.149788\n",
      "7            country_Australia  1.137229\n",
      "8               country_France  1.149663\n",
      "9                country_Spain  1.177521\n"
     ]
    }
   ],
   "source": [
    "# Define predictors for Model 9\n",
    "predictors9 = ['mother_ISEI_c', 'father_ISEI_c', 'mother_ISEI_x_country_Spain', 'sibling_info', 'association_WTA'] + [f'country_{c.replace(\" \", \"_\")}' for c in top_countries]\n",
    "\n",
    "# Check multicollinearity using Variance Inflation Factor (VIF)\n",
    "X9_vif = df[predictors9]\n",
    "vif_data9 = pd.DataFrame({\n",
    "    'Variable': X9_vif.columns,\n",
    "    'VIF': [variance_inflation_factor(X9_vif.values, i)\n",
    "            for i in range(X9_vif.shape[1])]\n",
    "})\n",
    "print(\"VIF with both ISEI scores and interaction between mother ISEI and country Spain:\\n\", vif_data9)"
   ]
  },
  {
   "cell_type": "code",
   "execution_count": 68,
   "id": "f5c7d41d",
   "metadata": {},
   "outputs": [
    {
     "name": "stdout",
     "output_type": "stream",
     "text": [
      "                 Generalized Linear Model Regression Results                  \n",
      "==============================================================================\n",
      "Dep. Variable:        highest_ranking   No. Observations:                  100\n",
      "Model:                            GLM   Df Residuals:                       89\n",
      "Model Family:        NegativeBinomial   Df Model:                           10\n",
      "Link Function:                    Log   Scale:                          1.0000\n",
      "Method:                          IRLS   Log-Likelihood:                -260.68\n",
      "Date:                Sat, 07 Jun 2025   Deviance:                       75.955\n",
      "Time:                        17:31:05   Pearson chi2:                     110.\n",
      "No. Iterations:                    13   Pseudo R-squ. (CS):             0.2911\n",
      "Covariance Type:            nonrobust                                         \n",
      "===============================================================================================\n",
      "                                  coef    std err          z      P>|z|      [0.025      0.975]\n",
      "-----------------------------------------------------------------------------------------------\n",
      "const                           1.3739      0.405      3.391      0.001       0.580       2.168\n",
      "mother_ISEI_c                   0.0201      0.008      2.619      0.009       0.005       0.035\n",
      "father_ISEI_c                  -0.0160      0.008     -1.993      0.046      -0.032      -0.000\n",
      "mother_ISEI_x_country_Spain    -0.0025      0.043     -0.057      0.954      -0.087       0.082\n",
      "sibling_info                    0.4914      0.419      1.173      0.241      -0.330       1.313\n",
      "association_WTA                -0.6262      0.233     -2.683      0.007      -1.084      -0.169\n",
      "country_USA                    -0.0552      0.271     -0.204      0.838      -0.586       0.475\n",
      "country_Russia                 -0.4429      0.527     -0.841      0.401      -1.476       0.590\n",
      "country_Australia               0.0400      0.477      0.084      0.933      -0.895       0.975\n",
      "country_France                  0.7948      0.507      1.567      0.117      -0.199       1.789\n",
      "country_Spain                  -1.1710      0.651     -1.799      0.072      -2.447       0.105\n",
      "===============================================================================================\n"
     ]
    },
    {
     "name": "stderr",
     "output_type": "stream",
     "text": [
      "c:\\Users\\peta_\\anaconda3\\Lib\\site-packages\\statsmodels\\genmod\\families\\family.py:1367: ValueWarning: Negative binomial dispersion parameter alpha not set. Using default value alpha=1.0.\n",
      "  warnings.warn(\"Negative binomial dispersion parameter alpha not \"\n"
     ]
    }
   ],
   "source": [
    "# Prepare regression matrices for Model 9\n",
    "Y9 = df['highest_ranking']\n",
    "X9 = sm.add_constant(df[predictors9])\n",
    "\n",
    "# Fit Negative Binomial regression model for Model 9\n",
    "model_NegBin9 = sm.GLM(Y9, X9, family=NegativeBinomial()).fit()\n",
    "\n",
    "# Print the summary of the Negative Binomial model for Model 9\n",
    "print(model_NegBin9.summary())"
   ]
  },
  {
   "cell_type": "code",
   "execution_count": 69,
   "id": "61597902",
   "metadata": {},
   "outputs": [
    {
     "name": "stdout",
     "output_type": "stream",
     "text": [
      "Negative Binomial Model 5 AIC: 542.2346445036185, BIC: -337.6366847408001\n",
      "Negative Binomial Model 9 AIC: 543.3609927409526, BIC: -333.90516631747806\n"
     ]
    },
    {
     "name": "stderr",
     "output_type": "stream",
     "text": [
      "c:\\Users\\peta_\\anaconda3\\Lib\\site-packages\\statsmodels\\genmod\\generalized_linear_model.py:1838: FutureWarning: The bic value is computed using the deviance formula. After 0.13 this will change to the log-likelihood based formula. This change has no impact on the relative rank of models compared using BIC. You can directly access the log-likelihood version using the `bic_llf` attribute. You can suppress this message by calling statsmodels.genmod.generalized_linear_model.SET_USE_BIC_LLF with True to get the LLF-based version now or False to retainthe deviance version.\n",
      "  warnings.warn(\n"
     ]
    }
   ],
   "source": [
    "# Print out the AIC and BIC for Model 5 and Model 9\n",
    "print(f\"Negative Binomial Model 5 AIC: {model_NegBin5.aic}, BIC: {model_NegBin5.bic}\")\n",
    "print(f\"Negative Binomial Model 9 AIC: {model_NegBin9.aic}, BIC: {model_NegBin9.bic}\")"
   ]
  },
  {
   "cell_type": "markdown",
   "id": "40a93dfd",
   "metadata": {},
   "source": [
    "### Model 10: Ranking ~ Mother ISEI, Father ISEI, Sibling Info, Father ISEIxCountry Spain intercation, Association Dummies, Country Dummies"
   ]
  },
  {
   "cell_type": "code",
   "execution_count": 70,
   "id": "38e2ae03",
   "metadata": {},
   "outputs": [
    {
     "name": "stdout",
     "output_type": "stream",
     "text": [
      "VIF with both ISEI scores and interaction between father ISEI and country Spain:\n",
      "                       Variable       VIF\n",
      "0                mother_ISEI_c  1.116626\n",
      "1                father_ISEI_c  1.114565\n",
      "2  father_ISEI_x_country_Spain  1.188026\n",
      "3                 sibling_info  2.790023\n",
      "4              association_WTA  1.700563\n",
      "5                  country_USA  1.537766\n",
      "6               country_Russia  1.149244\n",
      "7            country_Australia  1.136917\n",
      "8               country_France  1.147331\n",
      "9                country_Spain  1.250244\n"
     ]
    }
   ],
   "source": [
    "# Define predictors for Model 10\n",
    "predictors10 = ['mother_ISEI_c', 'father_ISEI_c', 'father_ISEI_x_country_Spain', 'sibling_info', 'association_WTA'] + [f'country_{c.replace(\" \", \"_\")}' for c in top_countries]\n",
    "\n",
    "# Check multicollinearity using Variance Inflation Factor (VIF)\n",
    "X10_vif = df[predictors10]\n",
    "vif_data10 = pd.DataFrame({\n",
    "    'Variable': X10_vif.columns,\n",
    "    'VIF': [variance_inflation_factor(X10_vif.values, i)\n",
    "            for i in range(X10_vif.shape[1])]\n",
    "})\n",
    "print(\"VIF with both ISEI scores and interaction between father ISEI and country Spain:\\n\", vif_data10)"
   ]
  },
  {
   "cell_type": "code",
   "execution_count": 72,
   "id": "81858d1c",
   "metadata": {},
   "outputs": [
    {
     "name": "stdout",
     "output_type": "stream",
     "text": [
      "                 Generalized Linear Model Regression Results                  \n",
      "==============================================================================\n",
      "Dep. Variable:        highest_ranking   No. Observations:                  100\n",
      "Model:                            GLM   Df Residuals:                       89\n",
      "Model Family:        NegativeBinomial   Df Model:                           10\n",
      "Link Function:                    Log   Scale:                          1.0000\n",
      "Method:                          IRLS   Log-Likelihood:                -260.62\n",
      "Date:                Sat, 07 Jun 2025   Deviance:                       75.833\n",
      "Time:                        18:24:09   Pearson chi2:                     110.\n",
      "No. Iterations:                    13   Pseudo R-squ. (CS):             0.2920\n",
      "Covariance Type:            nonrobust                                         \n",
      "===============================================================================================\n",
      "                                  coef    std err          z      P>|z|      [0.025      0.975]\n",
      "-----------------------------------------------------------------------------------------------\n",
      "const                           1.3761      0.405      3.396      0.001       0.582       2.170\n",
      "mother_ISEI_c                   0.0202      0.008      2.661      0.008       0.005       0.035\n",
      "father_ISEI_c                  -0.0154      0.008     -1.901      0.057      -0.031       0.000\n",
      "father_ISEI_x_country_Spain    -0.0154      0.045     -0.343      0.732      -0.104       0.073\n",
      "sibling_info                    0.4914      0.419      1.173      0.241      -0.329       1.312\n",
      "association_WTA                -0.6300      0.231     -2.729      0.006      -1.083      -0.177\n",
      "country_USA                    -0.0561      0.271     -0.207      0.836      -0.586       0.474\n",
      "country_Russia                 -0.4469      0.527     -0.848      0.396      -1.479       0.586\n",
      "country_Australia               0.0393      0.477      0.082      0.934      -0.896       0.975\n",
      "country_France                  0.7963      0.507      1.572      0.116      -0.197       1.789\n",
      "country_Spain                  -1.1155      0.651     -1.715      0.086      -2.390       0.159\n",
      "===============================================================================================\n"
     ]
    },
    {
     "name": "stderr",
     "output_type": "stream",
     "text": [
      "c:\\Users\\peta_\\anaconda3\\Lib\\site-packages\\statsmodels\\genmod\\families\\family.py:1367: ValueWarning: Negative binomial dispersion parameter alpha not set. Using default value alpha=1.0.\n",
      "  warnings.warn(\"Negative binomial dispersion parameter alpha not \"\n"
     ]
    }
   ],
   "source": [
    "# Prepare regression matrices for Model 10\n",
    "Y10 = df['highest_ranking']\n",
    "X10 = sm.add_constant(df[predictors10])\n",
    "\n",
    "# Fit Negative Binomial regression model for Model 10\n",
    "model_NegBin10 = sm.GLM(Y10, X10, family=NegativeBinomial()).fit()\n",
    "\n",
    "# Print the summary of the Negative Binomial model for Model 10\n",
    "print(model_NegBin10.summary())"
   ]
  },
  {
   "cell_type": "code",
   "execution_count": 73,
   "id": "06f8968e",
   "metadata": {},
   "outputs": [
    {
     "name": "stdout",
     "output_type": "stream",
     "text": [
      "Negative Binomial Model 5 AIC: 542.2346445036185, BIC: -337.6366847408001\n",
      "Negative Binomial Model 10 AIC: 543.2394431147745, BIC: -334.0267159436562\n"
     ]
    },
    {
     "name": "stderr",
     "output_type": "stream",
     "text": [
      "c:\\Users\\peta_\\anaconda3\\Lib\\site-packages\\statsmodels\\genmod\\generalized_linear_model.py:1838: FutureWarning: The bic value is computed using the deviance formula. After 0.13 this will change to the log-likelihood based formula. This change has no impact on the relative rank of models compared using BIC. You can directly access the log-likelihood version using the `bic_llf` attribute. You can suppress this message by calling statsmodels.genmod.generalized_linear_model.SET_USE_BIC_LLF with True to get the LLF-based version now or False to retainthe deviance version.\n",
      "  warnings.warn(\n"
     ]
    }
   ],
   "source": [
    "# Print out the AIC and BIC for Model 5 and Model 10\n",
    "print(f\"Negative Binomial Model 5 AIC: {model_NegBin5.aic}, BIC: {model_NegBin5.bic}\")\n",
    "print(f\"Negative Binomial Model 10 AIC: {model_NegBin10.aic}, BIC: {model_NegBin10.bic}\")"
   ]
  },
  {
   "cell_type": "code",
   "execution_count": null,
   "id": "ca7b3fd0",
   "metadata": {},
   "outputs": [],
   "source": []
  }
 ],
 "metadata": {
  "kernelspec": {
   "display_name": "base",
   "language": "python",
   "name": "python3"
  },
  "language_info": {
   "codemirror_mode": {
    "name": "ipython",
    "version": 3
   },
   "file_extension": ".py",
   "mimetype": "text/x-python",
   "name": "python",
   "nbconvert_exporter": "python",
   "pygments_lexer": "ipython3",
   "version": "3.11.7"
  }
 },
 "nbformat": 4,
 "nbformat_minor": 5
}
