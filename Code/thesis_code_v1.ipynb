{
 "cells": [
  {
   "cell_type": "code",
   "execution_count": 1,
   "id": "f116879f1188646f",
   "metadata": {
    "ExecuteTime": {
     "end_time": "2025-06-04T09:04:51.947005Z",
     "start_time": "2025-06-04T09:04:49.765559Z"
    }
   },
   "outputs": [],
   "source": [
    "# Import functions needed for this notebook\n",
    "import pandas as pd\n",
    "import statsmodels.api as sm\n",
    "from statsmodels.genmod.families import NegativeBinomial\n",
    "from statsmodels.discrete.discrete_model import NegativeBinomial as CountNB\n",
    "import matplotlib.pyplot as plt\n",
    "from statsmodels.stats.outliers_influence import variance_inflation_factor"
   ]
  },
  {
   "cell_type": "code",
   "execution_count": 2,
   "id": "40c95f8a12b65bfe",
   "metadata": {
    "ExecuteTime": {
     "end_time": "2025-06-04T09:08:25.769944Z",
     "start_time": "2025-06-04T09:08:25.385085Z"
    }
   },
   "outputs": [
    {
     "data": {
      "application/vnd.microsoft.datawrangler.viewer.v0+json": {
       "columns": [
        {
         "name": "index",
         "rawType": "int64",
         "type": "integer"
        },
        {
         "name": "player_name",
         "rawType": "object",
         "type": "string"
        },
        {
         "name": "highest_ranking",
         "rawType": "int64",
         "type": "integer"
        },
        {
         "name": "country",
         "rawType": "object",
         "type": "string"
        },
        {
         "name": "mother_occupation",
         "rawType": "object",
         "type": "string"
        },
        {
         "name": "father_occupation",
         "rawType": "object",
         "type": "string"
        },
        {
         "name": "sibling_info",
         "rawType": "bool",
         "type": "boolean"
        },
        {
         "name": "sibling_player",
         "rawType": "bool",
         "type": "boolean"
        },
        {
         "name": "titles_won",
         "rawType": "int64",
         "type": "integer"
        },
        {
         "name": "association",
         "rawType": "object",
         "type": "string"
        },
        {
         "name": "year_turned_pro",
         "rawType": "int64",
         "type": "integer"
        },
        {
         "name": "father_occupation_std",
         "rawType": "object",
         "type": "string"
        },
        {
         "name": "mother_occupation_std",
         "rawType": "object",
         "type": "string"
        },
        {
         "name": "father_ISEI",
         "rawType": "int64",
         "type": "integer"
        },
        {
         "name": "mother_ISEI",
         "rawType": "int64",
         "type": "integer"
        },
        {
         "name": "family_ISEI",
         "rawType": "int64",
         "type": "integer"
        }
       ],
       "ref": "0b2e0e2e-8321-481a-b74f-572fba21b2b9",
       "rows": [
        [
         "0",
         "Roger Federer",
         "1",
         "Switzerland",
         "employee at pharmaceutical firm",
         "executive at pharmaceutical firm",
         "True",
         "False",
         "103",
         "ATP",
         "1998",
         "Managing directors and chief executives",
         "Pharmaceutical technicians and assistants",
         "70",
         "40",
         "55"
        ],
        [
         "1",
         "Taylor Fritz",
         "4",
         "USA",
         "professional tennis player",
         "professional tennis player",
         "True",
         "False",
         "8",
         "ATP",
         "2015",
         "Athletes and sports players",
         "Athletes and sports players",
         "46",
         "46",
         "46"
        ],
        [
         "2",
         "Novak Djokovic",
         "1",
         "Serbia",
         "entrepreneur",
         "professional skier",
         "True",
         "True",
         "99",
         "ATP",
         "2003",
         "Athletes and sports players",
         "Managing directors and chief executives",
         "46",
         "70",
         "58"
        ],
        [
         "3",
         "Jessica Pegula",
         "3",
         "USA",
         "CEO",
         "business owner",
         "True",
         "False",
         "8",
         "WTA",
         "2009",
         "Managing directors and chief executives",
         "Managing directors and chief executives",
         "70",
         "70",
         "70"
        ],
        [
         "4",
         "Grigor Dimitrov",
         "3",
         "Bulgaria",
         "volleyball player",
         "tennis coach",
         "False",
         "False",
         "9",
         "ATP",
         "2008",
         "Athletes and sports players",
         "Athletes and sports players",
         "46",
         "46",
         "46"
        ]
       ],
       "shape": {
        "columns": 15,
        "rows": 5
       }
      },
      "text/html": [
       "<div>\n",
       "<style scoped>\n",
       "    .dataframe tbody tr th:only-of-type {\n",
       "        vertical-align: middle;\n",
       "    }\n",
       "\n",
       "    .dataframe tbody tr th {\n",
       "        vertical-align: top;\n",
       "    }\n",
       "\n",
       "    .dataframe thead th {\n",
       "        text-align: right;\n",
       "    }\n",
       "</style>\n",
       "<table border=\"1\" class=\"dataframe\">\n",
       "  <thead>\n",
       "    <tr style=\"text-align: right;\">\n",
       "      <th></th>\n",
       "      <th>player_name</th>\n",
       "      <th>highest_ranking</th>\n",
       "      <th>country</th>\n",
       "      <th>mother_occupation</th>\n",
       "      <th>father_occupation</th>\n",
       "      <th>sibling_info</th>\n",
       "      <th>sibling_player</th>\n",
       "      <th>titles_won</th>\n",
       "      <th>association</th>\n",
       "      <th>year_turned_pro</th>\n",
       "      <th>father_occupation_std</th>\n",
       "      <th>mother_occupation_std</th>\n",
       "      <th>father_ISEI</th>\n",
       "      <th>mother_ISEI</th>\n",
       "      <th>family_ISEI</th>\n",
       "    </tr>\n",
       "  </thead>\n",
       "  <tbody>\n",
       "    <tr>\n",
       "      <th>0</th>\n",
       "      <td>Roger Federer</td>\n",
       "      <td>1</td>\n",
       "      <td>Switzerland</td>\n",
       "      <td>employee at pharmaceutical firm</td>\n",
       "      <td>executive at pharmaceutical firm</td>\n",
       "      <td>True</td>\n",
       "      <td>False</td>\n",
       "      <td>103</td>\n",
       "      <td>ATP</td>\n",
       "      <td>1998</td>\n",
       "      <td>Managing directors and chief executives</td>\n",
       "      <td>Pharmaceutical technicians and assistants</td>\n",
       "      <td>70</td>\n",
       "      <td>40</td>\n",
       "      <td>55</td>\n",
       "    </tr>\n",
       "    <tr>\n",
       "      <th>1</th>\n",
       "      <td>Taylor Fritz</td>\n",
       "      <td>4</td>\n",
       "      <td>USA</td>\n",
       "      <td>professional tennis player</td>\n",
       "      <td>professional tennis player</td>\n",
       "      <td>True</td>\n",
       "      <td>False</td>\n",
       "      <td>8</td>\n",
       "      <td>ATP</td>\n",
       "      <td>2015</td>\n",
       "      <td>Athletes and sports players</td>\n",
       "      <td>Athletes and sports players</td>\n",
       "      <td>46</td>\n",
       "      <td>46</td>\n",
       "      <td>46</td>\n",
       "    </tr>\n",
       "    <tr>\n",
       "      <th>2</th>\n",
       "      <td>Novak Djokovic</td>\n",
       "      <td>1</td>\n",
       "      <td>Serbia</td>\n",
       "      <td>entrepreneur</td>\n",
       "      <td>professional skier</td>\n",
       "      <td>True</td>\n",
       "      <td>True</td>\n",
       "      <td>99</td>\n",
       "      <td>ATP</td>\n",
       "      <td>2003</td>\n",
       "      <td>Athletes and sports players</td>\n",
       "      <td>Managing directors and chief executives</td>\n",
       "      <td>46</td>\n",
       "      <td>70</td>\n",
       "      <td>58</td>\n",
       "    </tr>\n",
       "    <tr>\n",
       "      <th>3</th>\n",
       "      <td>Jessica Pegula</td>\n",
       "      <td>3</td>\n",
       "      <td>USA</td>\n",
       "      <td>CEO</td>\n",
       "      <td>business owner</td>\n",
       "      <td>True</td>\n",
       "      <td>False</td>\n",
       "      <td>8</td>\n",
       "      <td>WTA</td>\n",
       "      <td>2009</td>\n",
       "      <td>Managing directors and chief executives</td>\n",
       "      <td>Managing directors and chief executives</td>\n",
       "      <td>70</td>\n",
       "      <td>70</td>\n",
       "      <td>70</td>\n",
       "    </tr>\n",
       "    <tr>\n",
       "      <th>4</th>\n",
       "      <td>Grigor Dimitrov</td>\n",
       "      <td>3</td>\n",
       "      <td>Bulgaria</td>\n",
       "      <td>volleyball player</td>\n",
       "      <td>tennis coach</td>\n",
       "      <td>False</td>\n",
       "      <td>False</td>\n",
       "      <td>9</td>\n",
       "      <td>ATP</td>\n",
       "      <td>2008</td>\n",
       "      <td>Athletes and sports players</td>\n",
       "      <td>Athletes and sports players</td>\n",
       "      <td>46</td>\n",
       "      <td>46</td>\n",
       "      <td>46</td>\n",
       "    </tr>\n",
       "  </tbody>\n",
       "</table>\n",
       "</div>"
      ],
      "text/plain": [
       "       player_name  highest_ranking      country  \\\n",
       "0    Roger Federer                1  Switzerland   \n",
       "1     Taylor Fritz                4          USA   \n",
       "2   Novak Djokovic                1       Serbia   \n",
       "3   Jessica Pegula                3          USA   \n",
       "4  Grigor Dimitrov                3     Bulgaria   \n",
       "\n",
       "                 mother_occupation                 father_occupation  \\\n",
       "0  employee at pharmaceutical firm  executive at pharmaceutical firm   \n",
       "1       professional tennis player        professional tennis player   \n",
       "2                     entrepreneur                professional skier   \n",
       "3                              CEO                    business owner   \n",
       "4                volleyball player                      tennis coach   \n",
       "\n",
       "   sibling_info  sibling_player  titles_won association  year_turned_pro  \\\n",
       "0          True           False         103         ATP             1998   \n",
       "1          True           False           8         ATP             2015   \n",
       "2          True            True          99         ATP             2003   \n",
       "3          True           False           8         WTA             2009   \n",
       "4         False           False           9         ATP             2008   \n",
       "\n",
       "                     father_occupation_std  \\\n",
       "0  Managing directors and chief executives   \n",
       "1              Athletes and sports players   \n",
       "2              Athletes and sports players   \n",
       "3  Managing directors and chief executives   \n",
       "4              Athletes and sports players   \n",
       "\n",
       "                       mother_occupation_std  father_ISEI  mother_ISEI  \\\n",
       "0  Pharmaceutical technicians and assistants           70           40   \n",
       "1                Athletes and sports players           46           46   \n",
       "2    Managing directors and chief executives           46           70   \n",
       "3    Managing directors and chief executives           70           70   \n",
       "4                Athletes and sports players           46           46   \n",
       "\n",
       "   family_ISEI  \n",
       "0           55  \n",
       "1           46  \n",
       "2           58  \n",
       "3           70  \n",
       "4           46  "
      ]
     },
     "execution_count": 2,
     "metadata": {},
     "output_type": "execute_result"
    }
   ],
   "source": [
    "# Load the dataset\n",
    "df = pd.read_excel(\"thesis_dataset.xlsx\")\n",
    "df.head()"
   ]
  },
  {
   "cell_type": "code",
   "execution_count": 3,
   "id": "5905c4f5cc636185",
   "metadata": {
    "ExecuteTime": {
     "end_time": "2025-06-04T09:08:33.492155Z",
     "start_time": "2025-06-04T09:08:33.478971Z"
    }
   },
   "outputs": [
    {
     "data": {
      "application/vnd.microsoft.datawrangler.viewer.v0+json": {
       "columns": [
        {
         "name": "index",
         "rawType": "int64",
         "type": "integer"
        },
        {
         "name": "player_name",
         "rawType": "object",
         "type": "string"
        },
        {
         "name": "highest_ranking",
         "rawType": "int64",
         "type": "integer"
        },
        {
         "name": "country",
         "rawType": "object",
         "type": "string"
        },
        {
         "name": "mother_occupation",
         "rawType": "object",
         "type": "string"
        },
        {
         "name": "father_occupation",
         "rawType": "object",
         "type": "string"
        },
        {
         "name": "sibling_info",
         "rawType": "int32",
         "type": "integer"
        },
        {
         "name": "sibling_player",
         "rawType": "int32",
         "type": "integer"
        },
        {
         "name": "titles_won",
         "rawType": "int64",
         "type": "integer"
        },
        {
         "name": "association",
         "rawType": "object",
         "type": "string"
        },
        {
         "name": "year_turned_pro",
         "rawType": "int64",
         "type": "integer"
        },
        {
         "name": "father_occupation_std",
         "rawType": "object",
         "type": "string"
        },
        {
         "name": "mother_occupation_std",
         "rawType": "object",
         "type": "string"
        },
        {
         "name": "father_ISEI",
         "rawType": "int64",
         "type": "integer"
        },
        {
         "name": "mother_ISEI",
         "rawType": "int64",
         "type": "integer"
        },
        {
         "name": "family_ISEI",
         "rawType": "int64",
         "type": "integer"
        }
       ],
       "ref": "d8cf3000-8685-434d-b8b2-84017db92ae3",
       "rows": [
        [
         "0",
         "Roger Federer",
         "1",
         "Switzerland",
         "employee at pharmaceutical firm",
         "executive at pharmaceutical firm",
         "1",
         "0",
         "103",
         "ATP",
         "1998",
         "Managing directors and chief executives",
         "Pharmaceutical technicians and assistants",
         "70",
         "40",
         "55"
        ],
        [
         "1",
         "Taylor Fritz",
         "4",
         "USA",
         "professional tennis player",
         "professional tennis player",
         "1",
         "0",
         "8",
         "ATP",
         "2015",
         "Athletes and sports players",
         "Athletes and sports players",
         "46",
         "46",
         "46"
        ],
        [
         "2",
         "Novak Djokovic",
         "1",
         "Serbia",
         "entrepreneur",
         "professional skier",
         "1",
         "1",
         "99",
         "ATP",
         "2003",
         "Athletes and sports players",
         "Managing directors and chief executives",
         "46",
         "70",
         "58"
        ],
        [
         "3",
         "Jessica Pegula",
         "3",
         "USA",
         "CEO",
         "business owner",
         "1",
         "0",
         "8",
         "WTA",
         "2009",
         "Managing directors and chief executives",
         "Managing directors and chief executives",
         "70",
         "70",
         "70"
        ],
        [
         "4",
         "Grigor Dimitrov",
         "3",
         "Bulgaria",
         "volleyball player",
         "tennis coach",
         "0",
         "0",
         "9",
         "ATP",
         "2008",
         "Athletes and sports players",
         "Athletes and sports players",
         "46",
         "46",
         "46"
        ]
       ],
       "shape": {
        "columns": 15,
        "rows": 5
       }
      },
      "text/html": [
       "<div>\n",
       "<style scoped>\n",
       "    .dataframe tbody tr th:only-of-type {\n",
       "        vertical-align: middle;\n",
       "    }\n",
       "\n",
       "    .dataframe tbody tr th {\n",
       "        vertical-align: top;\n",
       "    }\n",
       "\n",
       "    .dataframe thead th {\n",
       "        text-align: right;\n",
       "    }\n",
       "</style>\n",
       "<table border=\"1\" class=\"dataframe\">\n",
       "  <thead>\n",
       "    <tr style=\"text-align: right;\">\n",
       "      <th></th>\n",
       "      <th>player_name</th>\n",
       "      <th>highest_ranking</th>\n",
       "      <th>country</th>\n",
       "      <th>mother_occupation</th>\n",
       "      <th>father_occupation</th>\n",
       "      <th>sibling_info</th>\n",
       "      <th>sibling_player</th>\n",
       "      <th>titles_won</th>\n",
       "      <th>association</th>\n",
       "      <th>year_turned_pro</th>\n",
       "      <th>father_occupation_std</th>\n",
       "      <th>mother_occupation_std</th>\n",
       "      <th>father_ISEI</th>\n",
       "      <th>mother_ISEI</th>\n",
       "      <th>family_ISEI</th>\n",
       "    </tr>\n",
       "  </thead>\n",
       "  <tbody>\n",
       "    <tr>\n",
       "      <th>0</th>\n",
       "      <td>Roger Federer</td>\n",
       "      <td>1</td>\n",
       "      <td>Switzerland</td>\n",
       "      <td>employee at pharmaceutical firm</td>\n",
       "      <td>executive at pharmaceutical firm</td>\n",
       "      <td>1</td>\n",
       "      <td>0</td>\n",
       "      <td>103</td>\n",
       "      <td>ATP</td>\n",
       "      <td>1998</td>\n",
       "      <td>Managing directors and chief executives</td>\n",
       "      <td>Pharmaceutical technicians and assistants</td>\n",
       "      <td>70</td>\n",
       "      <td>40</td>\n",
       "      <td>55</td>\n",
       "    </tr>\n",
       "    <tr>\n",
       "      <th>1</th>\n",
       "      <td>Taylor Fritz</td>\n",
       "      <td>4</td>\n",
       "      <td>USA</td>\n",
       "      <td>professional tennis player</td>\n",
       "      <td>professional tennis player</td>\n",
       "      <td>1</td>\n",
       "      <td>0</td>\n",
       "      <td>8</td>\n",
       "      <td>ATP</td>\n",
       "      <td>2015</td>\n",
       "      <td>Athletes and sports players</td>\n",
       "      <td>Athletes and sports players</td>\n",
       "      <td>46</td>\n",
       "      <td>46</td>\n",
       "      <td>46</td>\n",
       "    </tr>\n",
       "    <tr>\n",
       "      <th>2</th>\n",
       "      <td>Novak Djokovic</td>\n",
       "      <td>1</td>\n",
       "      <td>Serbia</td>\n",
       "      <td>entrepreneur</td>\n",
       "      <td>professional skier</td>\n",
       "      <td>1</td>\n",
       "      <td>1</td>\n",
       "      <td>99</td>\n",
       "      <td>ATP</td>\n",
       "      <td>2003</td>\n",
       "      <td>Athletes and sports players</td>\n",
       "      <td>Managing directors and chief executives</td>\n",
       "      <td>46</td>\n",
       "      <td>70</td>\n",
       "      <td>58</td>\n",
       "    </tr>\n",
       "    <tr>\n",
       "      <th>3</th>\n",
       "      <td>Jessica Pegula</td>\n",
       "      <td>3</td>\n",
       "      <td>USA</td>\n",
       "      <td>CEO</td>\n",
       "      <td>business owner</td>\n",
       "      <td>1</td>\n",
       "      <td>0</td>\n",
       "      <td>8</td>\n",
       "      <td>WTA</td>\n",
       "      <td>2009</td>\n",
       "      <td>Managing directors and chief executives</td>\n",
       "      <td>Managing directors and chief executives</td>\n",
       "      <td>70</td>\n",
       "      <td>70</td>\n",
       "      <td>70</td>\n",
       "    </tr>\n",
       "    <tr>\n",
       "      <th>4</th>\n",
       "      <td>Grigor Dimitrov</td>\n",
       "      <td>3</td>\n",
       "      <td>Bulgaria</td>\n",
       "      <td>volleyball player</td>\n",
       "      <td>tennis coach</td>\n",
       "      <td>0</td>\n",
       "      <td>0</td>\n",
       "      <td>9</td>\n",
       "      <td>ATP</td>\n",
       "      <td>2008</td>\n",
       "      <td>Athletes and sports players</td>\n",
       "      <td>Athletes and sports players</td>\n",
       "      <td>46</td>\n",
       "      <td>46</td>\n",
       "      <td>46</td>\n",
       "    </tr>\n",
       "  </tbody>\n",
       "</table>\n",
       "</div>"
      ],
      "text/plain": [
       "       player_name  highest_ranking      country  \\\n",
       "0    Roger Federer                1  Switzerland   \n",
       "1     Taylor Fritz                4          USA   \n",
       "2   Novak Djokovic                1       Serbia   \n",
       "3   Jessica Pegula                3          USA   \n",
       "4  Grigor Dimitrov                3     Bulgaria   \n",
       "\n",
       "                 mother_occupation                 father_occupation  \\\n",
       "0  employee at pharmaceutical firm  executive at pharmaceutical firm   \n",
       "1       professional tennis player        professional tennis player   \n",
       "2                     entrepreneur                professional skier   \n",
       "3                              CEO                    business owner   \n",
       "4                volleyball player                      tennis coach   \n",
       "\n",
       "   sibling_info  sibling_player  titles_won association  year_turned_pro  \\\n",
       "0             1               0         103         ATP             1998   \n",
       "1             1               0           8         ATP             2015   \n",
       "2             1               1          99         ATP             2003   \n",
       "3             1               0           8         WTA             2009   \n",
       "4             0               0           9         ATP             2008   \n",
       "\n",
       "                     father_occupation_std  \\\n",
       "0  Managing directors and chief executives   \n",
       "1              Athletes and sports players   \n",
       "2              Athletes and sports players   \n",
       "3  Managing directors and chief executives   \n",
       "4              Athletes and sports players   \n",
       "\n",
       "                       mother_occupation_std  father_ISEI  mother_ISEI  \\\n",
       "0  Pharmaceutical technicians and assistants           70           40   \n",
       "1                Athletes and sports players           46           46   \n",
       "2    Managing directors and chief executives           46           70   \n",
       "3    Managing directors and chief executives           70           70   \n",
       "4                Athletes and sports players           46           46   \n",
       "\n",
       "   family_ISEI  \n",
       "0           55  \n",
       "1           46  \n",
       "2           58  \n",
       "3           70  \n",
       "4           46  "
      ]
     },
     "execution_count": 3,
     "metadata": {},
     "output_type": "execute_result"
    }
   ],
   "source": [
    "# Convert boolean columns to integers\n",
    "df['sibling_info'] = df['sibling_info'].astype(int)\n",
    "df['sibling_player'] = df['sibling_player'].astype(int)\n",
    "\n",
    "df.head()"
   ]
  },
  {
   "cell_type": "code",
   "execution_count": 4,
   "id": "bbbe93fc142a6b26",
   "metadata": {
    "ExecuteTime": {
     "end_time": "2025-06-04T09:08:44.058772Z",
     "start_time": "2025-06-04T09:08:44.053286Z"
    }
   },
   "outputs": [],
   "source": [
    "# Create the association dummy (ATP baseline, keep WTA)\n",
    "df['association_WTA'] = (df['association'] == 'WTA').astype(int)"
   ]
  },
  {
   "cell_type": "code",
   "execution_count": 5,
   "id": "d09a5822def69b59",
   "metadata": {
    "ExecuteTime": {
     "end_time": "2025-06-04T08:58:02.007274Z",
     "start_time": "2025-06-04T08:58:01.999275Z"
    }
   },
   "outputs": [
    {
     "name": "stdout",
     "output_type": "stream",
     "text": [
      "Total distinct countries: 29\n"
     ]
    }
   ],
   "source": [
    "# Get the total number of distinct countries from the `country` column\n",
    "distinct_countries = df['country'].nunique()\n",
    "print(f\"Total distinct countries: {distinct_countries}\")"
   ]
  },
  {
   "cell_type": "code",
   "execution_count": 6,
   "id": "3abe3a3aa8cfc078",
   "metadata": {
    "ExecuteTime": {
     "end_time": "2025-06-04T08:58:06.544121Z",
     "start_time": "2025-06-04T08:58:06.537979Z"
    }
   },
   "outputs": [
    {
     "name": "stdout",
     "output_type": "stream",
     "text": [
      "Top 5 countries by number of players:  ['USA', 'Russia', 'Australia', 'France', 'Spain']\n"
     ]
    }
   ],
   "source": [
    "# Get the top 5 countries by the number of players\n",
    "top_countries = df['country'].value_counts().head(5).index.tolist()\n",
    "print(\"Top 5 countries by number of players: \", top_countries)"
   ]
  },
  {
   "cell_type": "code",
   "execution_count": 7,
   "id": "910df913e708bd33",
   "metadata": {},
   "outputs": [],
   "source": [
    "# Dynamically create top-5 country dummies\n",
    "for c in top_countries:\n",
    "    df[f'country_{c.replace(\" \",\"_\")}'] = (df['country']==c).astype(int)"
   ]
  },
  {
   "cell_type": "markdown",
   "id": "314820522c36496a",
   "metadata": {},
   "source": [
    "### Model 1: Titles ~ Family ISEI, Sibling Info, Sibling Player, Association Dummies, Country Dummies"
   ]
  },
  {
   "cell_type": "code",
   "execution_count": 8,
   "id": "99623707d4f5bd44",
   "metadata": {
    "ExecuteTime": {
     "end_time": "2025-06-03T09:33:18.369225Z",
     "start_time": "2025-06-03T09:33:18.365098Z"
    }
   },
   "outputs": [],
   "source": [
    "# Prepare predictors for regression\n",
    "predictors = ['family_ISEI','sibling_info','sibling_player',\n",
    "              'association_WTA'] + [f'country_{c.replace(\" \",\"_\")}' for c in top_countries]"
   ]
  },
  {
   "cell_type": "code",
   "execution_count": 9,
   "id": "560fcbf9b8cb2ea5",
   "metadata": {
    "ExecuteTime": {
     "end_time": "2025-06-03T09:33:18.476105Z",
     "start_time": "2025-06-03T09:33:18.461217Z"
    }
   },
   "outputs": [
    {
     "data": {
      "application/vnd.microsoft.datawrangler.viewer.v0+json": {
       "columns": [
        {
         "name": "index",
         "rawType": "int64",
         "type": "integer"
        },
        {
         "name": "const",
         "rawType": "float64",
         "type": "float"
        },
        {
         "name": "family_ISEI",
         "rawType": "int64",
         "type": "integer"
        },
        {
         "name": "sibling_info",
         "rawType": "int32",
         "type": "integer"
        },
        {
         "name": "sibling_player",
         "rawType": "int32",
         "type": "integer"
        },
        {
         "name": "association_WTA",
         "rawType": "int32",
         "type": "integer"
        },
        {
         "name": "country_USA",
         "rawType": "int32",
         "type": "integer"
        },
        {
         "name": "country_Russia",
         "rawType": "int32",
         "type": "integer"
        },
        {
         "name": "country_Australia",
         "rawType": "int32",
         "type": "integer"
        },
        {
         "name": "country_France",
         "rawType": "int32",
         "type": "integer"
        },
        {
         "name": "country_Spain",
         "rawType": "int32",
         "type": "integer"
        }
       ],
       "ref": "165e9567-1ac1-4a60-abf9-14b12906d92d",
       "rows": [
        [
         "0",
         "1.0",
         "55",
         "1",
         "0",
         "0",
         "0",
         "0",
         "0",
         "0",
         "0"
        ],
        [
         "1",
         "1.0",
         "46",
         "1",
         "0",
         "0",
         "1",
         "0",
         "0",
         "0",
         "0"
        ],
        [
         "2",
         "1.0",
         "58",
         "1",
         "1",
         "0",
         "0",
         "0",
         "0",
         "0",
         "0"
        ],
        [
         "3",
         "1.0",
         "70",
         "1",
         "0",
         "1",
         "1",
         "0",
         "0",
         "0",
         "0"
        ],
        [
         "4",
         "1.0",
         "46",
         "0",
         "0",
         "0",
         "0",
         "0",
         "0",
         "0",
         "0"
        ]
       ],
       "shape": {
        "columns": 10,
        "rows": 5
       }
      },
      "text/html": [
       "<div>\n",
       "<style scoped>\n",
       "    .dataframe tbody tr th:only-of-type {\n",
       "        vertical-align: middle;\n",
       "    }\n",
       "\n",
       "    .dataframe tbody tr th {\n",
       "        vertical-align: top;\n",
       "    }\n",
       "\n",
       "    .dataframe thead th {\n",
       "        text-align: right;\n",
       "    }\n",
       "</style>\n",
       "<table border=\"1\" class=\"dataframe\">\n",
       "  <thead>\n",
       "    <tr style=\"text-align: right;\">\n",
       "      <th></th>\n",
       "      <th>const</th>\n",
       "      <th>family_ISEI</th>\n",
       "      <th>sibling_info</th>\n",
       "      <th>sibling_player</th>\n",
       "      <th>association_WTA</th>\n",
       "      <th>country_USA</th>\n",
       "      <th>country_Russia</th>\n",
       "      <th>country_Australia</th>\n",
       "      <th>country_France</th>\n",
       "      <th>country_Spain</th>\n",
       "    </tr>\n",
       "  </thead>\n",
       "  <tbody>\n",
       "    <tr>\n",
       "      <th>0</th>\n",
       "      <td>1.0</td>\n",
       "      <td>55</td>\n",
       "      <td>1</td>\n",
       "      <td>0</td>\n",
       "      <td>0</td>\n",
       "      <td>0</td>\n",
       "      <td>0</td>\n",
       "      <td>0</td>\n",
       "      <td>0</td>\n",
       "      <td>0</td>\n",
       "    </tr>\n",
       "    <tr>\n",
       "      <th>1</th>\n",
       "      <td>1.0</td>\n",
       "      <td>46</td>\n",
       "      <td>1</td>\n",
       "      <td>0</td>\n",
       "      <td>0</td>\n",
       "      <td>1</td>\n",
       "      <td>0</td>\n",
       "      <td>0</td>\n",
       "      <td>0</td>\n",
       "      <td>0</td>\n",
       "    </tr>\n",
       "    <tr>\n",
       "      <th>2</th>\n",
       "      <td>1.0</td>\n",
       "      <td>58</td>\n",
       "      <td>1</td>\n",
       "      <td>1</td>\n",
       "      <td>0</td>\n",
       "      <td>0</td>\n",
       "      <td>0</td>\n",
       "      <td>0</td>\n",
       "      <td>0</td>\n",
       "      <td>0</td>\n",
       "    </tr>\n",
       "    <tr>\n",
       "      <th>3</th>\n",
       "      <td>1.0</td>\n",
       "      <td>70</td>\n",
       "      <td>1</td>\n",
       "      <td>0</td>\n",
       "      <td>1</td>\n",
       "      <td>1</td>\n",
       "      <td>0</td>\n",
       "      <td>0</td>\n",
       "      <td>0</td>\n",
       "      <td>0</td>\n",
       "    </tr>\n",
       "    <tr>\n",
       "      <th>4</th>\n",
       "      <td>1.0</td>\n",
       "      <td>46</td>\n",
       "      <td>0</td>\n",
       "      <td>0</td>\n",
       "      <td>0</td>\n",
       "      <td>0</td>\n",
       "      <td>0</td>\n",
       "      <td>0</td>\n",
       "      <td>0</td>\n",
       "      <td>0</td>\n",
       "    </tr>\n",
       "  </tbody>\n",
       "</table>\n",
       "</div>"
      ],
      "text/plain": [
       "   const  family_ISEI  sibling_info  sibling_player  association_WTA  \\\n",
       "0    1.0           55             1               0                0   \n",
       "1    1.0           46             1               0                0   \n",
       "2    1.0           58             1               1                0   \n",
       "3    1.0           70             1               0                1   \n",
       "4    1.0           46             0               0                0   \n",
       "\n",
       "   country_USA  country_Russia  country_Australia  country_France  \\\n",
       "0            0               0                  0               0   \n",
       "1            1               0                  0               0   \n",
       "2            0               0                  0               0   \n",
       "3            1               0                  0               0   \n",
       "4            0               0                  0               0   \n",
       "\n",
       "   country_Spain  \n",
       "0              0  \n",
       "1              0  \n",
       "2              0  \n",
       "3              0  \n",
       "4              0  "
      ]
     },
     "execution_count": 9,
     "metadata": {},
     "output_type": "execute_result"
    }
   ],
   "source": [
    "# Prepare regression matrices\n",
    "X = sm.add_constant(df[predictors])\n",
    "Y = df['titles_won']\n",
    "\n",
    "X.head()"
   ]
  },
  {
   "cell_type": "code",
   "execution_count": 10,
   "id": "3ee6042fbdf7fee5",
   "metadata": {
    "ExecuteTime": {
     "end_time": "2025-06-03T09:33:18.705450Z",
     "start_time": "2025-06-03T09:33:18.688170Z"
    }
   },
   "outputs": [],
   "source": [
    "# Fit the OLS model\n",
    "model_OLS = sm.OLS(Y, X).fit()"
   ]
  },
  {
   "cell_type": "code",
   "execution_count": 11,
   "id": "87817d4d5bf435da",
   "metadata": {
    "ExecuteTime": {
     "end_time": "2025-06-03T09:33:19.002282Z",
     "start_time": "2025-06-03T09:33:18.983260Z"
    }
   },
   "outputs": [
    {
     "name": "stdout",
     "output_type": "stream",
     "text": [
      "                            OLS Regression Results                            \n",
      "==============================================================================\n",
      "Dep. Variable:             titles_won   R-squared:                       0.125\n",
      "Model:                            OLS   Adj. R-squared:                  0.037\n",
      "Method:                 Least Squares   F-statistic:                     1.425\n",
      "Date:                Thu, 05 Jun 2025   Prob (F-statistic):              0.189\n",
      "Time:                        12:16:45   Log-Likelihood:                -494.09\n",
      "No. Observations:                 100   AIC:                             1008.\n",
      "Df Residuals:                      90   BIC:                             1034.\n",
      "Df Model:                           9                                         \n",
      "Covariance Type:            nonrobust                                         \n",
      "=====================================================================================\n",
      "                        coef    std err          t      P>|t|      [0.025      0.975]\n",
      "-------------------------------------------------------------------------------------\n",
      "const                72.8744     20.313      3.588      0.001      32.519     113.230\n",
      "family_ISEI          -0.5208      0.338     -1.539      0.127      -1.193       0.151\n",
      "sibling_info        -25.8009     13.121     -1.966      0.052     -51.869       0.267\n",
      "sibling_player       -2.0467      8.010     -0.256      0.799     -17.959      13.866\n",
      "association_WTA       5.9207      7.333      0.807      0.422      -8.648      20.489\n",
      "country_USA          14.7863      8.798      1.681      0.096      -2.692      32.265\n",
      "country_Russia       -5.0126     15.533     -0.323      0.748     -35.871      25.846\n",
      "country_Australia    19.7494     15.708      1.257      0.212     -11.457      50.956\n",
      "country_France      -11.4862     17.258     -0.666      0.507     -45.772      22.800\n",
      "country_Spain         8.5902     16.942      0.507      0.613     -25.068      42.249\n",
      "==============================================================================\n",
      "Omnibus:                       48.354   Durbin-Watson:                   1.239\n",
      "Prob(Omnibus):                  0.000   Jarque-Bera (JB):              121.411\n",
      "Skew:                           1.835   Prob(JB):                     4.32e-27\n",
      "Kurtosis:                       6.959   Cond. No.                         318.\n",
      "==============================================================================\n",
      "\n",
      "Notes:\n",
      "[1] Standard Errors assume that the covariance matrix of the errors is correctly specified.\n"
     ]
    }
   ],
   "source": [
    "# Print the summary of the model\n",
    "print(model_OLS.summary())"
   ]
  },
  {
   "cell_type": "code",
   "execution_count": 12,
   "id": "e2e05528dbe95358",
   "metadata": {
    "ExecuteTime": {
     "end_time": "2025-06-03T09:33:19.318995Z",
     "start_time": "2025-06-03T09:33:19.301050Z"
    }
   },
   "outputs": [
    {
     "name": "stdout",
     "output_type": "stream",
     "text": [
      "                            OLS Regression Results                            \n",
      "==============================================================================\n",
      "Dep. Variable:             titles_won   R-squared:                       0.125\n",
      "Model:                            OLS   Adj. R-squared:                  0.037\n",
      "Method:                 Least Squares   F-statistic:                     1.729\n",
      "Date:                Thu, 05 Jun 2025   Prob (F-statistic):             0.0939\n",
      "Time:                        12:16:45   Log-Likelihood:                -494.09\n",
      "No. Observations:                 100   AIC:                             1008.\n",
      "Df Residuals:                      90   BIC:                             1034.\n",
      "Df Model:                           9                                         \n",
      "Covariance Type:                  HC3                                         \n",
      "=====================================================================================\n",
      "                        coef    std err          z      P>|z|      [0.025      0.975]\n",
      "-------------------------------------------------------------------------------------\n",
      "const                72.8744     21.083      3.457      0.001      31.552     114.197\n",
      "family_ISEI          -0.5208      0.342     -1.521      0.128      -1.192       0.150\n",
      "sibling_info        -25.8009     17.699     -1.458      0.145     -60.491       8.889\n",
      "sibling_player       -2.0467      7.896     -0.259      0.795     -17.523      13.430\n",
      "association_WTA       5.9207      8.579      0.690      0.490     -10.895      22.736\n",
      "country_USA          14.7863      9.253      1.598      0.110      -3.350      32.923\n",
      "country_Russia       -5.0126      6.852     -0.732      0.464     -18.443       8.417\n",
      "country_Australia    19.7494     32.264      0.612      0.540     -43.487      82.985\n",
      "country_France      -11.4862      7.173     -1.601      0.109     -25.544       2.572\n",
      "country_Spain         8.5902     21.353      0.402      0.687     -33.260      50.441\n",
      "==============================================================================\n",
      "Omnibus:                       48.354   Durbin-Watson:                   1.239\n",
      "Prob(Omnibus):                  0.000   Jarque-Bera (JB):              121.411\n",
      "Skew:                           1.835   Prob(JB):                     4.32e-27\n",
      "Kurtosis:                       6.959   Cond. No.                         318.\n",
      "==============================================================================\n",
      "\n",
      "Notes:\n",
      "[1] Standard Errors are heteroscedasticity robust (HC3)\n"
     ]
    }
   ],
   "source": [
    "# Fit the model with robust standard errors\n",
    "model_OLS_robust = sm.OLS(Y, X).fit(cov_type='HC3')\n",
    "\n",
    "# Print the summary of the robust model\n",
    "print(model_OLS_robust.summary())"
   ]
  },
  {
   "cell_type": "code",
   "execution_count": 13,
   "id": "c3e246f54a7a2518",
   "metadata": {
    "ExecuteTime": {
     "end_time": "2025-06-03T09:33:19.478845Z",
     "start_time": "2025-06-03T09:33:19.463847Z"
    }
   },
   "outputs": [
    {
     "name": "stdout",
     "output_type": "stream",
     "text": [
      "                 Generalized Linear Model Regression Results                  \n",
      "==============================================================================\n",
      "Dep. Variable:             titles_won   No. Observations:                  100\n",
      "Model:                            GLM   Df Residuals:                       90\n",
      "Model Family:                 Poisson   Df Model:                            9\n",
      "Link Function:                    Log   Scale:                          1.0000\n",
      "Method:                          IRLS   Log-Likelihood:                -1614.9\n",
      "Date:                Thu, 05 Jun 2025   Deviance:                       2777.9\n",
      "Time:                        12:16:45   Pearson chi2:                 3.28e+03\n",
      "No. Iterations:                     5   Pseudo R-squ. (CS):             0.9967\n",
      "Covariance Type:            nonrobust                                         \n",
      "=====================================================================================\n",
      "                        coef    std err          z      P>|z|      [0.025      0.975]\n",
      "-------------------------------------------------------------------------------------\n",
      "const                 4.7642      0.103     46.195      0.000       4.562       4.966\n",
      "family_ISEI          -0.0199      0.002    -10.557      0.000      -0.024      -0.016\n",
      "sibling_info         -0.7519      0.058    -12.959      0.000      -0.866      -0.638\n",
      "sibling_player       -0.0755      0.044     -1.718      0.086      -0.162       0.011\n",
      "association_WTA       0.2187      0.038      5.762      0.000       0.144       0.293\n",
      "country_USA           0.5296      0.045     11.745      0.000       0.441       0.618\n",
      "country_Russia       -0.2638      0.098     -2.681      0.007      -0.457      -0.071\n",
      "country_Australia     0.6531      0.071      9.135      0.000       0.513       0.793\n",
      "country_France       -0.7536      0.148     -5.084      0.000      -1.044      -0.463\n",
      "country_Spain         0.3426      0.087      3.917      0.000       0.171       0.514\n",
      "=====================================================================================\n"
     ]
    }
   ],
   "source": [
    "# Poisson regression model\n",
    "model_Poisson = sm.GLM(Y, X, family=sm.families.Poisson()).fit()\n",
    "\n",
    "# Print the summary of the Poisson model\n",
    "print(model_Poisson.summary())"
   ]
  },
  {
   "cell_type": "code",
   "execution_count": 14,
   "id": "7e068c773a34e0c4",
   "metadata": {
    "ExecuteTime": {
     "end_time": "2025-06-03T09:33:19.641216Z",
     "start_time": "2025-06-03T09:33:19.620833Z"
    }
   },
   "outputs": [
    {
     "name": "stdout",
     "output_type": "stream",
     "text": [
      "                 Generalized Linear Model Regression Results                  \n",
      "==============================================================================\n",
      "Dep. Variable:             titles_won   No. Observations:                  100\n",
      "Model:                            GLM   Df Residuals:                       90\n",
      "Model Family:        NegativeBinomial   Df Model:                            9\n",
      "Link Function:                    Log   Scale:                          1.0000\n",
      "Method:                          IRLS   Log-Likelihood:                -428.77\n",
      "Date:                Thu, 05 Jun 2025   Deviance:                       112.81\n",
      "Time:                        12:16:45   Pearson chi2:                     110.\n",
      "No. Iterations:                    14   Pseudo R-squ. (CS):             0.1558\n",
      "Covariance Type:            nonrobust                                         \n",
      "=====================================================================================\n",
      "                        coef    std err          z      P>|z|      [0.025      0.975]\n",
      "-------------------------------------------------------------------------------------\n",
      "const                 4.4854      0.579      7.742      0.000       3.350       5.621\n",
      "family_ISEI          -0.0136      0.010     -1.405      0.160      -0.033       0.005\n",
      "sibling_info         -0.7082      0.372     -1.901      0.057      -1.438       0.022\n",
      "sibling_player       -0.0610      0.229     -0.266      0.790      -0.510       0.388\n",
      "association_WTA       0.1277      0.210      0.610      0.542      -0.283       0.538\n",
      "country_USA           0.4400      0.251      1.754      0.079      -0.052       0.932\n",
      "country_Russia       -0.2775      0.447     -0.620      0.535      -1.154       0.599\n",
      "country_Australia     0.4677      0.447      1.047      0.295      -0.408       1.343\n",
      "country_France       -0.8053      0.506     -1.592      0.111      -1.797       0.186\n",
      "country_Spain         0.3565      0.483      0.739      0.460      -0.589       1.302\n",
      "=====================================================================================\n"
     ]
    },
    {
     "name": "stderr",
     "output_type": "stream",
     "text": [
      "c:\\Users\\peta_\\anaconda3\\Lib\\site-packages\\statsmodels\\genmod\\families\\family.py:1367: ValueWarning: Negative binomial dispersion parameter alpha not set. Using default value alpha=1.0.\n",
      "  warnings.warn(\"Negative binomial dispersion parameter alpha not \"\n"
     ]
    }
   ],
   "source": [
    "# Fit Negative Binomial regression model\n",
    "model_NegBin = sm.GLM(Y, X, family=NegativeBinomial()).fit()\n",
    "\n",
    "# Print the summary of the Negative Binomial model\n",
    "print(model_NegBin.summary())"
   ]
  },
  {
   "cell_type": "code",
   "execution_count": 15,
   "id": "11cb2ab9df05bf02",
   "metadata": {
    "ExecuteTime": {
     "end_time": "2025-06-03T09:33:19.824398Z",
     "start_time": "2025-06-03T09:33:19.820294Z"
    }
   },
   "outputs": [
    {
     "name": "stdout",
     "output_type": "stream",
     "text": [
      "Empirical Dispersion: 1.25\n"
     ]
    }
   ],
   "source": [
    "# Check empirical dispersion from Negative Binomial model\n",
    "dispersion = model_NegBin.deviance / model_NegBin.df_resid\n",
    "print(f\"Empirical Dispersion: {dispersion:.2f}\")"
   ]
  },
  {
   "cell_type": "code",
   "execution_count": 16,
   "id": "9f198cfe6344bec",
   "metadata": {
    "ExecuteTime": {
     "end_time": "2025-06-03T09:33:19.987134Z",
     "start_time": "2025-06-03T09:33:19.963867Z"
    }
   },
   "outputs": [
    {
     "name": "stdout",
     "output_type": "stream",
     "text": [
      "Converged: True\n",
      "Alpha estimate: 1.0054862332085932\n"
     ]
    }
   ],
   "source": [
    "# Calculate the \"true\" dispersion parameter\n",
    "nb2 = CountNB(Y, X).fit(disp=False, maxiter=100, method='newton')\n",
    "\n",
    "print(\"Converged:\", nb2.mle_retvals['converged'])\n",
    "print(\"Alpha estimate:\", nb2.params['alpha'])"
   ]
  },
  {
   "cell_type": "code",
   "execution_count": 17,
   "id": "282b124acf7b3952",
   "metadata": {
    "ExecuteTime": {
     "end_time": "2025-06-03T09:33:20.296853Z",
     "start_time": "2025-06-03T09:33:20.085543Z"
    }
   },
   "outputs": [
    {
     "data": {
      "image/png": "[encoded data removed]",
      "text/plain": [
       "<Figure size 1000x600 with 1 Axes>"
      ]
     },
     "metadata": {},
     "output_type": "display_data"
    }
   ],
   "source": [
    "# Extract deviance residuals and fitted values\n",
    "deviance_residuals = model_NegBin.resid_deviance\n",
    "fitted_values = model_NegBin.fittedvalues\n",
    "\n",
    "# Plot residuals vs fitted values\n",
    "plt.figure(figsize=(10, 6))\n",
    "plt.scatter(fitted_values, deviance_residuals, alpha=0.5)\n",
    "plt.axhline(0, color='red', linestyle='--')\n",
    "plt.title('Deviance Residuals vs Fitted Values (Negative Binomial)')\n",
    "plt.xlabel('Fitted Values')\n",
    "plt.ylabel('Deviance Residuals')\n",
    "plt.show()"
   ]
  },
  {
   "cell_type": "code",
   "execution_count": 18,
   "id": "95b4bd31415d0f54",
   "metadata": {
    "ExecuteTime": {
     "end_time": "2025-06-03T09:33:20.450732Z",
     "start_time": "2025-06-03T09:33:20.321310Z"
    }
   },
   "outputs": [
    {
     "data": {
      "image/png": "[encoded data removed]",
      "text/plain": [
       "<Figure size 640x480 with 1 Axes>"
      ]
     },
     "metadata": {},
     "output_type": "display_data"
    }
   ],
   "source": [
    "# QQ plot for deviance residuals\n",
    "sm.qqplot(deviance_residuals, line='s')\n",
    "plt.title('QQ Plot of Deviance Residuals (Negative Binomial)')\n",
    "plt.show()"
   ]
  },
  {
   "cell_type": "code",
   "execution_count": 19,
   "id": "7a9e9ef6d2eade9d",
   "metadata": {
    "ExecuteTime": {
     "end_time": "2025-06-03T09:33:20.496454Z",
     "start_time": "2025-06-03T09:33:20.490191Z"
    }
   },
   "outputs": [
    {
     "name": "stdout",
     "output_type": "stream",
     "text": [
      "Poisson Model AIC: 3249.721635290056, BIC: 2363.429379584249\n",
      "Negative Binomial Model AIC: 877.5466538107418, BIC: -301.65609922639396\n"
     ]
    },
    {
     "name": "stderr",
     "output_type": "stream",
     "text": [
      "c:\\Users\\peta_\\anaconda3\\Lib\\site-packages\\statsmodels\\genmod\\generalized_linear_model.py:1838: FutureWarning: The bic value is computed using the deviance formula. After 0.13 this will change to the log-likelihood based formula. This change has no impact on the relative rank of models compared using BIC. You can directly access the log-likelihood version using the `bic_llf` attribute. You can suppress this message by calling statsmodels.genmod.generalized_linear_model.SET_USE_BIC_LLF with True to get the LLF-based version now or False to retainthe deviance version.\n",
      "  warnings.warn(\n"
     ]
    }
   ],
   "source": [
    "# Print out the AIC and BIC for the Poisson and NB models\n",
    "print(f\"Poisson Model AIC: {model_Poisson.aic}, BIC: {model_Poisson.bic}\")\n",
    "print(f\"Negative Binomial Model AIC: {model_NegBin.aic}, BIC: {model_NegBin.bic}\")"
   ]
  },
  {
   "cell_type": "code",
   "execution_count": 20,
   "id": "80b87f82b4643534",
   "metadata": {
    "ExecuteTime": {
     "end_time": "2025-06-03T09:33:20.760045Z",
     "start_time": "2025-06-03T09:33:20.746723Z"
    }
   },
   "outputs": [
    {
     "name": "stdout",
     "output_type": "stream",
     "text": [
      "            Variable        VIF\n",
      "0        family_ISEI   9.035844\n",
      "1       sibling_info  10.660270\n",
      "2     sibling_player   2.532385\n",
      "3    association_WTA   1.812528\n",
      "4        country_USA   1.579292\n",
      "5     country_Russia   1.135432\n",
      "6  country_Australia   1.153745\n",
      "7     country_France   1.162861\n",
      "8      country_Spain   1.127078\n"
     ]
    }
   ],
   "source": [
    "# Build the matrix for VIF (no constant needed):\n",
    "X_vif = df[predictors]\n",
    "\n",
    "# Compute VIFs:\n",
    "vif_data = pd.DataFrame({\n",
    "    'Variable': X_vif.columns,\n",
    "    'VIF': [variance_inflation_factor(X_vif.values, i)\n",
    "            for i in range(X_vif.shape[1])]\n",
    "})\n",
    "\n",
    "print(vif_data)"
   ]
  },
  {
   "cell_type": "markdown",
   "id": "bd9083fbc5fbcb59",
   "metadata": {},
   "source": [
    "### Model 2: Titles ~ Family ISEI, Sibling Info, Association Dummies, Country Dummies"
   ]
  },
  {
   "cell_type": "code",
   "execution_count": 21,
   "id": "2795abceff67a1d4",
   "metadata": {
    "ExecuteTime": {
     "end_time": "2025-06-03T09:33:20.869158Z",
     "start_time": "2025-06-03T09:33:20.856091Z"
    }
   },
   "outputs": [
    {
     "name": "stdout",
     "output_type": "stream",
     "text": [
      "VIF after dropping sibling_player:\n",
      "             Variable       VIF\n",
      "0        family_ISEI  9.019623\n",
      "1       sibling_info  8.710310\n",
      "2    association_WTA  1.797047\n",
      "3        country_USA  1.563024\n",
      "4     country_Russia  1.130389\n",
      "5  country_Australia  1.135650\n",
      "6     country_France  1.125239\n",
      "7      country_Spain  1.112190\n"
     ]
    }
   ],
   "source": [
    "# Define predictors for Model 2\n",
    "predictors2 = ['family_ISEI', 'sibling_info', 'association_WTA'] + [f'country_{c.replace(\" \", \"_\")}' for c in top_countries]\n",
    "\n",
    "# Check multicollinearity using Variance Inflation Factor (VIF)\n",
    "X2_vif = df[predictors2]\n",
    "vif_data2 = pd.DataFrame({\n",
    "    'Variable': X2_vif.columns,\n",
    "    'VIF': [variance_inflation_factor(X2_vif.values, i)\n",
    "            for i in range(X2_vif.shape[1])]\n",
    "})\n",
    "print(\"VIF after dropping sibling_player:\\n\", vif_data2)"
   ]
  },
  {
   "cell_type": "code",
   "execution_count": 22,
   "id": "a73222a106bf57ae",
   "metadata": {
    "ExecuteTime": {
     "end_time": "2025-06-03T09:33:20.971529Z",
     "start_time": "2025-06-03T09:33:20.947527Z"
    }
   },
   "outputs": [
    {
     "name": "stdout",
     "output_type": "stream",
     "text": [
      "                 Generalized Linear Model Regression Results                  \n",
      "==============================================================================\n",
      "Dep. Variable:             titles_won   No. Observations:                  100\n",
      "Model:                            GLM   Df Residuals:                       91\n",
      "Model Family:        NegativeBinomial   Df Model:                            8\n",
      "Link Function:                    Log   Scale:                          1.0000\n",
      "Method:                          IRLS   Log-Likelihood:                -428.81\n",
      "Date:                Thu, 05 Jun 2025   Deviance:                       112.87\n",
      "Time:                        12:16:46   Pearson chi2:                     111.\n",
      "No. Iterations:                    14   Pseudo R-squ. (CS):             0.1552\n",
      "Covariance Type:            nonrobust                                         \n",
      "=====================================================================================\n",
      "                        coef    std err          z      P>|z|      [0.025      0.975]\n",
      "-------------------------------------------------------------------------------------\n",
      "const                 4.4727      0.575      7.776      0.000       3.345       5.600\n",
      "family_ISEI          -0.0134      0.010     -1.393      0.164      -0.032       0.005\n",
      "sibling_info         -0.7435      0.348     -2.138      0.033      -1.425      -0.062\n",
      "association_WTA       0.1371      0.208      0.658      0.510      -0.271       0.545\n",
      "country_USA           0.4224      0.250      1.693      0.090      -0.067       0.912\n",
      "country_Russia       -0.2719      0.446     -0.609      0.542      -1.147       0.603\n",
      "country_Australia     0.4879      0.443      1.102      0.270      -0.380       1.355\n",
      "country_France       -0.7873      0.497     -1.583      0.113      -1.762       0.187\n",
      "country_Spain         0.3648      0.479      0.761      0.446      -0.574       1.304\n",
      "=====================================================================================\n"
     ]
    },
    {
     "name": "stderr",
     "output_type": "stream",
     "text": [
      "c:\\Users\\peta_\\anaconda3\\Lib\\site-packages\\statsmodels\\genmod\\families\\family.py:1367: ValueWarning: Negative binomial dispersion parameter alpha not set. Using default value alpha=1.0.\n",
      "  warnings.warn(\"Negative binomial dispersion parameter alpha not \"\n"
     ]
    }
   ],
   "source": [
    "# Prepare regression matrices for Model 2\n",
    "Y2 = df['titles_won']\n",
    "X2 = sm.add_constant(df[predictors2])\n",
    "\n",
    "# Fit Negative Binomial regression model for Model 2\n",
    "model_NegBin2 = sm.GLM(Y2, X2, family=NegativeBinomial()).fit()\n",
    "\n",
    "# Print the summary of the Negative Binomial model for Model 2\n",
    "print(model_NegBin2.summary())"
   ]
  },
  {
   "cell_type": "code",
   "execution_count": 23,
   "id": "91fe57f41e1a595a",
   "metadata": {
    "ExecuteTime": {
     "end_time": "2025-06-03T09:33:21.042687Z",
     "start_time": "2025-06-03T09:33:21.038485Z"
    }
   },
   "outputs": [
    {
     "name": "stdout",
     "output_type": "stream",
     "text": [
      "Empirical Dispersion: 1.24\n"
     ]
    }
   ],
   "source": [
    "# Check empirical dispersion from Negative Binomial model 2\n",
    "dispersion2 = model_NegBin2.deviance / model_NegBin2.df_resid\n",
    "print(f\"Empirical Dispersion: {dispersion2:.2f}\")"
   ]
  },
  {
   "cell_type": "code",
   "execution_count": 24,
   "id": "8c56b2e6e8d12e0a",
   "metadata": {
    "ExecuteTime": {
     "end_time": "2025-06-03T09:33:21.133801Z",
     "start_time": "2025-06-03T09:33:21.119730Z"
    }
   },
   "outputs": [
    {
     "name": "stdout",
     "output_type": "stream",
     "text": [
      "Converged: True\n",
      "Alpha estimate: 1.0060755977511875\n"
     ]
    }
   ],
   "source": [
    "# Calculate the \"true\" dispersion parameter for Model 2\n",
    "nb2 = CountNB(Y2, X2).fit(disp=False, maxiter=100, method='newton')\n",
    "\n",
    "print(\"Converged:\", nb2.mle_retvals['converged'])\n",
    "print(\"Alpha estimate:\", nb2.params['alpha'])"
   ]
  },
  {
   "cell_type": "code",
   "execution_count": 25,
   "id": "ca317dd16086e3e9",
   "metadata": {
    "ExecuteTime": {
     "end_time": "2025-06-03T09:33:21.364901Z",
     "start_time": "2025-06-03T09:33:21.213872Z"
    }
   },
   "outputs": [
    {
     "data": {
      "image/png": "[encoded data removed]",
      "text/plain": [
       "<Figure size 1000x600 with 1 Axes>"
      ]
     },
     "metadata": {},
     "output_type": "display_data"
    }
   ],
   "source": [
    "# Extract deviance residuals and fitted values\n",
    "deviance_residuals2 = model_NegBin2.resid_deviance\n",
    "fitted_values2 = model_NegBin2.fittedvalues\n",
    "\n",
    "# Plot residuals vs fitted values\n",
    "plt.figure(figsize=(10, 6))\n",
    "plt.scatter(fitted_values2, deviance_residuals2, alpha=0.5)\n",
    "plt.axhline(0, color='red', linestyle='--')\n",
    "plt.title('Deviance Residuals vs Fitted Values (Negative Binomial)')\n",
    "plt.xlabel('Fitted Values')\n",
    "plt.ylabel('Deviance Residuals')\n",
    "plt.show()"
   ]
  },
  {
   "cell_type": "code",
   "execution_count": 26,
   "id": "456af9bd8056999",
   "metadata": {
    "ExecuteTime": {
     "end_time": "2025-06-03T09:33:21.523669Z",
     "start_time": "2025-06-03T09:33:21.398632Z"
    }
   },
   "outputs": [
    {
     "data": {
      "image/png": "[encoded data removed]",
      "text/plain": [
       "<Figure size 640x480 with 1 Axes>"
      ]
     },
     "metadata": {},
     "output_type": "display_data"
    }
   ],
   "source": [
    "# QQ plot for deviance residuals\n",
    "sm.qqplot(deviance_residuals2, line='s')\n",
    "plt.title('QQ Plot of Deviance Residuals (Negative Binomial)')\n",
    "plt.show()"
   ]
  },
  {
   "cell_type": "code",
   "execution_count": 27,
   "id": "fb4896528c3685b7",
   "metadata": {
    "ExecuteTime": {
     "end_time": "2025-06-03T09:33:21.569337Z",
     "start_time": "2025-06-03T09:33:21.556023Z"
    }
   },
   "outputs": [
    {
     "name": "stdout",
     "output_type": "stream",
     "text": [
      "                 Generalized Linear Model Regression Results                  \n",
      "==============================================================================\n",
      "Dep. Variable:             titles_won   No. Observations:                  100\n",
      "Model:                            GLM   Df Residuals:                       91\n",
      "Model Family:                 Poisson   Df Model:                            8\n",
      "Link Function:                    Log   Scale:                          1.0000\n",
      "Method:                          IRLS   Log-Likelihood:                -1616.3\n",
      "Date:                Thu, 05 Jun 2025   Deviance:                       2780.8\n",
      "Time:                        12:16:46   Pearson chi2:                 3.31e+03\n",
      "No. Iterations:                     5   Pseudo R-squ. (CS):             0.9966\n",
      "Covariance Type:            nonrobust                                         \n",
      "=====================================================================================\n",
      "                        coef    std err          z      P>|z|      [0.025      0.975]\n",
      "-------------------------------------------------------------------------------------\n",
      "const                 4.7443      0.103     46.244      0.000       4.543       4.945\n",
      "family_ISEI          -0.0195      0.002    -10.424      0.000      -0.023      -0.016\n",
      "sibling_info         -0.7959      0.052    -15.229      0.000      -0.898      -0.693\n",
      "association_WTA       0.2249      0.038      5.950      0.000       0.151       0.299\n",
      "country_USA           0.5219      0.045     11.631      0.000       0.434       0.610\n",
      "country_Russia       -0.2559      0.098     -2.603      0.009      -0.449      -0.063\n",
      "country_Australia     0.6742      0.070      9.567      0.000       0.536       0.812\n",
      "country_France       -0.7210      0.147     -4.904      0.000      -1.009      -0.433\n",
      "country_Spain         0.3235      0.087      3.730      0.000       0.154       0.494\n",
      "=====================================================================================\n"
     ]
    }
   ],
   "source": [
    "# Poisson regression model 2\n",
    "model_Poisson2 = sm.GLM(Y2, X2, family=sm.families.Poisson()).fit()\n",
    "\n",
    "# Print the summary of the Poisson model\n",
    "print(model_Poisson2.summary())"
   ]
  },
  {
   "cell_type": "code",
   "execution_count": 28,
   "id": "db5522bd409651a5",
   "metadata": {
    "ExecuteTime": {
     "end_time": "2025-06-03T09:33:21.658713Z",
     "start_time": "2025-06-03T09:33:21.653714Z"
    }
   },
   "outputs": [
    {
     "name": "stdout",
     "output_type": "stream",
     "text": [
      "Poisson Model AIC: 3250.65963837015, BIC: 2361.7622124783543\n",
      "Negative Binomial Model AIC: 875.6115144901494, BIC: -306.1964087329753\n"
     ]
    },
    {
     "name": "stderr",
     "output_type": "stream",
     "text": [
      "c:\\Users\\peta_\\anaconda3\\Lib\\site-packages\\statsmodels\\genmod\\generalized_linear_model.py:1838: FutureWarning: The bic value is computed using the deviance formula. After 0.13 this will change to the log-likelihood based formula. This change has no impact on the relative rank of models compared using BIC. You can directly access the log-likelihood version using the `bic_llf` attribute. You can suppress this message by calling statsmodels.genmod.generalized_linear_model.SET_USE_BIC_LLF with True to get the LLF-based version now or False to retainthe deviance version.\n",
      "  warnings.warn(\n"
     ]
    }
   ],
   "source": [
    "# Print out the AIC and BIC for the Poisson and NB models\n",
    "print(f\"Poisson Model AIC: {model_Poisson2.aic}, BIC: {model_Poisson2.bic}\")\n",
    "print(f\"Negative Binomial Model AIC: {model_NegBin2.aic}, BIC: {model_NegBin2.bic}\")"
   ]
  },
  {
   "cell_type": "markdown",
   "id": "b8fa531b38f036bf",
   "metadata": {},
   "source": [
    "### Model 3: Titles ~ Family ISEI, Sibling Info, ISEIxSibling interaction, Association Dummies, Country Dummies"
   ]
  },
  {
   "cell_type": "code",
   "execution_count": null,
   "id": "c8d7eff3f4f20cd1",
   "metadata": {
    "ExecuteTime": {
     "end_time": "2025-06-03T09:33:21.784213Z",
     "start_time": "2025-06-03T09:33:21.777211Z"
    }
   },
   "outputs": [],
   "source": [
    "# Mean center the family ISEI variable\n",
    "df['family_ISEI_c'] = df['family_ISEI'] - df['family_ISEI'].mean()\n",
    "\n",
    "# Create interaction term between family ISEI and sibling info\n",
    "df['family_ISEI_x_sibling_info'] = df['family_ISEI_c'] * df['sibling_info']\n",
    "\n",
    "# Define predictors for Model 3\n",
    "predictors3 = ['family_ISEI_c', 'sibling_info', 'family_ISEI_x_sibling_info', 'association_WTA'] + [f'country_{c.replace(\" \", \"_\")}' for c in top_countries]"
   ]
  },
  {
   "cell_type": "code",
   "execution_count": 30,
   "id": "966074ddb0784e48",
   "metadata": {
    "ExecuteTime": {
     "end_time": "2025-06-03T09:33:21.892745Z",
     "start_time": "2025-06-03T09:33:21.879812Z"
    }
   },
   "outputs": [
    {
     "name": "stdout",
     "output_type": "stream",
     "text": [
      "VIF with interaction term:\n",
      "                      Variable        VIF\n",
      "0               family_ISEI_c  16.011079\n",
      "1                sibling_info   2.728196\n",
      "2  family_ISEI_x_sibling_info  15.930191\n",
      "3             association_WTA   1.703264\n",
      "4                 country_USA   1.553587\n",
      "5              country_Russia   1.097616\n",
      "6           country_Australia   1.140505\n",
      "7              country_France   1.124511\n",
      "8               country_Spain   1.112906\n"
     ]
    }
   ],
   "source": [
    "# Check multicollinearity using Variance Inflation Factor (VIF)\n",
    "X3_vif = df[predictors3]\n",
    "vif_data3 = pd.DataFrame({\n",
    "    'Variable': X3_vif.columns,\n",
    "    'VIF': [variance_inflation_factor(X3_vif.values, i)\n",
    "            for i in range(X3_vif.shape[1])]\n",
    "})\n",
    "print(\"VIF with interaction term:\\n\", vif_data3)"
   ]
  },
  {
   "cell_type": "code",
   "execution_count": 31,
   "id": "ac6e6fb0995a78b6",
   "metadata": {
    "ExecuteTime": {
     "end_time": "2025-06-03T09:33:22.001238Z",
     "start_time": "2025-06-03T09:33:21.978108Z"
    }
   },
   "outputs": [
    {
     "name": "stdout",
     "output_type": "stream",
     "text": [
      "                 Generalized Linear Model Regression Results                  \n",
      "==============================================================================\n",
      "Dep. Variable:             titles_won   No. Observations:                  100\n",
      "Model:                            GLM   Df Residuals:                       90\n",
      "Model Family:        NegativeBinomial   Df Model:                            9\n",
      "Link Function:                    Log   Scale:                          1.0000\n",
      "Method:                          IRLS   Log-Likelihood:                -428.81\n",
      "Date:                Thu, 05 Jun 2025   Deviance:                       112.87\n",
      "Time:                        12:16:46   Pearson chi2:                     111.\n",
      "No. Iterations:                    14   Pseudo R-squ. (CS):             0.1552\n",
      "Covariance Type:            nonrobust                                         \n",
      "==============================================================================================\n",
      "                                 coef    std err          z      P>|z|      [0.025      0.975]\n",
      "----------------------------------------------------------------------------------------------\n",
      "const                          3.7733      0.380      9.942      0.000       3.029       4.517\n",
      "family_ISEI_c                 -0.0134      0.041     -0.323      0.747      -0.095       0.068\n",
      "sibling_info                  -0.7435      0.374     -1.990      0.047      -1.476      -0.011\n",
      "family_ISEI_x_sibling_info  -1.01e-06      0.042  -2.38e-05      1.000      -0.083       0.083\n",
      "association_WTA                0.1371      0.209      0.657      0.511      -0.272       0.546\n",
      "country_USA                    0.4224      0.253      1.670      0.095      -0.073       0.918\n",
      "country_Russia                -0.2719      0.447     -0.608      0.543      -1.148       0.605\n",
      "country_Australia              0.4879      0.443      1.100      0.271      -0.381       1.357\n",
      "country_France                -0.7873      0.498     -1.581      0.114      -1.763       0.189\n",
      "country_Spain                  0.3648      0.480      0.761      0.447      -0.575       1.305\n",
      "==============================================================================================\n"
     ]
    },
    {
     "name": "stderr",
     "output_type": "stream",
     "text": [
      "c:\\Users\\peta_\\anaconda3\\Lib\\site-packages\\statsmodels\\genmod\\families\\family.py:1367: ValueWarning: Negative binomial dispersion parameter alpha not set. Using default value alpha=1.0.\n",
      "  warnings.warn(\"Negative binomial dispersion parameter alpha not \"\n"
     ]
    }
   ],
   "source": [
    "# Prepare regression matrices for Model 3\n",
    "Y3 = df['titles_won']\n",
    "X3 = sm.add_constant(df[predictors3])\n",
    "\n",
    "# Fit Negative Binomial regression model for Model 3\n",
    "model_NegBin3 = sm.GLM(Y3, X3, family=NegativeBinomial()).fit()\n",
    "\n",
    "# Print the summary of the Negative Binomial model for Model 3\n",
    "print(model_NegBin3.summary())"
   ]
  },
  {
   "cell_type": "markdown",
   "id": "ce111c24813077f4",
   "metadata": {},
   "source": [
    "### Model 4: Titles ~ Family ISEI, Sibling Player, Association Dummies, Country Dummies"
   ]
  },
  {
   "cell_type": "code",
   "execution_count": 32,
   "id": "a10663103ee7d61c",
   "metadata": {
    "ExecuteTime": {
     "end_time": "2025-06-03T09:33:22.086736Z",
     "start_time": "2025-06-03T09:33:22.074737Z"
    }
   },
   "outputs": [
    {
     "name": "stdout",
     "output_type": "stream",
     "text": [
      "VIF after dropping sibling_info:\n",
      "             Variable       VIF\n",
      "0        family_ISEI  3.725080\n",
      "1     sibling_player  2.069165\n",
      "2    association_WTA  1.789530\n",
      "3        country_USA  1.564573\n",
      "4     country_Russia  1.135001\n",
      "5  country_Australia  1.104019\n",
      "6     country_France  1.112581\n",
      "7      country_Spain  1.122396\n"
     ]
    }
   ],
   "source": [
    "# Define predictors for Model 4\n",
    "predictors4 = ['family_ISEI', 'sibling_player', 'association_WTA'] + [f'country_{c.replace(\" \", \"_\")}' for c in top_countries]\n",
    "\n",
    "# Check multicollinearity using Variance Inflation Factor (VIF)\n",
    "X4_vif = df[predictors4]\n",
    "vif_data4 = pd.DataFrame({\n",
    "    'Variable': X4_vif.columns,\n",
    "    'VIF': [variance_inflation_factor(X4_vif.values, i)\n",
    "            for i in range(X4_vif.shape[1])]\n",
    "})\n",
    "print(\"VIF after dropping sibling_info:\\n\", vif_data4)"
   ]
  },
  {
   "cell_type": "code",
   "execution_count": 33,
   "id": "35c8be951bfef418",
   "metadata": {
    "ExecuteTime": {
     "end_time": "2025-06-03T09:33:22.179190Z",
     "start_time": "2025-06-03T09:33:22.158196Z"
    }
   },
   "outputs": [
    {
     "name": "stdout",
     "output_type": "stream",
     "text": [
      "                 Generalized Linear Model Regression Results                  \n",
      "==============================================================================\n",
      "Dep. Variable:             titles_won   No. Observations:                  100\n",
      "Model:                            GLM   Df Residuals:                       91\n",
      "Model Family:        NegativeBinomial   Df Model:                            8\n",
      "Link Function:                    Log   Scale:                          1.0000\n",
      "Method:                          IRLS   Log-Likelihood:                -430.76\n",
      "Date:                Thu, 05 Jun 2025   Deviance:                       116.78\n",
      "Time:                        12:16:46   Pearson chi2:                     111.\n",
      "No. Iterations:                    14   Pseudo R-squ. (CS):             0.1215\n",
      "Covariance Type:            nonrobust                                         \n",
      "=====================================================================================\n",
      "                        coef    std err          z      P>|z|      [0.025      0.975]\n",
      "-------------------------------------------------------------------------------------\n",
      "const                 4.1764      0.543      7.689      0.000       3.112       5.241\n",
      "family_ISEI          -0.0167      0.010     -1.744      0.081      -0.035       0.002\n",
      "sibling_player       -0.2735      0.214     -1.278      0.201      -0.693       0.146\n",
      "association_WTA       0.0996      0.209      0.476      0.634      -0.311       0.510\n",
      "country_USA           0.4448      0.249      1.784      0.074      -0.044       0.933\n",
      "country_Russia       -0.2708      0.447     -0.606      0.544      -1.146       0.605\n",
      "country_Australia     0.2682      0.441      0.609      0.543      -0.596       1.132\n",
      "country_France       -0.9742      0.499     -1.954      0.051      -1.952       0.003\n",
      "country_Spain         0.2299      0.482      0.477      0.633      -0.715       1.175\n",
      "=====================================================================================\n"
     ]
    },
    {
     "name": "stderr",
     "output_type": "stream",
     "text": [
      "c:\\Users\\peta_\\anaconda3\\Lib\\site-packages\\statsmodels\\genmod\\families\\family.py:1367: ValueWarning: Negative binomial dispersion parameter alpha not set. Using default value alpha=1.0.\n",
      "  warnings.warn(\"Negative binomial dispersion parameter alpha not \"\n"
     ]
    }
   ],
   "source": [
    "# Prepare regression matrices for Model 4\n",
    "Y4 = df['titles_won']\n",
    "X4 = sm.add_constant(df[predictors4])\n",
    "\n",
    "# Fit Negative Binomial regression model for Model 4\n",
    "model_NegBin4 = sm.GLM(Y4, X4, family=NegativeBinomial()).fit()\n",
    "\n",
    "# Print the summary of the Negative Binomial model for Model 4\n",
    "print(model_NegBin4.summary())"
   ]
  },
  {
   "cell_type": "code",
   "execution_count": null,
   "id": "c78bee30ad418711",
   "metadata": {
    "ExecuteTime": {
     "end_time": "2025-06-03T09:33:22.296334Z",
     "start_time": "2025-06-03T09:33:22.292163Z"
    }
   },
   "outputs": [
    {
     "name": "stdout",
     "output_type": "stream",
     "text": [
      "Empirical Dispersion: 1.28\n"
     ]
    }
   ],
   "source": [
    "# Check empirical dispersion from Negative Binomial model 4\n",
    "dispersion4 = model_NegBin4.deviance / model_NegBin4.df_resid\n",
    "print(f\"Empirical Dispersion: {dispersion4:.2f}\")"
   ]
  },
  {
   "cell_type": "code",
   "execution_count": null,
   "id": "e5bd5419125115e",
   "metadata": {
    "ExecuteTime": {
     "end_time": "2025-06-03T09:33:22.423551Z",
     "start_time": "2025-06-03T09:33:22.410039Z"
    }
   },
   "outputs": [
    {
     "name": "stdout",
     "output_type": "stream",
     "text": [
      "Converged: True\n",
      "Alpha estimate: 1.0398485267600217\n"
     ]
    }
   ],
   "source": [
    "# Calculate the \"true\" dispersion parameter for Model 4\n",
    "nb2 = CountNB(Y4, X4).fit(disp=False, maxiter=100, method='newton')\n",
    "\n",
    "print(\"Converged:\", nb2.mle_retvals['converged'])\n",
    "print(\"Alpha estimate:\", nb2.params['alpha'])"
   ]
  },
  {
   "cell_type": "code",
   "execution_count": 36,
   "id": "a512a6ddc8977c5c",
   "metadata": {
    "ExecuteTime": {
     "end_time": "2025-06-03T09:33:22.656267Z",
     "start_time": "2025-06-03T09:33:22.500231Z"
    }
   },
   "outputs": [
    {
     "data": {
      "image/png": "[encoded data removed]",
      "text/plain": [
       "<Figure size 1000x600 with 1 Axes>"
      ]
     },
     "metadata": {},
     "output_type": "display_data"
    }
   ],
   "source": [
    "# Extract deviance residuals and fitted values\n",
    "deviance_residuals4 = model_NegBin4.resid_deviance\n",
    "fitted_values4 = model_NegBin4.fittedvalues\n",
    "\n",
    "# Plot residuals vs fitted values\n",
    "plt.figure(figsize=(10, 6))\n",
    "plt.scatter(fitted_values4, deviance_residuals4, alpha=0.5)\n",
    "plt.axhline(0, color='red', linestyle='--')\n",
    "plt.title('Deviance Residuals vs Fitted Values (Negative Binomial)')\n",
    "plt.xlabel('Fitted Values')\n",
    "plt.ylabel('Deviance Residuals')\n",
    "plt.show()"
   ]
  },
  {
   "cell_type": "code",
   "execution_count": 37,
   "id": "cc086d08154b576",
   "metadata": {
    "ExecuteTime": {
     "end_time": "2025-06-03T09:33:22.862013Z",
     "start_time": "2025-06-03T09:33:22.724498Z"
    }
   },
   "outputs": [
    {
     "data": {
      "image/png": "[encoded data removed]",
      "text/plain": [
       "<Figure size 640x480 with 1 Axes>"
      ]
     },
     "metadata": {},
     "output_type": "display_data"
    }
   ],
   "source": [
    "# QQ plot for deviance residuals\n",
    "sm.qqplot(deviance_residuals4, line='s')\n",
    "plt.title('QQ Plot of Deviance Residuals (Negative Binomial)')\n",
    "plt.show()"
   ]
  },
  {
   "cell_type": "code",
   "execution_count": 38,
   "id": "63f25cd9254f8b84",
   "metadata": {
    "ExecuteTime": {
     "end_time": "2025-06-03T09:33:22.933868Z",
     "start_time": "2025-06-03T09:33:22.919914Z"
    }
   },
   "outputs": [
    {
     "name": "stdout",
     "output_type": "stream",
     "text": [
      "                 Generalized Linear Model Regression Results                  \n",
      "==============================================================================\n",
      "Dep. Variable:             titles_won   No. Observations:                  100\n",
      "Model:                            GLM   Df Residuals:                       91\n",
      "Model Family:                 Poisson   Df Model:                            8\n",
      "Link Function:                    Log   Scale:                          1.0000\n",
      "Method:                          IRLS   Log-Likelihood:                -1693.3\n",
      "Date:                Thu, 05 Jun 2025   Deviance:                       2934.8\n",
      "Time:                        12:16:47   Pearson chi2:                 3.46e+03\n",
      "No. Iterations:                     5   Pseudo R-squ. (CS):             0.9843\n",
      "Covariance Type:            nonrobust                                         \n",
      "=====================================================================================\n",
      "                        coef    std err          z      P>|z|      [0.025      0.975]\n",
      "-------------------------------------------------------------------------------------\n",
      "const                 4.4095      0.102     43.402      0.000       4.210       4.609\n",
      "family_ISEI          -0.0222      0.002    -11.928      0.000      -0.026      -0.019\n",
      "sibling_player       -0.2764      0.039     -7.038      0.000      -0.353      -0.199\n",
      "association_WTA       0.1864      0.038      4.925      0.000       0.112       0.261\n",
      "country_USA           0.4223      0.043      9.733      0.000       0.337       0.507\n",
      "country_Russia       -0.2573      0.098     -2.613      0.009      -0.450      -0.064\n",
      "country_Australia     0.4382      0.069      6.368      0.000       0.303       0.573\n",
      "country_France       -1.0008      0.147     -6.825      0.000      -1.288      -0.713\n",
      "country_Spain         0.2372      0.086      2.745      0.006       0.068       0.407\n",
      "=====================================================================================\n"
     ]
    }
   ],
   "source": [
    "# Poisson regression model 2\n",
    "model_Poisson4 = sm.GLM(Y4, X4, family=sm.families.Poisson()).fit()\n",
    "\n",
    "# Print the summary of the Poisson model\n",
    "print(model_Poisson4.summary())"
   ]
  },
  {
   "cell_type": "code",
   "execution_count": 39,
   "id": "55623afae3b52880",
   "metadata": {
    "ExecuteTime": {
     "end_time": "2025-06-03T09:33:23.000977Z",
     "start_time": "2025-06-03T09:33:22.996167Z"
    }
   },
   "outputs": [
    {
     "name": "stdout",
     "output_type": "stream",
     "text": [
      "Poisson Model AIC: 3404.631039070547, BIC: 2515.733613178752\n",
      "Negative Binomial Model AIC: 879.5219284629776, BIC: -302.2859947601462\n"
     ]
    },
    {
     "name": "stderr",
     "output_type": "stream",
     "text": [
      "c:\\Users\\peta_\\anaconda3\\Lib\\site-packages\\statsmodels\\genmod\\generalized_linear_model.py:1838: FutureWarning: The bic value is computed using the deviance formula. After 0.13 this will change to the log-likelihood based formula. This change has no impact on the relative rank of models compared using BIC. You can directly access the log-likelihood version using the `bic_llf` attribute. You can suppress this message by calling statsmodels.genmod.generalized_linear_model.SET_USE_BIC_LLF with True to get the LLF-based version now or False to retainthe deviance version.\n",
      "  warnings.warn(\n"
     ]
    }
   ],
   "source": [
    "# Print out the AIC and BIC for the Poisson and NB models\n",
    "print(f\"Poisson Model AIC: {model_Poisson4.aic}, BIC: {model_Poisson4.bic}\")\n",
    "print(f\"Negative Binomial Model AIC: {model_NegBin4.aic}, BIC: {model_NegBin4.bic}\")"
   ]
  },
  {
   "cell_type": "markdown",
   "id": "9996998bb9190a08",
   "metadata": {},
   "source": [
    "### Model 5: Titles ~ Mother ISEI, Father ISEI, Sibling Info, Association Dummies, Country Dummies"
   ]
  },
  {
   "cell_type": "code",
   "execution_count": 40,
   "id": "9fc951b55b851fa0",
   "metadata": {
    "ExecuteTime": {
     "end_time": "2025-06-03T09:33:23.130622Z",
     "start_time": "2025-06-03T09:33:23.118998Z"
    }
   },
   "outputs": [
    {
     "name": "stdout",
     "output_type": "stream",
     "text": [
      "VIF with both ISEI scores:\n",
      "             Variable       VIF\n",
      "0        mother_ISEI  9.844285\n",
      "1        father_ISEI  9.769509\n",
      "2       sibling_info  8.490527\n",
      "3    association_WTA  1.796871\n",
      "4        country_USA  1.560187\n",
      "5     country_Russia  1.164586\n",
      "6  country_Australia  1.136073\n",
      "7     country_France  1.141784\n",
      "8      country_Spain  1.128897\n"
     ]
    }
   ],
   "source": [
    "# Define predictors for Model 5\n",
    "predictors5 = ['mother_ISEI', 'father_ISEI', 'sibling_info', 'association_WTA'] + [f'country_{c.replace(\" \", \"_\")}' for c in top_countries]\n",
    "\n",
    "# Check multicollinearity using Variance Inflation Factor (VIF)\n",
    "X5_vif = df[predictors5]\n",
    "vif_data5 = pd.DataFrame({\n",
    "    'Variable': X5_vif.columns,\n",
    "    'VIF': [variance_inflation_factor(X5_vif.values, i)\n",
    "            for i in range(X5_vif.shape[1])]\n",
    "})\n",
    "print(\"VIF with both ISEI scores:\\n\", vif_data5)"
   ]
  },
  {
   "cell_type": "code",
   "execution_count": 41,
   "id": "1e2a2dc632e515",
   "metadata": {
    "ExecuteTime": {
     "end_time": "2025-06-03T09:33:23.227842Z",
     "start_time": "2025-06-03T09:33:23.223402Z"
    }
   },
   "outputs": [
    {
     "name": "stdout",
     "output_type": "stream",
     "text": [
      "Correlation between mother ISEI and father ISEI: 0.17\n"
     ]
    }
   ],
   "source": [
    "# Compute correlation between mother and father ISEI\n",
    "correlation_mother_father = df['mother_ISEI'].corr(df['father_ISEI'])\n",
    "print(f\"Correlation between mother ISEI and father ISEI: {correlation_mother_father:.2f}\")"
   ]
  },
  {
   "cell_type": "code",
   "execution_count": 42,
   "id": "f649472c0cd636fa",
   "metadata": {
    "ExecuteTime": {
     "end_time": "2025-06-03T09:33:23.390406Z",
     "start_time": "2025-06-03T09:33:23.368404Z"
    }
   },
   "outputs": [
    {
     "name": "stdout",
     "output_type": "stream",
     "text": [
      "                 Generalized Linear Model Regression Results                  \n",
      "==============================================================================\n",
      "Dep. Variable:             titles_won   No. Observations:                  100\n",
      "Model:                            GLM   Df Residuals:                       90\n",
      "Model Family:        NegativeBinomial   Df Model:                            9\n",
      "Link Function:                    Log   Scale:                          1.0000\n",
      "Method:                          IRLS   Log-Likelihood:                -427.96\n",
      "Date:                Thu, 05 Jun 2025   Deviance:                       111.19\n",
      "Time:                        12:16:47   Pearson chi2:                     117.\n",
      "No. Iterations:                    12   Pseudo R-squ. (CS):             0.1693\n",
      "Covariance Type:            nonrobust                                         \n",
      "=====================================================================================\n",
      "                        coef    std err          z      P>|z|      [0.025      0.975]\n",
      "-------------------------------------------------------------------------------------\n",
      "const                 4.1713      0.545      7.658      0.000       3.104       5.239\n",
      "mother_ISEI          -0.0139      0.007     -2.081      0.037      -0.027      -0.001\n",
      "father_ISEI           0.0043      0.007      0.587      0.557      -0.010       0.019\n",
      "sibling_info         -0.6786      0.354     -1.916      0.055      -1.373       0.016\n",
      "association_WTA       0.1692      0.208      0.813      0.416      -0.239       0.577\n",
      "country_USA           0.3813      0.249      1.529      0.126      -0.108       0.870\n",
      "country_Russia       -0.5250      0.455     -1.154      0.249      -1.417       0.367\n",
      "country_Australia     0.4313      0.443      0.974      0.330      -0.437       1.299\n",
      "country_France       -0.7802      0.500     -1.559      0.119      -1.761       0.201\n",
      "country_Spain         0.1681      0.484      0.348      0.728      -0.780       1.116\n",
      "=====================================================================================\n"
     ]
    },
    {
     "name": "stderr",
     "output_type": "stream",
     "text": [
      "c:\\Users\\peta_\\anaconda3\\Lib\\site-packages\\statsmodels\\genmod\\families\\family.py:1367: ValueWarning: Negative binomial dispersion parameter alpha not set. Using default value alpha=1.0.\n",
      "  warnings.warn(\"Negative binomial dispersion parameter alpha not \"\n"
     ]
    }
   ],
   "source": [
    "# Prepare regression matrices for Model 5\n",
    "Y5 = df['titles_won']\n",
    "X5 = sm.add_constant(df[predictors5])\n",
    "\n",
    "# Fit Negative Binomial regression model for Model 5\n",
    "model_NegBin5 = sm.GLM(Y5, X5, family=NegativeBinomial()).fit()\n",
    "\n",
    "# Print the summary of the Negative Binomial model for Model 5\n",
    "print(model_NegBin5.summary())"
   ]
  },
  {
   "cell_type": "code",
   "execution_count": 43,
   "id": "6854da8af8444840",
   "metadata": {
    "ExecuteTime": {
     "end_time": "2025-06-03T09:33:23.486257Z",
     "start_time": "2025-06-03T09:33:23.480949Z"
    }
   },
   "outputs": [
    {
     "name": "stdout",
     "output_type": "stream",
     "text": [
      "Empirical Dispersion: 1.24\n"
     ]
    }
   ],
   "source": [
    "# Check empirical dispersion from Negative Binomial model 5\n",
    "dispersion5 = model_NegBin5.deviance / model_NegBin5.df_resid\n",
    "print(f\"Empirical Dispersion: {dispersion5:.2f}\")"
   ]
  },
  {
   "cell_type": "code",
   "execution_count": 44,
   "id": "2e87f22f7953bbb7",
   "metadata": {
    "ExecuteTime": {
     "end_time": "2025-06-03T09:33:23.621341Z",
     "start_time": "2025-06-03T09:33:23.603830Z"
    }
   },
   "outputs": [
    {
     "name": "stdout",
     "output_type": "stream",
     "text": [
      "Converged: True\n",
      "Alpha estimate: 0.9912492068676463\n"
     ]
    }
   ],
   "source": [
    "# Calculate the \"true\" dispersion parameter for Model 5\n",
    "nb2 = CountNB(Y5, X5).fit(disp=False, maxiter=100, method='newton')\n",
    "\n",
    "print(\"Converged:\", nb2.mle_retvals['converged'])\n",
    "print(\"Alpha estimate:\", nb2.params['alpha'])"
   ]
  },
  {
   "cell_type": "code",
   "execution_count": 45,
   "id": "254b557dbafefc65",
   "metadata": {
    "ExecuteTime": {
     "end_time": "2025-06-03T09:33:23.870884Z",
     "start_time": "2025-06-03T09:33:23.708553Z"
    }
   },
   "outputs": [
    {
     "data": {
      "image/png": "[encoded data removed]",
      "text/plain": [
       "<Figure size 1000x600 with 1 Axes>"
      ]
     },
     "metadata": {},
     "output_type": "display_data"
    }
   ],
   "source": [
    "# Extract deviance residuals and fitted values\n",
    "deviance_residuals5 = model_NegBin5.resid_deviance\n",
    "fitted_values5 = model_NegBin5.fittedvalues\n",
    "\n",
    "# Plot residuals vs fitted values\n",
    "plt.figure(figsize=(10, 6))\n",
    "plt.scatter(fitted_values5, deviance_residuals5, alpha=0.5)\n",
    "plt.axhline(0, color='red', linestyle='--')\n",
    "plt.title('Deviance Residuals vs Fitted Values (Negative Binomial)')\n",
    "plt.xlabel('Fitted Values')\n",
    "plt.ylabel('Deviance Residuals')\n",
    "plt.show()"
   ]
  },
  {
   "cell_type": "code",
   "execution_count": 46,
   "id": "3c684fe02847a617",
   "metadata": {
    "ExecuteTime": {
     "end_time": "2025-06-03T09:33:24.053434Z",
     "start_time": "2025-06-03T09:33:23.919405Z"
    }
   },
   "outputs": [
    {
     "data": {
      "image/png": "[encoded data removed]",
      "text/plain": [
       "<Figure size 640x480 with 1 Axes>"
      ]
     },
     "metadata": {},
     "output_type": "display_data"
    }
   ],
   "source": [
    "# QQ plot for deviance residuals\n",
    "sm.qqplot(deviance_residuals5, line='s')\n",
    "plt.title('QQ Plot of Deviance Residuals (Negative Binomial)')\n",
    "plt.show()"
   ]
  },
  {
   "cell_type": "code",
   "execution_count": 47,
   "id": "a24358f3ed1a6d08",
   "metadata": {
    "ExecuteTime": {
     "end_time": "2025-06-03T09:33:24.115885Z",
     "start_time": "2025-06-03T09:33:24.101869Z"
    }
   },
   "outputs": [
    {
     "name": "stdout",
     "output_type": "stream",
     "text": [
      "                 Generalized Linear Model Regression Results                  \n",
      "==============================================================================\n",
      "Dep. Variable:             titles_won   No. Observations:                  100\n",
      "Model:                            GLM   Df Residuals:                       90\n",
      "Model Family:                 Poisson   Df Model:                            9\n",
      "Link Function:                    Log   Scale:                          1.0000\n",
      "Method:                          IRLS   Log-Likelihood:                -1607.7\n",
      "Date:                Thu, 05 Jun 2025   Deviance:                       2763.7\n",
      "Time:                        12:16:47   Pearson chi2:                 3.33e+03\n",
      "No. Iterations:                     5   Pseudo R-squ. (CS):             0.9972\n",
      "Covariance Type:            nonrobust                                         \n",
      "=====================================================================================\n",
      "                        coef    std err          z      P>|z|      [0.025      0.975]\n",
      "-------------------------------------------------------------------------------------\n",
      "const                 4.1478      0.093     44.777      0.000       3.966       4.329\n",
      "mother_ISEI          -0.0140      0.001    -11.719      0.000      -0.016      -0.012\n",
      "father_ISEI           0.0034      0.001      2.546      0.011       0.001       0.006\n",
      "sibling_info         -0.6717      0.053    -12.566      0.000      -0.776      -0.567\n",
      "association_WTA       0.2093      0.038      5.510      0.000       0.135       0.284\n",
      "country_USA           0.4975      0.045     11.092      0.000       0.410       0.585\n",
      "country_Russia       -0.4922      0.100     -4.917      0.000      -0.688      -0.296\n",
      "country_Australia     0.6756      0.070      9.605      0.000       0.538       0.813\n",
      "country_France       -0.8937      0.148     -6.038      0.000      -1.184      -0.604\n",
      "country_Spain         0.2520      0.087      2.894      0.004       0.081       0.423\n",
      "=====================================================================================\n"
     ]
    }
   ],
   "source": [
    "# Poisson regression model 5\n",
    "model_Poisson5 = sm.GLM(Y5, X5, family=sm.families.Poisson()).fit()\n",
    "\n",
    "# Print the summary of the Poisson model\n",
    "print(model_Poisson5.summary())"
   ]
  },
  {
   "cell_type": "code",
   "execution_count": 48,
   "id": "a9ce1b79fc20b1a3",
   "metadata": {
    "ExecuteTime": {
     "end_time": "2025-06-03T09:33:24.199164Z",
     "start_time": "2025-06-03T09:33:24.193164Z"
    }
   },
   "outputs": [
    {
     "name": "stdout",
     "output_type": "stream",
     "text": [
      "Poisson Model AIC: 3235.482475719535, BIC: 2349.190220013728\n",
      "Negative Binomial Model AIC: 875.9295887290303, BIC: -303.2731643081065\n"
     ]
    },
    {
     "name": "stderr",
     "output_type": "stream",
     "text": [
      "c:\\Users\\peta_\\anaconda3\\Lib\\site-packages\\statsmodels\\genmod\\generalized_linear_model.py:1838: FutureWarning: The bic value is computed using the deviance formula. After 0.13 this will change to the log-likelihood based formula. This change has no impact on the relative rank of models compared using BIC. You can directly access the log-likelihood version using the `bic_llf` attribute. You can suppress this message by calling statsmodels.genmod.generalized_linear_model.SET_USE_BIC_LLF with True to get the LLF-based version now or False to retainthe deviance version.\n",
      "  warnings.warn(\n"
     ]
    }
   ],
   "source": [
    "# Print out the AIC and BIC for the Poisson and NB models\n",
    "print(f\"Poisson Model AIC: {model_Poisson5.aic}, BIC: {model_Poisson5.bic}\")\n",
    "print(f\"Negative Binomial Model AIC: {model_NegBin5.aic}, BIC: {model_NegBin5.bic}\")"
   ]
  },
  {
   "cell_type": "markdown",
   "id": "900350ae3f47f341",
   "metadata": {},
   "source": [
    "### Model 6: Titles ~ Mother ISEI, Father ISEI, Sibling Player, Association Dummies, Country Dummies"
   ]
  },
  {
   "cell_type": "code",
   "execution_count": 49,
   "id": "5945d700bd1a93ac",
   "metadata": {
    "ExecuteTime": {
     "end_time": "2025-06-03T09:33:24.300452Z",
     "start_time": "2025-06-03T09:33:24.287453Z"
    }
   },
   "outputs": [
    {
     "name": "stdout",
     "output_type": "stream",
     "text": [
      "VIF with both ISEI scores:\n",
      "             Variable       VIF\n",
      "0        mother_ISEI  8.001378\n",
      "1        father_ISEI  9.044876\n",
      "2     sibling_player  2.088483\n",
      "3    association_WTA  1.782228\n",
      "4        country_USA  1.555802\n",
      "5     country_Russia  1.162107\n",
      "6  country_Australia  1.107363\n",
      "7     country_France  1.106788\n",
      "8      country_Spain  1.136090\n"
     ]
    }
   ],
   "source": [
    "# Define predictors for Model 6\n",
    "predictors6 = ['mother_ISEI', 'father_ISEI', 'sibling_player', 'association_WTA'] + [f'country_{c.replace(\" \", \"_\")}' for c in top_countries]\n",
    "\n",
    "# Check multicollinearity using Variance Inflation Factor (VIF)\n",
    "X6_vif = df[predictors6]\n",
    "vif_data6 = pd.DataFrame({\n",
    "    'Variable': X6_vif.columns,\n",
    "    'VIF': [variance_inflation_factor(X6_vif.values, i)\n",
    "            for i in range(X6_vif.shape[1])]\n",
    "})\n",
    "print(\"VIF with both ISEI scores:\\n\", vif_data6)"
   ]
  },
  {
   "cell_type": "code",
   "execution_count": 50,
   "id": "5ecde6ad9e7d89e0",
   "metadata": {
    "ExecuteTime": {
     "end_time": "2025-06-03T09:33:24.435332Z",
     "start_time": "2025-06-03T09:33:24.415003Z"
    }
   },
   "outputs": [
    {
     "name": "stdout",
     "output_type": "stream",
     "text": [
      "                 Generalized Linear Model Regression Results                  \n",
      "==============================================================================\n",
      "Dep. Variable:             titles_won   No. Observations:                  100\n",
      "Model:                            GLM   Df Residuals:                       90\n",
      "Model Family:        NegativeBinomial   Df Model:                            9\n",
      "Link Function:                    Log   Scale:                          1.0000\n",
      "Method:                          IRLS   Log-Likelihood:                -429.81\n",
      "Date:                Thu, 05 Jun 2025   Deviance:                       114.88\n",
      "Time:                        12:16:47   Pearson chi2:                     123.\n",
      "No. Iterations:                    12   Pseudo R-squ. (CS):             0.1381\n",
      "Covariance Type:            nonrobust                                         \n",
      "=====================================================================================\n",
      "                        coef    std err          z      P>|z|      [0.025      0.975]\n",
      "-------------------------------------------------------------------------------------\n",
      "const                 3.8317      0.496      7.731      0.000       2.860       4.803\n",
      "mother_ISEI          -0.0166      0.007     -2.557      0.011      -0.029      -0.004\n",
      "father_ISEI           0.0046      0.007      0.625      0.532      -0.010       0.019\n",
      "sibling_player       -0.1696      0.214     -0.794      0.427      -0.588       0.249\n",
      "association_WTA       0.1503      0.209      0.718      0.473      -0.260       0.561\n",
      "country_USA           0.3483      0.249      1.399      0.162      -0.140       0.836\n",
      "country_Russia       -0.5583      0.455     -1.226      0.220      -1.451       0.334\n",
      "country_Australia     0.2344      0.441      0.531      0.595      -0.630       1.099\n",
      "country_France       -0.9285      0.500     -1.856      0.063      -1.909       0.052\n",
      "country_Spain         0.0184      0.485      0.038      0.970      -0.933       0.970\n",
      "=====================================================================================\n"
     ]
    },
    {
     "name": "stderr",
     "output_type": "stream",
     "text": [
      "c:\\Users\\peta_\\anaconda3\\Lib\\site-packages\\statsmodels\\genmod\\families\\family.py:1367: ValueWarning: Negative binomial dispersion parameter alpha not set. Using default value alpha=1.0.\n",
      "  warnings.warn(\"Negative binomial dispersion parameter alpha not \"\n"
     ]
    }
   ],
   "source": [
    "# Prepare regression matrices for Model 6\n",
    "Y6 = df['titles_won']\n",
    "X6 = sm.add_constant(df[predictors6])\n",
    "\n",
    "# Fit Negative Binomial regression model for Model 6\n",
    "model_NegBin6 = sm.GLM(Y6, X6, family=NegativeBinomial()).fit()\n",
    "\n",
    "# Print the summary of the Negative Binomial model for Model 6\n",
    "print(model_NegBin6.summary())"
   ]
  },
  {
   "cell_type": "code",
   "execution_count": 51,
   "id": "beae44ef403fb5e3",
   "metadata": {
    "ExecuteTime": {
     "end_time": "2025-06-03T09:33:24.536057Z",
     "start_time": "2025-06-03T09:33:24.530093Z"
    }
   },
   "outputs": [],
   "source": [
    "# Mean center the mother and father ISEI variables\n",
    "df['mother_ISEI_c'] = df['mother_ISEI'] - df['mother_ISEI'].mean()\n",
    "df['father_ISEI_c'] = df['father_ISEI'] - df['father_ISEI'].mean()"
   ]
  },
  {
   "cell_type": "code",
   "execution_count": 52,
   "id": "bfb68b54f498d956",
   "metadata": {
    "ExecuteTime": {
     "end_time": "2025-06-03T09:33:24.630975Z",
     "start_time": "2025-06-03T09:33:24.626743Z"
    }
   },
   "outputs": [],
   "source": [
    "# Create interaction term between mother ISEI and sibling info\n",
    "df['mother_ISEI_x_sibling_info'] = df['mother_ISEI_c'] * df['sibling_info']"
   ]
  },
  {
   "cell_type": "markdown",
   "id": "dc9e086347bc237d",
   "metadata": {},
   "source": [
    "### Model 7: Titles ~ Mother ISEI, Father ISEI, Sibling Info, Mother ISEIxSibling Info interaction, Association Dummies, Country Dummies"
   ]
  },
  {
   "cell_type": "code",
   "execution_count": 53,
   "id": "4c5708bf82a12c61",
   "metadata": {
    "ExecuteTime": {
     "end_time": "2025-06-03T09:33:24.704345Z",
     "start_time": "2025-06-03T09:33:24.691492Z"
    }
   },
   "outputs": [
    {
     "name": "stdout",
     "output_type": "stream",
     "text": [
      "VIF with both ISEI scores and interaction between mother ISEI and sibling info:\n",
      "                      Variable       VIF\n",
      "0               mother_ISEI_c  8.785631\n",
      "1               father_ISEI_c  1.072106\n",
      "2  mother_ISEI_x_sibling_info  8.659004\n",
      "3                sibling_info  2.821499\n",
      "4             association_WTA  1.759568\n",
      "5                 country_USA  1.541589\n",
      "6              country_Russia  1.155217\n",
      "7           country_Australia  1.137258\n",
      "8              country_France  1.147338\n",
      "9               country_Spain  1.130541\n"
     ]
    }
   ],
   "source": [
    "# Define predictors for Model 7\n",
    "predictors7 = ['mother_ISEI_c', 'father_ISEI_c', 'mother_ISEI_x_sibling_info', 'sibling_info', 'association_WTA'] + [f'country_{c.replace(\" \", \"_\")}' for c in top_countries]\n",
    "\n",
    "# Check multicollinearity using Variance Inflation Factor (VIF)\n",
    "X7_vif = df[predictors7]\n",
    "vif_data7 = pd.DataFrame({\n",
    "    'Variable': X7_vif.columns,\n",
    "    'VIF': [variance_inflation_factor(X7_vif.values, i)\n",
    "            for i in range(X7_vif.shape[1])]\n",
    "})\n",
    "print(\"VIF with both ISEI scores and interaction between mother ISEI and sibling info:\\n\", vif_data7)"
   ]
  },
  {
   "cell_type": "code",
   "execution_count": 54,
   "id": "f42f2a6145d84cb7",
   "metadata": {
    "ExecuteTime": {
     "end_time": "2025-06-03T09:33:24.812193Z",
     "start_time": "2025-06-03T09:33:24.788878Z"
    }
   },
   "outputs": [
    {
     "name": "stdout",
     "output_type": "stream",
     "text": [
      "                 Generalized Linear Model Regression Results                  \n",
      "==============================================================================\n",
      "Dep. Variable:             titles_won   No. Observations:                  100\n",
      "Model:                            GLM   Df Residuals:                       89\n",
      "Model Family:        NegativeBinomial   Df Model:                           10\n",
      "Link Function:                    Log   Scale:                          1.0000\n",
      "Method:                          IRLS   Log-Likelihood:                -427.40\n",
      "Date:                Thu, 05 Jun 2025   Deviance:                       110.06\n",
      "Time:                        12:16:48   Pearson chi2:                     115.\n",
      "No. Iterations:                    16   Pseudo R-squ. (CS):             0.1787\n",
      "Covariance Type:            nonrobust                                         \n",
      "==============================================================================================\n",
      "                                 coef    std err          z      P>|z|      [0.025      0.975]\n",
      "----------------------------------------------------------------------------------------------\n",
      "const                          4.0529      0.402     10.093      0.000       3.266       4.840\n",
      "mother_ISEI_c                  0.0230      0.022      1.060      0.289      -0.019       0.065\n",
      "father_ISEI_c                  0.0044      0.007      0.594      0.552      -0.010       0.019\n",
      "mother_ISEI_x_sibling_info    -0.0383      0.023     -1.693      0.090      -0.083       0.006\n",
      "sibling_info                  -0.9866      0.407     -2.425      0.015      -1.784      -0.189\n",
      "association_WTA                0.1525      0.208      0.732      0.464      -0.256       0.561\n",
      "country_USA                    0.3633      0.249      1.456      0.145      -0.126       0.852\n",
      "country_Russia                -0.4950      0.455     -1.088      0.277      -1.386       0.397\n",
      "country_Australia              0.4150      0.443      0.937      0.349      -0.453       1.283\n",
      "country_France                -0.7882      0.501     -1.574      0.115      -1.770       0.193\n",
      "country_Spain                  0.1495      0.484      0.309      0.757      -0.799       1.098\n",
      "==============================================================================================\n"
     ]
    },
    {
     "name": "stderr",
     "output_type": "stream",
     "text": [
      "c:\\Users\\peta_\\anaconda3\\Lib\\site-packages\\statsmodels\\genmod\\families\\family.py:1367: ValueWarning: Negative binomial dispersion parameter alpha not set. Using default value alpha=1.0.\n",
      "  warnings.warn(\"Negative binomial dispersion parameter alpha not \"\n"
     ]
    }
   ],
   "source": [
    "# Prepare regression matrices for Model 7\n",
    "Y7 = df['titles_won']\n",
    "X7 = sm.add_constant(df[predictors7])\n",
    "\n",
    "# Fit Negative Binomial regression model for Model 7\n",
    "model_NegBin7 = sm.GLM(Y7, X7, family=NegativeBinomial()).fit()\n",
    "# Print the summary of the Negative Binomial model for Model 7\n",
    "print(model_NegBin7.summary())"
   ]
  },
  {
   "cell_type": "code",
   "execution_count": 55,
   "id": "7560d24e3255c1e9",
   "metadata": {
    "ExecuteTime": {
     "end_time": "2025-06-03T09:33:24.896445Z",
     "start_time": "2025-06-03T09:33:24.891231Z"
    }
   },
   "outputs": [
    {
     "name": "stdout",
     "output_type": "stream",
     "text": [
      "Negative Binomial Model 5 AIC: 875.9295887290303, BIC: -303.2731643081065\n",
      "Negative Binomial Model 7 AIC: 876.7981053668075, BIC: -299.7994774843406\n"
     ]
    },
    {
     "name": "stderr",
     "output_type": "stream",
     "text": [
      "c:\\Users\\peta_\\anaconda3\\Lib\\site-packages\\statsmodels\\genmod\\generalized_linear_model.py:1838: FutureWarning: The bic value is computed using the deviance formula. After 0.13 this will change to the log-likelihood based formula. This change has no impact on the relative rank of models compared using BIC. You can directly access the log-likelihood version using the `bic_llf` attribute. You can suppress this message by calling statsmodels.genmod.generalized_linear_model.SET_USE_BIC_LLF with True to get the LLF-based version now or False to retainthe deviance version.\n",
      "  warnings.warn(\n"
     ]
    }
   ],
   "source": [
    "# Print out the AIC and BIC for Model 5 and Model 7\n",
    "print(f\"Negative Binomial Model 5 AIC: {model_NegBin5.aic}, BIC: {model_NegBin5.bic}\")\n",
    "print(f\"Negative Binomial Model 7 AIC: {model_NegBin7.aic}, BIC: {model_NegBin7.bic}\")"
   ]
  },
  {
   "cell_type": "code",
   "execution_count": 56,
   "id": "2635fc5ffba2f04d",
   "metadata": {
    "ExecuteTime": {
     "end_time": "2025-06-03T09:33:25.002214Z",
     "start_time": "2025-06-03T09:33:24.997785Z"
    }
   },
   "outputs": [],
   "source": [
    "df['mother_ISEI_x_association_WTA'] = df['mother_ISEI_c'] * df['association_WTA']"
   ]
  },
  {
   "cell_type": "markdown",
   "id": "733d0899ff296921",
   "metadata": {},
   "source": [
    "### Model 8: Titles ~ Mother ISEI, Father ISEI, Sibling Info, Mother ISEIxAssociation, Association Dummies, Country Dummies"
   ]
  },
  {
   "cell_type": "code",
   "execution_count": 57,
   "id": "eff2984731fb089a",
   "metadata": {
    "ExecuteTime": {
     "end_time": "2025-06-03T09:33:25.093032Z",
     "start_time": "2025-06-03T09:33:25.077031Z"
    }
   },
   "outputs": [
    {
     "name": "stdout",
     "output_type": "stream",
     "text": [
      "VIF with both ISEI scores and interaction between mother ISEI and association:\n",
      "                         Variable       VIF\n",
      "0                  mother_ISEI_c  2.050345\n",
      "1                  father_ISEI_c  1.098435\n",
      "2  mother_ISEI_x_association_WTA  2.025252\n",
      "3                   sibling_info  2.802687\n",
      "4                association_WTA  1.700099\n",
      "5                    country_USA  1.538970\n",
      "6                 country_Russia  1.150883\n",
      "7              country_Australia  1.138249\n",
      "8                 country_France  1.201956\n",
      "9                  country_Spain  1.154996\n"
     ]
    }
   ],
   "source": [
    "# Define predictors for Model 8\n",
    "predictors8 = ['mother_ISEI_c', 'father_ISEI_c', 'mother_ISEI_x_association_WTA', 'sibling_info', 'association_WTA'] + [f'country_{c.replace(\" \", \"_\")}' for c in top_countries]\n",
    "\n",
    "# Check multicollinearity using Variance Inflation Factor (VIF)\n",
    "X8_vif = df[predictors8]\n",
    "vif_data8 = pd.DataFrame({\n",
    "    'Variable': X8_vif.columns,\n",
    "    'VIF': [variance_inflation_factor(X8_vif.values, i)\n",
    "            for i in range(X8_vif.shape[1])]\n",
    "})\n",
    "print(\"VIF with both ISEI scores and interaction between mother ISEI and association:\\n\", vif_data8)"
   ]
  },
  {
   "cell_type": "code",
   "execution_count": 58,
   "id": "2e646a847f302f5e",
   "metadata": {
    "ExecuteTime": {
     "end_time": "2025-06-03T09:33:25.217427Z",
     "start_time": "2025-06-03T09:33:25.197263Z"
    }
   },
   "outputs": [
    {
     "name": "stdout",
     "output_type": "stream",
     "text": [
      "                 Generalized Linear Model Regression Results                  \n",
      "==============================================================================\n",
      "Dep. Variable:             titles_won   No. Observations:                  100\n",
      "Model:                            GLM   Df Residuals:                       89\n",
      "Model Family:        NegativeBinomial   Df Model:                           10\n",
      "Link Function:                    Log   Scale:                          1.0000\n",
      "Method:                          IRLS   Log-Likelihood:                -427.43\n",
      "Date:                Thu, 05 Jun 2025   Deviance:                       110.13\n",
      "Time:                        12:16:48   Pearson chi2:                     110.\n",
      "No. Iterations:                    13   Pseudo R-squ. (CS):             0.1781\n",
      "Covariance Type:            nonrobust                                         \n",
      "=================================================================================================\n",
      "                                    coef    std err          z      P>|z|      [0.025      0.975]\n",
      "-------------------------------------------------------------------------------------------------\n",
      "const                             3.7324      0.348     10.735      0.000       3.051       4.414\n",
      "mother_ISEI_c                    -0.0079      0.009     -0.877      0.381      -0.026       0.010\n",
      "father_ISEI_c                     0.0055      0.007      0.731      0.465      -0.009       0.020\n",
      "mother_ISEI_x_association_WTA    -0.0155      0.013     -1.174      0.240      -0.041       0.010\n",
      "sibling_info                     -0.6870      0.354     -1.939      0.052      -1.381       0.007\n",
      "association_WTA                   0.1752      0.208      0.841      0.400      -0.233       0.584\n",
      "country_USA                       0.3552      0.250      1.422      0.155      -0.134       0.845\n",
      "country_Russia                   -0.5193      0.455     -1.140      0.254      -1.412       0.373\n",
      "country_Australia                 0.3423      0.443      0.772      0.440      -0.527       1.211\n",
      "country_France                   -0.7339      0.513     -1.430      0.153      -1.739       0.272\n",
      "country_Spain                     0.2614      0.489      0.534      0.593      -0.697       1.220\n",
      "=================================================================================================\n"
     ]
    },
    {
     "name": "stderr",
     "output_type": "stream",
     "text": [
      "c:\\Users\\peta_\\anaconda3\\Lib\\site-packages\\statsmodels\\genmod\\families\\family.py:1367: ValueWarning: Negative binomial dispersion parameter alpha not set. Using default value alpha=1.0.\n",
      "  warnings.warn(\"Negative binomial dispersion parameter alpha not \"\n"
     ]
    }
   ],
   "source": [
    "# Prepare regression matrices for Model 8\n",
    "Y8 = df['titles_won']\n",
    "X8 = sm.add_constant(df[predictors8])\n",
    "\n",
    "# Fit Negative Binomial regression model for Model 8\n",
    "model_NegBin8 = sm.GLM(Y8, X8, family=NegativeBinomial()).fit()\n",
    "\n",
    "# Print the summary of the Negative Binomial model for Model 8\n",
    "print(model_NegBin8.summary())"
   ]
  },
  {
   "cell_type": "code",
   "execution_count": 59,
   "id": "e6cb4e30a096d7e9",
   "metadata": {
    "ExecuteTime": {
     "end_time": "2025-06-03T09:33:25.301457Z",
     "start_time": "2025-06-03T09:33:25.296457Z"
    }
   },
   "outputs": [
    {
     "name": "stdout",
     "output_type": "stream",
     "text": [
      "Negative Binomial Model 5 AIC: 875.9295887290303, BIC: -303.2731643081065\n",
      "Negative Binomial Model 8 AIC: 876.8644779997423, BIC: -299.7331048514053\n"
     ]
    },
    {
     "name": "stderr",
     "output_type": "stream",
     "text": [
      "c:\\Users\\peta_\\anaconda3\\Lib\\site-packages\\statsmodels\\genmod\\generalized_linear_model.py:1838: FutureWarning: The bic value is computed using the deviance formula. After 0.13 this will change to the log-likelihood based formula. This change has no impact on the relative rank of models compared using BIC. You can directly access the log-likelihood version using the `bic_llf` attribute. You can suppress this message by calling statsmodels.genmod.generalized_linear_model.SET_USE_BIC_LLF with True to get the LLF-based version now or False to retainthe deviance version.\n",
      "  warnings.warn(\n"
     ]
    }
   ],
   "source": [
    "# Print out the AIC and BIC for Model 5 and Model 8\n",
    "print(f\"Negative Binomial Model 5 AIC: {model_NegBin5.aic}, BIC: {model_NegBin5.bic}\")\n",
    "print(f\"Negative Binomial Model 8 AIC: {model_NegBin8.aic}, BIC: {model_NegBin8.bic}\")"
   ]
  },
  {
   "cell_type": "code",
   "execution_count": 60,
   "id": "6f07b56eca6ea7db",
   "metadata": {
    "ExecuteTime": {
     "end_time": "2025-06-03T09:33:25.395052Z",
     "start_time": "2025-06-03T09:33:25.390841Z"
    }
   },
   "outputs": [],
   "source": [
    "df['mother_ISEI_x_father_ISEI'] = df['mother_ISEI_c'] * df['father_ISEI_c']"
   ]
  },
  {
   "cell_type": "markdown",
   "id": "377cf6b111523b4a",
   "metadata": {},
   "source": [
    "### Model 9: Titles ~ Mother ISEI, Father ISEI, Sibling Info, Mother ISEIxFather ISEI interaction, Association Dummies, Country Dummies"
   ]
  },
  {
   "cell_type": "code",
   "execution_count": 61,
   "id": "930574c864911f3a",
   "metadata": {
    "ExecuteTime": {
     "end_time": "2025-06-03T09:33:25.508204Z",
     "start_time": "2025-06-03T09:33:25.494998Z"
    }
   },
   "outputs": [
    {
     "name": "stdout",
     "output_type": "stream",
     "text": [
      "VIF with both ISEI scores and interaction between mother ISEI and father ISEI:\n",
      "                     Variable       VIF\n",
      "0              mother_ISEI_c  1.230526\n",
      "1              father_ISEI_c  1.160891\n",
      "2  mother_ISEI_x_father_ISEI  1.487720\n",
      "3               sibling_info  2.793415\n",
      "4            association_WTA  1.782659\n",
      "5                country_USA  1.573861\n",
      "6             country_Russia  1.208312\n",
      "7          country_Australia  1.163367\n",
      "8             country_France  1.164210\n",
      "9              country_Spain  1.134411\n"
     ]
    }
   ],
   "source": [
    "# Define predictors for Model 9\n",
    "predictors9 = ['mother_ISEI_c', 'father_ISEI_c', 'mother_ISEI_x_father_ISEI', 'sibling_info', 'association_WTA'] + [f'country_{c.replace(\" \", \"_\")}' for c in top_countries]\n",
    "\n",
    "# Check multicollinearity using Variance Inflation Factor (VIF)\n",
    "X9_vif = df[predictors9]\n",
    "vif_data9 = pd.DataFrame({\n",
    "    'Variable': X9_vif.columns,\n",
    "    'VIF': [variance_inflation_factor(X9_vif.values, i)\n",
    "            for i in range(X9_vif.shape[1])]\n",
    "})\n",
    "print(\"VIF with both ISEI scores and interaction between mother ISEI and father ISEI:\\n\", vif_data9)"
   ]
  },
  {
   "cell_type": "code",
   "execution_count": 62,
   "id": "632768849ab97215",
   "metadata": {
    "ExecuteTime": {
     "end_time": "2025-06-03T09:33:25.613791Z",
     "start_time": "2025-06-03T09:33:25.593780Z"
    }
   },
   "outputs": [
    {
     "name": "stderr",
     "output_type": "stream",
     "text": [
      "c:\\Users\\peta_\\anaconda3\\Lib\\site-packages\\statsmodels\\genmod\\families\\family.py:1367: ValueWarning: Negative binomial dispersion parameter alpha not set. Using default value alpha=1.0.\n",
      "  warnings.warn(\"Negative binomial dispersion parameter alpha not \"\n"
     ]
    },
    {
     "name": "stdout",
     "output_type": "stream",
     "text": [
      "                 Generalized Linear Model Regression Results                  \n",
      "==============================================================================\n",
      "Dep. Variable:             titles_won   No. Observations:                  100\n",
      "Model:                            GLM   Df Residuals:                       89\n",
      "Model Family:        NegativeBinomial   Df Model:                           10\n",
      "Link Function:                    Log   Scale:                          1.0000\n",
      "Method:                          IRLS   Log-Likelihood:                -427.90\n",
      "Date:                Thu, 05 Jun 2025   Deviance:                       111.07\n",
      "Time:                        12:16:48   Pearson chi2:                     115.\n",
      "No. Iterations:                    16   Pseudo R-squ. (CS):             0.1703\n",
      "Covariance Type:            nonrobust                                         \n",
      "=============================================================================================\n",
      "                                coef    std err          z      P>|z|      [0.025      0.975]\n",
      "---------------------------------------------------------------------------------------------\n",
      "const                         3.7251      0.348     10.713      0.000       3.044       4.407\n",
      "mother_ISEI_c                -0.0127      0.007     -1.806      0.071      -0.027       0.001\n",
      "father_ISEI_c                 0.0050      0.008      0.654      0.513      -0.010       0.020\n",
      "mother_ISEI_x_father_ISEI    -0.0002      0.000     -0.409      0.683      -0.001       0.001\n",
      "sibling_info                 -0.6851      0.355     -1.929      0.054      -1.381       0.011\n",
      "association_WTA               0.1902      0.212      0.897      0.370      -0.225       0.606\n",
      "country_USA                   0.4179      0.252      1.659      0.097      -0.076       0.912\n",
      "country_Russia               -0.5496      0.467     -1.176      0.240      -1.466       0.366\n",
      "country_Australia             0.4435      0.448      0.990      0.322      -0.434       1.322\n",
      "country_France               -0.7679      0.504     -1.523      0.128      -1.756       0.220\n",
      "country_Spain                 0.1655      0.485      0.341      0.733      -0.785       1.116\n",
      "=============================================================================================\n"
     ]
    }
   ],
   "source": [
    "# Prepare regression matrices for Model 9\n",
    "Y9 = df['titles_won']\n",
    "X9 = sm.add_constant(df[predictors9])\n",
    "\n",
    "# Fit Negative Binomial regression model for Model 9\n",
    "model_NegBin9 = sm.GLM(Y9, X9, family=NegativeBinomial()).fit()\n",
    "\n",
    "# Print the summary of the Negative Binomial model for Model 9\n",
    "print(model_NegBin9.summary())"
   ]
  },
  {
   "cell_type": "code",
   "execution_count": 63,
   "id": "b156906da132e9b8",
   "metadata": {
    "ExecuteTime": {
     "end_time": "2025-06-03T09:33:25.716133Z",
     "start_time": "2025-06-03T09:33:25.711888Z"
    }
   },
   "outputs": [
    {
     "name": "stdout",
     "output_type": "stream",
     "text": [
      "Negative Binomial Model 5 AIC: 875.9295887290303, BIC: -303.2731643081065\n",
      "Negative Binomial Model 9 AIC: 877.8062373067792, BIC: -298.79134554436826\n"
     ]
    },
    {
     "name": "stderr",
     "output_type": "stream",
     "text": [
      "c:\\Users\\peta_\\anaconda3\\Lib\\site-packages\\statsmodels\\genmod\\generalized_linear_model.py:1838: FutureWarning: The bic value is computed using the deviance formula. After 0.13 this will change to the log-likelihood based formula. This change has no impact on the relative rank of models compared using BIC. You can directly access the log-likelihood version using the `bic_llf` attribute. You can suppress this message by calling statsmodels.genmod.generalized_linear_model.SET_USE_BIC_LLF with True to get the LLF-based version now or False to retainthe deviance version.\n",
      "  warnings.warn(\n"
     ]
    }
   ],
   "source": [
    "# Print out the AIC and BIC for Model 5 and Model 9\n",
    "print(f\"Negative Binomial Model 5 AIC: {model_NegBin5.aic}, BIC: {model_NegBin5.bic}\")\n",
    "print(f\"Negative Binomial Model 9 AIC: {model_NegBin9.aic}, BIC: {model_NegBin9.bic}\")"
   ]
  },
  {
   "cell_type": "code",
   "execution_count": 64,
   "id": "142595f18064589d",
   "metadata": {
    "ExecuteTime": {
     "end_time": "2025-06-03T09:33:25.839154Z",
     "start_time": "2025-06-03T09:33:25.835241Z"
    }
   },
   "outputs": [],
   "source": [
    "df['mother_ISEI_x_country_USA'] = df['mother_ISEI_c'] * df['country_USA']"
   ]
  },
  {
   "cell_type": "markdown",
   "id": "2051d95819063c70",
   "metadata": {},
   "source": [
    "### Model 10: Titles ~ Mother ISEI, Father ISEI, Sibling Info, Mother ISEIxCountry USA interaction, Association Dummies, Country Dummies"
   ]
  },
  {
   "cell_type": "code",
   "execution_count": 65,
   "id": "96f9ece409419142",
   "metadata": {
    "ExecuteTime": {
     "end_time": "2025-06-03T09:33:25.946860Z",
     "start_time": "2025-06-03T09:33:25.934727Z"
    }
   },
   "outputs": [
    {
     "name": "stdout",
     "output_type": "stream",
     "text": [
      "VIF with both ISEI scores and interaction between mother ISEI and USA:\n",
      "                     Variable       VIF\n",
      "0              mother_ISEI_c  1.303119\n",
      "1              father_ISEI_c  1.158684\n",
      "2  mother_ISEI_x_country_USA  1.434814\n",
      "3               sibling_info  2.790477\n",
      "4            association_WTA  1.701042\n",
      "5                country_USA  1.613606\n",
      "6             country_Russia  1.149810\n",
      "7          country_Australia  1.137023\n",
      "8             country_France  1.150141\n",
      "9              country_Spain  1.130040\n"
     ]
    }
   ],
   "source": [
    "# Define predictors for Model 10\n",
    "predictors10 = ['mother_ISEI_c', 'father_ISEI_c', 'mother_ISEI_x_country_USA', 'sibling_info', 'association_WTA'] + [f'country_{c.replace(\" \", \"_\")}' for c in top_countries]\n",
    "\n",
    "# Check multicollinearity using Variance Inflation Factor (VIF)\n",
    "X10_vif = df[predictors10]\n",
    "vif_data10 = pd.DataFrame({\n",
    "    'Variable': X10_vif.columns,\n",
    "    'VIF': [variance_inflation_factor(X10_vif.values, i)\n",
    "            for i in range(X10_vif.shape[1])]\n",
    "})\n",
    "print(\"VIF with both ISEI scores and interaction between mother ISEI and USA:\\n\", vif_data10)"
   ]
  },
  {
   "cell_type": "code",
   "execution_count": 66,
   "id": "cb88ad9c928a6e54",
   "metadata": {
    "ExecuteTime": {
     "end_time": "2025-06-03T09:33:26.059570Z",
     "start_time": "2025-06-03T09:33:26.035575Z"
    }
   },
   "outputs": [
    {
     "name": "stdout",
     "output_type": "stream",
     "text": [
      "                 Generalized Linear Model Regression Results                  \n",
      "==============================================================================\n",
      "Dep. Variable:             titles_won   No. Observations:                  100\n",
      "Model:                            GLM   Df Residuals:                       89\n",
      "Model Family:        NegativeBinomial   Df Model:                           10\n",
      "Link Function:                    Log   Scale:                          1.0000\n",
      "Method:                          IRLS   Log-Likelihood:                -426.24\n",
      "Date:                Thu, 05 Jun 2025   Deviance:                       107.74\n",
      "Time:                        12:16:48   Pearson chi2:                     115.\n",
      "No. Iterations:                    15   Pseudo R-squ. (CS):             0.1975\n",
      "Covariance Type:            nonrobust                                         \n",
      "=============================================================================================\n",
      "                                coef    std err          z      P>|z|      [0.025      0.975]\n",
      "---------------------------------------------------------------------------------------------\n",
      "const                         3.7923      0.347     10.918      0.000       3.112       4.473\n",
      "mother_ISEI_c                -0.0065      0.007     -0.896      0.370      -0.021       0.008\n",
      "father_ISEI_c                 0.0101      0.008      1.310      0.190      -0.005       0.025\n",
      "mother_ISEI_x_country_USA    -0.0328      0.017     -1.886      0.059      -0.067       0.001\n",
      "sibling_info                 -0.7326      0.355     -2.066      0.039      -1.428      -0.038\n",
      "association_WTA               0.1318      0.208      0.633      0.527      -0.277       0.540\n",
      "country_USA                   0.4240      0.255      1.664      0.096      -0.075       0.923\n",
      "country_Russia               -0.5005      0.455     -1.100      0.271      -1.392       0.391\n",
      "country_Australia             0.5505      0.442      1.245      0.213      -0.316       1.417\n",
      "country_France               -0.7764      0.501     -1.549      0.121      -1.759       0.206\n",
      "country_Spain                 0.1585      0.484      0.328      0.743      -0.790       1.107\n",
      "=============================================================================================\n"
     ]
    },
    {
     "name": "stderr",
     "output_type": "stream",
     "text": [
      "c:\\Users\\peta_\\anaconda3\\Lib\\site-packages\\statsmodels\\genmod\\families\\family.py:1367: ValueWarning: Negative binomial dispersion parameter alpha not set. Using default value alpha=1.0.\n",
      "  warnings.warn(\"Negative binomial dispersion parameter alpha not \"\n"
     ]
    }
   ],
   "source": [
    "# Prepare regression matrices for Model 10\n",
    "Y10 = df['titles_won']\n",
    "X10 = sm.add_constant(df[predictors10])\n",
    "\n",
    "# Fit Negative Binomial regression model for Model 10\n",
    "model_NegBin10 = sm.GLM(Y10, X10, family=NegativeBinomial()).fit()\n",
    "\n",
    "# Print the summary of the Negative Binomial model for Model 10\n",
    "print(model_NegBin10.summary())"
   ]
  },
  {
   "cell_type": "code",
   "execution_count": 67,
   "id": "fa526a9a91b958e0",
   "metadata": {
    "ExecuteTime": {
     "end_time": "2025-06-03T09:33:26.167683Z",
     "start_time": "2025-06-03T09:33:26.162731Z"
    }
   },
   "outputs": [
    {
     "name": "stdout",
     "output_type": "stream",
     "text": [
      "Negative Binomial Model 5 AIC: 875.9295887290303, BIC: -303.2731643081065\n",
      "Negative Binomial Model 10 AIC: 874.4743930229105, BIC: -302.1231898282382\n"
     ]
    },
    {
     "name": "stderr",
     "output_type": "stream",
     "text": [
      "c:\\Users\\peta_\\anaconda3\\Lib\\site-packages\\statsmodels\\genmod\\generalized_linear_model.py:1838: FutureWarning: The bic value is computed using the deviance formula. After 0.13 this will change to the log-likelihood based formula. This change has no impact on the relative rank of models compared using BIC. You can directly access the log-likelihood version using the `bic_llf` attribute. You can suppress this message by calling statsmodels.genmod.generalized_linear_model.SET_USE_BIC_LLF with True to get the LLF-based version now or False to retainthe deviance version.\n",
      "  warnings.warn(\n"
     ]
    }
   ],
   "source": [
    "# Print out the AIC and BIC for Model 5 and Model 10\n",
    "print(f\"Negative Binomial Model 5 AIC: {model_NegBin5.aic}, BIC: {model_NegBin5.bic}\")\n",
    "print(f\"Negative Binomial Model 10 AIC: {model_NegBin10.aic}, BIC: {model_NegBin10.bic}\")"
   ]
  }
 ],
 "metadata": {
  "kernelspec": {
   "display_name": "base",
   "language": "python",
   "name": "python3"
  },
  "language_info": {
   "codemirror_mode": {
    "name": "ipython",
    "version": 3
   },
   "file_extension": ".py",
   "mimetype": "text/x-python",
   "name": "python",
   "nbconvert_exporter": "python",
   "pygments_lexer": "ipython3",
   "version": "3.11.7"
  }
 },
 "nbformat": 4,
 "nbformat_minor": 5
}
