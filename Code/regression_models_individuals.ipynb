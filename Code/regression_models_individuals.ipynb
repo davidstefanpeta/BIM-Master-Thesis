{
 "cells": [
  {
   "cell_type": "code",
   "execution_count": 1,
   "id": "057a3917",
   "metadata": {},
   "outputs": [],
   "source": [
    "# Import functions needed for this notebook\n",
    "import pandas as pd\n",
    "import statsmodels.api as sm\n",
    "from statsmodels.genmod.families import NegativeBinomial\n",
    "from statsmodels.discrete.discrete_model import NegativeBinomial as CountNB\n",
    "import matplotlib.pyplot as plt\n",
    "from statsmodels.stats.outliers_influence import variance_inflation_factor"
   ]
  },
  {
   "cell_type": "code",
   "execution_count": 2,
   "id": "a8b27581",
   "metadata": {},
   "outputs": [
    {
     "data": {
      "application/vnd.microsoft.datawrangler.viewer.v0+json": {
       "columns": [
        {
         "name": "index",
         "rawType": "int64",
         "type": "integer"
        },
        {
         "name": "player_name",
         "rawType": "object",
         "type": "string"
        },
        {
         "name": "highest_ranking",
         "rawType": "int64",
         "type": "integer"
        },
        {
         "name": "country",
         "rawType": "object",
         "type": "string"
        },
        {
         "name": "mother_occupation",
         "rawType": "object",
         "type": "string"
        },
        {
         "name": "father_occupation",
         "rawType": "object",
         "type": "string"
        },
        {
         "name": "sibling_info",
         "rawType": "bool",
         "type": "boolean"
        },
        {
         "name": "sibling_player",
         "rawType": "bool",
         "type": "boolean"
        },
        {
         "name": "titles_won",
         "rawType": "int64",
         "type": "integer"
        },
        {
         "name": "association",
         "rawType": "object",
         "type": "string"
        },
        {
         "name": "year_turned_pro",
         "rawType": "int64",
         "type": "integer"
        },
        {
         "name": "father_occupation_std",
         "rawType": "object",
         "type": "string"
        },
        {
         "name": "mother_occupation_std",
         "rawType": "object",
         "type": "string"
        },
        {
         "name": "father_ISEI",
         "rawType": "int64",
         "type": "integer"
        },
        {
         "name": "mother_ISEI",
         "rawType": "int64",
         "type": "integer"
        },
        {
         "name": "family_ISEI",
         "rawType": "int64",
         "type": "integer"
        }
       ],
       "ref": "39672244-2841-4417-ad18-1c0c0ac48120",
       "rows": [
        [
         "0",
         "Roger Federer",
         "1",
         "Switzerland",
         "employee at pharmaceutical firm",
         "executive at pharmaceutical firm",
         "True",
         "False",
         "103",
         "ATP",
         "1998",
         "Managing directors and chief executives",
         "Pharmaceutical technicians and assistants",
         "70",
         "40",
         "55"
        ],
        [
         "1",
         "Taylor Fritz",
         "4",
         "USA",
         "professional tennis player",
         "professional tennis player",
         "True",
         "False",
         "8",
         "ATP",
         "2015",
         "Athletes and sports players",
         "Athletes and sports players",
         "46",
         "46",
         "46"
        ],
        [
         "2",
         "Novak Djokovic",
         "1",
         "Serbia",
         "entrepreneur",
         "professional skier",
         "True",
         "True",
         "99",
         "ATP",
         "2003",
         "Athletes and sports players",
         "Managing directors and chief executives",
         "46",
         "70",
         "58"
        ],
        [
         "3",
         "Jessica Pegula",
         "3",
         "USA",
         "CEO",
         "business owner",
         "True",
         "False",
         "8",
         "WTA",
         "2009",
         "Managing directors and chief executives",
         "Managing directors and chief executives",
         "70",
         "70",
         "70"
        ],
        [
         "4",
         "Grigor Dimitrov",
         "3",
         "Bulgaria",
         "volleyball player",
         "tennis coach",
         "False",
         "False",
         "9",
         "ATP",
         "2008",
         "Athletes and sports players",
         "Athletes and sports players",
         "46",
         "46",
         "46"
        ]
       ],
       "shape": {
        "columns": 15,
        "rows": 5
       }
      },
      "text/html": [
       "<div>\n",
       "<style scoped>\n",
       "    .dataframe tbody tr th:only-of-type {\n",
       "        vertical-align: middle;\n",
       "    }\n",
       "\n",
       "    .dataframe tbody tr th {\n",
       "        vertical-align: top;\n",
       "    }\n",
       "\n",
       "    .dataframe thead th {\n",
       "        text-align: right;\n",
       "    }\n",
       "</style>\n",
       "<table border=\"1\" class=\"dataframe\">\n",
       "  <thead>\n",
       "    <tr style=\"text-align: right;\">\n",
       "      <th></th>\n",
       "      <th>player_name</th>\n",
       "      <th>highest_ranking</th>\n",
       "      <th>country</th>\n",
       "      <th>mother_occupation</th>\n",
       "      <th>father_occupation</th>\n",
       "      <th>sibling_info</th>\n",
       "      <th>sibling_player</th>\n",
       "      <th>titles_won</th>\n",
       "      <th>association</th>\n",
       "      <th>year_turned_pro</th>\n",
       "      <th>father_occupation_std</th>\n",
       "      <th>mother_occupation_std</th>\n",
       "      <th>father_ISEI</th>\n",
       "      <th>mother_ISEI</th>\n",
       "      <th>family_ISEI</th>\n",
       "    </tr>\n",
       "  </thead>\n",
       "  <tbody>\n",
       "    <tr>\n",
       "      <th>0</th>\n",
       "      <td>Roger Federer</td>\n",
       "      <td>1</td>\n",
       "      <td>Switzerland</td>\n",
       "      <td>employee at pharmaceutical firm</td>\n",
       "      <td>executive at pharmaceutical firm</td>\n",
       "      <td>True</td>\n",
       "      <td>False</td>\n",
       "      <td>103</td>\n",
       "      <td>ATP</td>\n",
       "      <td>1998</td>\n",
       "      <td>Managing directors and chief executives</td>\n",
       "      <td>Pharmaceutical technicians and assistants</td>\n",
       "      <td>70</td>\n",
       "      <td>40</td>\n",
       "      <td>55</td>\n",
       "    </tr>\n",
       "    <tr>\n",
       "      <th>1</th>\n",
       "      <td>Taylor Fritz</td>\n",
       "      <td>4</td>\n",
       "      <td>USA</td>\n",
       "      <td>professional tennis player</td>\n",
       "      <td>professional tennis player</td>\n",
       "      <td>True</td>\n",
       "      <td>False</td>\n",
       "      <td>8</td>\n",
       "      <td>ATP</td>\n",
       "      <td>2015</td>\n",
       "      <td>Athletes and sports players</td>\n",
       "      <td>Athletes and sports players</td>\n",
       "      <td>46</td>\n",
       "      <td>46</td>\n",
       "      <td>46</td>\n",
       "    </tr>\n",
       "    <tr>\n",
       "      <th>2</th>\n",
       "      <td>Novak Djokovic</td>\n",
       "      <td>1</td>\n",
       "      <td>Serbia</td>\n",
       "      <td>entrepreneur</td>\n",
       "      <td>professional skier</td>\n",
       "      <td>True</td>\n",
       "      <td>True</td>\n",
       "      <td>99</td>\n",
       "      <td>ATP</td>\n",
       "      <td>2003</td>\n",
       "      <td>Athletes and sports players</td>\n",
       "      <td>Managing directors and chief executives</td>\n",
       "      <td>46</td>\n",
       "      <td>70</td>\n",
       "      <td>58</td>\n",
       "    </tr>\n",
       "    <tr>\n",
       "      <th>3</th>\n",
       "      <td>Jessica Pegula</td>\n",
       "      <td>3</td>\n",
       "      <td>USA</td>\n",
       "      <td>CEO</td>\n",
       "      <td>business owner</td>\n",
       "      <td>True</td>\n",
       "      <td>False</td>\n",
       "      <td>8</td>\n",
       "      <td>WTA</td>\n",
       "      <td>2009</td>\n",
       "      <td>Managing directors and chief executives</td>\n",
       "      <td>Managing directors and chief executives</td>\n",
       "      <td>70</td>\n",
       "      <td>70</td>\n",
       "      <td>70</td>\n",
       "    </tr>\n",
       "    <tr>\n",
       "      <th>4</th>\n",
       "      <td>Grigor Dimitrov</td>\n",
       "      <td>3</td>\n",
       "      <td>Bulgaria</td>\n",
       "      <td>volleyball player</td>\n",
       "      <td>tennis coach</td>\n",
       "      <td>False</td>\n",
       "      <td>False</td>\n",
       "      <td>9</td>\n",
       "      <td>ATP</td>\n",
       "      <td>2008</td>\n",
       "      <td>Athletes and sports players</td>\n",
       "      <td>Athletes and sports players</td>\n",
       "      <td>46</td>\n",
       "      <td>46</td>\n",
       "      <td>46</td>\n",
       "    </tr>\n",
       "  </tbody>\n",
       "</table>\n",
       "</div>"
      ],
      "text/plain": [
       "       player_name  highest_ranking      country  \\\n",
       "0    Roger Federer                1  Switzerland   \n",
       "1     Taylor Fritz                4          USA   \n",
       "2   Novak Djokovic                1       Serbia   \n",
       "3   Jessica Pegula                3          USA   \n",
       "4  Grigor Dimitrov                3     Bulgaria   \n",
       "\n",
       "                 mother_occupation                 father_occupation  \\\n",
       "0  employee at pharmaceutical firm  executive at pharmaceutical firm   \n",
       "1       professional tennis player        professional tennis player   \n",
       "2                     entrepreneur                professional skier   \n",
       "3                              CEO                    business owner   \n",
       "4                volleyball player                      tennis coach   \n",
       "\n",
       "   sibling_info  sibling_player  titles_won association  year_turned_pro  \\\n",
       "0          True           False         103         ATP             1998   \n",
       "1          True           False           8         ATP             2015   \n",
       "2          True            True          99         ATP             2003   \n",
       "3          True           False           8         WTA             2009   \n",
       "4         False           False           9         ATP             2008   \n",
       "\n",
       "                     father_occupation_std  \\\n",
       "0  Managing directors and chief executives   \n",
       "1              Athletes and sports players   \n",
       "2              Athletes and sports players   \n",
       "3  Managing directors and chief executives   \n",
       "4              Athletes and sports players   \n",
       "\n",
       "                       mother_occupation_std  father_ISEI  mother_ISEI  \\\n",
       "0  Pharmaceutical technicians and assistants           70           40   \n",
       "1                Athletes and sports players           46           46   \n",
       "2    Managing directors and chief executives           46           70   \n",
       "3    Managing directors and chief executives           70           70   \n",
       "4                Athletes and sports players           46           46   \n",
       "\n",
       "   family_ISEI  \n",
       "0           55  \n",
       "1           46  \n",
       "2           58  \n",
       "3           70  \n",
       "4           46  "
      ]
     },
     "execution_count": 2,
     "metadata": {},
     "output_type": "execute_result"
    }
   ],
   "source": [
    "# Load the dataset\n",
    "df = pd.read_excel(\"thesis_dataset.xlsx\")\n",
    "df.head()"
   ]
  },
  {
   "cell_type": "code",
   "execution_count": 3,
   "id": "e936621e",
   "metadata": {},
   "outputs": [
    {
     "data": {
      "application/vnd.microsoft.datawrangler.viewer.v0+json": {
       "columns": [
        {
         "name": "index",
         "rawType": "int64",
         "type": "integer"
        },
        {
         "name": "player_name",
         "rawType": "object",
         "type": "string"
        },
        {
         "name": "highest_ranking",
         "rawType": "int64",
         "type": "integer"
        },
        {
         "name": "country",
         "rawType": "object",
         "type": "string"
        },
        {
         "name": "mother_occupation",
         "rawType": "object",
         "type": "string"
        },
        {
         "name": "father_occupation",
         "rawType": "object",
         "type": "string"
        },
        {
         "name": "sibling_info",
         "rawType": "int32",
         "type": "integer"
        },
        {
         "name": "sibling_player",
         "rawType": "int32",
         "type": "integer"
        },
        {
         "name": "titles_won",
         "rawType": "int64",
         "type": "integer"
        },
        {
         "name": "association",
         "rawType": "object",
         "type": "string"
        },
        {
         "name": "year_turned_pro",
         "rawType": "int64",
         "type": "integer"
        },
        {
         "name": "father_occupation_std",
         "rawType": "object",
         "type": "string"
        },
        {
         "name": "mother_occupation_std",
         "rawType": "object",
         "type": "string"
        },
        {
         "name": "father_ISEI",
         "rawType": "int64",
         "type": "integer"
        },
        {
         "name": "mother_ISEI",
         "rawType": "int64",
         "type": "integer"
        },
        {
         "name": "family_ISEI",
         "rawType": "int64",
         "type": "integer"
        }
       ],
       "ref": "830c0111-a417-4d4c-89bc-ad91d655b11a",
       "rows": [
        [
         "0",
         "Roger Federer",
         "1",
         "Switzerland",
         "employee at pharmaceutical firm",
         "executive at pharmaceutical firm",
         "1",
         "0",
         "103",
         "ATP",
         "1998",
         "Managing directors and chief executives",
         "Pharmaceutical technicians and assistants",
         "70",
         "40",
         "55"
        ],
        [
         "1",
         "Taylor Fritz",
         "4",
         "USA",
         "professional tennis player",
         "professional tennis player",
         "1",
         "0",
         "8",
         "ATP",
         "2015",
         "Athletes and sports players",
         "Athletes and sports players",
         "46",
         "46",
         "46"
        ],
        [
         "2",
         "Novak Djokovic",
         "1",
         "Serbia",
         "entrepreneur",
         "professional skier",
         "1",
         "1",
         "99",
         "ATP",
         "2003",
         "Athletes and sports players",
         "Managing directors and chief executives",
         "46",
         "70",
         "58"
        ],
        [
         "3",
         "Jessica Pegula",
         "3",
         "USA",
         "CEO",
         "business owner",
         "1",
         "0",
         "8",
         "WTA",
         "2009",
         "Managing directors and chief executives",
         "Managing directors and chief executives",
         "70",
         "70",
         "70"
        ],
        [
         "4",
         "Grigor Dimitrov",
         "3",
         "Bulgaria",
         "volleyball player",
         "tennis coach",
         "0",
         "0",
         "9",
         "ATP",
         "2008",
         "Athletes and sports players",
         "Athletes and sports players",
         "46",
         "46",
         "46"
        ]
       ],
       "shape": {
        "columns": 15,
        "rows": 5
       }
      },
      "text/html": [
       "<div>\n",
       "<style scoped>\n",
       "    .dataframe tbody tr th:only-of-type {\n",
       "        vertical-align: middle;\n",
       "    }\n",
       "\n",
       "    .dataframe tbody tr th {\n",
       "        vertical-align: top;\n",
       "    }\n",
       "\n",
       "    .dataframe thead th {\n",
       "        text-align: right;\n",
       "    }\n",
       "</style>\n",
       "<table border=\"1\" class=\"dataframe\">\n",
       "  <thead>\n",
       "    <tr style=\"text-align: right;\">\n",
       "      <th></th>\n",
       "      <th>player_name</th>\n",
       "      <th>highest_ranking</th>\n",
       "      <th>country</th>\n",
       "      <th>mother_occupation</th>\n",
       "      <th>father_occupation</th>\n",
       "      <th>sibling_info</th>\n",
       "      <th>sibling_player</th>\n",
       "      <th>titles_won</th>\n",
       "      <th>association</th>\n",
       "      <th>year_turned_pro</th>\n",
       "      <th>father_occupation_std</th>\n",
       "      <th>mother_occupation_std</th>\n",
       "      <th>father_ISEI</th>\n",
       "      <th>mother_ISEI</th>\n",
       "      <th>family_ISEI</th>\n",
       "    </tr>\n",
       "  </thead>\n",
       "  <tbody>\n",
       "    <tr>\n",
       "      <th>0</th>\n",
       "      <td>Roger Federer</td>\n",
       "      <td>1</td>\n",
       "      <td>Switzerland</td>\n",
       "      <td>employee at pharmaceutical firm</td>\n",
       "      <td>executive at pharmaceutical firm</td>\n",
       "      <td>1</td>\n",
       "      <td>0</td>\n",
       "      <td>103</td>\n",
       "      <td>ATP</td>\n",
       "      <td>1998</td>\n",
       "      <td>Managing directors and chief executives</td>\n",
       "      <td>Pharmaceutical technicians and assistants</td>\n",
       "      <td>70</td>\n",
       "      <td>40</td>\n",
       "      <td>55</td>\n",
       "    </tr>\n",
       "    <tr>\n",
       "      <th>1</th>\n",
       "      <td>Taylor Fritz</td>\n",
       "      <td>4</td>\n",
       "      <td>USA</td>\n",
       "      <td>professional tennis player</td>\n",
       "      <td>professional tennis player</td>\n",
       "      <td>1</td>\n",
       "      <td>0</td>\n",
       "      <td>8</td>\n",
       "      <td>ATP</td>\n",
       "      <td>2015</td>\n",
       "      <td>Athletes and sports players</td>\n",
       "      <td>Athletes and sports players</td>\n",
       "      <td>46</td>\n",
       "      <td>46</td>\n",
       "      <td>46</td>\n",
       "    </tr>\n",
       "    <tr>\n",
       "      <th>2</th>\n",
       "      <td>Novak Djokovic</td>\n",
       "      <td>1</td>\n",
       "      <td>Serbia</td>\n",
       "      <td>entrepreneur</td>\n",
       "      <td>professional skier</td>\n",
       "      <td>1</td>\n",
       "      <td>1</td>\n",
       "      <td>99</td>\n",
       "      <td>ATP</td>\n",
       "      <td>2003</td>\n",
       "      <td>Athletes and sports players</td>\n",
       "      <td>Managing directors and chief executives</td>\n",
       "      <td>46</td>\n",
       "      <td>70</td>\n",
       "      <td>58</td>\n",
       "    </tr>\n",
       "    <tr>\n",
       "      <th>3</th>\n",
       "      <td>Jessica Pegula</td>\n",
       "      <td>3</td>\n",
       "      <td>USA</td>\n",
       "      <td>CEO</td>\n",
       "      <td>business owner</td>\n",
       "      <td>1</td>\n",
       "      <td>0</td>\n",
       "      <td>8</td>\n",
       "      <td>WTA</td>\n",
       "      <td>2009</td>\n",
       "      <td>Managing directors and chief executives</td>\n",
       "      <td>Managing directors and chief executives</td>\n",
       "      <td>70</td>\n",
       "      <td>70</td>\n",
       "      <td>70</td>\n",
       "    </tr>\n",
       "    <tr>\n",
       "      <th>4</th>\n",
       "      <td>Grigor Dimitrov</td>\n",
       "      <td>3</td>\n",
       "      <td>Bulgaria</td>\n",
       "      <td>volleyball player</td>\n",
       "      <td>tennis coach</td>\n",
       "      <td>0</td>\n",
       "      <td>0</td>\n",
       "      <td>9</td>\n",
       "      <td>ATP</td>\n",
       "      <td>2008</td>\n",
       "      <td>Athletes and sports players</td>\n",
       "      <td>Athletes and sports players</td>\n",
       "      <td>46</td>\n",
       "      <td>46</td>\n",
       "      <td>46</td>\n",
       "    </tr>\n",
       "  </tbody>\n",
       "</table>\n",
       "</div>"
      ],
      "text/plain": [
       "       player_name  highest_ranking      country  \\\n",
       "0    Roger Federer                1  Switzerland   \n",
       "1     Taylor Fritz                4          USA   \n",
       "2   Novak Djokovic                1       Serbia   \n",
       "3   Jessica Pegula                3          USA   \n",
       "4  Grigor Dimitrov                3     Bulgaria   \n",
       "\n",
       "                 mother_occupation                 father_occupation  \\\n",
       "0  employee at pharmaceutical firm  executive at pharmaceutical firm   \n",
       "1       professional tennis player        professional tennis player   \n",
       "2                     entrepreneur                professional skier   \n",
       "3                              CEO                    business owner   \n",
       "4                volleyball player                      tennis coach   \n",
       "\n",
       "   sibling_info  sibling_player  titles_won association  year_turned_pro  \\\n",
       "0             1               0         103         ATP             1998   \n",
       "1             1               0           8         ATP             2015   \n",
       "2             1               1          99         ATP             2003   \n",
       "3             1               0           8         WTA             2009   \n",
       "4             0               0           9         ATP             2008   \n",
       "\n",
       "                     father_occupation_std  \\\n",
       "0  Managing directors and chief executives   \n",
       "1              Athletes and sports players   \n",
       "2              Athletes and sports players   \n",
       "3  Managing directors and chief executives   \n",
       "4              Athletes and sports players   \n",
       "\n",
       "                       mother_occupation_std  father_ISEI  mother_ISEI  \\\n",
       "0  Pharmaceutical technicians and assistants           70           40   \n",
       "1                Athletes and sports players           46           46   \n",
       "2    Managing directors and chief executives           46           70   \n",
       "3    Managing directors and chief executives           70           70   \n",
       "4                Athletes and sports players           46           46   \n",
       "\n",
       "   family_ISEI  \n",
       "0           55  \n",
       "1           46  \n",
       "2           58  \n",
       "3           70  \n",
       "4           46  "
      ]
     },
     "execution_count": 3,
     "metadata": {},
     "output_type": "execute_result"
    }
   ],
   "source": [
    "# Convert boolean columns to integers\n",
    "df['sibling_info'] = df['sibling_info'].astype(int)\n",
    "df['sibling_player'] = df['sibling_player'].astype(int)\n",
    "\n",
    "df.head()"
   ]
  },
  {
   "cell_type": "code",
   "execution_count": 4,
   "id": "66c15e14",
   "metadata": {},
   "outputs": [],
   "source": [
    "# Create the association dummy (ATP baseline, keep WTA)\n",
    "df['association_WTA'] = (df['association'] == 'WTA').astype(int)"
   ]
  },
  {
   "cell_type": "code",
   "execution_count": 5,
   "id": "4c9b4bbc",
   "metadata": {},
   "outputs": [],
   "source": [
    "# Get the top 5 countries by the number of players and use them as dummy variables\n",
    "top_countries = df['country'].value_counts().head(5).index.tolist()\n",
    "for c in top_countries:\n",
    "    df[f'country_{c.replace(\" \",\"_\")}'] = (df['country']==c).astype(int)"
   ]
  },
  {
   "cell_type": "code",
   "execution_count": 6,
   "id": "a8be4f10",
   "metadata": {},
   "outputs": [
    {
     "data": {
      "application/vnd.microsoft.datawrangler.viewer.v0+json": {
       "columns": [
        {
         "name": "index",
         "rawType": "int64",
         "type": "integer"
        },
        {
         "name": "player_name",
         "rawType": "object",
         "type": "string"
        },
        {
         "name": "highest_ranking",
         "rawType": "int64",
         "type": "integer"
        },
        {
         "name": "country",
         "rawType": "object",
         "type": "string"
        },
        {
         "name": "mother_occupation",
         "rawType": "object",
         "type": "string"
        },
        {
         "name": "father_occupation",
         "rawType": "object",
         "type": "string"
        },
        {
         "name": "sibling_info",
         "rawType": "int32",
         "type": "integer"
        },
        {
         "name": "sibling_player",
         "rawType": "int32",
         "type": "integer"
        },
        {
         "name": "titles_won",
         "rawType": "int64",
         "type": "integer"
        },
        {
         "name": "association",
         "rawType": "object",
         "type": "string"
        },
        {
         "name": "year_turned_pro",
         "rawType": "int64",
         "type": "integer"
        },
        {
         "name": "father_occupation_std",
         "rawType": "object",
         "type": "string"
        },
        {
         "name": "mother_occupation_std",
         "rawType": "object",
         "type": "string"
        },
        {
         "name": "father_ISEI",
         "rawType": "int64",
         "type": "integer"
        },
        {
         "name": "mother_ISEI",
         "rawType": "int64",
         "type": "integer"
        },
        {
         "name": "family_ISEI",
         "rawType": "int64",
         "type": "integer"
        },
        {
         "name": "association_WTA",
         "rawType": "int32",
         "type": "integer"
        },
        {
         "name": "country_USA",
         "rawType": "int32",
         "type": "integer"
        },
        {
         "name": "country_Russia",
         "rawType": "int32",
         "type": "integer"
        },
        {
         "name": "country_Australia",
         "rawType": "int32",
         "type": "integer"
        },
        {
         "name": "country_France",
         "rawType": "int32",
         "type": "integer"
        },
        {
         "name": "country_Spain",
         "rawType": "int32",
         "type": "integer"
        }
       ],
       "ref": "3c0e2a20-d870-4900-96e9-7146ea6e22ef",
       "rows": [
        [
         "0",
         "Roger Federer",
         "1",
         "Switzerland",
         "employee at pharmaceutical firm",
         "executive at pharmaceutical firm",
         "1",
         "0",
         "103",
         "ATP",
         "1998",
         "Managing directors and chief executives",
         "Pharmaceutical technicians and assistants",
         "70",
         "40",
         "55",
         "0",
         "0",
         "0",
         "0",
         "0",
         "0"
        ],
        [
         "1",
         "Taylor Fritz",
         "4",
         "USA",
         "professional tennis player",
         "professional tennis player",
         "1",
         "0",
         "8",
         "ATP",
         "2015",
         "Athletes and sports players",
         "Athletes and sports players",
         "46",
         "46",
         "46",
         "0",
         "1",
         "0",
         "0",
         "0",
         "0"
        ],
        [
         "2",
         "Novak Djokovic",
         "1",
         "Serbia",
         "entrepreneur",
         "professional skier",
         "1",
         "1",
         "99",
         "ATP",
         "2003",
         "Athletes and sports players",
         "Managing directors and chief executives",
         "46",
         "70",
         "58",
         "0",
         "0",
         "0",
         "0",
         "0",
         "0"
        ],
        [
         "3",
         "Jessica Pegula",
         "3",
         "USA",
         "CEO",
         "business owner",
         "1",
         "0",
         "8",
         "WTA",
         "2009",
         "Managing directors and chief executives",
         "Managing directors and chief executives",
         "70",
         "70",
         "70",
         "1",
         "1",
         "0",
         "0",
         "0",
         "0"
        ],
        [
         "4",
         "Grigor Dimitrov",
         "3",
         "Bulgaria",
         "volleyball player",
         "tennis coach",
         "0",
         "0",
         "9",
         "ATP",
         "2008",
         "Athletes and sports players",
         "Athletes and sports players",
         "46",
         "46",
         "46",
         "0",
         "0",
         "0",
         "0",
         "0",
         "0"
        ]
       ],
       "shape": {
        "columns": 21,
        "rows": 5
       }
      },
      "text/html": [
       "<div>\n",
       "<style scoped>\n",
       "    .dataframe tbody tr th:only-of-type {\n",
       "        vertical-align: middle;\n",
       "    }\n",
       "\n",
       "    .dataframe tbody tr th {\n",
       "        vertical-align: top;\n",
       "    }\n",
       "\n",
       "    .dataframe thead th {\n",
       "        text-align: right;\n",
       "    }\n",
       "</style>\n",
       "<table border=\"1\" class=\"dataframe\">\n",
       "  <thead>\n",
       "    <tr style=\"text-align: right;\">\n",
       "      <th></th>\n",
       "      <th>player_name</th>\n",
       "      <th>highest_ranking</th>\n",
       "      <th>country</th>\n",
       "      <th>mother_occupation</th>\n",
       "      <th>father_occupation</th>\n",
       "      <th>sibling_info</th>\n",
       "      <th>sibling_player</th>\n",
       "      <th>titles_won</th>\n",
       "      <th>association</th>\n",
       "      <th>year_turned_pro</th>\n",
       "      <th>...</th>\n",
       "      <th>mother_occupation_std</th>\n",
       "      <th>father_ISEI</th>\n",
       "      <th>mother_ISEI</th>\n",
       "      <th>family_ISEI</th>\n",
       "      <th>association_WTA</th>\n",
       "      <th>country_USA</th>\n",
       "      <th>country_Russia</th>\n",
       "      <th>country_Australia</th>\n",
       "      <th>country_France</th>\n",
       "      <th>country_Spain</th>\n",
       "    </tr>\n",
       "  </thead>\n",
       "  <tbody>\n",
       "    <tr>\n",
       "      <th>0</th>\n",
       "      <td>Roger Federer</td>\n",
       "      <td>1</td>\n",
       "      <td>Switzerland</td>\n",
       "      <td>employee at pharmaceutical firm</td>\n",
       "      <td>executive at pharmaceutical firm</td>\n",
       "      <td>1</td>\n",
       "      <td>0</td>\n",
       "      <td>103</td>\n",
       "      <td>ATP</td>\n",
       "      <td>1998</td>\n",
       "      <td>...</td>\n",
       "      <td>Pharmaceutical technicians and assistants</td>\n",
       "      <td>70</td>\n",
       "      <td>40</td>\n",
       "      <td>55</td>\n",
       "      <td>0</td>\n",
       "      <td>0</td>\n",
       "      <td>0</td>\n",
       "      <td>0</td>\n",
       "      <td>0</td>\n",
       "      <td>0</td>\n",
       "    </tr>\n",
       "    <tr>\n",
       "      <th>1</th>\n",
       "      <td>Taylor Fritz</td>\n",
       "      <td>4</td>\n",
       "      <td>USA</td>\n",
       "      <td>professional tennis player</td>\n",
       "      <td>professional tennis player</td>\n",
       "      <td>1</td>\n",
       "      <td>0</td>\n",
       "      <td>8</td>\n",
       "      <td>ATP</td>\n",
       "      <td>2015</td>\n",
       "      <td>...</td>\n",
       "      <td>Athletes and sports players</td>\n",
       "      <td>46</td>\n",
       "      <td>46</td>\n",
       "      <td>46</td>\n",
       "      <td>0</td>\n",
       "      <td>1</td>\n",
       "      <td>0</td>\n",
       "      <td>0</td>\n",
       "      <td>0</td>\n",
       "      <td>0</td>\n",
       "    </tr>\n",
       "    <tr>\n",
       "      <th>2</th>\n",
       "      <td>Novak Djokovic</td>\n",
       "      <td>1</td>\n",
       "      <td>Serbia</td>\n",
       "      <td>entrepreneur</td>\n",
       "      <td>professional skier</td>\n",
       "      <td>1</td>\n",
       "      <td>1</td>\n",
       "      <td>99</td>\n",
       "      <td>ATP</td>\n",
       "      <td>2003</td>\n",
       "      <td>...</td>\n",
       "      <td>Managing directors and chief executives</td>\n",
       "      <td>46</td>\n",
       "      <td>70</td>\n",
       "      <td>58</td>\n",
       "      <td>0</td>\n",
       "      <td>0</td>\n",
       "      <td>0</td>\n",
       "      <td>0</td>\n",
       "      <td>0</td>\n",
       "      <td>0</td>\n",
       "    </tr>\n",
       "    <tr>\n",
       "      <th>3</th>\n",
       "      <td>Jessica Pegula</td>\n",
       "      <td>3</td>\n",
       "      <td>USA</td>\n",
       "      <td>CEO</td>\n",
       "      <td>business owner</td>\n",
       "      <td>1</td>\n",
       "      <td>0</td>\n",
       "      <td>8</td>\n",
       "      <td>WTA</td>\n",
       "      <td>2009</td>\n",
       "      <td>...</td>\n",
       "      <td>Managing directors and chief executives</td>\n",
       "      <td>70</td>\n",
       "      <td>70</td>\n",
       "      <td>70</td>\n",
       "      <td>1</td>\n",
       "      <td>1</td>\n",
       "      <td>0</td>\n",
       "      <td>0</td>\n",
       "      <td>0</td>\n",
       "      <td>0</td>\n",
       "    </tr>\n",
       "    <tr>\n",
       "      <th>4</th>\n",
       "      <td>Grigor Dimitrov</td>\n",
       "      <td>3</td>\n",
       "      <td>Bulgaria</td>\n",
       "      <td>volleyball player</td>\n",
       "      <td>tennis coach</td>\n",
       "      <td>0</td>\n",
       "      <td>0</td>\n",
       "      <td>9</td>\n",
       "      <td>ATP</td>\n",
       "      <td>2008</td>\n",
       "      <td>...</td>\n",
       "      <td>Athletes and sports players</td>\n",
       "      <td>46</td>\n",
       "      <td>46</td>\n",
       "      <td>46</td>\n",
       "      <td>0</td>\n",
       "      <td>0</td>\n",
       "      <td>0</td>\n",
       "      <td>0</td>\n",
       "      <td>0</td>\n",
       "      <td>0</td>\n",
       "    </tr>\n",
       "  </tbody>\n",
       "</table>\n",
       "<p>5 rows × 21 columns</p>\n",
       "</div>"
      ],
      "text/plain": [
       "       player_name  highest_ranking      country  \\\n",
       "0    Roger Federer                1  Switzerland   \n",
       "1     Taylor Fritz                4          USA   \n",
       "2   Novak Djokovic                1       Serbia   \n",
       "3   Jessica Pegula                3          USA   \n",
       "4  Grigor Dimitrov                3     Bulgaria   \n",
       "\n",
       "                 mother_occupation                 father_occupation  \\\n",
       "0  employee at pharmaceutical firm  executive at pharmaceutical firm   \n",
       "1       professional tennis player        professional tennis player   \n",
       "2                     entrepreneur                professional skier   \n",
       "3                              CEO                    business owner   \n",
       "4                volleyball player                      tennis coach   \n",
       "\n",
       "   sibling_info  sibling_player  titles_won association  year_turned_pro  ...  \\\n",
       "0             1               0         103         ATP             1998  ...   \n",
       "1             1               0           8         ATP             2015  ...   \n",
       "2             1               1          99         ATP             2003  ...   \n",
       "3             1               0           8         WTA             2009  ...   \n",
       "4             0               0           9         ATP             2008  ...   \n",
       "\n",
       "                       mother_occupation_std father_ISEI  mother_ISEI  \\\n",
       "0  Pharmaceutical technicians and assistants          70           40   \n",
       "1                Athletes and sports players          46           46   \n",
       "2    Managing directors and chief executives          46           70   \n",
       "3    Managing directors and chief executives          70           70   \n",
       "4                Athletes and sports players          46           46   \n",
       "\n",
       "   family_ISEI  association_WTA  country_USA  country_Russia  \\\n",
       "0           55                0            0               0   \n",
       "1           46                0            1               0   \n",
       "2           58                0            0               0   \n",
       "3           70                1            1               0   \n",
       "4           46                0            0               0   \n",
       "\n",
       "   country_Australia  country_France  country_Spain  \n",
       "0                  0               0              0  \n",
       "1                  0               0              0  \n",
       "2                  0               0              0  \n",
       "3                  0               0              0  \n",
       "4                  0               0              0  \n",
       "\n",
       "[5 rows x 21 columns]"
      ]
     },
     "execution_count": 6,
     "metadata": {},
     "output_type": "execute_result"
    }
   ],
   "source": [
    "df.head()"
   ]
  },
  {
   "cell_type": "markdown",
   "id": "6e8ad6ab",
   "metadata": {},
   "source": [
    "#### Models having `titles_won` as dependent variable"
   ]
  },
  {
   "cell_type": "code",
   "execution_count": 7,
   "id": "e210a1af",
   "metadata": {},
   "outputs": [
    {
     "name": "stdout",
     "output_type": "stream",
     "text": [
      "                 Generalized Linear Model Regression Results                  \n",
      "==============================================================================\n",
      "Dep. Variable:             titles_won   No. Observations:                  100\n",
      "Model:                            GLM   Df Residuals:                       98\n",
      "Model Family:        NegativeBinomial   Df Model:                            1\n",
      "Link Function:                    Log   Scale:                          1.0000\n",
      "Method:                          IRLS   Log-Likelihood:                -434.26\n",
      "Date:                Sun, 08 Jun 2025   Deviance:                       123.78\n",
      "Time:                        13:45:12   Pearson chi2:                     139.\n",
      "No. Iterations:                     8   Pseudo R-squ. (CS):            0.05785\n",
      "Covariance Type:            nonrobust                                         \n",
      "===============================================================================\n",
      "                  coef    std err          z      P>|z|      [0.025      0.975]\n",
      "-------------------------------------------------------------------------------\n",
      "Intercept       4.1620      0.316     13.154      0.000       3.542       4.782\n",
      "mother_ISEI    -0.0173      0.006     -2.787      0.005      -0.030      -0.005\n",
      "===============================================================================\n"
     ]
    },
    {
     "name": "stderr",
     "output_type": "stream",
     "text": [
      "c:\\Users\\peta_\\anaconda3\\Lib\\site-packages\\statsmodels\\genmod\\families\\family.py:1367: ValueWarning: Negative binomial dispersion parameter alpha not set. Using default value alpha=1.0.\n",
      "  warnings.warn(\"Negative binomial dispersion parameter alpha not \"\n"
     ]
    }
   ],
   "source": [
    "# Create and fit a regression model where the dependent variable is 'titles_won' and the independent variable is 'mother_ISEI'\n",
    "model_mother_ISEI = sm.GLM.from_formula(\"titles_won ~ mother_ISEI\", data=df, family=NegativeBinomial()).fit()\n",
    "\n",
    "# Print the summary of the model\n",
    "print(model_mother_ISEI.summary())"
   ]
  },
  {
   "cell_type": "code",
   "execution_count": 8,
   "id": "293bbaa1",
   "metadata": {},
   "outputs": [
    {
     "name": "stdout",
     "output_type": "stream",
     "text": [
      "                 Generalized Linear Model Regression Results                  \n",
      "==============================================================================\n",
      "Dep. Variable:             titles_won   No. Observations:                  100\n",
      "Model:                            GLM   Df Residuals:                       98\n",
      "Model Family:        NegativeBinomial   Df Model:                            1\n",
      "Link Function:                    Log   Scale:                          1.0000\n",
      "Method:                          IRLS   Log-Likelihood:                -437.22\n",
      "Date:                Sun, 08 Jun 2025   Deviance:                       129.71\n",
      "Time:                        13:45:12   Pearson chi2:                     155.\n",
      "No. Iterations:                     6   Pseudo R-squ. (CS):          0.0003240\n",
      "Covariance Type:            nonrobust                                         \n",
      "===============================================================================\n",
      "                  coef    std err          z      P>|z|      [0.025      0.975]\n",
      "-------------------------------------------------------------------------------\n",
      "Intercept       3.2902      0.390      8.431      0.000       2.525       4.055\n",
      "father_ISEI     0.0012      0.007      0.172      0.863      -0.013       0.015\n",
      "===============================================================================\n"
     ]
    },
    {
     "name": "stderr",
     "output_type": "stream",
     "text": [
      "c:\\Users\\peta_\\anaconda3\\Lib\\site-packages\\statsmodels\\genmod\\families\\family.py:1367: ValueWarning: Negative binomial dispersion parameter alpha not set. Using default value alpha=1.0.\n",
      "  warnings.warn(\"Negative binomial dispersion parameter alpha not \"\n"
     ]
    }
   ],
   "source": [
    "# Create and fit a regression model where the dependent variable is `titles_won` and the independent variable is `father_ISEI`\n",
    "model_father_ISEI = sm.GLM.from_formula(\"titles_won ~ father_ISEI\", data=df, family=NegativeBinomial()).fit()\n",
    "\n",
    "# Print the summary of the model\n",
    "print(model_father_ISEI.summary())"
   ]
  },
  {
   "cell_type": "code",
   "execution_count": 9,
   "id": "de9bb7b0",
   "metadata": {},
   "outputs": [
    {
     "name": "stderr",
     "output_type": "stream",
     "text": [
      "c:\\Users\\peta_\\anaconda3\\Lib\\site-packages\\statsmodels\\genmod\\families\\family.py:1367: ValueWarning: Negative binomial dispersion parameter alpha not set. Using default value alpha=1.0.\n",
      "  warnings.warn(\"Negative binomial dispersion parameter alpha not \"\n"
     ]
    }
   ],
   "source": [
    "# Sequentially add predictors to the model, one at a time\n",
    "model_step1 = sm.GLM.from_formula(\"titles_won ~ mother_ISEI\", data=df, family=NegativeBinomial()).fit()"
   ]
  },
  {
   "cell_type": "code",
   "execution_count": 10,
   "id": "71d2ab30",
   "metadata": {},
   "outputs": [
    {
     "name": "stdout",
     "output_type": "stream",
     "text": [
      "                 Generalized Linear Model Regression Results                  \n",
      "==============================================================================\n",
      "Dep. Variable:             titles_won   No. Observations:                  100\n",
      "Model:                            GLM   Df Residuals:                       97\n",
      "Model Family:        NegativeBinomial   Df Model:                            2\n",
      "Link Function:                    Log   Scale:                          1.0000\n",
      "Method:                          IRLS   Log-Likelihood:                -434.02\n",
      "Date:                Sun, 08 Jun 2025   Deviance:                       123.30\n",
      "Time:                        13:45:12   Pearson chi2:                     143.\n",
      "No. Iterations:                     8   Pseudo R-squ. (CS):            0.06241\n",
      "Covariance Type:            nonrobust                                         \n",
      "===============================================================================\n",
      "                  coef    std err          z      P>|z|      [0.025      0.975]\n",
      "-------------------------------------------------------------------------------\n",
      "Intercept       3.9701      0.459      8.658      0.000       3.071       4.869\n",
      "mother_ISEI    -0.0186      0.006     -2.947      0.003      -0.031      -0.006\n",
      "father_ISEI     0.0047      0.007      0.653      0.514      -0.009       0.019\n",
      "===============================================================================\n"
     ]
    },
    {
     "name": "stderr",
     "output_type": "stream",
     "text": [
      "c:\\Users\\peta_\\anaconda3\\Lib\\site-packages\\statsmodels\\genmod\\families\\family.py:1367: ValueWarning: Negative binomial dispersion parameter alpha not set. Using default value alpha=1.0.\n",
      "  warnings.warn(\"Negative binomial dispersion parameter alpha not \"\n"
     ]
    }
   ],
   "source": [
    "model_step2 = sm.GLM.from_formula(\"titles_won ~ mother_ISEI + father_ISEI\", data=df, family=NegativeBinomial()).fit()\n",
    "\n",
    "# Print the summary of the model\n",
    "print(model_step2.summary())"
   ]
  },
  {
   "cell_type": "code",
   "execution_count": 11,
   "id": "3dc11a85",
   "metadata": {},
   "outputs": [
    {
     "name": "stdout",
     "output_type": "stream",
     "text": [
      "VIF for model_step2:\n",
      "      Variable       VIF\n",
      "0  mother_ISEI  1.030596\n",
      "1  father_ISEI  1.030596\n"
     ]
    }
   ],
   "source": [
    "# Calculate the VIF for model_step2 (without constant)\n",
    "print(\"VIF for model_step2:\")\n",
    "vif_step2 = pd.DataFrame({\n",
    "    'Variable': model_step2.model.exog_names[1:],  # Exclude the constant\n",
    "    'VIF': [variance_inflation_factor(model_step2.model.exog, i) for i in range(1, model_step2.model.exog.shape[1])]\n",
    "})\n",
    "print(vif_step2)"
   ]
  },
  {
   "cell_type": "code",
   "execution_count": 12,
   "id": "ac42d418",
   "metadata": {},
   "outputs": [
    {
     "name": "stdout",
     "output_type": "stream",
     "text": [
      "                 Generalized Linear Model Regression Results                  \n",
      "==============================================================================\n",
      "Dep. Variable:             titles_won   No. Observations:                  100\n",
      "Model:                            GLM   Df Residuals:                       96\n",
      "Model Family:        NegativeBinomial   Df Model:                            3\n",
      "Link Function:                    Log   Scale:                          1.0000\n",
      "Method:                          IRLS   Log-Likelihood:                -432.39\n",
      "Date:                Sun, 08 Jun 2025   Deviance:                       120.04\n",
      "Time:                        13:45:12   Pearson chi2:                     140.\n",
      "No. Iterations:                     8   Pseudo R-squ. (CS):            0.09244\n",
      "Covariance Type:            nonrobust                                         \n",
      "================================================================================\n",
      "                   coef    std err          z      P>|z|      [0.025      0.975]\n",
      "--------------------------------------------------------------------------------\n",
      "Intercept        4.4021      0.531      8.295      0.000       3.362       5.442\n",
      "mother_ISEI     -0.0160      0.006     -2.483      0.013      -0.029      -0.003\n",
      "father_ISEI      0.0037      0.007      0.510      0.610      -0.011       0.018\n",
      "sibling_info    -0.5759      0.345     -1.671      0.095      -1.252       0.100\n",
      "================================================================================\n"
     ]
    },
    {
     "name": "stderr",
     "output_type": "stream",
     "text": [
      "c:\\Users\\peta_\\anaconda3\\Lib\\site-packages\\statsmodels\\genmod\\families\\family.py:1367: ValueWarning: Negative binomial dispersion parameter alpha not set. Using default value alpha=1.0.\n",
      "  warnings.warn(\"Negative binomial dispersion parameter alpha not \"\n"
     ]
    }
   ],
   "source": [
    "model_3 = sm.GLM.from_formula(\"titles_won ~ mother_ISEI + father_ISEI + sibling_info\", data=df, family=NegativeBinomial()).fit()\n",
    "\n",
    "# Print the summary of the model\n",
    "print(model_3.summary())"
   ]
  },
  {
   "cell_type": "code",
   "execution_count": 13,
   "id": "57b0e175",
   "metadata": {},
   "outputs": [
    {
     "name": "stdout",
     "output_type": "stream",
     "text": [
      "VIF for model_3:\n",
      "       Variable       VIF\n",
      "0   mother_ISEI  1.079099\n",
      "1   father_ISEI  1.034383\n",
      "2  sibling_info  1.047620\n"
     ]
    }
   ],
   "source": [
    "# Calculate the VIF for model_3 (without constant)\n",
    "print(\"VIF for model_3:\")\n",
    "vif_model_3 = pd.DataFrame({\n",
    "    'Variable': model_3.model.exog_names[1:],  # Exclude the constant\n",
    "    'VIF': [variance_inflation_factor(model_3.model.exog, i) for i in range(1, model_3.model.exog.shape[1])]\n",
    "})\n",
    "print(vif_model_3)"
   ]
  },
  {
   "cell_type": "code",
   "execution_count": 14,
   "id": "fd139870",
   "metadata": {},
   "outputs": [
    {
     "name": "stderr",
     "output_type": "stream",
     "text": [
      "c:\\Users\\peta_\\anaconda3\\Lib\\site-packages\\statsmodels\\genmod\\families\\family.py:1367: ValueWarning: Negative binomial dispersion parameter alpha not set. Using default value alpha=1.0.\n",
      "  warnings.warn(\"Negative binomial dispersion parameter alpha not \"\n"
     ]
    },
    {
     "name": "stdout",
     "output_type": "stream",
     "text": [
      "                 Generalized Linear Model Regression Results                  \n",
      "==============================================================================\n",
      "Dep. Variable:             titles_won   No. Observations:                  100\n",
      "Model:                            GLM   Df Residuals:                       95\n",
      "Model Family:        NegativeBinomial   Df Model:                            4\n",
      "Link Function:                    Log   Scale:                          1.0000\n",
      "Method:                          IRLS   Log-Likelihood:                -432.32\n",
      "Date:                Sun, 08 Jun 2025   Deviance:                       119.90\n",
      "Time:                        13:45:12   Pearson chi2:                     140.\n",
      "No. Iterations:                     8   Pseudo R-squ. (CS):            0.09375\n",
      "Covariance Type:            nonrobust                                         \n",
      "==================================================================================\n",
      "                     coef    std err          z      P>|z|      [0.025      0.975]\n",
      "----------------------------------------------------------------------------------\n",
      "Intercept          4.3982      0.531      8.285      0.000       3.358       5.439\n",
      "mother_ISEI       -0.0163      0.006     -2.521      0.012      -0.029      -0.004\n",
      "father_ISEI        0.0040      0.007      0.547      0.584      -0.010       0.018\n",
      "sibling_info      -0.6215      0.367     -1.694      0.090      -1.341       0.098\n",
      "sibling_player     0.0831      0.217      0.383      0.702      -0.343       0.509\n",
      "==================================================================================\n"
     ]
    }
   ],
   "source": [
    "model_step4 = sm.GLM.from_formula(\"titles_won ~ mother_ISEI + father_ISEI + sibling_info + sibling_player\", data=df, family=NegativeBinomial()).fit()\n",
    "\n",
    "# Print the summary of the model\n",
    "print(model_step4.summary())"
   ]
  },
  {
   "cell_type": "code",
   "execution_count": 15,
   "id": "e12e704e",
   "metadata": {},
   "outputs": [
    {
     "name": "stdout",
     "output_type": "stream",
     "text": [
      "VIF for model_step4:\n",
      "         Variable       VIF\n",
      "0     mother_ISEI  1.080426\n",
      "1     father_ISEI  1.034398\n",
      "2    sibling_info  1.183954\n",
      "3  sibling_player  1.132279\n"
     ]
    }
   ],
   "source": [
    "# Calculate the VIF for model_step4 (without constant)\n",
    "print(\"VIF for model_step4:\")\n",
    "vif_model_step4 = pd.DataFrame({\n",
    "    'Variable': model_step4.model.exog_names[1:],  # Exclude the constant\n",
    "    'VIF': [variance_inflation_factor(model_step4.model.exog, i) for i in range(1, model_step4.model.exog.shape[1])]\n",
    "})\n",
    "print(vif_model_step4)"
   ]
  },
  {
   "cell_type": "code",
   "execution_count": 16,
   "id": "2858db1c",
   "metadata": {},
   "outputs": [
    {
     "name": "stderr",
     "output_type": "stream",
     "text": [
      "c:\\Users\\peta_\\anaconda3\\Lib\\site-packages\\statsmodels\\genmod\\families\\family.py:1367: ValueWarning: Negative binomial dispersion parameter alpha not set. Using default value alpha=1.0.\n",
      "  warnings.warn(\"Negative binomial dispersion parameter alpha not \"\n"
     ]
    },
    {
     "name": "stdout",
     "output_type": "stream",
     "text": [
      "                 Generalized Linear Model Regression Results                  \n",
      "==============================================================================\n",
      "Dep. Variable:             titles_won   No. Observations:                  100\n",
      "Model:                            GLM   Df Residuals:                       94\n",
      "Model Family:        NegativeBinomial   Df Model:                            5\n",
      "Link Function:                    Log   Scale:                          1.0000\n",
      "Method:                          IRLS   Log-Likelihood:                -431.70\n",
      "Date:                Sun, 08 Jun 2025   Deviance:                       118.66\n",
      "Time:                        13:45:12   Pearson chi2:                     140.\n",
      "No. Iterations:                    11   Pseudo R-squ. (CS):             0.1049\n",
      "Covariance Type:            nonrobust                                         \n",
      "===================================================================================\n",
      "                      coef    std err          z      P>|z|      [0.025      0.975]\n",
      "-----------------------------------------------------------------------------------\n",
      "Intercept           4.1838      0.541      7.727      0.000       3.123       5.245\n",
      "mother_ISEI        -0.0156      0.006     -2.407      0.016      -0.028      -0.003\n",
      "father_ISEI         0.0052      0.007      0.713      0.476      -0.009       0.019\n",
      "sibling_info       -0.6552      0.367     -1.785      0.074      -1.375       0.064\n",
      "sibling_player      0.1455      0.218      0.668      0.504      -0.281       0.572\n",
      "association_WTA     0.2389      0.205      1.163      0.245      -0.164       0.642\n",
      "===================================================================================\n"
     ]
    }
   ],
   "source": [
    "model_step5 = sm.GLM.from_formula(\"titles_won ~ mother_ISEI + father_ISEI + sibling_info + sibling_player + association_WTA\", data=df, family=NegativeBinomial()).fit()\n",
    "\n",
    "# Print the summary of the model\n",
    "print(model_step5.summary())"
   ]
  },
  {
   "cell_type": "code",
   "execution_count": 17,
   "id": "b99b1a04",
   "metadata": {},
   "outputs": [
    {
     "name": "stderr",
     "output_type": "stream",
     "text": [
      "c:\\Users\\peta_\\anaconda3\\Lib\\site-packages\\statsmodels\\genmod\\families\\family.py:1367: ValueWarning: Negative binomial dispersion parameter alpha not set. Using default value alpha=1.0.\n",
      "  warnings.warn(\"Negative binomial dispersion parameter alpha not \"\n"
     ]
    },
    {
     "name": "stdout",
     "output_type": "stream",
     "text": [
      "                 Generalized Linear Model Regression Results                  \n",
      "==============================================================================\n",
      "Dep. Variable:             titles_won   No. Observations:                  100\n",
      "Model:                            GLM   Df Residuals:                       89\n",
      "Model Family:        NegativeBinomial   Df Model:                           10\n",
      "Link Function:                    Log   Scale:                          1.0000\n",
      "Method:                          IRLS   Log-Likelihood:                -427.96\n",
      "Date:                Sun, 08 Jun 2025   Deviance:                       111.19\n",
      "Time:                        13:45:12   Pearson chi2:                     117.\n",
      "No. Iterations:                    13   Pseudo R-squ. (CS):             0.1694\n",
      "Covariance Type:            nonrobust                                         \n",
      "=====================================================================================\n",
      "                        coef    std err          z      P>|z|      [0.025      0.975]\n",
      "-------------------------------------------------------------------------------------\n",
      "Intercept             4.1680      0.546      7.633      0.000       3.098       5.238\n",
      "mother_ISEI          -0.0139      0.007     -2.079      0.038      -0.027      -0.001\n",
      "father_ISEI           0.0044      0.007      0.597      0.550      -0.010       0.019\n",
      "sibling_info         -0.6861      0.379     -1.811      0.070      -1.429       0.056\n",
      "sibling_player        0.0145      0.229      0.064      0.949      -0.433       0.462\n",
      "association_WTA       0.1720      0.210      0.821      0.412      -0.239       0.583\n",
      "country_USA           0.3769      0.251      1.504      0.133      -0.114       0.868\n",
      "country_Russia       -0.5248      0.457     -1.149      0.251      -1.420       0.371\n",
      "country_Australia     0.4351      0.447      0.974      0.330      -0.440       1.310\n",
      "country_France       -0.7764      0.510     -1.523      0.128      -1.776       0.223\n",
      "country_Spain         0.1683      0.487      0.346      0.729      -0.785       1.122\n",
      "=====================================================================================\n"
     ]
    }
   ],
   "source": [
    "country_dummies = \" + \".join([f\"country_{c.replace(' ', '_')}\" for c in top_countries])\n",
    "model_step6 = sm.GLM.from_formula(f\"titles_won ~ mother_ISEI + father_ISEI + sibling_info + sibling_player + association_WTA + {country_dummies}\", data=df, family=NegativeBinomial()).fit()\n",
    "\n",
    "# Print the summary of the model\n",
    "print(model_step6.summary())"
   ]
  },
  {
   "cell_type": "code",
   "execution_count": 18,
   "id": "304ca46d",
   "metadata": {},
   "outputs": [
    {
     "name": "stderr",
     "output_type": "stream",
     "text": [
      "c:\\Users\\peta_\\anaconda3\\Lib\\site-packages\\statsmodels\\genmod\\families\\family.py:1367: ValueWarning: Negative binomial dispersion parameter alpha not set. Using default value alpha=1.0.\n",
      "  warnings.warn(\"Negative binomial dispersion parameter alpha not \"\n"
     ]
    },
    {
     "name": "stdout",
     "output_type": "stream",
     "text": [
      "\n",
      "Full model excluding sibling_player:\n",
      "\n",
      "                 Generalized Linear Model Regression Results                  \n",
      "==============================================================================\n",
      "Dep. Variable:             titles_won   No. Observations:                  100\n",
      "Model:                            GLM   Df Residuals:                       90\n",
      "Model Family:        NegativeBinomial   Df Model:                            9\n",
      "Link Function:                    Log   Scale:                          1.0000\n",
      "Method:                          IRLS   Log-Likelihood:                -427.96\n",
      "Date:                Sun, 08 Jun 2025   Deviance:                       111.19\n",
      "Time:                        13:45:12   Pearson chi2:                     117.\n",
      "No. Iterations:                    12   Pseudo R-squ. (CS):             0.1693\n",
      "Covariance Type:            nonrobust                                         \n",
      "=====================================================================================\n",
      "                        coef    std err          z      P>|z|      [0.025      0.975]\n",
      "-------------------------------------------------------------------------------------\n",
      "Intercept             4.1713      0.545      7.658      0.000       3.104       5.239\n",
      "mother_ISEI          -0.0139      0.007     -2.081      0.037      -0.027      -0.001\n",
      "father_ISEI           0.0043      0.007      0.587      0.557      -0.010       0.019\n",
      "sibling_info         -0.6786      0.354     -1.916      0.055      -1.373       0.016\n",
      "association_WTA       0.1692      0.208      0.813      0.416      -0.239       0.577\n",
      "country_USA           0.3813      0.249      1.529      0.126      -0.108       0.870\n",
      "country_Russia       -0.5250      0.455     -1.154      0.249      -1.417       0.367\n",
      "country_Australia     0.4313      0.443      0.974      0.330      -0.437       1.299\n",
      "country_France       -0.7802      0.500     -1.559      0.119      -1.761       0.201\n",
      "country_Spain         0.1681      0.484      0.348      0.728      -0.780       1.116\n",
      "=====================================================================================\n"
     ]
    }
   ],
   "source": [
    "# Create the full model with all predictors excluding `sibling_player` from the independent variables\n",
    "full_model = sm.GLM.from_formula(f\"titles_won ~ mother_ISEI + father_ISEI + sibling_info + association_WTA + {country_dummies}\", data=df, family=NegativeBinomial()).fit()\n",
    "\n",
    "# Print the summary of the full model\n",
    "print(\"\\nFull model excluding sibling_player:\\n\")\n",
    "print(full_model.summary())"
   ]
  },
  {
   "cell_type": "code",
   "execution_count": 19,
   "id": "ee5d8a6a",
   "metadata": {},
   "outputs": [
    {
     "name": "stdout",
     "output_type": "stream",
     "text": [
      "VIF for full_model:\n",
      "            Variable       VIF\n",
      "0        mother_ISEI  1.140882\n",
      "1        father_ISEI  1.072908\n",
      "2       sibling_info  1.102780\n",
      "3    association_WTA  1.031985\n",
      "4        country_USA  1.154539\n",
      "5     country_Russia  1.099623\n",
      "6  country_Australia  1.071131\n",
      "7     country_France  1.091634\n",
      "8      country_Spain  1.073521\n"
     ]
    }
   ],
   "source": [
    "# Calculate the VIF for full_model (without constant)\n",
    "print(\"VIF for full_model:\")\n",
    "vif_full_model = pd.DataFrame({\n",
    "    'Variable': full_model.model.exog_names[1:],  # Exclude the constant\n",
    "    'VIF': [variance_inflation_factor(full_model.model.exog, i) for i in range(1, full_model.model.exog.shape[1])]\n",
    "})\n",
    "print(vif_full_model)\n"
   ]
  },
  {
   "cell_type": "code",
   "execution_count": 20,
   "id": "aad4d915",
   "metadata": {},
   "outputs": [],
   "source": [
    "# Define a list of formulas, building up predictors step by step\n",
    "formulas = [\n",
    "    \"titles_won ~ mother_ISEI\",\n",
    "    \"titles_won ~ mother_ISEI + father_ISEI\",\n",
    "    \"titles_won ~ mother_ISEI + father_ISEI + sibling_info\",\n",
    "    \"titles_won ~ mother_ISEI + father_ISEI + sibling_info + association_WTA\",\n",
    "    f\"titles_won ~ mother_ISEI + father_ISEI + sibling_info + association_WTA + {country_dummies}\"\n",
    "]"
   ]
  },
  {
   "cell_type": "code",
   "execution_count": 21,
   "id": "0ab5508d",
   "metadata": {},
   "outputs": [],
   "source": [
    "# Create a dictionary to collect results (model name, formula, AIC, BIC, the coefficients and standard errors for each variable)\n",
    "results_summary = {\n",
    "    'Model': [],\n",
    "    'Formula': [],\n",
    "    'AIC': [],\n",
    "    'BIC': [],\n",
    "    'Coef_mother_ISEI': [],\n",
    "    'SE_mother_ISEI': [],\n",
    "    'Coef_father_ISEI': [],\n",
    "    'SE_father_ISEI': [],\n",
    "    'Coef_sibling_info': [],\n",
    "    'SE_sibling_info': [],\n",
    "    'Coef_sibling_player': [],\n",
    "    'SE_sibling_player': []\n",
    "}"
   ]
  },
  {
   "cell_type": "code",
   "execution_count": 22,
   "id": "3b1b57b9",
   "metadata": {},
   "outputs": [
    {
     "name": "stderr",
     "output_type": "stream",
     "text": [
      "c:\\Users\\peta_\\anaconda3\\Lib\\site-packages\\statsmodels\\genmod\\families\\family.py:1367: ValueWarning: Negative binomial dispersion parameter alpha not set. Using default value alpha=1.0.\n",
      "  warnings.warn(\"Negative binomial dispersion parameter alpha not \"\n",
      "c:\\Users\\peta_\\anaconda3\\Lib\\site-packages\\statsmodels\\genmod\\generalized_linear_model.py:1838: FutureWarning: The bic value is computed using the deviance formula. After 0.13 this will change to the log-likelihood based formula. This change has no impact on the relative rank of models compared using BIC. You can directly access the log-likelihood version using the `bic_llf` attribute. You can suppress this message by calling statsmodels.genmod.generalized_linear_model.SET_USE_BIC_LLF with True to get the LLF-based version now or False to retainthe deviance version.\n",
      "  warnings.warn(\n",
      "c:\\Users\\peta_\\anaconda3\\Lib\\site-packages\\statsmodels\\genmod\\families\\family.py:1367: ValueWarning: Negative binomial dispersion parameter alpha not set. Using default value alpha=1.0.\n",
      "  warnings.warn(\"Negative binomial dispersion parameter alpha not \"\n",
      "c:\\Users\\peta_\\anaconda3\\Lib\\site-packages\\statsmodels\\genmod\\generalized_linear_model.py:1838: FutureWarning: The bic value is computed using the deviance formula. After 0.13 this will change to the log-likelihood based formula. This change has no impact on the relative rank of models compared using BIC. You can directly access the log-likelihood version using the `bic_llf` attribute. You can suppress this message by calling statsmodels.genmod.generalized_linear_model.SET_USE_BIC_LLF with True to get the LLF-based version now or False to retainthe deviance version.\n",
      "  warnings.warn(\n",
      "c:\\Users\\peta_\\anaconda3\\Lib\\site-packages\\statsmodels\\genmod\\families\\family.py:1367: ValueWarning: Negative binomial dispersion parameter alpha not set. Using default value alpha=1.0.\n",
      "  warnings.warn(\"Negative binomial dispersion parameter alpha not \"\n",
      "c:\\Users\\peta_\\anaconda3\\Lib\\site-packages\\statsmodels\\genmod\\generalized_linear_model.py:1838: FutureWarning: The bic value is computed using the deviance formula. After 0.13 this will change to the log-likelihood based formula. This change has no impact on the relative rank of models compared using BIC. You can directly access the log-likelihood version using the `bic_llf` attribute. You can suppress this message by calling statsmodels.genmod.generalized_linear_model.SET_USE_BIC_LLF with True to get the LLF-based version now or False to retainthe deviance version.\n",
      "  warnings.warn(\n",
      "c:\\Users\\peta_\\anaconda3\\Lib\\site-packages\\statsmodels\\genmod\\families\\family.py:1367: ValueWarning: Negative binomial dispersion parameter alpha not set. Using default value alpha=1.0.\n",
      "  warnings.warn(\"Negative binomial dispersion parameter alpha not \"\n",
      "c:\\Users\\peta_\\anaconda3\\Lib\\site-packages\\statsmodels\\genmod\\generalized_linear_model.py:1838: FutureWarning: The bic value is computed using the deviance formula. After 0.13 this will change to the log-likelihood based formula. This change has no impact on the relative rank of models compared using BIC. You can directly access the log-likelihood version using the `bic_llf` attribute. You can suppress this message by calling statsmodels.genmod.generalized_linear_model.SET_USE_BIC_LLF with True to get the LLF-based version now or False to retainthe deviance version.\n",
      "  warnings.warn(\n",
      "c:\\Users\\peta_\\anaconda3\\Lib\\site-packages\\statsmodels\\genmod\\families\\family.py:1367: ValueWarning: Negative binomial dispersion parameter alpha not set. Using default value alpha=1.0.\n",
      "  warnings.warn(\"Negative binomial dispersion parameter alpha not \"\n",
      "c:\\Users\\peta_\\anaconda3\\Lib\\site-packages\\statsmodels\\genmod\\generalized_linear_model.py:1838: FutureWarning: The bic value is computed using the deviance formula. After 0.13 this will change to the log-likelihood based formula. This change has no impact on the relative rank of models compared using BIC. You can directly access the log-likelihood version using the `bic_llf` attribute. You can suppress this message by calling statsmodels.genmod.generalized_linear_model.SET_USE_BIC_LLF with True to get the LLF-based version now or False to retainthe deviance version.\n",
      "  warnings.warn(\n"
     ]
    }
   ],
   "source": [
    "# Fit each model and collect results\n",
    "for idx, formula in enumerate(formulas, start=1):\n",
    "    model = sm.GLM.from_formula(formula, data=df, family=NegativeBinomial()).fit()\n",
    "    \n",
    "    results_summary['Model'].append(f\"Model {idx}\")\n",
    "    results_summary['Formula'].append(formula)\n",
    "    results_summary['AIC'].append(model.aic)\n",
    "    results_summary['BIC'].append(model.bic)\n",
    "    \n",
    "    # For each key variable, record coef and SE if present; otherwise NaN\n",
    "    for var in ['mother_ISEI', 'father_ISEI', 'sibling_info', 'sibling_player']:\n",
    "        if var in model.params.index:\n",
    "            results_summary[f'Coef_{var}'].append(model.params[var])\n",
    "            results_summary[f'SE_{var}'].append(model.bse[var])\n",
    "        else:\n",
    "            results_summary[f'Coef_{var}'].append(float('nan'))\n",
    "            results_summary[f'SE_{var}'].append(float('nan'))"
   ]
  },
  {
   "cell_type": "code",
   "execution_count": 23,
   "id": "06edc857",
   "metadata": {},
   "outputs": [
    {
     "name": "stdout",
     "output_type": "stream",
     "text": [
      "\n",
      "Results Summary DataFrame:\n",
      "     Model                                            Formula         AIC  \\\n",
      "0  Model 1                           titles_won ~ mother_ISEI  872.522023   \n",
      "1  Model 2             titles_won ~ mother_ISEI + father_ISEI  874.036576   \n",
      "2  Model 3  titles_won ~ mother_ISEI + father_ISEI + sibli...  872.781469   \n",
      "3  Model 4  titles_won ~ mother_ISEI + father_ISEI + sibli...  873.810899   \n",
      "4  Model 5  titles_won ~ mother_ISEI + father_ISEI + sibli...  875.929589   \n",
      "\n",
      "          BIC  Coef_mother_ISEI  SE_mother_ISEI  Coef_father_ISEI  \\\n",
      "0 -327.522092         -0.017323        0.006215               NaN   \n",
      "1 -323.402368         -0.018580        0.006304          0.004720   \n",
      "2 -322.052305         -0.016021        0.006453          0.003697   \n",
      "3 -318.417705         -0.015137        0.006455          0.004541   \n",
      "4 -303.273164         -0.013871        0.006667          0.004335   \n",
      "\n",
      "   SE_father_ISEI  Coef_sibling_info  SE_sibling_info  Coef_sibling_player  \\\n",
      "0             NaN                NaN              NaN                  NaN   \n",
      "1        0.007234                NaN              NaN                  NaN   \n",
      "2        0.007250          -0.575938         0.344747                  NaN   \n",
      "3        0.007258          -0.575669         0.344933                  NaN   \n",
      "4        0.007381          -0.678575         0.354192                  NaN   \n",
      "\n",
      "   SE_sibling_player  \n",
      "0                NaN  \n",
      "1                NaN  \n",
      "2                NaN  \n",
      "3                NaN  \n",
      "4                NaN  \n"
     ]
    }
   ],
   "source": [
    "# Convert the results summary to a DataFrame\n",
    "results_df = pd.DataFrame(results_summary)\n",
    "\n",
    "# Display the results DataFrame\n",
    "print(\"\\nResults Summary DataFrame:\")\n",
    "print(results_df)"
   ]
  },
  {
   "cell_type": "markdown",
   "id": "a33d66b4",
   "metadata": {},
   "source": [
    "#### Models having `highest_ranking` as the dependent variable"
   ]
  },
  {
   "cell_type": "code",
   "execution_count": 24,
   "id": "587aff26",
   "metadata": {},
   "outputs": [
    {
     "name": "stdout",
     "output_type": "stream",
     "text": [
      "                 Generalized Linear Model Regression Results                  \n",
      "==============================================================================\n",
      "Dep. Variable:        highest_ranking   No. Observations:                  100\n",
      "Model:                            GLM   Df Residuals:                       98\n",
      "Model Family:        NegativeBinomial   Df Model:                            1\n",
      "Link Function:                    Log   Scale:                          1.0000\n",
      "Method:                          IRLS   Log-Likelihood:                -273.42\n",
      "Date:                Sat, 07 Jun 2025   Deviance:                       101.44\n",
      "Time:                        19:32:23   Pearson chi2:                     182.\n",
      "No. Iterations:                    11   Pseudo R-squ. (CS):            0.08539\n",
      "Covariance Type:            nonrobust                                         \n",
      "===============================================================================\n",
      "                  coef    std err          z      P>|z|      [0.025      0.975]\n",
      "-------------------------------------------------------------------------------\n",
      "Intercept       0.7636      0.354      2.155      0.031       0.069       1.458\n",
      "mother_ISEI     0.0181      0.007      2.639      0.008       0.005       0.032\n",
      "===============================================================================\n"
     ]
    },
    {
     "name": "stderr",
     "output_type": "stream",
     "text": [
      "c:\\Users\\peta_\\anaconda3\\Lib\\site-packages\\statsmodels\\genmod\\families\\family.py:1367: ValueWarning: Negative binomial dispersion parameter alpha not set. Using default value alpha=1.0.\n",
      "  warnings.warn(\"Negative binomial dispersion parameter alpha not \"\n"
     ]
    }
   ],
   "source": [
    "# Create and fit a regression model where the dependent variable is 'highest_ranking' and the independent variable is 'mother_ISEI'\n",
    "model2_mother_ISEI = sm.GLM.from_formula(\"highest_ranking ~ mother_ISEI\", data=df, family=NegativeBinomial()).fit()\n",
    "\n",
    "# Print the summary of the model\n",
    "print(model2_mother_ISEI.summary())"
   ]
  },
  {
   "cell_type": "code",
   "execution_count": 25,
   "id": "ded20f8f",
   "metadata": {},
   "outputs": [
    {
     "name": "stdout",
     "output_type": "stream",
     "text": [
      "                 Generalized Linear Model Regression Results                  \n",
      "==============================================================================\n",
      "Dep. Variable:        highest_ranking   No. Observations:                  100\n",
      "Model:                            GLM   Df Residuals:                       98\n",
      "Model Family:        NegativeBinomial   Df Model:                            1\n",
      "Link Function:                    Log   Scale:                          1.0000\n",
      "Method:                          IRLS   Log-Likelihood:                -275.27\n",
      "Date:                Sat, 07 Jun 2025   Deviance:                       105.14\n",
      "Time:                        19:32:54   Pearson chi2:                     219.\n",
      "No. Iterations:                     8   Pseudo R-squ. (CS):            0.05091\n",
      "Covariance Type:            nonrobust                                         \n",
      "===============================================================================\n",
      "                  coef    std err          z      P>|z|      [0.025      0.975]\n",
      "-------------------------------------------------------------------------------\n",
      "Intercept       2.6585      0.416      6.392      0.000       1.843       3.474\n",
      "father_ISEI    -0.0188      0.008     -2.457      0.014      -0.034      -0.004\n",
      "===============================================================================\n"
     ]
    },
    {
     "name": "stderr",
     "output_type": "stream",
     "text": [
      "c:\\Users\\peta_\\anaconda3\\Lib\\site-packages\\statsmodels\\genmod\\families\\family.py:1367: ValueWarning: Negative binomial dispersion parameter alpha not set. Using default value alpha=1.0.\n",
      "  warnings.warn(\"Negative binomial dispersion parameter alpha not \"\n"
     ]
    }
   ],
   "source": [
    "# Create and fit a regression model where the dependent variable is `highest_ranking` and the independent variable is `father_ISEI`\n",
    "model2_father_ISEI = sm.GLM.from_formula(\"highest_ranking ~ father_ISEI\", data=df, family=NegativeBinomial()).fit()\n",
    "\n",
    "# Print the summary of the model\n",
    "print(model2_father_ISEI.summary())"
   ]
  },
  {
   "cell_type": "code",
   "execution_count": 26,
   "id": "1a44dd51",
   "metadata": {},
   "outputs": [
    {
     "name": "stderr",
     "output_type": "stream",
     "text": [
      "c:\\Users\\peta_\\anaconda3\\Lib\\site-packages\\statsmodels\\genmod\\families\\family.py:1367: ValueWarning: Negative binomial dispersion parameter alpha not set. Using default value alpha=1.0.\n",
      "  warnings.warn(\"Negative binomial dispersion parameter alpha not \"\n"
     ]
    }
   ],
   "source": [
    "# Sequentially add predictors to the model, one at a time\n",
    "model2_step1 = sm.GLM.from_formula(\"highest_ranking ~ mother_ISEI\", data=df, family=NegativeBinomial()).fit()"
   ]
  },
  {
   "cell_type": "code",
   "execution_count": 27,
   "id": "30c94f02",
   "metadata": {},
   "outputs": [
    {
     "name": "stdout",
     "output_type": "stream",
     "text": [
      "                 Generalized Linear Model Regression Results                  \n",
      "==============================================================================\n",
      "Dep. Variable:        highest_ranking   No. Observations:                  100\n",
      "Model:                            GLM   Df Residuals:                       97\n",
      "Model Family:        NegativeBinomial   Df Model:                            2\n",
      "Link Function:                    Log   Scale:                          1.0000\n",
      "Method:                          IRLS   Log-Likelihood:                -270.42\n",
      "Date:                Sat, 07 Jun 2025   Deviance:                       95.426\n",
      "Time:                        19:34:07   Pearson chi2:                     157.\n",
      "No. Iterations:                    15   Pseudo R-squ. (CS):             0.1387\n",
      "Covariance Type:            nonrobust                                         \n",
      "===============================================================================\n",
      "                  coef    std err          z      P>|z|      [0.025      0.975]\n",
      "-------------------------------------------------------------------------------\n",
      "Intercept       1.7997      0.496      3.630      0.000       0.828       2.771\n",
      "mother_ISEI     0.0188      0.007      2.643      0.008       0.005       0.033\n",
      "father_ISEI    -0.0209      0.008     -2.675      0.007      -0.036      -0.006\n",
      "===============================================================================\n"
     ]
    },
    {
     "name": "stderr",
     "output_type": "stream",
     "text": [
      "c:\\Users\\peta_\\anaconda3\\Lib\\site-packages\\statsmodels\\genmod\\families\\family.py:1367: ValueWarning: Negative binomial dispersion parameter alpha not set. Using default value alpha=1.0.\n",
      "  warnings.warn(\"Negative binomial dispersion parameter alpha not \"\n"
     ]
    }
   ],
   "source": [
    "model2_step2 = sm.GLM.from_formula(\"highest_ranking ~ mother_ISEI + father_ISEI\", data=df, family=NegativeBinomial()).fit()\n",
    "\n",
    "# Print the summary of the model\n",
    "print(model2_step2.summary())"
   ]
  },
  {
   "cell_type": "code",
   "execution_count": 28,
   "id": "99a09f9f",
   "metadata": {},
   "outputs": [
    {
     "name": "stdout",
     "output_type": "stream",
     "text": [
      "VIF for model_step2:\n",
      "      Variable       VIF\n",
      "0  mother_ISEI  1.030596\n",
      "1  father_ISEI  1.030596\n"
     ]
    }
   ],
   "source": [
    "# Calculate the VIF for model_step2 (without constant)\n",
    "print(\"VIF for model_step2:\")\n",
    "vif_step2 = pd.DataFrame({\n",
    "    'Variable': model_step2.model.exog_names[1:],  # Exclude the constant\n",
    "    'VIF': [variance_inflation_factor(model2_step2.model.exog, i) for i in range(1, model2_step2.model.exog.shape[1])]\n",
    "})\n",
    "print(vif_step2)"
   ]
  },
  {
   "cell_type": "code",
   "execution_count": 29,
   "id": "8ab9f550",
   "metadata": {},
   "outputs": [
    {
     "name": "stdout",
     "output_type": "stream",
     "text": [
      "                 Generalized Linear Model Regression Results                  \n",
      "==============================================================================\n",
      "Dep. Variable:        highest_ranking   No. Observations:                  100\n",
      "Model:                            GLM   Df Residuals:                       96\n",
      "Model Family:        NegativeBinomial   Df Model:                            3\n",
      "Link Function:                    Log   Scale:                          1.0000\n",
      "Method:                          IRLS   Log-Likelihood:                -268.93\n",
      "Date:                Sat, 07 Jun 2025   Deviance:                       92.459\n",
      "Time:                        19:34:54   Pearson chi2:                     148.\n",
      "No. Iterations:                    15   Pseudo R-squ. (CS):             0.1639\n",
      "Covariance Type:            nonrobust                                         \n",
      "================================================================================\n",
      "                   coef    std err          z      P>|z|      [0.025      0.975]\n",
      "--------------------------------------------------------------------------------\n",
      "Intercept        1.1280      0.597      1.890      0.059      -0.042       2.298\n",
      "mother_ISEI      0.0175      0.007      2.408      0.016       0.003       0.032\n",
      "father_ISEI     -0.0198      0.008     -2.526      0.012      -0.035      -0.004\n",
      "sibling_info     0.7308      0.411      1.779      0.075      -0.074       1.536\n",
      "================================================================================\n"
     ]
    },
    {
     "name": "stderr",
     "output_type": "stream",
     "text": [
      "c:\\Users\\peta_\\anaconda3\\Lib\\site-packages\\statsmodels\\genmod\\families\\family.py:1367: ValueWarning: Negative binomial dispersion parameter alpha not set. Using default value alpha=1.0.\n",
      "  warnings.warn(\"Negative binomial dispersion parameter alpha not \"\n"
     ]
    }
   ],
   "source": [
    "model2_step3 = sm.GLM.from_formula(\"highest_ranking ~ mother_ISEI + father_ISEI + sibling_info\", data=df, family=NegativeBinomial()).fit()\n",
    "\n",
    "# Print the summary of the model\n",
    "print(model2_step3.summary())"
   ]
  },
  {
   "cell_type": "code",
   "execution_count": 30,
   "id": "be2eb41a",
   "metadata": {},
   "outputs": [
    {
     "name": "stdout",
     "output_type": "stream",
     "text": [
      "VIF for model_3:\n",
      "       Variable       VIF\n",
      "0   mother_ISEI  1.079099\n",
      "1   father_ISEI  1.034383\n",
      "2  sibling_info  1.047620\n"
     ]
    }
   ],
   "source": [
    "# Calculate the VIF for model_3 (without constant)\n",
    "print(\"VIF for model_3:\")\n",
    "vif_model_3 = pd.DataFrame({\n",
    "    'Variable': model2_step3.model.exog_names[1:],  # Exclude the constant\n",
    "    'VIF': [variance_inflation_factor(model2_step3.model.exog, i) for i in range(1, model2_step3.model.exog.shape[1])]\n",
    "})\n",
    "print(vif_model_3)"
   ]
  },
  {
   "cell_type": "code",
   "execution_count": 31,
   "id": "d0dd480a",
   "metadata": {},
   "outputs": [
    {
     "name": "stdout",
     "output_type": "stream",
     "text": [
      "                 Generalized Linear Model Regression Results                  \n",
      "==============================================================================\n",
      "Dep. Variable:        highest_ranking   No. Observations:                  100\n",
      "Model:                            GLM   Df Residuals:                       95\n",
      "Model Family:        NegativeBinomial   Df Model:                            4\n",
      "Link Function:                    Log   Scale:                          1.0000\n",
      "Method:                          IRLS   Log-Likelihood:                -268.91\n",
      "Date:                Sat, 07 Jun 2025   Deviance:                       92.422\n",
      "Time:                        19:35:32   Pearson chi2:                     149.\n",
      "No. Iterations:                    21   Pseudo R-squ. (CS):             0.1642\n",
      "Covariance Type:            nonrobust                                         \n",
      "==================================================================================\n",
      "                     coef    std err          z      P>|z|      [0.025      0.975]\n",
      "----------------------------------------------------------------------------------\n",
      "Intercept          1.1236      0.597      1.882      0.060      -0.046       2.294\n",
      "mother_ISEI        0.0177      0.007      2.431      0.015       0.003       0.032\n",
      "father_ISEI       -0.0199      0.008     -2.535      0.011      -0.035      -0.005\n",
      "sibling_info       0.7549      0.433      1.745      0.081      -0.093       1.603\n",
      "sibling_player    -0.0455      0.233     -0.195      0.845      -0.502       0.411\n",
      "==================================================================================\n"
     ]
    },
    {
     "name": "stderr",
     "output_type": "stream",
     "text": [
      "c:\\Users\\peta_\\anaconda3\\Lib\\site-packages\\statsmodels\\genmod\\families\\family.py:1367: ValueWarning: Negative binomial dispersion parameter alpha not set. Using default value alpha=1.0.\n",
      "  warnings.warn(\"Negative binomial dispersion parameter alpha not \"\n"
     ]
    }
   ],
   "source": [
    "model2_step4 = sm.GLM.from_formula(\"highest_ranking ~ mother_ISEI + father_ISEI + sibling_info + sibling_player\", data=df, family=NegativeBinomial()).fit()\n",
    "\n",
    "# Print the summary of the model\n",
    "print(model2_step4.summary())"
   ]
  },
  {
   "cell_type": "code",
   "execution_count": 32,
   "id": "c6a602fb",
   "metadata": {},
   "outputs": [
    {
     "name": "stdout",
     "output_type": "stream",
     "text": [
      "VIF for model_step4:\n",
      "         Variable       VIF\n",
      "0     mother_ISEI  1.080426\n",
      "1     father_ISEI  1.034398\n",
      "2    sibling_info  1.183954\n",
      "3  sibling_player  1.132279\n"
     ]
    }
   ],
   "source": [
    "# Calculate the VIF for model_step4 (without constant)\n",
    "print(\"VIF for model_step4:\")\n",
    "vif_model_step4 = pd.DataFrame({\n",
    "    'Variable': model_step4.model.exog_names[1:],  # Exclude the constant\n",
    "    'VIF': [variance_inflation_factor(model2_step4.model.exog, i) for i in range(1, model2_step4.model.exog.shape[1])]\n",
    "})\n",
    "print(vif_model_step4)"
   ]
  },
  {
   "cell_type": "code",
   "execution_count": 33,
   "id": "6d65cd48",
   "metadata": {},
   "outputs": [
    {
     "name": "stdout",
     "output_type": "stream",
     "text": [
      "                 Generalized Linear Model Regression Results                  \n",
      "==============================================================================\n",
      "Dep. Variable:        highest_ranking   No. Observations:                  100\n",
      "Model:                            GLM   Df Residuals:                       94\n",
      "Model Family:        NegativeBinomial   Df Model:                            5\n",
      "Link Function:                    Log   Scale:                          1.0000\n",
      "Method:                          IRLS   Log-Likelihood:                -264.18\n",
      "Date:                Sat, 07 Jun 2025   Deviance:                       82.953\n",
      "Time:                        19:36:14   Pearson chi2:                     126.\n",
      "No. Iterations:                    14   Pseudo R-squ. (CS):             0.2397\n",
      "Covariance Type:            nonrobust                                         \n",
      "===================================================================================\n",
      "                      coef    std err          z      P>|z|      [0.025      0.975]\n",
      "-----------------------------------------------------------------------------------\n",
      "Intercept           1.4585      0.604      2.413      0.016       0.274       2.643\n",
      "mother_ISEI         0.0171      0.007      2.344      0.019       0.003       0.031\n",
      "father_ISEI        -0.0169      0.008     -2.173      0.030      -0.032      -0.002\n",
      "sibling_info        0.5680      0.428      1.328      0.184      -0.270       1.406\n",
      "sibling_player     -0.0967      0.235     -0.411      0.681      -0.558       0.365\n",
      "association_WTA    -0.7230      0.227     -3.192      0.001      -1.167      -0.279\n",
      "===================================================================================\n"
     ]
    },
    {
     "name": "stderr",
     "output_type": "stream",
     "text": [
      "c:\\Users\\peta_\\anaconda3\\Lib\\site-packages\\statsmodels\\genmod\\families\\family.py:1367: ValueWarning: Negative binomial dispersion parameter alpha not set. Using default value alpha=1.0.\n",
      "  warnings.warn(\"Negative binomial dispersion parameter alpha not \"\n"
     ]
    }
   ],
   "source": [
    "model2_step5 = sm.GLM.from_formula(\"highest_ranking ~ mother_ISEI + father_ISEI + sibling_info + sibling_player + association_WTA\", data=df, family=NegativeBinomial()).fit()\n",
    "\n",
    "# Print the summary of the model\n",
    "print(model2_step5.summary())"
   ]
  },
  {
   "cell_type": "code",
   "execution_count": 34,
   "id": "2695ced3",
   "metadata": {},
   "outputs": [
    {
     "name": "stdout",
     "output_type": "stream",
     "text": [
      "                 Generalized Linear Model Regression Results                  \n",
      "==============================================================================\n",
      "Dep. Variable:        highest_ranking   No. Observations:                  100\n",
      "Model:                            GLM   Df Residuals:                       89\n",
      "Model Family:        NegativeBinomial   Df Model:                           10\n",
      "Link Function:                    Log   Scale:                          1.0000\n",
      "Method:                          IRLS   Log-Likelihood:                -260.64\n",
      "Date:                Sat, 07 Jun 2025   Deviance:                       75.871\n",
      "Time:                        19:36:40   Pearson chi2:                     109.\n",
      "No. Iterations:                    14   Pseudo R-squ. (CS):             0.2917\n",
      "Covariance Type:            nonrobust                                         \n",
      "=====================================================================================\n",
      "                        coef    std err          z      P>|z|      [0.025      0.975]\n",
      "-------------------------------------------------------------------------------------\n",
      "Intercept             1.2448      0.613      2.031      0.042       0.044       2.446\n",
      "mother_ISEI           0.0201      0.008      2.646      0.008       0.005       0.035\n",
      "father_ISEI          -0.0160      0.008     -2.006      0.045      -0.032      -0.000\n",
      "sibling_info          0.4494      0.445      1.011      0.312      -0.422       1.321\n",
      "sibling_player        0.0759      0.249      0.305      0.761      -0.412       0.564\n",
      "association_WTA      -0.6158      0.233     -2.641      0.008      -1.073      -0.159\n",
      "country_USA          -0.0632      0.272     -0.233      0.816      -0.596       0.470\n",
      "country_Russia       -0.4275      0.528     -0.809      0.418      -1.463       0.608\n",
      "country_Australia     0.0670      0.481      0.139      0.889      -0.877       1.010\n",
      "country_France        0.8378      0.517      1.620      0.105      -0.176       1.851\n",
      "country_Spain        -1.1811      0.634     -1.862      0.063      -2.424       0.062\n",
      "=====================================================================================\n"
     ]
    },
    {
     "name": "stderr",
     "output_type": "stream",
     "text": [
      "c:\\Users\\peta_\\anaconda3\\Lib\\site-packages\\statsmodels\\genmod\\families\\family.py:1367: ValueWarning: Negative binomial dispersion parameter alpha not set. Using default value alpha=1.0.\n",
      "  warnings.warn(\"Negative binomial dispersion parameter alpha not \"\n"
     ]
    }
   ],
   "source": [
    "country_dummies = \" + \".join([f\"country_{c.replace(' ', '_')}\" for c in top_countries])\n",
    "model2_step6 = sm.GLM.from_formula(f\"highest_ranking ~ mother_ISEI + father_ISEI + sibling_info + sibling_player + association_WTA + {country_dummies}\", data=df, family=NegativeBinomial()).fit()\n",
    "\n",
    "# Print the summary of the model\n",
    "print(model2_step6.summary())"
   ]
  },
  {
   "cell_type": "code",
   "execution_count": 35,
   "id": "21263e83",
   "metadata": {},
   "outputs": [
    {
     "name": "stdout",
     "output_type": "stream",
     "text": [
      "\n",
      "Full model excluding sibling_player:\n",
      "\n",
      "                 Generalized Linear Model Regression Results                  \n",
      "==============================================================================\n",
      "Dep. Variable:        highest_ranking   No. Observations:                  100\n",
      "Model:                            GLM   Df Residuals:                       90\n",
      "Model Family:        NegativeBinomial   Df Model:                            9\n",
      "Link Function:                    Log   Scale:                          1.0000\n",
      "Method:                          IRLS   Log-Likelihood:                -260.68\n",
      "Date:                Sat, 07 Jun 2025   Deviance:                       75.958\n",
      "Time:                        19:37:10   Pearson chi2:                     110.\n",
      "No. Iterations:                    13   Pseudo R-squ. (CS):             0.2911\n",
      "Covariance Type:            nonrobust                                         \n",
      "=====================================================================================\n",
      "                        coef    std err          z      P>|z|      [0.025      0.975]\n",
      "-------------------------------------------------------------------------------------\n",
      "Intercept             1.2550      0.611      2.053      0.040       0.057       2.453\n",
      "mother_ISEI           0.0200      0.008      2.646      0.008       0.005       0.035\n",
      "father_ISEI          -0.0160      0.008     -2.004      0.045      -0.032      -0.000\n",
      "sibling_info          0.4913      0.419      1.173      0.241      -0.329       1.312\n",
      "association_WTA      -0.6280      0.231     -2.721      0.007      -1.080      -0.176\n",
      "country_USA          -0.0550      0.271     -0.203      0.839      -0.585       0.475\n",
      "country_Russia       -0.4434      0.527     -0.842      0.400      -1.476       0.589\n",
      "country_Australia     0.0395      0.477      0.083      0.934      -0.896       0.975\n",
      "country_France        0.7927      0.507      1.565      0.118      -0.200       1.786\n",
      "country_Spain        -1.1620      0.631     -1.841      0.066      -2.399       0.075\n",
      "=====================================================================================\n"
     ]
    },
    {
     "name": "stderr",
     "output_type": "stream",
     "text": [
      "c:\\Users\\peta_\\anaconda3\\Lib\\site-packages\\statsmodels\\genmod\\families\\family.py:1367: ValueWarning: Negative binomial dispersion parameter alpha not set. Using default value alpha=1.0.\n",
      "  warnings.warn(\"Negative binomial dispersion parameter alpha not \"\n"
     ]
    }
   ],
   "source": [
    "# Create the full model with all predictors excluding `sibling_player` from the independent variables\n",
    "full_model2 = sm.GLM.from_formula(f\"highest_ranking ~ mother_ISEI + father_ISEI + sibling_info + association_WTA + {country_dummies}\", data=df, family=NegativeBinomial()).fit()\n",
    "\n",
    "# Print the summary of the full model\n",
    "print(\"\\nFull model excluding sibling_player:\\n\")\n",
    "print(full_model2.summary())"
   ]
  },
  {
   "cell_type": "code",
   "execution_count": 36,
   "id": "342bd1ff",
   "metadata": {},
   "outputs": [
    {
     "name": "stdout",
     "output_type": "stream",
     "text": [
      "VIF for full_model:\n",
      "            Variable       VIF\n",
      "0        mother_ISEI  1.140882\n",
      "1        father_ISEI  1.072908\n",
      "2       sibling_info  1.102780\n",
      "3    association_WTA  1.031985\n",
      "4        country_USA  1.154539\n",
      "5     country_Russia  1.099623\n",
      "6  country_Australia  1.071131\n",
      "7     country_France  1.091634\n",
      "8      country_Spain  1.073521\n"
     ]
    }
   ],
   "source": [
    "# Calculate the VIF for full_model (without constant)\n",
    "print(\"VIF for full_model:\")\n",
    "vif_full_model = pd.DataFrame({\n",
    "    'Variable': full_model2.model.exog_names[1:],  # Exclude the constant\n",
    "    'VIF': [variance_inflation_factor(full_model2.model.exog, i) for i in range(1, full_model2.model.exog.shape[1])]\n",
    "})\n",
    "print(vif_full_model)"
   ]
  },
  {
   "cell_type": "code",
   "execution_count": 38,
   "id": "10e388fa",
   "metadata": {},
   "outputs": [],
   "source": [
    "# Define a list of formulas, building up predictors step by step\n",
    "formulas2 = [\n",
    "    \"highest_ranking ~ mother_ISEI\",\n",
    "    \"highest_ranking ~ father_ISEI\",\n",
    "    \"highest_ranking ~ mother_ISEI + father_ISEI\",\n",
    "    \"highest_ranking ~ mother_ISEI + father_ISEI + sibling_info\",\n",
    "    \"highest_ranking ~ mother_ISEI + father_ISEI + sibling_info + association_WTA\",\n",
    "    f\"highest_ranking ~ mother_ISEI + father_ISEI + sibling_info + association_WTA + {country_dummies}\"\n",
    "]"
   ]
  },
  {
   "cell_type": "code",
   "execution_count": 39,
   "id": "0f901e4d",
   "metadata": {},
   "outputs": [],
   "source": [
    "# Create a dictionary to collect results (model name, formula, AIC, BIC, the coefficients and standard errors for each variable)\n",
    "results_summary2 = {\n",
    "    'Model': [],\n",
    "    'Formula': [],\n",
    "    'AIC': [],\n",
    "    'BIC': [],\n",
    "    'Coef_mother_ISEI': [],\n",
    "    'SE_mother_ISEI': [],\n",
    "    'Coef_father_ISEI': [],\n",
    "    'SE_father_ISEI': [],\n",
    "    'Coef_sibling_info': [],\n",
    "    'SE_sibling_info': [],\n",
    "    'Coef_sibling_player': [],\n",
    "    'SE_sibling_player': []\n",
    "}"
   ]
  },
  {
   "cell_type": "code",
   "execution_count": 40,
   "id": "390d266b",
   "metadata": {},
   "outputs": [
    {
     "name": "stderr",
     "output_type": "stream",
     "text": [
      "c:\\Users\\peta_\\anaconda3\\Lib\\site-packages\\statsmodels\\genmod\\families\\family.py:1367: ValueWarning: Negative binomial dispersion parameter alpha not set. Using default value alpha=1.0.\n",
      "  warnings.warn(\"Negative binomial dispersion parameter alpha not \"\n",
      "c:\\Users\\peta_\\anaconda3\\Lib\\site-packages\\statsmodels\\genmod\\generalized_linear_model.py:1838: FutureWarning: The bic value is computed using the deviance formula. After 0.13 this will change to the log-likelihood based formula. This change has no impact on the relative rank of models compared using BIC. You can directly access the log-likelihood version using the `bic_llf` attribute. You can suppress this message by calling statsmodels.genmod.generalized_linear_model.SET_USE_BIC_LLF with True to get the LLF-based version now or False to retainthe deviance version.\n",
      "  warnings.warn(\n",
      "c:\\Users\\peta_\\anaconda3\\Lib\\site-packages\\statsmodels\\genmod\\families\\family.py:1367: ValueWarning: Negative binomial dispersion parameter alpha not set. Using default value alpha=1.0.\n",
      "  warnings.warn(\"Negative binomial dispersion parameter alpha not \"\n",
      "c:\\Users\\peta_\\anaconda3\\Lib\\site-packages\\statsmodels\\genmod\\generalized_linear_model.py:1838: FutureWarning: The bic value is computed using the deviance formula. After 0.13 this will change to the log-likelihood based formula. This change has no impact on the relative rank of models compared using BIC. You can directly access the log-likelihood version using the `bic_llf` attribute. You can suppress this message by calling statsmodels.genmod.generalized_linear_model.SET_USE_BIC_LLF with True to get the LLF-based version now or False to retainthe deviance version.\n",
      "  warnings.warn(\n",
      "c:\\Users\\peta_\\anaconda3\\Lib\\site-packages\\statsmodels\\genmod\\families\\family.py:1367: ValueWarning: Negative binomial dispersion parameter alpha not set. Using default value alpha=1.0.\n",
      "  warnings.warn(\"Negative binomial dispersion parameter alpha not \"\n",
      "c:\\Users\\peta_\\anaconda3\\Lib\\site-packages\\statsmodels\\genmod\\generalized_linear_model.py:1838: FutureWarning: The bic value is computed using the deviance formula. After 0.13 this will change to the log-likelihood based formula. This change has no impact on the relative rank of models compared using BIC. You can directly access the log-likelihood version using the `bic_llf` attribute. You can suppress this message by calling statsmodels.genmod.generalized_linear_model.SET_USE_BIC_LLF with True to get the LLF-based version now or False to retainthe deviance version.\n",
      "  warnings.warn(\n",
      "c:\\Users\\peta_\\anaconda3\\Lib\\site-packages\\statsmodels\\genmod\\families\\family.py:1367: ValueWarning: Negative binomial dispersion parameter alpha not set. Using default value alpha=1.0.\n",
      "  warnings.warn(\"Negative binomial dispersion parameter alpha not \"\n",
      "c:\\Users\\peta_\\anaconda3\\Lib\\site-packages\\statsmodels\\genmod\\generalized_linear_model.py:1838: FutureWarning: The bic value is computed using the deviance formula. After 0.13 this will change to the log-likelihood based formula. This change has no impact on the relative rank of models compared using BIC. You can directly access the log-likelihood version using the `bic_llf` attribute. You can suppress this message by calling statsmodels.genmod.generalized_linear_model.SET_USE_BIC_LLF with True to get the LLF-based version now or False to retainthe deviance version.\n",
      "  warnings.warn(\n",
      "c:\\Users\\peta_\\anaconda3\\Lib\\site-packages\\statsmodels\\genmod\\families\\family.py:1367: ValueWarning: Negative binomial dispersion parameter alpha not set. Using default value alpha=1.0.\n",
      "  warnings.warn(\"Negative binomial dispersion parameter alpha not \"\n",
      "c:\\Users\\peta_\\anaconda3\\Lib\\site-packages\\statsmodels\\genmod\\generalized_linear_model.py:1838: FutureWarning: The bic value is computed using the deviance formula. After 0.13 this will change to the log-likelihood based formula. This change has no impact on the relative rank of models compared using BIC. You can directly access the log-likelihood version using the `bic_llf` attribute. You can suppress this message by calling statsmodels.genmod.generalized_linear_model.SET_USE_BIC_LLF with True to get the LLF-based version now or False to retainthe deviance version.\n",
      "  warnings.warn(\n",
      "c:\\Users\\peta_\\anaconda3\\Lib\\site-packages\\statsmodels\\genmod\\families\\family.py:1367: ValueWarning: Negative binomial dispersion parameter alpha not set. Using default value alpha=1.0.\n",
      "  warnings.warn(\"Negative binomial dispersion parameter alpha not \"\n",
      "c:\\Users\\peta_\\anaconda3\\Lib\\site-packages\\statsmodels\\genmod\\generalized_linear_model.py:1838: FutureWarning: The bic value is computed using the deviance formula. After 0.13 this will change to the log-likelihood based formula. This change has no impact on the relative rank of models compared using BIC. You can directly access the log-likelihood version using the `bic_llf` attribute. You can suppress this message by calling statsmodels.genmod.generalized_linear_model.SET_USE_BIC_LLF with True to get the LLF-based version now or False to retainthe deviance version.\n",
      "  warnings.warn(\n"
     ]
    }
   ],
   "source": [
    "# Fit each model and collect results\n",
    "for idx, formula in enumerate(formulas2, start=1):\n",
    "    model = sm.GLM.from_formula(formula, data=df, family=NegativeBinomial()).fit()\n",
    "\n",
    "    results_summary2['Model'].append(f\"Model {idx}\")\n",
    "    results_summary2['Formula'].append(formula)\n",
    "    results_summary2['AIC'].append(model.aic)\n",
    "    results_summary2['BIC'].append(model.bic)\n",
    "\n",
    "    # For each key variable, record coef and SE if present; otherwise NaN\n",
    "    for var in ['mother_ISEI', 'father_ISEI', 'sibling_info', 'sibling_player']:\n",
    "        if var in model.params.index:\n",
    "            results_summary2[f'Coef_{var}'].append(model.params[var])\n",
    "            results_summary2[f'SE_{var}'].append(model.bse[var])\n",
    "        else:\n",
    "            results_summary2[f'Coef_{var}'].append(float('nan'))\n",
    "            results_summary2[f'SE_{var}'].append(float('nan'))"
   ]
  },
  {
   "cell_type": "code",
   "execution_count": 41,
   "id": "3b3bbb6f",
   "metadata": {},
   "outputs": [
    {
     "name": "stdout",
     "output_type": "stream",
     "text": [
      "\n",
      "Results Summary DataFrame:\n",
      "     Model                                            Formula         AIC  \\\n",
      "0  Model 1                      highest_ranking ~ mother_ISEI  550.841717   \n",
      "1  Model 2                      highest_ranking ~ father_ISEI  554.542424   \n",
      "2  Model 3        highest_ranking ~ mother_ISEI + father_ISEI  546.832220   \n",
      "3  Model 4  highest_ranking ~ mother_ISEI + father_ISEI + ...  545.865198   \n",
      "4  Model 5  highest_ranking ~ mother_ISEI + father_ISEI + ...  538.525778   \n",
      "5  Model 6  highest_ranking ~ mother_ISEI + father_ISEI + ...  541.364098   \n",
      "\n",
      "          BIC  Coef_mother_ISEI  SE_mother_ISEI  Coef_father_ISEI  \\\n",
      "0 -349.870974          0.018076        0.006851               NaN   \n",
      "1 -346.170267               NaN             NaN         -0.018820   \n",
      "2 -351.275301          0.018769        0.007103         -0.020864   \n",
      "3 -349.637152          0.017500        0.007268         -0.019803   \n",
      "4 -354.371402          0.016787        0.007293         -0.016836   \n",
      "5 -338.507231          0.020040        0.007573         -0.016021   \n",
      "\n",
      "   SE_father_ISEI  Coef_sibling_info  SE_sibling_info  Coef_sibling_player  \\\n",
      "0             NaN                NaN              NaN                  NaN   \n",
      "1        0.007659                NaN              NaN                  NaN   \n",
      "2        0.007799                NaN              NaN                  NaN   \n",
      "3        0.007838           0.730836         0.410812                  NaN   \n",
      "4        0.007792           0.518851         0.406040                  NaN   \n",
      "5        0.007994           0.491313         0.418735                  NaN   \n",
      "\n",
      "   SE_sibling_player  \n",
      "0                NaN  \n",
      "1                NaN  \n",
      "2                NaN  \n",
      "3                NaN  \n",
      "4                NaN  \n",
      "5                NaN  \n"
     ]
    }
   ],
   "source": [
    "# Convert the results summary to a DataFrame\n",
    "results2_df = pd.DataFrame(results_summary2)\n",
    "\n",
    "# Display the results DataFrame\n",
    "print(\"\\nResults Summary DataFrame:\")\n",
    "print(results2_df)"
   ]
  }
 ],
 "metadata": {
  "kernelspec": {
   "display_name": "base",
   "language": "python",
   "name": "python3"
  },
  "language_info": {
   "codemirror_mode": {
    "name": "ipython",
    "version": 3
   },
   "file_extension": ".py",
   "mimetype": "text/x-python",
   "name": "python",
   "nbconvert_exporter": "python",
   "pygments_lexer": "ipython3",
   "version": "3.11.7"
  }
 },
 "nbformat": 4,
 "nbformat_minor": 5
}
