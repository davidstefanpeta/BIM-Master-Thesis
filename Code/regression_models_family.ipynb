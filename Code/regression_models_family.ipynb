{
 "cells": [
  {
   "cell_type": "code",
   "execution_count": 26,
   "id": "initial_id",
   "metadata": {
    "ExecuteTime": {
     "end_time": "2025-06-04T12:50:21.373841Z",
     "start_time": "2025-06-04T12:50:18.903953Z"
    },
    "collapsed": true
   },
   "outputs": [],
   "source": [
    "# Import functions needed for this notebook\n",
    "import pandas as pd\n",
    "import statsmodels.api as sm\n",
    "from statsmodels.genmod.families import NegativeBinomial\n",
    "from statsmodels.discrete.discrete_model import NegativeBinomial as CountNB\n",
    "import matplotlib.pyplot as plt\n",
    "from statsmodels.stats.outliers_influence import variance_inflation_factor"
   ]
  },
  {
   "cell_type": "code",
   "execution_count": 27,
   "id": "71cf92f524ac4939",
   "metadata": {
    "ExecuteTime": {
     "end_time": "2025-06-04T12:50:21.806873Z",
     "start_time": "2025-06-04T12:50:21.473957Z"
    }
   },
   "outputs": [
    {
     "data": {
      "application/vnd.microsoft.datawrangler.viewer.v0+json": {
       "columns": [
        {
         "name": "index",
         "rawType": "int64",
         "type": "integer"
        },
        {
         "name": "player_name",
         "rawType": "object",
         "type": "string"
        },
        {
         "name": "highest_ranking",
         "rawType": "int64",
         "type": "integer"
        },
        {
         "name": "country",
         "rawType": "object",
         "type": "string"
        },
        {
         "name": "mother_occupation",
         "rawType": "object",
         "type": "string"
        },
        {
         "name": "father_occupation",
         "rawType": "object",
         "type": "string"
        },
        {
         "name": "sibling_info",
         "rawType": "bool",
         "type": "boolean"
        },
        {
         "name": "sibling_player",
         "rawType": "bool",
         "type": "boolean"
        },
        {
         "name": "titles_won",
         "rawType": "int64",
         "type": "integer"
        },
        {
         "name": "association",
         "rawType": "object",
         "type": "string"
        },
        {
         "name": "year_turned_pro",
         "rawType": "int64",
         "type": "integer"
        },
        {
         "name": "father_occupation_std",
         "rawType": "object",
         "type": "string"
        },
        {
         "name": "mother_occupation_std",
         "rawType": "object",
         "type": "string"
        },
        {
         "name": "father_ISEI",
         "rawType": "int64",
         "type": "integer"
        },
        {
         "name": "mother_ISEI",
         "rawType": "int64",
         "type": "integer"
        },
        {
         "name": "family_ISEI",
         "rawType": "int64",
         "type": "integer"
        }
       ],
       "ref": "ee90a2a4-3999-4cc7-bed8-411c90a7956b",
       "rows": [
        [
         "0",
         "Roger Federer",
         "1",
         "Switzerland",
         "employee at pharmaceutical firm",
         "executive at pharmaceutical firm",
         "True",
         "False",
         "103",
         "ATP",
         "1998",
         "Managing directors and chief executives",
         "Pharmaceutical technicians and assistants",
         "70",
         "40",
         "55"
        ],
        [
         "1",
         "Taylor Fritz",
         "4",
         "USA",
         "professional tennis player",
         "professional tennis player",
         "True",
         "False",
         "8",
         "ATP",
         "2015",
         "Athletes and sports players",
         "Athletes and sports players",
         "46",
         "46",
         "46"
        ],
        [
         "2",
         "Novak Djokovic",
         "1",
         "Serbia",
         "entrepreneur",
         "professional skier",
         "True",
         "True",
         "99",
         "ATP",
         "2003",
         "Athletes and sports players",
         "Managing directors and chief executives",
         "46",
         "70",
         "58"
        ],
        [
         "3",
         "Jessica Pegula",
         "3",
         "USA",
         "CEO",
         "business owner",
         "True",
         "False",
         "8",
         "WTA",
         "2009",
         "Managing directors and chief executives",
         "Managing directors and chief executives",
         "70",
         "70",
         "70"
        ],
        [
         "4",
         "Grigor Dimitrov",
         "3",
         "Bulgaria",
         "volleyball player",
         "tennis coach",
         "False",
         "False",
         "9",
         "ATP",
         "2008",
         "Athletes and sports players",
         "Athletes and sports players",
         "46",
         "46",
         "46"
        ]
       ],
       "shape": {
        "columns": 15,
        "rows": 5
       }
      },
      "text/html": [
       "<div>\n",
       "<style scoped>\n",
       "    .dataframe tbody tr th:only-of-type {\n",
       "        vertical-align: middle;\n",
       "    }\n",
       "\n",
       "    .dataframe tbody tr th {\n",
       "        vertical-align: top;\n",
       "    }\n",
       "\n",
       "    .dataframe thead th {\n",
       "        text-align: right;\n",
       "    }\n",
       "</style>\n",
       "<table border=\"1\" class=\"dataframe\">\n",
       "  <thead>\n",
       "    <tr style=\"text-align: right;\">\n",
       "      <th></th>\n",
       "      <th>player_name</th>\n",
       "      <th>highest_ranking</th>\n",
       "      <th>country</th>\n",
       "      <th>mother_occupation</th>\n",
       "      <th>father_occupation</th>\n",
       "      <th>sibling_info</th>\n",
       "      <th>sibling_player</th>\n",
       "      <th>titles_won</th>\n",
       "      <th>association</th>\n",
       "      <th>year_turned_pro</th>\n",
       "      <th>father_occupation_std</th>\n",
       "      <th>mother_occupation_std</th>\n",
       "      <th>father_ISEI</th>\n",
       "      <th>mother_ISEI</th>\n",
       "      <th>family_ISEI</th>\n",
       "    </tr>\n",
       "  </thead>\n",
       "  <tbody>\n",
       "    <tr>\n",
       "      <th>0</th>\n",
       "      <td>Roger Federer</td>\n",
       "      <td>1</td>\n",
       "      <td>Switzerland</td>\n",
       "      <td>employee at pharmaceutical firm</td>\n",
       "      <td>executive at pharmaceutical firm</td>\n",
       "      <td>True</td>\n",
       "      <td>False</td>\n",
       "      <td>103</td>\n",
       "      <td>ATP</td>\n",
       "      <td>1998</td>\n",
       "      <td>Managing directors and chief executives</td>\n",
       "      <td>Pharmaceutical technicians and assistants</td>\n",
       "      <td>70</td>\n",
       "      <td>40</td>\n",
       "      <td>55</td>\n",
       "    </tr>\n",
       "    <tr>\n",
       "      <th>1</th>\n",
       "      <td>Taylor Fritz</td>\n",
       "      <td>4</td>\n",
       "      <td>USA</td>\n",
       "      <td>professional tennis player</td>\n",
       "      <td>professional tennis player</td>\n",
       "      <td>True</td>\n",
       "      <td>False</td>\n",
       "      <td>8</td>\n",
       "      <td>ATP</td>\n",
       "      <td>2015</td>\n",
       "      <td>Athletes and sports players</td>\n",
       "      <td>Athletes and sports players</td>\n",
       "      <td>46</td>\n",
       "      <td>46</td>\n",
       "      <td>46</td>\n",
       "    </tr>\n",
       "    <tr>\n",
       "      <th>2</th>\n",
       "      <td>Novak Djokovic</td>\n",
       "      <td>1</td>\n",
       "      <td>Serbia</td>\n",
       "      <td>entrepreneur</td>\n",
       "      <td>professional skier</td>\n",
       "      <td>True</td>\n",
       "      <td>True</td>\n",
       "      <td>99</td>\n",
       "      <td>ATP</td>\n",
       "      <td>2003</td>\n",
       "      <td>Athletes and sports players</td>\n",
       "      <td>Managing directors and chief executives</td>\n",
       "      <td>46</td>\n",
       "      <td>70</td>\n",
       "      <td>58</td>\n",
       "    </tr>\n",
       "    <tr>\n",
       "      <th>3</th>\n",
       "      <td>Jessica Pegula</td>\n",
       "      <td>3</td>\n",
       "      <td>USA</td>\n",
       "      <td>CEO</td>\n",
       "      <td>business owner</td>\n",
       "      <td>True</td>\n",
       "      <td>False</td>\n",
       "      <td>8</td>\n",
       "      <td>WTA</td>\n",
       "      <td>2009</td>\n",
       "      <td>Managing directors and chief executives</td>\n",
       "      <td>Managing directors and chief executives</td>\n",
       "      <td>70</td>\n",
       "      <td>70</td>\n",
       "      <td>70</td>\n",
       "    </tr>\n",
       "    <tr>\n",
       "      <th>4</th>\n",
       "      <td>Grigor Dimitrov</td>\n",
       "      <td>3</td>\n",
       "      <td>Bulgaria</td>\n",
       "      <td>volleyball player</td>\n",
       "      <td>tennis coach</td>\n",
       "      <td>False</td>\n",
       "      <td>False</td>\n",
       "      <td>9</td>\n",
       "      <td>ATP</td>\n",
       "      <td>2008</td>\n",
       "      <td>Athletes and sports players</td>\n",
       "      <td>Athletes and sports players</td>\n",
       "      <td>46</td>\n",
       "      <td>46</td>\n",
       "      <td>46</td>\n",
       "    </tr>\n",
       "  </tbody>\n",
       "</table>\n",
       "</div>"
      ],
      "text/plain": [
       "       player_name  highest_ranking      country  \\\n",
       "0    Roger Federer                1  Switzerland   \n",
       "1     Taylor Fritz                4          USA   \n",
       "2   Novak Djokovic                1       Serbia   \n",
       "3   Jessica Pegula                3          USA   \n",
       "4  Grigor Dimitrov                3     Bulgaria   \n",
       "\n",
       "                 mother_occupation                 father_occupation  \\\n",
       "0  employee at pharmaceutical firm  executive at pharmaceutical firm   \n",
       "1       professional tennis player        professional tennis player   \n",
       "2                     entrepreneur                professional skier   \n",
       "3                              CEO                    business owner   \n",
       "4                volleyball player                      tennis coach   \n",
       "\n",
       "   sibling_info  sibling_player  titles_won association  year_turned_pro  \\\n",
       "0          True           False         103         ATP             1998   \n",
       "1          True           False           8         ATP             2015   \n",
       "2          True            True          99         ATP             2003   \n",
       "3          True           False           8         WTA             2009   \n",
       "4         False           False           9         ATP             2008   \n",
       "\n",
       "                     father_occupation_std  \\\n",
       "0  Managing directors and chief executives   \n",
       "1              Athletes and sports players   \n",
       "2              Athletes and sports players   \n",
       "3  Managing directors and chief executives   \n",
       "4              Athletes and sports players   \n",
       "\n",
       "                       mother_occupation_std  father_ISEI  mother_ISEI  \\\n",
       "0  Pharmaceutical technicians and assistants           70           40   \n",
       "1                Athletes and sports players           46           46   \n",
       "2    Managing directors and chief executives           46           70   \n",
       "3    Managing directors and chief executives           70           70   \n",
       "4                Athletes and sports players           46           46   \n",
       "\n",
       "   family_ISEI  \n",
       "0           55  \n",
       "1           46  \n",
       "2           58  \n",
       "3           70  \n",
       "4           46  "
      ]
     },
     "execution_count": 27,
     "metadata": {},
     "output_type": "execute_result"
    }
   ],
   "source": [
    "# Load the dataset\n",
    "df = pd.read_excel(\"thesis_dataset.xlsx\")\n",
    "df.head()"
   ]
  },
  {
   "cell_type": "code",
   "execution_count": 28,
   "id": "d6d0f484c9767e29",
   "metadata": {
    "ExecuteTime": {
     "end_time": "2025-06-04T12:50:22.188706Z",
     "start_time": "2025-06-04T12:50:22.171724Z"
    }
   },
   "outputs": [
    {
     "data": {
      "application/vnd.microsoft.datawrangler.viewer.v0+json": {
       "columns": [
        {
         "name": "index",
         "rawType": "int64",
         "type": "integer"
        },
        {
         "name": "player_name",
         "rawType": "object",
         "type": "string"
        },
        {
         "name": "highest_ranking",
         "rawType": "int64",
         "type": "integer"
        },
        {
         "name": "country",
         "rawType": "object",
         "type": "string"
        },
        {
         "name": "mother_occupation",
         "rawType": "object",
         "type": "string"
        },
        {
         "name": "father_occupation",
         "rawType": "object",
         "type": "string"
        },
        {
         "name": "sibling_info",
         "rawType": "int32",
         "type": "integer"
        },
        {
         "name": "sibling_player",
         "rawType": "int32",
         "type": "integer"
        },
        {
         "name": "titles_won",
         "rawType": "int64",
         "type": "integer"
        },
        {
         "name": "association",
         "rawType": "object",
         "type": "string"
        },
        {
         "name": "year_turned_pro",
         "rawType": "int64",
         "type": "integer"
        },
        {
         "name": "father_occupation_std",
         "rawType": "object",
         "type": "string"
        },
        {
         "name": "mother_occupation_std",
         "rawType": "object",
         "type": "string"
        },
        {
         "name": "father_ISEI",
         "rawType": "int64",
         "type": "integer"
        },
        {
         "name": "mother_ISEI",
         "rawType": "int64",
         "type": "integer"
        },
        {
         "name": "family_ISEI",
         "rawType": "int64",
         "type": "integer"
        }
       ],
       "ref": "21122c03-6cfc-4380-8641-1af00c11174c",
       "rows": [
        [
         "0",
         "Roger Federer",
         "1",
         "Switzerland",
         "employee at pharmaceutical firm",
         "executive at pharmaceutical firm",
         "1",
         "0",
         "103",
         "ATP",
         "1998",
         "Managing directors and chief executives",
         "Pharmaceutical technicians and assistants",
         "70",
         "40",
         "55"
        ],
        [
         "1",
         "Taylor Fritz",
         "4",
         "USA",
         "professional tennis player",
         "professional tennis player",
         "1",
         "0",
         "8",
         "ATP",
         "2015",
         "Athletes and sports players",
         "Athletes and sports players",
         "46",
         "46",
         "46"
        ],
        [
         "2",
         "Novak Djokovic",
         "1",
         "Serbia",
         "entrepreneur",
         "professional skier",
         "1",
         "1",
         "99",
         "ATP",
         "2003",
         "Athletes and sports players",
         "Managing directors and chief executives",
         "46",
         "70",
         "58"
        ],
        [
         "3",
         "Jessica Pegula",
         "3",
         "USA",
         "CEO",
         "business owner",
         "1",
         "0",
         "8",
         "WTA",
         "2009",
         "Managing directors and chief executives",
         "Managing directors and chief executives",
         "70",
         "70",
         "70"
        ],
        [
         "4",
         "Grigor Dimitrov",
         "3",
         "Bulgaria",
         "volleyball player",
         "tennis coach",
         "0",
         "0",
         "9",
         "ATP",
         "2008",
         "Athletes and sports players",
         "Athletes and sports players",
         "46",
         "46",
         "46"
        ]
       ],
       "shape": {
        "columns": 15,
        "rows": 5
       }
      },
      "text/html": [
       "<div>\n",
       "<style scoped>\n",
       "    .dataframe tbody tr th:only-of-type {\n",
       "        vertical-align: middle;\n",
       "    }\n",
       "\n",
       "    .dataframe tbody tr th {\n",
       "        vertical-align: top;\n",
       "    }\n",
       "\n",
       "    .dataframe thead th {\n",
       "        text-align: right;\n",
       "    }\n",
       "</style>\n",
       "<table border=\"1\" class=\"dataframe\">\n",
       "  <thead>\n",
       "    <tr style=\"text-align: right;\">\n",
       "      <th></th>\n",
       "      <th>player_name</th>\n",
       "      <th>highest_ranking</th>\n",
       "      <th>country</th>\n",
       "      <th>mother_occupation</th>\n",
       "      <th>father_occupation</th>\n",
       "      <th>sibling_info</th>\n",
       "      <th>sibling_player</th>\n",
       "      <th>titles_won</th>\n",
       "      <th>association</th>\n",
       "      <th>year_turned_pro</th>\n",
       "      <th>father_occupation_std</th>\n",
       "      <th>mother_occupation_std</th>\n",
       "      <th>father_ISEI</th>\n",
       "      <th>mother_ISEI</th>\n",
       "      <th>family_ISEI</th>\n",
       "    </tr>\n",
       "  </thead>\n",
       "  <tbody>\n",
       "    <tr>\n",
       "      <th>0</th>\n",
       "      <td>Roger Federer</td>\n",
       "      <td>1</td>\n",
       "      <td>Switzerland</td>\n",
       "      <td>employee at pharmaceutical firm</td>\n",
       "      <td>executive at pharmaceutical firm</td>\n",
       "      <td>1</td>\n",
       "      <td>0</td>\n",
       "      <td>103</td>\n",
       "      <td>ATP</td>\n",
       "      <td>1998</td>\n",
       "      <td>Managing directors and chief executives</td>\n",
       "      <td>Pharmaceutical technicians and assistants</td>\n",
       "      <td>70</td>\n",
       "      <td>40</td>\n",
       "      <td>55</td>\n",
       "    </tr>\n",
       "    <tr>\n",
       "      <th>1</th>\n",
       "      <td>Taylor Fritz</td>\n",
       "      <td>4</td>\n",
       "      <td>USA</td>\n",
       "      <td>professional tennis player</td>\n",
       "      <td>professional tennis player</td>\n",
       "      <td>1</td>\n",
       "      <td>0</td>\n",
       "      <td>8</td>\n",
       "      <td>ATP</td>\n",
       "      <td>2015</td>\n",
       "      <td>Athletes and sports players</td>\n",
       "      <td>Athletes and sports players</td>\n",
       "      <td>46</td>\n",
       "      <td>46</td>\n",
       "      <td>46</td>\n",
       "    </tr>\n",
       "    <tr>\n",
       "      <th>2</th>\n",
       "      <td>Novak Djokovic</td>\n",
       "      <td>1</td>\n",
       "      <td>Serbia</td>\n",
       "      <td>entrepreneur</td>\n",
       "      <td>professional skier</td>\n",
       "      <td>1</td>\n",
       "      <td>1</td>\n",
       "      <td>99</td>\n",
       "      <td>ATP</td>\n",
       "      <td>2003</td>\n",
       "      <td>Athletes and sports players</td>\n",
       "      <td>Managing directors and chief executives</td>\n",
       "      <td>46</td>\n",
       "      <td>70</td>\n",
       "      <td>58</td>\n",
       "    </tr>\n",
       "    <tr>\n",
       "      <th>3</th>\n",
       "      <td>Jessica Pegula</td>\n",
       "      <td>3</td>\n",
       "      <td>USA</td>\n",
       "      <td>CEO</td>\n",
       "      <td>business owner</td>\n",
       "      <td>1</td>\n",
       "      <td>0</td>\n",
       "      <td>8</td>\n",
       "      <td>WTA</td>\n",
       "      <td>2009</td>\n",
       "      <td>Managing directors and chief executives</td>\n",
       "      <td>Managing directors and chief executives</td>\n",
       "      <td>70</td>\n",
       "      <td>70</td>\n",
       "      <td>70</td>\n",
       "    </tr>\n",
       "    <tr>\n",
       "      <th>4</th>\n",
       "      <td>Grigor Dimitrov</td>\n",
       "      <td>3</td>\n",
       "      <td>Bulgaria</td>\n",
       "      <td>volleyball player</td>\n",
       "      <td>tennis coach</td>\n",
       "      <td>0</td>\n",
       "      <td>0</td>\n",
       "      <td>9</td>\n",
       "      <td>ATP</td>\n",
       "      <td>2008</td>\n",
       "      <td>Athletes and sports players</td>\n",
       "      <td>Athletes and sports players</td>\n",
       "      <td>46</td>\n",
       "      <td>46</td>\n",
       "      <td>46</td>\n",
       "    </tr>\n",
       "  </tbody>\n",
       "</table>\n",
       "</div>"
      ],
      "text/plain": [
       "       player_name  highest_ranking      country  \\\n",
       "0    Roger Federer                1  Switzerland   \n",
       "1     Taylor Fritz                4          USA   \n",
       "2   Novak Djokovic                1       Serbia   \n",
       "3   Jessica Pegula                3          USA   \n",
       "4  Grigor Dimitrov                3     Bulgaria   \n",
       "\n",
       "                 mother_occupation                 father_occupation  \\\n",
       "0  employee at pharmaceutical firm  executive at pharmaceutical firm   \n",
       "1       professional tennis player        professional tennis player   \n",
       "2                     entrepreneur                professional skier   \n",
       "3                              CEO                    business owner   \n",
       "4                volleyball player                      tennis coach   \n",
       "\n",
       "   sibling_info  sibling_player  titles_won association  year_turned_pro  \\\n",
       "0             1               0         103         ATP             1998   \n",
       "1             1               0           8         ATP             2015   \n",
       "2             1               1          99         ATP             2003   \n",
       "3             1               0           8         WTA             2009   \n",
       "4             0               0           9         ATP             2008   \n",
       "\n",
       "                     father_occupation_std  \\\n",
       "0  Managing directors and chief executives   \n",
       "1              Athletes and sports players   \n",
       "2              Athletes and sports players   \n",
       "3  Managing directors and chief executives   \n",
       "4              Athletes and sports players   \n",
       "\n",
       "                       mother_occupation_std  father_ISEI  mother_ISEI  \\\n",
       "0  Pharmaceutical technicians and assistants           70           40   \n",
       "1                Athletes and sports players           46           46   \n",
       "2    Managing directors and chief executives           46           70   \n",
       "3    Managing directors and chief executives           70           70   \n",
       "4                Athletes and sports players           46           46   \n",
       "\n",
       "   family_ISEI  \n",
       "0           55  \n",
       "1           46  \n",
       "2           58  \n",
       "3           70  \n",
       "4           46  "
      ]
     },
     "execution_count": 28,
     "metadata": {},
     "output_type": "execute_result"
    }
   ],
   "source": [
    "# Convert boolean columns to integers\n",
    "df['sibling_info'] = df['sibling_info'].astype(int)\n",
    "df['sibling_player'] = df['sibling_player'].astype(int)\n",
    "\n",
    "df.head()"
   ]
  },
  {
   "cell_type": "code",
   "execution_count": 29,
   "id": "f4130cdda632741",
   "metadata": {
    "ExecuteTime": {
     "end_time": "2025-06-04T12:50:22.310260Z",
     "start_time": "2025-06-04T12:50:22.304260Z"
    }
   },
   "outputs": [],
   "source": [
    "# Create the association dummy (ATP baseline, keep WTA)\n",
    "df['association_WTA'] = (df['association'] == 'WTA').astype(int)"
   ]
  },
  {
   "cell_type": "code",
   "execution_count": 30,
   "id": "930d3c56c66936fc",
   "metadata": {
    "ExecuteTime": {
     "end_time": "2025-06-04T12:50:22.618475Z",
     "start_time": "2025-06-04T12:50:22.607130Z"
    }
   },
   "outputs": [],
   "source": [
    "# Get the top 5 countries by the number of players and use them as dummy variables\n",
    "top_countries = df['country'].value_counts().head(5).index.tolist()\n",
    "for c in top_countries:\n",
    "    df[f'country_{c.replace(\" \",\"_\")}'] = (df['country']==c).astype(int)"
   ]
  },
  {
   "cell_type": "code",
   "execution_count": 31,
   "id": "186423be",
   "metadata": {},
   "outputs": [
    {
     "data": {
      "application/vnd.microsoft.datawrangler.viewer.v0+json": {
       "columns": [
        {
         "name": "index",
         "rawType": "int64",
         "type": "integer"
        },
        {
         "name": "player_name",
         "rawType": "object",
         "type": "string"
        },
        {
         "name": "highest_ranking",
         "rawType": "int64",
         "type": "integer"
        },
        {
         "name": "country",
         "rawType": "object",
         "type": "string"
        },
        {
         "name": "mother_occupation",
         "rawType": "object",
         "type": "string"
        },
        {
         "name": "father_occupation",
         "rawType": "object",
         "type": "string"
        },
        {
         "name": "sibling_info",
         "rawType": "int32",
         "type": "integer"
        },
        {
         "name": "sibling_player",
         "rawType": "int32",
         "type": "integer"
        },
        {
         "name": "titles_won",
         "rawType": "int64",
         "type": "integer"
        },
        {
         "name": "association",
         "rawType": "object",
         "type": "string"
        },
        {
         "name": "year_turned_pro",
         "rawType": "int64",
         "type": "integer"
        },
        {
         "name": "father_occupation_std",
         "rawType": "object",
         "type": "string"
        },
        {
         "name": "mother_occupation_std",
         "rawType": "object",
         "type": "string"
        },
        {
         "name": "father_ISEI",
         "rawType": "int64",
         "type": "integer"
        },
        {
         "name": "mother_ISEI",
         "rawType": "int64",
         "type": "integer"
        },
        {
         "name": "family_ISEI",
         "rawType": "int64",
         "type": "integer"
        },
        {
         "name": "association_WTA",
         "rawType": "int32",
         "type": "integer"
        },
        {
         "name": "country_USA",
         "rawType": "int32",
         "type": "integer"
        },
        {
         "name": "country_Russia",
         "rawType": "int32",
         "type": "integer"
        },
        {
         "name": "country_Australia",
         "rawType": "int32",
         "type": "integer"
        },
        {
         "name": "country_France",
         "rawType": "int32",
         "type": "integer"
        },
        {
         "name": "country_Spain",
         "rawType": "int32",
         "type": "integer"
        }
       ],
       "ref": "8c8577fd-9c97-4056-842b-99e3976de658",
       "rows": [
        [
         "0",
         "Roger Federer",
         "1",
         "Switzerland",
         "employee at pharmaceutical firm",
         "executive at pharmaceutical firm",
         "1",
         "0",
         "103",
         "ATP",
         "1998",
         "Managing directors and chief executives",
         "Pharmaceutical technicians and assistants",
         "70",
         "40",
         "55",
         "0",
         "0",
         "0",
         "0",
         "0",
         "0"
        ],
        [
         "1",
         "Taylor Fritz",
         "4",
         "USA",
         "professional tennis player",
         "professional tennis player",
         "1",
         "0",
         "8",
         "ATP",
         "2015",
         "Athletes and sports players",
         "Athletes and sports players",
         "46",
         "46",
         "46",
         "0",
         "1",
         "0",
         "0",
         "0",
         "0"
        ],
        [
         "2",
         "Novak Djokovic",
         "1",
         "Serbia",
         "entrepreneur",
         "professional skier",
         "1",
         "1",
         "99",
         "ATP",
         "2003",
         "Athletes and sports players",
         "Managing directors and chief executives",
         "46",
         "70",
         "58",
         "0",
         "0",
         "0",
         "0",
         "0",
         "0"
        ],
        [
         "3",
         "Jessica Pegula",
         "3",
         "USA",
         "CEO",
         "business owner",
         "1",
         "0",
         "8",
         "WTA",
         "2009",
         "Managing directors and chief executives",
         "Managing directors and chief executives",
         "70",
         "70",
         "70",
         "1",
         "1",
         "0",
         "0",
         "0",
         "0"
        ],
        [
         "4",
         "Grigor Dimitrov",
         "3",
         "Bulgaria",
         "volleyball player",
         "tennis coach",
         "0",
         "0",
         "9",
         "ATP",
         "2008",
         "Athletes and sports players",
         "Athletes and sports players",
         "46",
         "46",
         "46",
         "0",
         "0",
         "0",
         "0",
         "0",
         "0"
        ]
       ],
       "shape": {
        "columns": 21,
        "rows": 5
       }
      },
      "text/html": [
       "<div>\n",
       "<style scoped>\n",
       "    .dataframe tbody tr th:only-of-type {\n",
       "        vertical-align: middle;\n",
       "    }\n",
       "\n",
       "    .dataframe tbody tr th {\n",
       "        vertical-align: top;\n",
       "    }\n",
       "\n",
       "    .dataframe thead th {\n",
       "        text-align: right;\n",
       "    }\n",
       "</style>\n",
       "<table border=\"1\" class=\"dataframe\">\n",
       "  <thead>\n",
       "    <tr style=\"text-align: right;\">\n",
       "      <th></th>\n",
       "      <th>player_name</th>\n",
       "      <th>highest_ranking</th>\n",
       "      <th>country</th>\n",
       "      <th>mother_occupation</th>\n",
       "      <th>father_occupation</th>\n",
       "      <th>sibling_info</th>\n",
       "      <th>sibling_player</th>\n",
       "      <th>titles_won</th>\n",
       "      <th>association</th>\n",
       "      <th>year_turned_pro</th>\n",
       "      <th>...</th>\n",
       "      <th>mother_occupation_std</th>\n",
       "      <th>father_ISEI</th>\n",
       "      <th>mother_ISEI</th>\n",
       "      <th>family_ISEI</th>\n",
       "      <th>association_WTA</th>\n",
       "      <th>country_USA</th>\n",
       "      <th>country_Russia</th>\n",
       "      <th>country_Australia</th>\n",
       "      <th>country_France</th>\n",
       "      <th>country_Spain</th>\n",
       "    </tr>\n",
       "  </thead>\n",
       "  <tbody>\n",
       "    <tr>\n",
       "      <th>0</th>\n",
       "      <td>Roger Federer</td>\n",
       "      <td>1</td>\n",
       "      <td>Switzerland</td>\n",
       "      <td>employee at pharmaceutical firm</td>\n",
       "      <td>executive at pharmaceutical firm</td>\n",
       "      <td>1</td>\n",
       "      <td>0</td>\n",
       "      <td>103</td>\n",
       "      <td>ATP</td>\n",
       "      <td>1998</td>\n",
       "      <td>...</td>\n",
       "      <td>Pharmaceutical technicians and assistants</td>\n",
       "      <td>70</td>\n",
       "      <td>40</td>\n",
       "      <td>55</td>\n",
       "      <td>0</td>\n",
       "      <td>0</td>\n",
       "      <td>0</td>\n",
       "      <td>0</td>\n",
       "      <td>0</td>\n",
       "      <td>0</td>\n",
       "    </tr>\n",
       "    <tr>\n",
       "      <th>1</th>\n",
       "      <td>Taylor Fritz</td>\n",
       "      <td>4</td>\n",
       "      <td>USA</td>\n",
       "      <td>professional tennis player</td>\n",
       "      <td>professional tennis player</td>\n",
       "      <td>1</td>\n",
       "      <td>0</td>\n",
       "      <td>8</td>\n",
       "      <td>ATP</td>\n",
       "      <td>2015</td>\n",
       "      <td>...</td>\n",
       "      <td>Athletes and sports players</td>\n",
       "      <td>46</td>\n",
       "      <td>46</td>\n",
       "      <td>46</td>\n",
       "      <td>0</td>\n",
       "      <td>1</td>\n",
       "      <td>0</td>\n",
       "      <td>0</td>\n",
       "      <td>0</td>\n",
       "      <td>0</td>\n",
       "    </tr>\n",
       "    <tr>\n",
       "      <th>2</th>\n",
       "      <td>Novak Djokovic</td>\n",
       "      <td>1</td>\n",
       "      <td>Serbia</td>\n",
       "      <td>entrepreneur</td>\n",
       "      <td>professional skier</td>\n",
       "      <td>1</td>\n",
       "      <td>1</td>\n",
       "      <td>99</td>\n",
       "      <td>ATP</td>\n",
       "      <td>2003</td>\n",
       "      <td>...</td>\n",
       "      <td>Managing directors and chief executives</td>\n",
       "      <td>46</td>\n",
       "      <td>70</td>\n",
       "      <td>58</td>\n",
       "      <td>0</td>\n",
       "      <td>0</td>\n",
       "      <td>0</td>\n",
       "      <td>0</td>\n",
       "      <td>0</td>\n",
       "      <td>0</td>\n",
       "    </tr>\n",
       "    <tr>\n",
       "      <th>3</th>\n",
       "      <td>Jessica Pegula</td>\n",
       "      <td>3</td>\n",
       "      <td>USA</td>\n",
       "      <td>CEO</td>\n",
       "      <td>business owner</td>\n",
       "      <td>1</td>\n",
       "      <td>0</td>\n",
       "      <td>8</td>\n",
       "      <td>WTA</td>\n",
       "      <td>2009</td>\n",
       "      <td>...</td>\n",
       "      <td>Managing directors and chief executives</td>\n",
       "      <td>70</td>\n",
       "      <td>70</td>\n",
       "      <td>70</td>\n",
       "      <td>1</td>\n",
       "      <td>1</td>\n",
       "      <td>0</td>\n",
       "      <td>0</td>\n",
       "      <td>0</td>\n",
       "      <td>0</td>\n",
       "    </tr>\n",
       "    <tr>\n",
       "      <th>4</th>\n",
       "      <td>Grigor Dimitrov</td>\n",
       "      <td>3</td>\n",
       "      <td>Bulgaria</td>\n",
       "      <td>volleyball player</td>\n",
       "      <td>tennis coach</td>\n",
       "      <td>0</td>\n",
       "      <td>0</td>\n",
       "      <td>9</td>\n",
       "      <td>ATP</td>\n",
       "      <td>2008</td>\n",
       "      <td>...</td>\n",
       "      <td>Athletes and sports players</td>\n",
       "      <td>46</td>\n",
       "      <td>46</td>\n",
       "      <td>46</td>\n",
       "      <td>0</td>\n",
       "      <td>0</td>\n",
       "      <td>0</td>\n",
       "      <td>0</td>\n",
       "      <td>0</td>\n",
       "      <td>0</td>\n",
       "    </tr>\n",
       "  </tbody>\n",
       "</table>\n",
       "<p>5 rows × 21 columns</p>\n",
       "</div>"
      ],
      "text/plain": [
       "       player_name  highest_ranking      country  \\\n",
       "0    Roger Federer                1  Switzerland   \n",
       "1     Taylor Fritz                4          USA   \n",
       "2   Novak Djokovic                1       Serbia   \n",
       "3   Jessica Pegula                3          USA   \n",
       "4  Grigor Dimitrov                3     Bulgaria   \n",
       "\n",
       "                 mother_occupation                 father_occupation  \\\n",
       "0  employee at pharmaceutical firm  executive at pharmaceutical firm   \n",
       "1       professional tennis player        professional tennis player   \n",
       "2                     entrepreneur                professional skier   \n",
       "3                              CEO                    business owner   \n",
       "4                volleyball player                      tennis coach   \n",
       "\n",
       "   sibling_info  sibling_player  titles_won association  year_turned_pro  ...  \\\n",
       "0             1               0         103         ATP             1998  ...   \n",
       "1             1               0           8         ATP             2015  ...   \n",
       "2             1               1          99         ATP             2003  ...   \n",
       "3             1               0           8         WTA             2009  ...   \n",
       "4             0               0           9         ATP             2008  ...   \n",
       "\n",
       "                       mother_occupation_std father_ISEI  mother_ISEI  \\\n",
       "0  Pharmaceutical technicians and assistants          70           40   \n",
       "1                Athletes and sports players          46           46   \n",
       "2    Managing directors and chief executives          46           70   \n",
       "3    Managing directors and chief executives          70           70   \n",
       "4                Athletes and sports players          46           46   \n",
       "\n",
       "   family_ISEI  association_WTA  country_USA  country_Russia  \\\n",
       "0           55                0            0               0   \n",
       "1           46                0            1               0   \n",
       "2           58                0            0               0   \n",
       "3           70                1            1               0   \n",
       "4           46                0            0               0   \n",
       "\n",
       "   country_Australia  country_France  country_Spain  \n",
       "0                  0               0              0  \n",
       "1                  0               0              0  \n",
       "2                  0               0              0  \n",
       "3                  0               0              0  \n",
       "4                  0               0              0  \n",
       "\n",
       "[5 rows x 21 columns]"
      ]
     },
     "execution_count": 31,
     "metadata": {},
     "output_type": "execute_result"
    }
   ],
   "source": [
    "df.head()"
   ]
  },
  {
   "cell_type": "markdown",
   "id": "55b6c32a",
   "metadata": {},
   "source": [
    "#### Regression models having `titles_won` as the dependent variable"
   ]
  },
  {
   "cell_type": "code",
   "execution_count": 32,
   "id": "9ad48ac094760abf",
   "metadata": {
    "ExecuteTime": {
     "end_time": "2025-06-04T12:50:22.742506Z",
     "start_time": "2025-06-04T12:50:22.718508Z"
    }
   },
   "outputs": [
    {
     "name": "stdout",
     "output_type": "stream",
     "text": [
      "                 Generalized Linear Model Regression Results                  \n",
      "==============================================================================\n",
      "Dep. Variable:             titles_won   No. Observations:                  100\n",
      "Model:                            GLM   Df Residuals:                       98\n",
      "Model Family:        NegativeBinomial   Df Model:                            1\n",
      "Link Function:                    Log   Scale:                          1.0000\n",
      "Method:                          IRLS   Log-Likelihood:                -435.26\n",
      "Date:                Sat, 07 Jun 2025   Deviance:                       125.78\n",
      "Time:                        19:06:30   Pearson chi2:                     138.\n",
      "No. Iterations:                     9   Pseudo R-squ. (CS):            0.03888\n",
      "Covariance Type:            nonrobust                                         \n",
      "===============================================================================\n",
      "                  coef    std err          z      P>|z|      [0.025      0.975]\n",
      "-------------------------------------------------------------------------------\n",
      "Intercept       4.2489      0.502      8.458      0.000       3.264       5.234\n",
      "family_ISEI    -0.0175      0.009     -1.856      0.063      -0.036       0.001\n",
      "===============================================================================\n"
     ]
    },
    {
     "name": "stderr",
     "output_type": "stream",
     "text": [
      "c:\\Users\\peta_\\anaconda3\\Lib\\site-packages\\statsmodels\\genmod\\families\\family.py:1367: ValueWarning: Negative binomial dispersion parameter alpha not set. Using default value alpha=1.0.\n",
      "  warnings.warn(\"Negative binomial dispersion parameter alpha not \"\n"
     ]
    }
   ],
   "source": [
    "# Create and fit a regression model where the dependent variable is 'titles_won' and the independent variable is 'family_ISEI'\n",
    "model_family_ISEI = sm.GLM.from_formula(\"titles_won ~ family_ISEI\", data=df, family=NegativeBinomial()).fit()\n",
    "\n",
    "# Print the summary of the model\n",
    "print(model_family_ISEI.summary())"
   ]
  },
  {
   "cell_type": "code",
   "execution_count": 33,
   "id": "fdffa2a36a2a574c",
   "metadata": {
    "ExecuteTime": {
     "end_time": "2025-06-04T12:50:22.802814Z",
     "start_time": "2025-06-04T12:50:22.783853Z"
    }
   },
   "outputs": [
    {
     "name": "stdout",
     "output_type": "stream",
     "text": [
      "                 Generalized Linear Model Regression Results                  \n",
      "==============================================================================\n",
      "Dep. Variable:             titles_won   No. Observations:                  100\n",
      "Model:                            GLM   Df Residuals:                       98\n",
      "Model Family:        NegativeBinomial   Df Model:                            1\n",
      "Link Function:                    Log   Scale:                          1.0000\n",
      "Method:                          IRLS   Log-Likelihood:                -434.83\n",
      "Date:                Sat, 07 Jun 2025   Deviance:                       124.92\n",
      "Time:                        19:06:30   Pearson chi2:                     154.\n",
      "No. Iterations:                     5   Pseudo R-squ. (CS):            0.04713\n",
      "Covariance Type:            nonrobust                                         \n",
      "================================================================================\n",
      "                   coef    std err          z      P>|z|      [0.025      0.975]\n",
      "--------------------------------------------------------------------------------\n",
      "Intercept        3.9416      0.319     12.345      0.000       3.316       4.567\n",
      "sibling_info    -0.6792      0.337     -2.016      0.044      -1.339      -0.019\n",
      "================================================================================\n"
     ]
    },
    {
     "name": "stderr",
     "output_type": "stream",
     "text": [
      "c:\\Users\\peta_\\anaconda3\\Lib\\site-packages\\statsmodels\\genmod\\families\\family.py:1367: ValueWarning: Negative binomial dispersion parameter alpha not set. Using default value alpha=1.0.\n",
      "  warnings.warn(\"Negative binomial dispersion parameter alpha not \"\n"
     ]
    }
   ],
   "source": [
    "# Create and fit a regression model where the dependent variable is 'titles_won' and the independent variable is 'sibling_info'\n",
    "model_sibling_info = sm.GLM.from_formula(\"titles_won ~ sibling_info\", data=df, family=NegativeBinomial()).fit()\n",
    "\n",
    "# Print the summary of the model\n",
    "print(model_sibling_info.summary())"
   ]
  },
  {
   "cell_type": "code",
   "execution_count": 34,
   "id": "32a0c55def510c9f",
   "metadata": {
    "ExecuteTime": {
     "end_time": "2025-06-04T12:50:22.873597Z",
     "start_time": "2025-06-04T12:50:22.854193Z"
    }
   },
   "outputs": [
    {
     "name": "stdout",
     "output_type": "stream",
     "text": [
      "                 Generalized Linear Model Regression Results                  \n",
      "==============================================================================\n",
      "Dep. Variable:             titles_won   No. Observations:                  100\n",
      "Model:                            GLM   Df Residuals:                       98\n",
      "Model Family:        NegativeBinomial   Df Model:                            1\n",
      "Link Function:                    Log   Scale:                          1.0000\n",
      "Method:                          IRLS   Log-Likelihood:                -436.95\n",
      "Date:                Sat, 07 Jun 2025   Deviance:                       129.17\n",
      "Time:                        19:06:30   Pearson chi2:                     150.\n",
      "No. Iterations:                     5   Pseudo R-squ. (CS):           0.005704\n",
      "Covariance Type:            nonrobust                                         \n",
      "==================================================================================\n",
      "                     coef    std err          z      P>|z|      [0.025      0.975]\n",
      "----------------------------------------------------------------------------------\n",
      "Intercept          3.4307      0.145     23.635      0.000       3.146       3.715\n",
      "sibling_player    -0.1539      0.204     -0.756      0.449      -0.553       0.245\n",
      "==================================================================================\n"
     ]
    },
    {
     "name": "stderr",
     "output_type": "stream",
     "text": [
      "c:\\Users\\peta_\\anaconda3\\Lib\\site-packages\\statsmodels\\genmod\\families\\family.py:1367: ValueWarning: Negative binomial dispersion parameter alpha not set. Using default value alpha=1.0.\n",
      "  warnings.warn(\"Negative binomial dispersion parameter alpha not \"\n"
     ]
    }
   ],
   "source": [
    "# Create and fit a regression model where the dependent variable is 'titles_won' and the independent variable is 'sibling_player'\n",
    "model_sibling_player = sm.GLM.from_formula(\"titles_won ~ sibling_player\", data=df, family=NegativeBinomial()).fit()\n",
    "\n",
    "# Print the summary of the model\n",
    "print(model_sibling_player.summary())"
   ]
  },
  {
   "cell_type": "code",
   "execution_count": 35,
   "id": "9130e19300f00241",
   "metadata": {
    "ExecuteTime": {
     "end_time": "2025-06-04T12:50:22.934496Z",
     "start_time": "2025-06-04T12:50:22.914497Z"
    }
   },
   "outputs": [
    {
     "name": "stdout",
     "output_type": "stream",
     "text": [
      "                 Generalized Linear Model Regression Results                  \n",
      "==============================================================================\n",
      "Dep. Variable:             titles_won   No. Observations:                  100\n",
      "Model:                            GLM   Df Residuals:                       98\n",
      "Model Family:        NegativeBinomial   Df Model:                            1\n",
      "Link Function:                    Log   Scale:                          1.0000\n",
      "Method:                          IRLS   Log-Likelihood:                -436.55\n",
      "Date:                Sat, 07 Jun 2025   Deviance:                       128.37\n",
      "Time:                        19:06:30   Pearson chi2:                     146.\n",
      "No. Iterations:                     5   Pseudo R-squ. (CS):            0.01365\n",
      "Covariance Type:            nonrobust                                         \n",
      "===================================================================================\n",
      "                      coef    std err          z      P>|z|      [0.025      0.975]\n",
      "-----------------------------------------------------------------------------------\n",
      "Intercept           3.2405      0.137     23.575      0.000       2.971       3.510\n",
      "association_WTA     0.2391      0.204      1.169      0.242      -0.162       0.640\n",
      "===================================================================================\n"
     ]
    },
    {
     "name": "stderr",
     "output_type": "stream",
     "text": [
      "c:\\Users\\peta_\\anaconda3\\Lib\\site-packages\\statsmodels\\genmod\\families\\family.py:1367: ValueWarning: Negative binomial dispersion parameter alpha not set. Using default value alpha=1.0.\n",
      "  warnings.warn(\"Negative binomial dispersion parameter alpha not \"\n"
     ]
    }
   ],
   "source": [
    "# Create and fit a regression model where the dependent variable is 'titles_won' and the independent variable is 'association_WTA'\n",
    "model_association_WTA = sm.GLM.from_formula(\"titles_won ~ association_WTA\", data=df, family=NegativeBinomial()).fit()\n",
    "\n",
    "# Print the summary of the model\n",
    "print(model_association_WTA.summary())"
   ]
  },
  {
   "cell_type": "code",
   "execution_count": 36,
   "id": "1e98c238f889bfcd",
   "metadata": {
    "ExecuteTime": {
     "end_time": "2025-06-04T12:50:23.039409Z",
     "start_time": "2025-06-04T12:50:22.980533Z"
    }
   },
   "outputs": [
    {
     "name": "stdout",
     "output_type": "stream",
     "text": [
      "\n",
      "Model for USA:\n",
      "                 Generalized Linear Model Regression Results                  \n",
      "==============================================================================\n",
      "Dep. Variable:             titles_won   No. Observations:                  100\n",
      "Model:                            GLM   Df Residuals:                       98\n",
      "Model Family:        NegativeBinomial   Df Model:                            1\n",
      "Link Function:                    Log   Scale:                          1.0000\n",
      "Method:                          IRLS   Log-Likelihood:                -436.31\n",
      "Date:                Sat, 07 Jun 2025   Deviance:                       127.89\n",
      "Time:                        19:06:30   Pearson chi2:                     155.\n",
      "No. Iterations:                     5   Pseudo R-squ. (CS):            0.01839\n",
      "Covariance Type:            nonrobust                                         \n",
      "===============================================================================\n",
      "                  coef    std err          z      P>|z|      [0.025      0.975]\n",
      "-------------------------------------------------------------------------------\n",
      "Intercept       3.2653      0.118     27.568      0.000       3.033       3.497\n",
      "country_USA     0.3085      0.231      1.333      0.183      -0.145       0.762\n",
      "===============================================================================\n",
      "\n",
      "Model for Russia:\n",
      "                 Generalized Linear Model Regression Results                  \n",
      "==============================================================================\n",
      "Dep. Variable:             titles_won   No. Observations:                  100\n",
      "Model:                            GLM   Df Residuals:                       98\n",
      "Model Family:        NegativeBinomial   Df Model:                            1\n",
      "Link Function:                    Log   Scale:                          1.0000\n",
      "Method:                          IRLS   Log-Likelihood:                -436.78\n",
      "Date:                Sat, 07 Jun 2025   Deviance:                       128.81\n",
      "Time:                        19:06:30   Pearson chi2:                     148.\n",
      "No. Iterations:                     5   Pseudo R-squ. (CS):           0.009252\n",
      "Covariance Type:            nonrobust                                         \n",
      "==================================================================================\n",
      "                     coef    std err          z      P>|z|      [0.025      0.975]\n",
      "----------------------------------------------------------------------------------\n",
      "Intercept          3.3768      0.105     32.194      0.000       3.171       3.582\n",
      "country_Russia    -0.4412      0.432     -1.021      0.307      -1.288       0.405\n",
      "==================================================================================\n",
      "\n",
      "Model for Australia:\n",
      "                 Generalized Linear Model Regression Results                  \n",
      "==============================================================================\n",
      "Dep. Variable:             titles_won   No. Observations:                  100\n",
      "Model:                            GLM   Df Residuals:                       98\n",
      "Model Family:        NegativeBinomial   Df Model:                            1\n",
      "Link Function:                    Log   Scale:                          1.0000\n",
      "Method:                          IRLS   Log-Likelihood:                -436.69\n",
      "Date:                Sat, 07 Jun 2025   Deviance:                       128.64\n",
      "Time:                        19:06:30   Pearson chi2:                     143.\n",
      "No. Iterations:                     6   Pseudo R-squ. (CS):            0.01095\n",
      "Covariance Type:            nonrobust                                         \n",
      "=====================================================================================\n",
      "                        coef    std err          z      P>|z|      [0.025      0.975]\n",
      "-------------------------------------------------------------------------------------\n",
      "Intercept             3.3242      0.105     31.664      0.000       3.118       3.530\n",
      "country_Australia     0.4214      0.426      0.989      0.323      -0.414       1.257\n",
      "=====================================================================================\n",
      "\n",
      "Model for France:\n",
      "                 Generalized Linear Model Regression Results                  \n",
      "==============================================================================\n",
      "Dep. Variable:             titles_won   No. Observations:                  100\n",
      "Model:                            GLM   Df Residuals:                       98\n",
      "Model Family:        NegativeBinomial   Df Model:                            1\n",
      "Link Function:                    Log   Scale:                          1.0000\n",
      "Method:                          IRLS   Log-Likelihood:                -435.22\n",
      "Date:                Sat, 07 Jun 2025   Deviance:                       125.70\n",
      "Time:                        19:06:30   Pearson chi2:                     143.\n",
      "No. Iterations:                     5   Pseudo R-squ. (CS):            0.03966\n",
      "Covariance Type:            nonrobust                                         \n",
      "==================================================================================\n",
      "                     coef    std err          z      P>|z|      [0.025      0.975]\n",
      "----------------------------------------------------------------------------------\n",
      "Intercept          3.3892      0.104     32.490      0.000       3.185       3.594\n",
      "country_France    -1.1068      0.481     -2.301      0.021      -2.049      -0.164\n",
      "==================================================================================\n",
      "\n",
      "Model for Spain:\n",
      "                 Generalized Linear Model Regression Results                  \n",
      "==============================================================================\n",
      "Dep. Variable:             titles_won   No. Observations:                  100\n",
      "Model:                            GLM   Df Residuals:                       98\n",
      "Model Family:        NegativeBinomial   Df Model:                            1\n",
      "Link Function:                    Log   Scale:                          1.0000\n",
      "Method:                          IRLS   Log-Likelihood:                -437.23\n",
      "Date:                Sat, 07 Jun 2025   Deviance:                       129.72\n",
      "Time:                        19:06:30   Pearson chi2:                     154.\n",
      "No. Iterations:                     5   Pseudo R-squ. (CS):          0.0002261\n",
      "Covariance Type:            nonrobust                                         \n",
      "=================================================================================\n",
      "                    coef    std err          z      P>|z|      [0.025      0.975]\n",
      "---------------------------------------------------------------------------------\n",
      "Intercept         3.3516      0.104     32.109      0.000       3.147       3.556\n",
      "country_Spain     0.0694      0.466      0.149      0.882      -0.844       0.983\n",
      "=================================================================================\n"
     ]
    },
    {
     "name": "stderr",
     "output_type": "stream",
     "text": [
      "c:\\Users\\peta_\\anaconda3\\Lib\\site-packages\\statsmodels\\genmod\\families\\family.py:1367: ValueWarning: Negative binomial dispersion parameter alpha not set. Using default value alpha=1.0.\n",
      "  warnings.warn(\"Negative binomial dispersion parameter alpha not \"\n",
      "c:\\Users\\peta_\\anaconda3\\Lib\\site-packages\\statsmodels\\genmod\\families\\family.py:1367: ValueWarning: Negative binomial dispersion parameter alpha not set. Using default value alpha=1.0.\n",
      "  warnings.warn(\"Negative binomial dispersion parameter alpha not \"\n",
      "c:\\Users\\peta_\\anaconda3\\Lib\\site-packages\\statsmodels\\genmod\\families\\family.py:1367: ValueWarning: Negative binomial dispersion parameter alpha not set. Using default value alpha=1.0.\n",
      "  warnings.warn(\"Negative binomial dispersion parameter alpha not \"\n",
      "c:\\Users\\peta_\\anaconda3\\Lib\\site-packages\\statsmodels\\genmod\\families\\family.py:1367: ValueWarning: Negative binomial dispersion parameter alpha not set. Using default value alpha=1.0.\n",
      "  warnings.warn(\"Negative binomial dispersion parameter alpha not \"\n",
      "c:\\Users\\peta_\\anaconda3\\Lib\\site-packages\\statsmodels\\genmod\\families\\family.py:1367: ValueWarning: Negative binomial dispersion parameter alpha not set. Using default value alpha=1.0.\n",
      "  warnings.warn(\"Negative binomial dispersion parameter alpha not \"\n"
     ]
    }
   ],
   "source": [
    "# Create and fit a regression model where the dependent variable is `titles_won` and the independent variable is each of the top 5 countries one at a time\n",
    "for country in top_countries:\n",
    "    model = sm.GLM.from_formula(f\"titles_won ~ country_{country.replace(' ', '_')}\", data=df, family=NegativeBinomial()).fit()\n",
    "    print(f\"\\nModel for {country}:\")\n",
    "    print(model.summary())"
   ]
  },
  {
   "cell_type": "code",
   "execution_count": 37,
   "id": "cd59c3c1a1eebc6f",
   "metadata": {},
   "outputs": [
    {
     "name": "stderr",
     "output_type": "stream",
     "text": [
      "c:\\Users\\peta_\\anaconda3\\Lib\\site-packages\\statsmodels\\genmod\\families\\family.py:1367: ValueWarning: Negative binomial dispersion parameter alpha not set. Using default value alpha=1.0.\n",
      "  warnings.warn(\"Negative binomial dispersion parameter alpha not \"\n"
     ]
    }
   ],
   "source": [
    "# Sequentially add predictors to the model, one at a time\n",
    "model_step1 = sm.GLM.from_formula(\"titles_won ~ family_ISEI\", data=df, family=NegativeBinomial()).fit()"
   ]
  },
  {
   "cell_type": "code",
   "execution_count": 38,
   "id": "20ad0407",
   "metadata": {},
   "outputs": [
    {
     "name": "stdout",
     "output_type": "stream",
     "text": [
      "VIF for model_step1:\n",
      "      Variable  VIF\n",
      "0  family_ISEI  1.0\n"
     ]
    }
   ],
   "source": [
    "# Calculate the VIF for model_step1 (without constant)\n",
    "print(\"VIF for model_step1:\")\n",
    "vif_step1 = pd.DataFrame({\n",
    "    'Variable': model_step1.model.exog_names[1:],  # Exclude the constant\n",
    "    'VIF': [variance_inflation_factor(model_step1.model.exog, i) for i in range(1, model_step1.model.exog.shape[1])]\n",
    "})\n",
    "print(vif_step1)"
   ]
  },
  {
   "cell_type": "code",
   "execution_count": 39,
   "id": "a2260335",
   "metadata": {},
   "outputs": [
    {
     "name": "stdout",
     "output_type": "stream",
     "text": [
      "\n",
      "Updated model with sibling_info:\n",
      "                 Generalized Linear Model Regression Results                  \n",
      "==============================================================================\n",
      "Dep. Variable:             titles_won   No. Observations:                  100\n",
      "Model:                            GLM   Df Residuals:                       97\n",
      "Model Family:        NegativeBinomial   Df Model:                            2\n",
      "Link Function:                    Log   Scale:                          1.0000\n",
      "Method:                          IRLS   Log-Likelihood:                -433.10\n",
      "Date:                Sat, 07 Jun 2025   Deviance:                       121.46\n",
      "Time:                        19:06:30   Pearson chi2:                     135.\n",
      "No. Iterations:                     9   Pseudo R-squ. (CS):            0.07948\n",
      "Covariance Type:            nonrobust                                         \n",
      "================================================================================\n",
      "                   coef    std err          z      P>|z|      [0.025      0.975]\n",
      "--------------------------------------------------------------------------------\n",
      "Intercept        4.7401      0.561      8.447      0.000       3.640       5.840\n",
      "family_ISEI     -0.0162      0.009     -1.704      0.088      -0.035       0.002\n",
      "sibling_info    -0.6468      0.339     -1.908      0.056      -1.311       0.018\n",
      "================================================================================\n"
     ]
    },
    {
     "name": "stderr",
     "output_type": "stream",
     "text": [
      "c:\\Users\\peta_\\anaconda3\\Lib\\site-packages\\statsmodels\\genmod\\families\\family.py:1367: ValueWarning: Negative binomial dispersion parameter alpha not set. Using default value alpha=1.0.\n",
      "  warnings.warn(\"Negative binomial dispersion parameter alpha not \"\n"
     ]
    }
   ],
   "source": [
    "# Add sibling_info to the model by refitting with an updated formula\n",
    "model_step2 = sm.GLM.from_formula(\"titles_won ~ family_ISEI + sibling_info\", data=df, family=NegativeBinomial()).fit()\n",
    "# Print the summary of the updated model\n",
    "print(\"\\nUpdated model with sibling_info:\")\n",
    "print(model_step2.summary())"
   ]
  },
  {
   "cell_type": "code",
   "execution_count": 40,
   "id": "cd329835",
   "metadata": {},
   "outputs": [
    {
     "name": "stdout",
     "output_type": "stream",
     "text": [
      "VIF for model_step2:\n",
      "       Variable       VIF\n",
      "0   family_ISEI  1.012723\n",
      "1  sibling_info  1.012723\n"
     ]
    }
   ],
   "source": [
    "# Calculate the VIF for model_step2 (without constant)\n",
    "print(\"VIF for model_step2:\")\n",
    "vif_step2 = pd.DataFrame({\n",
    "    'Variable': model_step2.model.exog_names[1:],  # Exclude the constant\n",
    "    'VIF': [variance_inflation_factor(model_step2.model.exog, i) for i in range(1, model_step2.model.exog.shape[1])]\n",
    "})\n",
    "print(vif_step2)"
   ]
  },
  {
   "cell_type": "code",
   "execution_count": 41,
   "id": "14a54aba",
   "metadata": {},
   "outputs": [
    {
     "name": "stdout",
     "output_type": "stream",
     "text": [
      "\n",
      "Updated model with sibling_player:\n",
      "\n",
      "                 Generalized Linear Model Regression Results                  \n",
      "==============================================================================\n",
      "Dep. Variable:             titles_won   No. Observations:                  100\n",
      "Model:                            GLM   Df Residuals:                       96\n",
      "Model Family:        NegativeBinomial   Df Model:                            3\n",
      "Link Function:                    Log   Scale:                          1.0000\n",
      "Method:                          IRLS   Log-Likelihood:                -433.09\n",
      "Date:                Sat, 07 Jun 2025   Deviance:                       121.44\n",
      "Time:                        19:06:30   Pearson chi2:                     136.\n",
      "No. Iterations:                    11   Pseudo R-squ. (CS):            0.07972\n",
      "Covariance Type:            nonrobust                                         \n",
      "==================================================================================\n",
      "                     coef    std err          z      P>|z|      [0.025      0.975]\n",
      "----------------------------------------------------------------------------------\n",
      "Intercept          4.7413      0.563      8.423      0.000       3.638       5.844\n",
      "family_ISEI       -0.0162      0.010     -1.699      0.089      -0.035       0.002\n",
      "sibling_info      -0.6666      0.362     -1.841      0.066      -1.376       0.043\n",
      "sibling_player     0.0347      0.218      0.159      0.873      -0.392       0.462\n",
      "==================================================================================\n"
     ]
    },
    {
     "name": "stderr",
     "output_type": "stream",
     "text": [
      "c:\\Users\\peta_\\anaconda3\\Lib\\site-packages\\statsmodels\\genmod\\families\\family.py:1367: ValueWarning: Negative binomial dispersion parameter alpha not set. Using default value alpha=1.0.\n",
      "  warnings.warn(\"Negative binomial dispersion parameter alpha not \"\n"
     ]
    }
   ],
   "source": [
    "# Add sibling_player to the model by refitting with an updated formula\n",
    "model_step3 = sm.GLM.from_formula(\"titles_won ~ family_ISEI + sibling_info + sibling_player\", data=df, family=NegativeBinomial()).fit()\n",
    "# Print the summary of the updated model\n",
    "print(\"\\nUpdated model with sibling_player:\\n\")\n",
    "print(model_step3.summary())"
   ]
  },
  {
   "cell_type": "code",
   "execution_count": 42,
   "id": "9afe19fb",
   "metadata": {},
   "outputs": [
    {
     "name": "stdout",
     "output_type": "stream",
     "text": [
      "VIF for model_step3:\n",
      "         Variable       VIF\n",
      "0     family_ISEI  1.021879\n",
      "1    sibling_info  1.152581\n",
      "2  sibling_player  1.140992\n"
     ]
    }
   ],
   "source": [
    "# Calculate the VIF for model_step3 (without constant)\n",
    "print(\"VIF for model_step3:\")\n",
    "vif_step3 = pd.DataFrame({\n",
    "    'Variable': model_step3.model.exog_names[1:],  # Exclude the constant\n",
    "    'VIF': [variance_inflation_factor(model_step3.model.exog, i) for i in range(1, model_step3.model.exog.shape[1])]\n",
    "})\n",
    "print(vif_step3)"
   ]
  },
  {
   "cell_type": "code",
   "execution_count": 43,
   "id": "60611927",
   "metadata": {},
   "outputs": [
    {
     "name": "stdout",
     "output_type": "stream",
     "text": [
      "\n",
      "Updated model with association_WTA:\n",
      "\n",
      "                 Generalized Linear Model Regression Results                  \n",
      "==============================================================================\n",
      "Dep. Variable:             titles_won   No. Observations:                  100\n",
      "Model:                            GLM   Df Residuals:                       95\n",
      "Model Family:        NegativeBinomial   Df Model:                            4\n",
      "Link Function:                    Log   Scale:                          1.0000\n",
      "Method:                          IRLS   Log-Likelihood:                -432.75\n",
      "Date:                Sat, 07 Jun 2025   Deviance:                       120.77\n",
      "Time:                        19:06:30   Pearson chi2:                     136.\n",
      "No. Iterations:                    14   Pseudo R-squ. (CS):            0.08586\n",
      "Covariance Type:            nonrobust                                         \n",
      "===================================================================================\n",
      "                      coef    std err          z      P>|z|      [0.025      0.975]\n",
      "-----------------------------------------------------------------------------------\n",
      "Intercept           4.5718      0.575      7.956      0.000       3.446       5.698\n",
      "family_ISEI        -0.0144      0.010     -1.513      0.130      -0.033       0.004\n",
      "sibling_info       -0.6927      0.362     -1.913      0.056      -1.402       0.017\n",
      "sibling_player      0.0694      0.219      0.318      0.751      -0.359       0.498\n",
      "association_WTA     0.1756      0.205      0.855      0.393      -0.227       0.578\n",
      "===================================================================================\n"
     ]
    },
    {
     "name": "stderr",
     "output_type": "stream",
     "text": [
      "c:\\Users\\peta_\\anaconda3\\Lib\\site-packages\\statsmodels\\genmod\\families\\family.py:1367: ValueWarning: Negative binomial dispersion parameter alpha not set. Using default value alpha=1.0.\n",
      "  warnings.warn(\"Negative binomial dispersion parameter alpha not \"\n"
     ]
    }
   ],
   "source": [
    "# Add association_WTA to the model by refitting with an updated formula\n",
    "model_step4 = sm.GLM.from_formula(\"titles_won ~ family_ISEI + sibling_info + sibling_player + association_WTA\", data=df, family=NegativeBinomial()).fit()\n",
    "# Print the summary of the updated model\n",
    "print(\"\\nUpdated model with association_WTA:\\n\")\n",
    "print(model_step4.summary())"
   ]
  },
  {
   "cell_type": "code",
   "execution_count": 44,
   "id": "bd02421a",
   "metadata": {},
   "outputs": [
    {
     "name": "stderr",
     "output_type": "stream",
     "text": [
      "c:\\Users\\peta_\\anaconda3\\Lib\\site-packages\\statsmodels\\genmod\\families\\family.py:1367: ValueWarning: Negative binomial dispersion parameter alpha not set. Using default value alpha=1.0.\n",
      "  warnings.warn(\"Negative binomial dispersion parameter alpha not \"\n"
     ]
    },
    {
     "name": "stdout",
     "output_type": "stream",
     "text": [
      "\n",
      "Final model with country dummies:\n",
      "\n",
      "                 Generalized Linear Model Regression Results                  \n",
      "==============================================================================\n",
      "Dep. Variable:             titles_won   No. Observations:                  100\n",
      "Model:                            GLM   Df Residuals:                       90\n",
      "Model Family:        NegativeBinomial   Df Model:                            9\n",
      "Link Function:                    Log   Scale:                          1.0000\n",
      "Method:                          IRLS   Log-Likelihood:                -428.77\n",
      "Date:                Sat, 07 Jun 2025   Deviance:                       112.81\n",
      "Time:                        19:06:30   Pearson chi2:                     110.\n",
      "No. Iterations:                    14   Pseudo R-squ. (CS):             0.1558\n",
      "Covariance Type:            nonrobust                                         \n",
      "=====================================================================================\n",
      "                        coef    std err          z      P>|z|      [0.025      0.975]\n",
      "-------------------------------------------------------------------------------------\n",
      "Intercept             4.4854      0.579      7.742      0.000       3.350       5.621\n",
      "family_ISEI          -0.0136      0.010     -1.405      0.160      -0.033       0.005\n",
      "sibling_info         -0.7082      0.372     -1.901      0.057      -1.438       0.022\n",
      "sibling_player       -0.0610      0.229     -0.266      0.790      -0.510       0.388\n",
      "association_WTA       0.1277      0.210      0.610      0.542      -0.283       0.538\n",
      "country_USA           0.4400      0.251      1.754      0.079      -0.052       0.932\n",
      "country_Russia       -0.2775      0.447     -0.620      0.535      -1.154       0.599\n",
      "country_Australia     0.4677      0.447      1.047      0.295      -0.408       1.343\n",
      "country_France       -0.8053      0.506     -1.592      0.111      -1.797       0.186\n",
      "country_Spain         0.3565      0.483      0.739      0.460      -0.589       1.302\n",
      "=====================================================================================\n"
     ]
    }
   ],
   "source": [
    "# Add country dummies to the model by refitting with an updated formula\n",
    "country_dummies = \" + \".join([f\"country_{c.replace(' ', '_')}\" for c in top_countries])\n",
    "model_step5 = sm.GLM.from_formula(f\"titles_won ~ family_ISEI + sibling_info + sibling_player + association_WTA + {country_dummies}\", data=df, family=NegativeBinomial()).fit()\n",
    "# Print the summary of the final model\n",
    "print(\"\\nFinal model with country dummies:\\n\")\n",
    "print(model_step5.summary())"
   ]
  },
  {
   "cell_type": "code",
   "execution_count": 45,
   "id": "4c1eba41",
   "metadata": {},
   "outputs": [
    {
     "name": "stderr",
     "output_type": "stream",
     "text": [
      "c:\\Users\\peta_\\anaconda3\\Lib\\site-packages\\statsmodels\\genmod\\families\\family.py:1367: ValueWarning: Negative binomial dispersion parameter alpha not set. Using default value alpha=1.0.\n",
      "  warnings.warn(\"Negative binomial dispersion parameter alpha not \"\n"
     ]
    },
    {
     "name": "stdout",
     "output_type": "stream",
     "text": [
      "\n",
      "Full model excluding sibling_player:\n",
      "\n",
      "                 Generalized Linear Model Regression Results                  \n",
      "==============================================================================\n",
      "Dep. Variable:             titles_won   No. Observations:                  100\n",
      "Model:                            GLM   Df Residuals:                       91\n",
      "Model Family:        NegativeBinomial   Df Model:                            8\n",
      "Link Function:                    Log   Scale:                          1.0000\n",
      "Method:                          IRLS   Log-Likelihood:                -428.81\n",
      "Date:                Sat, 07 Jun 2025   Deviance:                       112.87\n",
      "Time:                        19:06:30   Pearson chi2:                     111.\n",
      "No. Iterations:                    14   Pseudo R-squ. (CS):             0.1552\n",
      "Covariance Type:            nonrobust                                         \n",
      "=====================================================================================\n",
      "                        coef    std err          z      P>|z|      [0.025      0.975]\n",
      "-------------------------------------------------------------------------------------\n",
      "Intercept             4.4727      0.575      7.776      0.000       3.345       5.600\n",
      "family_ISEI          -0.0134      0.010     -1.393      0.164      -0.032       0.005\n",
      "sibling_info         -0.7435      0.348     -2.138      0.033      -1.425      -0.062\n",
      "association_WTA       0.1371      0.208      0.658      0.510      -0.271       0.545\n",
      "country_USA           0.4224      0.250      1.693      0.090      -0.067       0.912\n",
      "country_Russia       -0.2719      0.446     -0.609      0.542      -1.147       0.603\n",
      "country_Australia     0.4879      0.443      1.102      0.270      -0.380       1.355\n",
      "country_France       -0.7873      0.497     -1.583      0.113      -1.762       0.187\n",
      "country_Spain         0.3648      0.479      0.761      0.446      -0.574       1.304\n",
      "=====================================================================================\n"
     ]
    }
   ],
   "source": [
    "# Create the full model with all predictors excluding `sibling_player` from the independent variables\n",
    "full_model = sm.GLM.from_formula(f\"titles_won ~ family_ISEI + sibling_info + association_WTA + {country_dummies}\", data=df, family=NegativeBinomial()).fit()\n",
    "\n",
    "# Print the summary of the full model\n",
    "print(\"\\nFull model excluding sibling_player:\\n\")\n",
    "print(full_model.summary())"
   ]
  },
  {
   "cell_type": "code",
   "execution_count": 46,
   "id": "eb259326",
   "metadata": {},
   "outputs": [
    {
     "name": "stdout",
     "output_type": "stream",
     "text": [
      "            Variable       VIF\n",
      "0        family_ISEI  1.037877\n",
      "1       sibling_info  1.063542\n",
      "2    association_WTA  1.031353\n",
      "3        country_USA  1.156924\n",
      "4     country_Russia  1.063385\n",
      "5  country_Australia  1.073168\n",
      "6     country_France  1.072167\n",
      "7      country_Spain  1.056629\n"
     ]
    }
   ],
   "source": [
    "# Calculate the VIF for full_model (excluding constant)\n",
    "vif_full = pd.DataFrame({\n",
    "    'Variable': full_model.model.exog_names[1:],  # Exclude the constant\n",
    "    'VIF': [variance_inflation_factor(full_model.model.exog, i) for i in range(1, full_model.model.exog.shape[1])]\n",
    "})\n",
    "print(vif_full)"
   ]
  },
  {
   "cell_type": "code",
   "execution_count": 47,
   "id": "fcaf5117",
   "metadata": {},
   "outputs": [],
   "source": [
    "# Define a list of formulas, building up predictors step by step\n",
    "formulas = [\n",
    "    \"titles_won ~ family_ISEI\",\n",
    "    \"titles_won ~ family_ISEI + sibling_info\",\n",
    "    \"titles_won ~ family_ISEI + sibling_info + association_WTA\",\n",
    "    f\"titles_won ~ family_ISEI + sibling_info + association_WTA + {country_dummies}\"\n",
    "]"
   ]
  },
  {
   "cell_type": "code",
   "execution_count": 48,
   "id": "ced40ac8",
   "metadata": {},
   "outputs": [],
   "source": [
    "# Create a dictionary to collect results (model name, formula, AIC, BIC, the coefficients and standard errors for each variable)\n",
    "results_summary = {\n",
    "    'Model': [],\n",
    "    'Formula': [],\n",
    "    'AIC': [],\n",
    "    'BIC': [],\n",
    "    'Coef_family_ISEI': [],\n",
    "    'SE_family_ISEI': [],\n",
    "    'Coef_sibling_info': [],\n",
    "    'SE_sibling_info': [],\n",
    "    'Coef_sibling_player': [],\n",
    "    'SE_sibling_player': []\n",
    "}"
   ]
  },
  {
   "cell_type": "code",
   "execution_count": 49,
   "id": "ad0bae82",
   "metadata": {},
   "outputs": [
    {
     "name": "stderr",
     "output_type": "stream",
     "text": [
      "c:\\Users\\peta_\\anaconda3\\Lib\\site-packages\\statsmodels\\genmod\\families\\family.py:1367: ValueWarning: Negative binomial dispersion parameter alpha not set. Using default value alpha=1.0.\n",
      "  warnings.warn(\"Negative binomial dispersion parameter alpha not \"\n",
      "c:\\Users\\peta_\\anaconda3\\Lib\\site-packages\\statsmodels\\genmod\\generalized_linear_model.py:1838: FutureWarning: The bic value is computed using the deviance formula. After 0.13 this will change to the log-likelihood based formula. This change has no impact on the relative rank of models compared using BIC. You can directly access the log-likelihood version using the `bic_llf` attribute. You can suppress this message by calling statsmodels.genmod.generalized_linear_model.SET_USE_BIC_LLF with True to get the LLF-based version now or False to retainthe deviance version.\n",
      "  warnings.warn(\n",
      "c:\\Users\\peta_\\anaconda3\\Lib\\site-packages\\statsmodels\\genmod\\families\\family.py:1367: ValueWarning: Negative binomial dispersion parameter alpha not set. Using default value alpha=1.0.\n",
      "  warnings.warn(\"Negative binomial dispersion parameter alpha not \"\n",
      "c:\\Users\\peta_\\anaconda3\\Lib\\site-packages\\statsmodels\\genmod\\generalized_linear_model.py:1838: FutureWarning: The bic value is computed using the deviance formula. After 0.13 this will change to the log-likelihood based formula. This change has no impact on the relative rank of models compared using BIC. You can directly access the log-likelihood version using the `bic_llf` attribute. You can suppress this message by calling statsmodels.genmod.generalized_linear_model.SET_USE_BIC_LLF with True to get the LLF-based version now or False to retainthe deviance version.\n",
      "  warnings.warn(\n",
      "c:\\Users\\peta_\\anaconda3\\Lib\\site-packages\\statsmodels\\genmod\\families\\family.py:1367: ValueWarning: Negative binomial dispersion parameter alpha not set. Using default value alpha=1.0.\n",
      "  warnings.warn(\"Negative binomial dispersion parameter alpha not \"\n",
      "c:\\Users\\peta_\\anaconda3\\Lib\\site-packages\\statsmodels\\genmod\\generalized_linear_model.py:1838: FutureWarning: The bic value is computed using the deviance formula. After 0.13 this will change to the log-likelihood based formula. This change has no impact on the relative rank of models compared using BIC. You can directly access the log-likelihood version using the `bic_llf` attribute. You can suppress this message by calling statsmodels.genmod.generalized_linear_model.SET_USE_BIC_LLF with True to get the LLF-based version now or False to retainthe deviance version.\n",
      "  warnings.warn(\n",
      "c:\\Users\\peta_\\anaconda3\\Lib\\site-packages\\statsmodels\\genmod\\families\\family.py:1367: ValueWarning: Negative binomial dispersion parameter alpha not set. Using default value alpha=1.0.\n",
      "  warnings.warn(\"Negative binomial dispersion parameter alpha not \"\n",
      "c:\\Users\\peta_\\anaconda3\\Lib\\site-packages\\statsmodels\\genmod\\generalized_linear_model.py:1838: FutureWarning: The bic value is computed using the deviance formula. After 0.13 this will change to the log-likelihood based formula. This change has no impact on the relative rank of models compared using BIC. You can directly access the log-likelihood version using the `bic_llf` attribute. You can suppress this message by calling statsmodels.genmod.generalized_linear_model.SET_USE_BIC_LLF with True to get the LLF-based version now or False to retainthe deviance version.\n",
      "  warnings.warn(\n"
     ]
    }
   ],
   "source": [
    "# Fit each model and collect results\n",
    "for idx, formula in enumerate(formulas, start=1):\n",
    "    model = sm.GLM.from_formula(formula, data=df, family=NegativeBinomial()).fit()\n",
    "    \n",
    "    results_summary['Model'].append(f\"Model {idx}\")\n",
    "    results_summary['Formula'].append(formula)\n",
    "    results_summary['AIC'].append(model.aic)\n",
    "    results_summary['BIC'].append(model.bic)\n",
    "    \n",
    "    # For each key variable, record coef and SE if present; otherwise NaN\n",
    "    for var in ['family_ISEI', 'sibling_info', 'sibling_player']:\n",
    "        if var in model.params.index:\n",
    "            results_summary[f'Coef_{var}'].append(model.params[var])\n",
    "            results_summary[f'SE_{var}'].append(model.bse[var])\n",
    "        else:\n",
    "            results_summary[f'Coef_{var}'].append(float('nan'))\n",
    "            results_summary[f'SE_{var}'].append(float('nan'))"
   ]
  },
  {
   "cell_type": "code",
   "execution_count": 50,
   "id": "3e9fd43b",
   "metadata": {},
   "outputs": [
    {
     "name": "stdout",
     "output_type": "stream",
     "text": [
      "\n",
      "Results Summary DataFrame:\n",
      "     Model                                            Formula         AIC  \\\n",
      "0  Model 1                           titles_won ~ family_ISEI  874.515832   \n",
      "1  Model 2            titles_won ~ family_ISEI + sibling_info  872.199130   \n",
      "2  Model 3  titles_won ~ family_ISEI + sibling_info + asso...  873.602354   \n",
      "3  Model 4  titles_won ~ family_ISEI + sibling_info + asso...  875.611514   \n",
      "\n",
      "          BIC  Coef_family_ISEI  SE_family_ISEI  Coef_sibling_info  \\\n",
      "0 -325.528282         -0.017503        0.009431                NaN   \n",
      "1 -325.239815         -0.016188        0.009499          -0.646807   \n",
      "2 -321.231420         -0.014516        0.009497          -0.652505   \n",
      "3 -306.196409         -0.013388        0.009611          -0.743521   \n",
      "\n",
      "   SE_sibling_info  Coef_sibling_player  SE_sibling_player  \n",
      "0              NaN                  NaN                NaN  \n",
      "1         0.338999                  NaN                NaN  \n",
      "2         0.339153                  NaN                NaN  \n",
      "3         0.347821                  NaN                NaN  \n"
     ]
    }
   ],
   "source": [
    "# Convert the results summary to a DataFrame\n",
    "results_df = pd.DataFrame(results_summary)\n",
    "\n",
    "# Display the results DataFrame\n",
    "print(\"\\nResults Summary DataFrame:\")\n",
    "print(results_df)"
   ]
  },
  {
   "cell_type": "markdown",
   "id": "c789cabd",
   "metadata": {},
   "source": [
    "#### Regression models having `highest_ranking` as dependent variable"
   ]
  },
  {
   "cell_type": "code",
   "execution_count": 52,
   "id": "1c9964e0",
   "metadata": {},
   "outputs": [
    {
     "name": "stdout",
     "output_type": "stream",
     "text": [
      "                 Generalized Linear Model Regression Results                  \n",
      "==============================================================================\n",
      "Dep. Variable:        highest_ranking   No. Observations:                  100\n",
      "Model:                            GLM   Df Residuals:                       98\n",
      "Model Family:        NegativeBinomial   Df Model:                            1\n",
      "Link Function:                    Log   Scale:                          1.0000\n",
      "Method:                          IRLS   Log-Likelihood:                -277.31\n",
      "Date:                Sat, 07 Jun 2025   Deviance:                       109.21\n",
      "Time:                        19:07:17   Pearson chi2:                     233.\n",
      "No. Iterations:                     8   Pseudo R-squ. (CS):            0.01148\n",
      "Covariance Type:            nonrobust                                         \n",
      "===============================================================================\n",
      "                  coef    std err          z      P>|z|      [0.025      0.975]\n",
      "-------------------------------------------------------------------------------\n",
      "Intercept       1.0258      0.536      1.914      0.056      -0.024       2.076\n",
      "family_ISEI     0.0126      0.010      1.262      0.207      -0.007       0.032\n",
      "===============================================================================\n"
     ]
    },
    {
     "name": "stderr",
     "output_type": "stream",
     "text": [
      "c:\\Users\\peta_\\anaconda3\\Lib\\site-packages\\statsmodels\\genmod\\families\\family.py:1367: ValueWarning: Negative binomial dispersion parameter alpha not set. Using default value alpha=1.0.\n",
      "  warnings.warn(\"Negative binomial dispersion parameter alpha not \"\n"
     ]
    }
   ],
   "source": [
    "# Create and fit a regression model where the dependent variable is 'highest_ranking' and the independent variable is 'family_ISEI'\n",
    "model_family_ISEI_2 = sm.GLM.from_formula(\"highest_ranking ~ family_ISEI\", data=df, family=NegativeBinomial()).fit()\n",
    "\n",
    "# Print the summary of the model\n",
    "print(model_family_ISEI_2.summary())"
   ]
  },
  {
   "cell_type": "code",
   "execution_count": 53,
   "id": "8257019f",
   "metadata": {},
   "outputs": [
    {
     "name": "stdout",
     "output_type": "stream",
     "text": [
      "                 Generalized Linear Model Regression Results                  \n",
      "==============================================================================\n",
      "Dep. Variable:        highest_ranking   No. Observations:                  100\n",
      "Model:                            GLM   Df Residuals:                       98\n",
      "Model Family:        NegativeBinomial   Df Model:                            1\n",
      "Link Function:                    Log   Scale:                          1.0000\n",
      "Method:                          IRLS   Log-Likelihood:                -275.27\n",
      "Date:                Sat, 07 Jun 2025   Deviance:                       105.13\n",
      "Time:                        19:07:54   Pearson chi2:                     230.\n",
      "No. Iterations:                     5   Pseudo R-squ. (CS):            0.05092\n",
      "Covariance Type:            nonrobust                                         \n",
      "================================================================================\n",
      "                   coef    std err          z      P>|z|      [0.025      0.975]\n",
      "--------------------------------------------------------------------------------\n",
      "Intercept        0.7885      0.381      2.067      0.039       0.041       1.536\n",
      "sibling_info     0.9675      0.398      2.430      0.015       0.187       1.748\n",
      "================================================================================\n"
     ]
    },
    {
     "name": "stderr",
     "output_type": "stream",
     "text": [
      "c:\\Users\\peta_\\anaconda3\\Lib\\site-packages\\statsmodels\\genmod\\families\\family.py:1367: ValueWarning: Negative binomial dispersion parameter alpha not set. Using default value alpha=1.0.\n",
      "  warnings.warn(\"Negative binomial dispersion parameter alpha not \"\n"
     ]
    }
   ],
   "source": [
    "# Create and fit a regression model where the dependent variable is 'highest_ranking' and the independent variable is 'sibling_info'\n",
    "model_sibling_info_2 = sm.GLM.from_formula(\"highest_ranking ~ sibling_info\", data=df, family=NegativeBinomial()).fit()\n",
    "\n",
    "# Print the summary of the model\n",
    "print(model_sibling_info_2.summary())"
   ]
  },
  {
   "cell_type": "code",
   "execution_count": 54,
   "id": "2965e3cb",
   "metadata": {},
   "outputs": [
    {
     "name": "stdout",
     "output_type": "stream",
     "text": [
      "                 Generalized Linear Model Regression Results                  \n",
      "==============================================================================\n",
      "Dep. Variable:        highest_ranking   No. Observations:                  100\n",
      "Model:                            GLM   Df Residuals:                       98\n",
      "Model Family:        NegativeBinomial   Df Model:                            1\n",
      "Link Function:                    Log   Scale:                          1.0000\n",
      "Method:                          IRLS   Log-Likelihood:                -277.46\n",
      "Date:                Sat, 07 Jun 2025   Deviance:                       109.52\n",
      "Time:                        19:08:38   Pearson chi2:                     229.\n",
      "No. Iterations:                     6   Pseudo R-squ. (CS):           0.008419\n",
      "Covariance Type:            nonrobust                                         \n",
      "==================================================================================\n",
      "                     coef    std err          z      P>|z|      [0.025      0.975]\n",
      "----------------------------------------------------------------------------------\n",
      "Intercept          1.5846      0.157     10.105      0.000       1.277       1.892\n",
      "sibling_player     0.2006      0.218      0.920      0.357      -0.227       0.628\n",
      "==================================================================================\n"
     ]
    },
    {
     "name": "stderr",
     "output_type": "stream",
     "text": [
      "c:\\Users\\peta_\\anaconda3\\Lib\\site-packages\\statsmodels\\genmod\\families\\family.py:1367: ValueWarning: Negative binomial dispersion parameter alpha not set. Using default value alpha=1.0.\n",
      "  warnings.warn(\"Negative binomial dispersion parameter alpha not \"\n"
     ]
    }
   ],
   "source": [
    "# Create and fit a regression model where the dependent variable is 'highest_ranking' and the independent variable is 'sibling_player'\n",
    "model_sibling_player_2 = sm.GLM.from_formula(\"highest_ranking ~ sibling_player\", data=df, family=NegativeBinomial()).fit()\n",
    "\n",
    "# Print the summary of the model\n",
    "print(model_sibling_player_2.summary())"
   ]
  },
  {
   "cell_type": "code",
   "execution_count": 55,
   "id": "005f7a66",
   "metadata": {},
   "outputs": [
    {
     "name": "stdout",
     "output_type": "stream",
     "text": [
      "                 Generalized Linear Model Regression Results                  \n",
      "==============================================================================\n",
      "Dep. Variable:        highest_ranking   No. Observations:                  100\n",
      "Model:                            GLM   Df Residuals:                       98\n",
      "Model Family:        NegativeBinomial   Df Model:                            1\n",
      "Link Function:                    Log   Scale:                          1.0000\n",
      "Method:                          IRLS   Log-Likelihood:                -270.31\n",
      "Date:                Sat, 07 Jun 2025   Deviance:                       95.206\n",
      "Time:                        19:09:06   Pearson chi2:                     175.\n",
      "No. Iterations:                     6   Pseudo R-squ. (CS):             0.1406\n",
      "Covariance Type:            nonrobust                                         \n",
      "===================================================================================\n",
      "                      coef    std err          z      P>|z|      [0.025      0.975]\n",
      "-----------------------------------------------------------------------------------\n",
      "Intercept           1.9990      0.144     13.913      0.000       1.717       2.281\n",
      "association_WTA    -0.8857      0.224     -3.954      0.000      -1.325      -0.447\n",
      "===================================================================================\n"
     ]
    },
    {
     "name": "stderr",
     "output_type": "stream",
     "text": [
      "c:\\Users\\peta_\\anaconda3\\Lib\\site-packages\\statsmodels\\genmod\\families\\family.py:1367: ValueWarning: Negative binomial dispersion parameter alpha not set. Using default value alpha=1.0.\n",
      "  warnings.warn(\"Negative binomial dispersion parameter alpha not \"\n"
     ]
    }
   ],
   "source": [
    "# Create and fit a regression model where the dependent variable is 'highest_ranking' and the independent variable is 'association_WTA'\n",
    "model_association_WTA_2 = sm.GLM.from_formula(\"highest_ranking ~ association_WTA\", data=df, family=NegativeBinomial()).fit()\n",
    "\n",
    "# Print the summary of the model\n",
    "print(model_association_WTA_2.summary())"
   ]
  },
  {
   "cell_type": "code",
   "execution_count": 56,
   "id": "1c15e62c",
   "metadata": {},
   "outputs": [
    {
     "name": "stdout",
     "output_type": "stream",
     "text": [
      "\n",
      "Model for USA:\n",
      "                 Generalized Linear Model Regression Results                  \n",
      "==============================================================================\n",
      "Dep. Variable:        highest_ranking   No. Observations:                  100\n",
      "Model:                            GLM   Df Residuals:                       98\n",
      "Model Family:        NegativeBinomial   Df Model:                            1\n",
      "Link Function:                    Log   Scale:                          1.0000\n",
      "Method:                          IRLS   Log-Likelihood:                -277.88\n",
      "Date:                Sat, 07 Jun 2025   Deviance:                       110.35\n",
      "Time:                        19:10:20   Pearson chi2:                     252.\n",
      "No. Iterations:                     5   Pseudo R-squ. (CS):          7.118e-05\n",
      "Covariance Type:            nonrobust                                         \n",
      "===============================================================================\n",
      "                  coef    std err          z      P>|z|      [0.025      0.975]\n",
      "-------------------------------------------------------------------------------\n",
      "Intercept       1.6973      0.126     13.423      0.000       1.450       1.945\n",
      "country_USA    -0.0210      0.248     -0.084      0.933      -0.508       0.466\n",
      "===============================================================================\n",
      "\n",
      "Model for Russia:\n",
      "                 Generalized Linear Model Regression Results                  \n",
      "==============================================================================\n",
      "Dep. Variable:        highest_ranking   No. Observations:                  100\n",
      "Model:                            GLM   Df Residuals:                       98\n",
      "Model Family:        NegativeBinomial   Df Model:                            1\n",
      "Link Function:                    Log   Scale:                          1.0000\n",
      "Method:                          IRLS   Log-Likelihood:                -277.14\n",
      "Date:                Sat, 07 Jun 2025   Deviance:                       108.87\n",
      "Time:                        19:10:20   Pearson chi2:                     241.\n",
      "No. Iterations:                     5   Pseudo R-squ. (CS):            0.01478\n",
      "Covariance Type:            nonrobust                                         \n",
      "==================================================================================\n",
      "                     coef    std err          z      P>|z|      [0.025      0.975]\n",
      "----------------------------------------------------------------------------------\n",
      "Intercept          1.7201      0.112     15.359      0.000       1.501       1.940\n",
      "country_Russia    -0.6215      0.485     -1.283      0.200      -1.571       0.328\n",
      "==================================================================================\n",
      "\n",
      "Model for Australia:\n",
      "                 Generalized Linear Model Regression Results                  \n",
      "==============================================================================\n",
      "Dep. Variable:        highest_ranking   No. Observations:                  100\n",
      "Model:                            GLM   Df Residuals:                       98\n",
      "Model Family:        NegativeBinomial   Df Model:                            1\n",
      "Link Function:                    Log   Scale:                          1.0000\n",
      "Method:                          IRLS   Log-Likelihood:                -277.40\n",
      "Date:                Sat, 07 Jun 2025   Deviance:                       109.40\n",
      "Time:                        19:10:20   Pearson chi2:                     258.\n",
      "No. Iterations:                     5   Pseudo R-squ. (CS):           0.009545\n",
      "Covariance Type:            nonrobust                                         \n",
      "=====================================================================================\n",
      "                        coef    std err          z      P>|z|      [0.025      0.975]\n",
      "-------------------------------------------------------------------------------------\n",
      "Intercept             1.6613      0.113     14.765      0.000       1.441       1.882\n",
      "country_Australia     0.4182      0.447      0.935      0.350      -0.459       1.295\n",
      "=====================================================================================\n",
      "\n",
      "Model for France:\n",
      "                 Generalized Linear Model Regression Results                  \n",
      "==============================================================================\n",
      "Dep. Variable:        highest_ranking   No. Observations:                  100\n",
      "Model:                            GLM   Df Residuals:                       98\n",
      "Model Family:        NegativeBinomial   Df Model:                            1\n",
      "Link Function:                    Log   Scale:                          1.0000\n",
      "Method:                          IRLS   Log-Likelihood:                -277.18\n",
      "Date:                Sat, 07 Jun 2025   Deviance:                       108.95\n",
      "Time:                        19:10:20   Pearson chi2:                     266.\n",
      "No. Iterations:                     5   Pseudo R-squ. (CS):            0.01403\n",
      "Covariance Type:            nonrobust                                         \n",
      "==================================================================================\n",
      "                     coef    std err          z      P>|z|      [0.025      0.975]\n",
      "----------------------------------------------------------------------------------\n",
      "Intercept          1.6567      0.112     14.798      0.000       1.437       1.876\n",
      "country_France     0.5405      0.485      1.116      0.265      -0.409       1.490\n",
      "==================================================================================\n",
      "\n",
      "Model for Spain:\n",
      "                 Generalized Linear Model Regression Results                  \n",
      "==============================================================================\n",
      "Dep. Variable:        highest_ranking   No. Observations:                  100\n",
      "Model:                            GLM   Df Residuals:                       98\n",
      "Model Family:        NegativeBinomial   Df Model:                            1\n",
      "Link Function:                    Log   Scale:                          1.0000\n",
      "Method:                          IRLS   Log-Likelihood:                -275.08\n",
      "Date:                Sat, 07 Jun 2025   Deviance:                       104.75\n",
      "Time:                        19:10:20   Pearson chi2:                     233.\n",
      "No. Iterations:                     5   Pseudo R-squ. (CS):            0.05457\n",
      "Covariance Type:            nonrobust                                         \n",
      "=================================================================================\n",
      "                    coef    std err          z      P>|z|      [0.025      0.975]\n",
      "---------------------------------------------------------------------------------\n",
      "Intercept         1.7321      0.111     15.562      0.000       1.514       1.950\n",
      "country_Spain    -1.5498      0.616     -2.517      0.012      -2.756      -0.343\n",
      "=================================================================================\n"
     ]
    },
    {
     "name": "stderr",
     "output_type": "stream",
     "text": [
      "c:\\Users\\peta_\\anaconda3\\Lib\\site-packages\\statsmodels\\genmod\\families\\family.py:1367: ValueWarning: Negative binomial dispersion parameter alpha not set. Using default value alpha=1.0.\n",
      "  warnings.warn(\"Negative binomial dispersion parameter alpha not \"\n",
      "c:\\Users\\peta_\\anaconda3\\Lib\\site-packages\\statsmodels\\genmod\\families\\family.py:1367: ValueWarning: Negative binomial dispersion parameter alpha not set. Using default value alpha=1.0.\n",
      "  warnings.warn(\"Negative binomial dispersion parameter alpha not \"\n",
      "c:\\Users\\peta_\\anaconda3\\Lib\\site-packages\\statsmodels\\genmod\\families\\family.py:1367: ValueWarning: Negative binomial dispersion parameter alpha not set. Using default value alpha=1.0.\n",
      "  warnings.warn(\"Negative binomial dispersion parameter alpha not \"\n",
      "c:\\Users\\peta_\\anaconda3\\Lib\\site-packages\\statsmodels\\genmod\\families\\family.py:1367: ValueWarning: Negative binomial dispersion parameter alpha not set. Using default value alpha=1.0.\n",
      "  warnings.warn(\"Negative binomial dispersion parameter alpha not \"\n",
      "c:\\Users\\peta_\\anaconda3\\Lib\\site-packages\\statsmodels\\genmod\\families\\family.py:1367: ValueWarning: Negative binomial dispersion parameter alpha not set. Using default value alpha=1.0.\n",
      "  warnings.warn(\"Negative binomial dispersion parameter alpha not \"\n"
     ]
    }
   ],
   "source": [
    "# Create and fit a regression model where the dependent variable is `highest_ranking` and the independent variable is each of the top 5 countries one at a time\n",
    "for country in top_countries:\n",
    "    model = sm.GLM.from_formula(f\"highest_ranking ~ country_{country.replace(' ', '_')}\", data=df, family=NegativeBinomial()).fit()\n",
    "    print(f\"\\nModel for {country}:\")\n",
    "    print(model.summary())"
   ]
  },
  {
   "cell_type": "code",
   "execution_count": 57,
   "id": "0a409643",
   "metadata": {},
   "outputs": [
    {
     "name": "stderr",
     "output_type": "stream",
     "text": [
      "c:\\Users\\peta_\\anaconda3\\Lib\\site-packages\\statsmodels\\genmod\\families\\family.py:1367: ValueWarning: Negative binomial dispersion parameter alpha not set. Using default value alpha=1.0.\n",
      "  warnings.warn(\"Negative binomial dispersion parameter alpha not \"\n"
     ]
    }
   ],
   "source": [
    "# Sequentially add predictors to the model, one at a time\n",
    "model2_step1 = sm.GLM.from_formula(\"highest_ranking ~ family_ISEI\", data=df, family=NegativeBinomial()).fit()"
   ]
  },
  {
   "cell_type": "code",
   "execution_count": 58,
   "id": "3a3afd10",
   "metadata": {},
   "outputs": [
    {
     "name": "stdout",
     "output_type": "stream",
     "text": [
      "VIF for model2_step1:\n",
      "      Variable  VIF\n",
      "0  family_ISEI  1.0\n"
     ]
    }
   ],
   "source": [
    "# Calculate the VIF for model2_step1 (without constant)\n",
    "print(\"VIF for model2_step1:\")\n",
    "vif_step1 = pd.DataFrame({\n",
    "    'Variable': model2_step1.model.exog_names[1:],  # Exclude the constant\n",
    "    'VIF': [variance_inflation_factor(model2_step1.model.exog, i) for i in range(1, model2_step1.model.exog.shape[1])]\n",
    "})\n",
    "print(vif_step1)"
   ]
  },
  {
   "cell_type": "code",
   "execution_count": 59,
   "id": "8e1dec9d",
   "metadata": {},
   "outputs": [
    {
     "name": "stdout",
     "output_type": "stream",
     "text": [
      "\n",
      "Updated model with sibling_info:\n",
      "                 Generalized Linear Model Regression Results                  \n",
      "==============================================================================\n",
      "Dep. Variable:        highest_ranking   No. Observations:                  100\n",
      "Model:                            GLM   Df Residuals:                       97\n",
      "Model Family:        NegativeBinomial   Df Model:                            2\n",
      "Link Function:                    Log   Scale:                          1.0000\n",
      "Method:                          IRLS   Log-Likelihood:                -274.80\n",
      "Date:                Sat, 07 Jun 2025   Deviance:                       104.20\n",
      "Time:                        19:12:55   Pearson chi2:                     213.\n",
      "No. Iterations:                     8   Pseudo R-squ. (CS):            0.05979\n",
      "Covariance Type:            nonrobust                                         \n",
      "================================================================================\n",
      "                   coef    std err          z      P>|z|      [0.025      0.975]\n",
      "--------------------------------------------------------------------------------\n",
      "Intercept        0.2013      0.623      0.323      0.747      -1.021       1.423\n",
      "family_ISEI      0.0115      0.010      1.140      0.254      -0.008       0.031\n",
      "sibling_info     0.9473      0.402      2.357      0.018       0.160       1.735\n",
      "================================================================================\n"
     ]
    },
    {
     "name": "stderr",
     "output_type": "stream",
     "text": [
      "c:\\Users\\peta_\\anaconda3\\Lib\\site-packages\\statsmodels\\genmod\\families\\family.py:1367: ValueWarning: Negative binomial dispersion parameter alpha not set. Using default value alpha=1.0.\n",
      "  warnings.warn(\"Negative binomial dispersion parameter alpha not \"\n"
     ]
    }
   ],
   "source": [
    "# Add sibling_info to the model by refitting with an updated formula\n",
    "model2_step2 = sm.GLM.from_formula(\"highest_ranking ~ family_ISEI + sibling_info\", data=df, family=NegativeBinomial()).fit()\n",
    "# Print the summary of the updated model\n",
    "print(\"\\nUpdated model with sibling_info:\")\n",
    "print(model2_step2.summary())"
   ]
  },
  {
   "cell_type": "code",
   "execution_count": 60,
   "id": "a6e7b415",
   "metadata": {},
   "outputs": [
    {
     "name": "stdout",
     "output_type": "stream",
     "text": [
      "VIF for model2_step2:\n",
      "       Variable       VIF\n",
      "0   family_ISEI  1.012723\n",
      "1  sibling_info  1.012723\n"
     ]
    }
   ],
   "source": [
    "# Calculate the VIF for model2_step2 (without constant)\n",
    "print(\"VIF for model2_step2:\")\n",
    "vif_step2 = pd.DataFrame({\n",
    "    'Variable': model2_step2.model.exog_names[1:],  # Exclude the constant\n",
    "    'VIF': [variance_inflation_factor(model2_step2.model.exog, i) for i in range(1, model2_step2.model.exog.shape[1])]\n",
    "})\n",
    "print(vif_step2)"
   ]
  },
  {
   "cell_type": "code",
   "execution_count": 61,
   "id": "eb8c3c88",
   "metadata": {},
   "outputs": [
    {
     "name": "stdout",
     "output_type": "stream",
     "text": [
      "\n",
      "Updated model with sibling_player:\n",
      "\n",
      "                 Generalized Linear Model Regression Results                  \n",
      "==============================================================================\n",
      "Dep. Variable:        highest_ranking   No. Observations:                  100\n",
      "Model:                            GLM   Df Residuals:                       96\n",
      "Model Family:        NegativeBinomial   Df Model:                            3\n",
      "Link Function:                    Log   Scale:                          1.0000\n",
      "Method:                          IRLS   Log-Likelihood:                -274.76\n",
      "Date:                Sat, 07 Jun 2025   Deviance:                       104.12\n",
      "Time:                        19:14:12   Pearson chi2:                     207.\n",
      "No. Iterations:                     9   Pseudo R-squ. (CS):            0.06051\n",
      "Covariance Type:            nonrobust                                         \n",
      "==================================================================================\n",
      "                     coef    std err          z      P>|z|      [0.025      0.975]\n",
      "----------------------------------------------------------------------------------\n",
      "Intercept          0.2057      0.625      0.329      0.742      -1.020       1.431\n",
      "family_ISEI        0.0114      0.010      1.126      0.260      -0.008       0.031\n",
      "sibling_info       0.9106      0.424      2.147      0.032       0.079       1.742\n",
      "sibling_player     0.0641      0.232      0.277      0.782      -0.390       0.518\n",
      "==================================================================================\n"
     ]
    },
    {
     "name": "stderr",
     "output_type": "stream",
     "text": [
      "c:\\Users\\peta_\\anaconda3\\Lib\\site-packages\\statsmodels\\genmod\\families\\family.py:1367: ValueWarning: Negative binomial dispersion parameter alpha not set. Using default value alpha=1.0.\n",
      "  warnings.warn(\"Negative binomial dispersion parameter alpha not \"\n"
     ]
    }
   ],
   "source": [
    "# Add sibling_player to the model by refitting with an updated formula\n",
    "model2_step3 = sm.GLM.from_formula(\"highest_ranking ~ family_ISEI + sibling_info + sibling_player\", data=df, family=NegativeBinomial()).fit()\n",
    "# Print the summary of the updated model\n",
    "print(\"\\nUpdated model with sibling_player:\\n\")\n",
    "print(model2_step3.summary())"
   ]
  },
  {
   "cell_type": "code",
   "execution_count": 62,
   "id": "cb8dc302",
   "metadata": {},
   "outputs": [
    {
     "name": "stdout",
     "output_type": "stream",
     "text": [
      "VIF for model2_step3:\n",
      "         Variable       VIF\n",
      "0     family_ISEI  1.021879\n",
      "1    sibling_info  1.152581\n",
      "2  sibling_player  1.140992\n"
     ]
    }
   ],
   "source": [
    "# Calculate the VIF for model2_step3 (without constant)\n",
    "print(\"VIF for model2_step3:\")\n",
    "vif_step3 = pd.DataFrame({\n",
    "    'Variable': model2_step3.model.exog_names[1:],  # Exclude the constant\n",
    "    'VIF': [variance_inflation_factor(model2_step3.model.exog, i) for i in range(1, model2_step3.model.exog.shape[1])]\n",
    "})\n",
    "print(vif_step3)"
   ]
  },
  {
   "cell_type": "code",
   "execution_count": 63,
   "id": "29c6f39f",
   "metadata": {},
   "outputs": [
    {
     "name": "stdout",
     "output_type": "stream",
     "text": [
      "\n",
      "Updated model with association_WTA:\n",
      "\n",
      "                 Generalized Linear Model Regression Results                  \n",
      "==============================================================================\n",
      "Dep. Variable:        highest_ranking   No. Observations:                  100\n",
      "Model:                            GLM   Df Residuals:                       95\n",
      "Model Family:        NegativeBinomial   Df Model:                            4\n",
      "Link Function:                    Log   Scale:                          1.0000\n",
      "Method:                          IRLS   Log-Likelihood:                -268.51\n",
      "Date:                Sat, 07 Jun 2025   Deviance:                       91.621\n",
      "Time:                        19:15:24   Pearson chi2:                     165.\n",
      "No. Iterations:                     8   Pseudo R-squ. (CS):             0.1709\n",
      "Covariance Type:            nonrobust                                         \n",
      "===================================================================================\n",
      "                      coef    std err          z      P>|z|      [0.025      0.975]\n",
      "-----------------------------------------------------------------------------------\n",
      "Intercept           0.7477      0.635      1.178      0.239      -0.497       1.992\n",
      "family_ISEI         0.0114      0.010      1.113      0.266      -0.009       0.031\n",
      "sibling_info        0.6910      0.420      1.645      0.100      -0.132       1.514\n",
      "sibling_player     -0.0318      0.235     -0.135      0.892      -0.492       0.429\n",
      "association_WTA    -0.8266      0.225     -3.669      0.000      -1.268      -0.385\n",
      "===================================================================================\n"
     ]
    },
    {
     "name": "stderr",
     "output_type": "stream",
     "text": [
      "c:\\Users\\peta_\\anaconda3\\Lib\\site-packages\\statsmodels\\genmod\\families\\family.py:1367: ValueWarning: Negative binomial dispersion parameter alpha not set. Using default value alpha=1.0.\n",
      "  warnings.warn(\"Negative binomial dispersion parameter alpha not \"\n"
     ]
    }
   ],
   "source": [
    "# Add association_WTA to the model by refitting with an updated formula\n",
    "model2_step4 = sm.GLM.from_formula(\"highest_ranking ~ family_ISEI + sibling_info + sibling_player + association_WTA\", data=df, family=NegativeBinomial()).fit()\n",
    "# Print the summary of the updated model\n",
    "print(\"\\nUpdated model with association_WTA:\\n\")\n",
    "print(model2_step4.summary())"
   ]
  },
  {
   "cell_type": "code",
   "execution_count": 64,
   "id": "65e7840d",
   "metadata": {},
   "outputs": [
    {
     "name": "stdout",
     "output_type": "stream",
     "text": [
      "\n",
      "Final model with country dummies:\n",
      "\n",
      "                 Generalized Linear Model Regression Results                  \n",
      "==============================================================================\n",
      "Dep. Variable:        highest_ranking   No. Observations:                  100\n",
      "Model:                            GLM   Df Residuals:                       90\n",
      "Model Family:        NegativeBinomial   Df Model:                            9\n",
      "Link Function:                    Log   Scale:                          1.0000\n",
      "Method:                          IRLS   Log-Likelihood:                -265.14\n",
      "Date:                Sat, 07 Jun 2025   Deviance:                       84.867\n",
      "Time:                        19:16:06   Pearson chi2:                     145.\n",
      "No. Iterations:                     9   Pseudo R-squ. (CS):             0.2250\n",
      "Covariance Type:            nonrobust                                         \n",
      "=====================================================================================\n",
      "                        coef    std err          z      P>|z|      [0.025      0.975]\n",
      "-------------------------------------------------------------------------------------\n",
      "Intercept             0.7355      0.645      1.140      0.254      -0.528       1.999\n",
      "family_ISEI           0.0117      0.011      1.112      0.266      -0.009       0.032\n",
      "sibling_info          0.6644      0.434      1.531      0.126      -0.186       1.515\n",
      "sibling_player        0.0712      0.247      0.288      0.774      -0.414       0.556\n",
      "association_WTA      -0.7485      0.231     -3.235      0.001      -1.202      -0.295\n",
      "country_USA          -0.0940      0.271     -0.347      0.728      -0.625       0.436\n",
      "country_Russia       -0.7099      0.512     -1.387      0.165      -1.713       0.293\n",
      "country_Australia     0.1260      0.476      0.265      0.791      -0.806       1.058\n",
      "country_France        0.3463      0.513      0.675      0.500      -0.660       1.352\n",
      "country_Spain        -1.3843      0.624     -2.219      0.026      -2.607      -0.162\n",
      "=====================================================================================\n"
     ]
    },
    {
     "name": "stderr",
     "output_type": "stream",
     "text": [
      "c:\\Users\\peta_\\anaconda3\\Lib\\site-packages\\statsmodels\\genmod\\families\\family.py:1367: ValueWarning: Negative binomial dispersion parameter alpha not set. Using default value alpha=1.0.\n",
      "  warnings.warn(\"Negative binomial dispersion parameter alpha not \"\n"
     ]
    }
   ],
   "source": [
    "# Add country dummies to the model by refitting with an updated formula\n",
    "country_dummies = \" + \".join([f\"country_{c.replace(' ', '_')}\" for c in top_countries])\n",
    "model2_step5 = sm.GLM.from_formula(f\"highest_ranking ~ family_ISEI + sibling_info + sibling_player + association_WTA + {country_dummies}\", data=df, family=NegativeBinomial()).fit()\n",
    "# Print the summary of the final model\n",
    "print(\"\\nFinal model with country dummies:\\n\")\n",
    "print(model2_step5.summary())"
   ]
  },
  {
   "cell_type": "code",
   "execution_count": 65,
   "id": "a3825d94",
   "metadata": {},
   "outputs": [
    {
     "name": "stdout",
     "output_type": "stream",
     "text": [
      "\n",
      "Full model excluding sibling_player:\n",
      "\n",
      "                 Generalized Linear Model Regression Results                  \n",
      "==============================================================================\n",
      "Dep. Variable:        highest_ranking   No. Observations:                  100\n",
      "Model:                            GLM   Df Residuals:                       91\n",
      "Model Family:        NegativeBinomial   Df Model:                            8\n",
      "Link Function:                    Log   Scale:                          1.0000\n",
      "Method:                          IRLS   Log-Likelihood:                -265.17\n",
      "Date:                Sat, 07 Jun 2025   Deviance:                       84.943\n",
      "Time:                        19:16:53   Pearson chi2:                     147.\n",
      "No. Iterations:                     9   Pseudo R-squ. (CS):             0.2245\n",
      "Covariance Type:            nonrobust                                         \n",
      "=====================================================================================\n",
      "                        coef    std err          z      P>|z|      [0.025      0.975]\n",
      "-------------------------------------------------------------------------------------\n",
      "Intercept             0.7469      0.640      1.167      0.243      -0.508       2.002\n",
      "family_ISEI           0.0117      0.010      1.119      0.263      -0.009       0.032\n",
      "sibling_info          0.7033      0.408      1.725      0.084      -0.096       1.502\n",
      "association_WTA      -0.7621      0.229     -3.321      0.001      -1.212      -0.312\n",
      "country_USA          -0.0887      0.269     -0.330      0.742      -0.616       0.439\n",
      "country_Russia       -0.7296      0.511     -1.428      0.153      -1.731       0.272\n",
      "country_Australia     0.0895      0.472      0.190      0.850      -0.835       1.014\n",
      "country_France        0.3079      0.503      0.612      0.541      -0.679       1.295\n",
      "country_Spain        -1.3659      0.622     -2.197      0.028      -2.584      -0.148\n",
      "=====================================================================================\n"
     ]
    },
    {
     "name": "stderr",
     "output_type": "stream",
     "text": [
      "c:\\Users\\peta_\\anaconda3\\Lib\\site-packages\\statsmodels\\genmod\\families\\family.py:1367: ValueWarning: Negative binomial dispersion parameter alpha not set. Using default value alpha=1.0.\n",
      "  warnings.warn(\"Negative binomial dispersion parameter alpha not \"\n"
     ]
    }
   ],
   "source": [
    "# Create the full model with all predictors excluding `sibling_player` from the independent variables\n",
    "full_model2 = sm.GLM.from_formula(f\"highest_ranking ~ family_ISEI + sibling_info + association_WTA + {country_dummies}\", data=df, family=NegativeBinomial()).fit()\n",
    "\n",
    "# Print the summary of the full model\n",
    "print(\"\\nFull model excluding sibling_player:\\n\")\n",
    "print(full_model2.summary())"
   ]
  },
  {
   "cell_type": "code",
   "execution_count": 66,
   "id": "f933ae8b",
   "metadata": {},
   "outputs": [
    {
     "name": "stdout",
     "output_type": "stream",
     "text": [
      "            Variable       VIF\n",
      "0        family_ISEI  1.037877\n",
      "1       sibling_info  1.063542\n",
      "2    association_WTA  1.031353\n",
      "3        country_USA  1.156924\n",
      "4     country_Russia  1.063385\n",
      "5  country_Australia  1.073168\n",
      "6     country_France  1.072167\n",
      "7      country_Spain  1.056629\n"
     ]
    }
   ],
   "source": [
    "# Calculate the VIF for full_model (excluding constant)\n",
    "vif_full = pd.DataFrame({\n",
    "    'Variable': full_model2.model.exog_names[1:],  # Exclude the constant\n",
    "    'VIF': [variance_inflation_factor(full_model2.model.exog, i) for i in range(1, full_model2.model.exog.shape[1])]\n",
    "})\n",
    "print(vif_full)"
   ]
  },
  {
   "cell_type": "code",
   "execution_count": 67,
   "id": "55232752",
   "metadata": {},
   "outputs": [],
   "source": [
    "# Define a list of formulas, building up predictors step by step\n",
    "formulas2 = [\n",
    "    \"highest_ranking ~ family_ISEI\",\n",
    "    \"highest_ranking ~ family_ISEI + sibling_info\",\n",
    "    \"highest_ranking ~ family_ISEI + sibling_info + association_WTA\",\n",
    "    f\"highest_ranking ~ family_ISEI + sibling_info + association_WTA + {country_dummies}\"\n",
    "]"
   ]
  },
  {
   "cell_type": "code",
   "execution_count": 68,
   "id": "990d729e",
   "metadata": {},
   "outputs": [],
   "source": [
    "# Create a dictionary to collect results (model name, formula, AIC, BIC, the coefficients and standard errors for each variable)\n",
    "results_summary2 = {\n",
    "    'Model': [],\n",
    "    'Formula': [],\n",
    "    'AIC': [],\n",
    "    'BIC': [],\n",
    "    'Coef_family_ISEI': [],\n",
    "    'SE_family_ISEI': [],\n",
    "    'Coef_sibling_info': [],\n",
    "    'SE_sibling_info': [],\n",
    "    'Coef_sibling_player': [],\n",
    "    'SE_sibling_player': []\n",
    "}"
   ]
  },
  {
   "cell_type": "code",
   "execution_count": 69,
   "id": "1fb734fe",
   "metadata": {},
   "outputs": [
    {
     "name": "stderr",
     "output_type": "stream",
     "text": [
      "c:\\Users\\peta_\\anaconda3\\Lib\\site-packages\\statsmodels\\genmod\\families\\family.py:1367: ValueWarning: Negative binomial dispersion parameter alpha not set. Using default value alpha=1.0.\n",
      "  warnings.warn(\"Negative binomial dispersion parameter alpha not \"\n",
      "c:\\Users\\peta_\\anaconda3\\Lib\\site-packages\\statsmodels\\genmod\\generalized_linear_model.py:1838: FutureWarning: The bic value is computed using the deviance formula. After 0.13 this will change to the log-likelihood based formula. This change has no impact on the relative rank of models compared using BIC. You can directly access the log-likelihood version using the `bic_llf` attribute. You can suppress this message by calling statsmodels.genmod.generalized_linear_model.SET_USE_BIC_LLF with True to get the LLF-based version now or False to retainthe deviance version.\n",
      "  warnings.warn(\n",
      "c:\\Users\\peta_\\anaconda3\\Lib\\site-packages\\statsmodels\\genmod\\families\\family.py:1367: ValueWarning: Negative binomial dispersion parameter alpha not set. Using default value alpha=1.0.\n",
      "  warnings.warn(\"Negative binomial dispersion parameter alpha not \"\n",
      "c:\\Users\\peta_\\anaconda3\\Lib\\site-packages\\statsmodels\\genmod\\generalized_linear_model.py:1838: FutureWarning: The bic value is computed using the deviance formula. After 0.13 this will change to the log-likelihood based formula. This change has no impact on the relative rank of models compared using BIC. You can directly access the log-likelihood version using the `bic_llf` attribute. You can suppress this message by calling statsmodels.genmod.generalized_linear_model.SET_USE_BIC_LLF with True to get the LLF-based version now or False to retainthe deviance version.\n",
      "  warnings.warn(\n",
      "c:\\Users\\peta_\\anaconda3\\Lib\\site-packages\\statsmodels\\genmod\\families\\family.py:1367: ValueWarning: Negative binomial dispersion parameter alpha not set. Using default value alpha=1.0.\n",
      "  warnings.warn(\"Negative binomial dispersion parameter alpha not \"\n",
      "c:\\Users\\peta_\\anaconda3\\Lib\\site-packages\\statsmodels\\genmod\\generalized_linear_model.py:1838: FutureWarning: The bic value is computed using the deviance formula. After 0.13 this will change to the log-likelihood based formula. This change has no impact on the relative rank of models compared using BIC. You can directly access the log-likelihood version using the `bic_llf` attribute. You can suppress this message by calling statsmodels.genmod.generalized_linear_model.SET_USE_BIC_LLF with True to get the LLF-based version now or False to retainthe deviance version.\n",
      "  warnings.warn(\n",
      "c:\\Users\\peta_\\anaconda3\\Lib\\site-packages\\statsmodels\\genmod\\families\\family.py:1367: ValueWarning: Negative binomial dispersion parameter alpha not set. Using default value alpha=1.0.\n",
      "  warnings.warn(\"Negative binomial dispersion parameter alpha not \"\n",
      "c:\\Users\\peta_\\anaconda3\\Lib\\site-packages\\statsmodels\\genmod\\generalized_linear_model.py:1838: FutureWarning: The bic value is computed using the deviance formula. After 0.13 this will change to the log-likelihood based formula. This change has no impact on the relative rank of models compared using BIC. You can directly access the log-likelihood version using the `bic_llf` attribute. You can suppress this message by calling statsmodels.genmod.generalized_linear_model.SET_USE_BIC_LLF with True to get the LLF-based version now or False to retainthe deviance version.\n",
      "  warnings.warn(\n"
     ]
    }
   ],
   "source": [
    "# Fit each model and collect results\n",
    "for idx, formula in enumerate(formulas2, start=1):\n",
    "    model = sm.GLM.from_formula(formula, data=df, family=NegativeBinomial()).fit()\n",
    "\n",
    "    results_summary2['Model'].append(f\"Model {idx}\")\n",
    "    results_summary2['Formula'].append(formula)\n",
    "    results_summary2['AIC'].append(model.aic)\n",
    "    results_summary2['BIC'].append(model.bic)\n",
    "\n",
    "    # For each key variable, record coef and SE if present; otherwise NaN\n",
    "    for var in ['family_ISEI', 'sibling_info', 'sibling_player']:\n",
    "        if var in model.params.index:\n",
    "            results_summary2[f'Coef_{var}'].append(model.params[var])\n",
    "            results_summary2[f'SE_{var}'].append(model.bse[var])\n",
    "        else:\n",
    "            results_summary2[f'Coef_{var}'].append(float('nan'))\n",
    "            results_summary2[f'SE_{var}'].append(float('nan'))"
   ]
  },
  {
   "cell_type": "code",
   "execution_count": 70,
   "id": "61c4bdaf",
   "metadata": {},
   "outputs": [
    {
     "name": "stdout",
     "output_type": "stream",
     "text": [
      "\n",
      "Results Summary DataFrame:\n",
      "     Model                                            Formula         AIC  \\\n",
      "0  Model 1                      highest_ranking ~ family_ISEI  558.612350   \n",
      "1  Model 2       highest_ranking ~ family_ISEI + sibling_info  555.602342   \n",
      "2  Model 3  highest_ranking ~ family_ISEI + sibling_info +...  545.045810   \n",
      "3  Model 4  highest_ranking ~ family_ISEI + sibling_info +...  548.348862   \n",
      "\n",
      "          BIC  Coef_family_ISEI  SE_family_ISEI  Coef_sibling_info  \\\n",
      "0 -342.100341          0.012621        0.010000                NaN   \n",
      "1 -342.505178          0.011480        0.010073           0.947346   \n",
      "2 -350.456540          0.011392        0.010203           0.674215   \n",
      "3 -334.127637          0.011676        0.010433           0.703267   \n",
      "\n",
      "   SE_sibling_info  Coef_sibling_player  SE_sibling_player  \n",
      "0              NaN                  NaN                NaN  \n",
      "1         0.401949                  NaN                NaN  \n",
      "2         0.397316                  NaN                NaN  \n",
      "3         0.407617                  NaN                NaN  \n"
     ]
    }
   ],
   "source": [
    "# Convert the results summary to a DataFrame\n",
    "results_df2 = pd.DataFrame(results_summary2)\n",
    "\n",
    "# Display the results DataFrame\n",
    "print(\"\\nResults Summary DataFrame:\")\n",
    "print(results_df2)"
   ]
  },
  {
   "cell_type": "code",
   "execution_count": null,
   "id": "f4227c36",
   "metadata": {},
   "outputs": [],
   "source": []
  }
 ],
 "metadata": {
  "kernelspec": {
   "display_name": "base",
   "language": "python",
   "name": "python3"
  },
  "language_info": {
   "codemirror_mode": {
    "name": "ipython",
    "version": 3
   },
   "file_extension": ".py",
   "mimetype": "text/x-python",
   "name": "python",
   "nbconvert_exporter": "python",
   "pygments_lexer": "ipython3",
   "version": "3.11.7"
  }
 },
 "nbformat": 4,
 "nbformat_minor": 5
}
